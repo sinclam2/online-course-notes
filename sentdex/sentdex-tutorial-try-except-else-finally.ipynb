{
 "cells": [
  {
   "cell_type": "markdown",
   "metadata": {},
   "source": [
    "**Think of it as except else**"
   ]
  },
  {
   "cell_type": "code",
   "execution_count": 3,
   "metadata": {
    "collapsed": false
   },
   "outputs": [
    {
     "name": "stdout",
     "output_type": "stream",
     "text": [
      "this line runs when it works\n"
     ]
    }
   ],
   "source": [
    "try:\n",
    "    x = 3+3\n",
    "except:\n",
    "    print(\"didn't work\")\n",
    "else:\n",
    "    print(\"this line runs when it works\")"
   ]
  },
  {
   "cell_type": "code",
   "execution_count": 4,
   "metadata": {
    "collapsed": false
   },
   "outputs": [
    {
     "name": "stdout",
     "output_type": "stream",
     "text": [
      "didn't work\n"
     ]
    }
   ],
   "source": [
    "try:\n",
    "    asassdsas\n",
    "except:\n",
    "    print(\"didn't work\")\n",
    "else:\n",
    "    print(\"this line runs when it works\")"
   ]
  },
  {
   "cell_type": "markdown",
   "metadata": {},
   "source": [
    "**Try, except, and finally**"
   ]
  },
  {
   "cell_type": "code",
   "execution_count": 5,
   "metadata": {
    "collapsed": false
   },
   "outputs": [
    {
     "name": "stdout",
     "output_type": "stream",
     "text": [
      "('do something else with x which equals ', 9)\n"
     ]
    }
   ],
   "source": [
    "try:\n",
    "    x = x+3\n",
    "except:\n",
    "    x = 4+4\n",
    "finally:\n",
    "    print('do something else with x which equals ',x)"
   ]
  },
  {
   "cell_type": "markdown",
   "metadata": {},
   "source": [
    "**Try, except, else, and finally**"
   ]
  },
  {
   "cell_type": "code",
   "execution_count": 6,
   "metadata": {
    "collapsed": false
   },
   "outputs": [
    {
     "name": "stdout",
     "output_type": "stream",
     "text": [
      "('do something else with x which equals ', 7)\n"
     ]
    }
   ],
   "source": [
    "try:\n",
    "    x = 3+3\n",
    "except:\n",
    "    x = 4+4\n",
    "else:\n",
    "    x+=1\n",
    "finally:\n",
    "    print('do something else with x which equals ',x)"
   ]
  },
  {
   "cell_type": "code",
   "execution_count": 7,
   "metadata": {
    "collapsed": false
   },
   "outputs": [
    {
     "name": "stdout",
     "output_type": "stream",
     "text": [
      "('do something else with x which equals ', 8)\n"
     ]
    }
   ],
   "source": [
    "try:\n",
    "    x = asdfasdfasdfasdf\n",
    "except:\n",
    "    x = 4+4\n",
    "else:\n",
    "    x+=1\n",
    "finally:\n",
    "    print('do something else with x which equals ',x)"
   ]
  }
 ],
 "metadata": {
  "kernelspec": {
   "display_name": "Python 2",
   "language": "python",
   "name": "python2"
  },
  "language_info": {
   "codemirror_mode": {
    "name": "ipython",
    "version": 2
   },
   "file_extension": ".py",
   "mimetype": "text/x-python",
   "name": "python",
   "nbconvert_exporter": "python",
   "pygments_lexer": "ipython2",
   "version": "2.7.11"
  }
 },
 "nbformat": 4,
 "nbformat_minor": 0
}
