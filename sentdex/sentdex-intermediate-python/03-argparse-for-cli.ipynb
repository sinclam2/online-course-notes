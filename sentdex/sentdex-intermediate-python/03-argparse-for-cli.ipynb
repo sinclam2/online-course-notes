{
 "cells": [
  {
   "cell_type": "markdown",
   "metadata": {},
   "source": [
    "**CLI**: command line interface\n",
    "\n",
    "**Why would I want to use CLI?**\n",
    "\n",
    "- can make interacting with the code easier"
   ]
  },
  {
   "cell_type": "code",
   "execution_count": 1,
   "metadata": {
    "collapsed": true
   },
   "outputs": [],
   "source": [
    "def calc(x,y,operation):\n",
    "    if operation == 'a':\n",
    "        return x + y\n",
    "    elif operation == 's':\n",
    "        return x - y\n",
    "    elif operation == 'm':\n",
    "        return x * y\n",
    "    elif operation == 'd':\n",
    "        return x / y"
   ]
  },
  {
   "cell_type": "code",
   "execution_count": 2,
   "metadata": {
    "collapsed": true
   },
   "outputs": [],
   "source": [
    "operation = calc(7,3,'d')"
   ]
  },
  {
   "cell_type": "code",
   "execution_count": 3,
   "metadata": {
    "collapsed": false
   },
   "outputs": [
    {
     "data": {
      "text/plain": [
       "2"
      ]
     },
     "execution_count": 3,
     "metadata": {},
     "output_type": "execute_result"
    }
   ],
   "source": [
    "operation"
   ]
  },
  {
   "cell_type": "markdown",
   "metadata": {},
   "source": [
    "**Will convert this to CLI**"
   ]
  },
  {
   "cell_type": "code",
   "execution_count": 4,
   "metadata": {
    "collapsed": true
   },
   "outputs": [],
   "source": [
    "import argparse\n",
    "import sys"
   ]
  },
  {
   "cell_type": "code",
   "execution_count": 10,
   "metadata": {
    "collapsed": true
   },
   "outputs": [],
   "source": [
    "def main():\n",
    "    parser = argparse.ArgumentParser()\n",
    "    parser.add_argument('--x', type=float, default=1.0,\n",
    "                       help='What is the first number?')\n",
    "    parser.add_argument('--y', type=float, default=1.0,\n",
    "                       help='What is the second number?')\n",
    "    parser.add_argument('--operation', type=float, default='a',\n",
    "                       help='What operation (a, s, m, or d)')\n",
    "    args = parser.parse_args()\n",
    "    \n",
    "    #the following sends output to console\n",
    "    sys.stdout.write(str(calc(args)))"
   ]
  },
  {
   "cell_type": "code",
   "execution_count": 11,
   "metadata": {
    "collapsed": true
   },
   "outputs": [],
   "source": [
    "def calc(args):\n",
    "    if args.operation == 'a':\n",
    "        return args.x + args.y\n",
    "    elif args.operation == 's':\n",
    "        return args.x - args.y\n",
    "    elif args.operation == 'm':\n",
    "        return args.x * args.y\n",
    "    elif args.operation == 'd':\n",
    "        return args.x / args.y"
   ]
  },
  {
   "cell_type": "markdown",
   "metadata": {},
   "source": [
    "- Now, if we use cmd.exe to run the script above, we can do:\n",
    "\n",
    "**C:\\Users\\...\\\"script.py\" --x=10 --y=2 --operation='m'**\n",
    "\n",
    "- And the command line would return 20"
   ]
  }
 ],
 "metadata": {
  "kernelspec": {
   "display_name": "Python 2",
   "language": "python",
   "name": "python2"
  },
  "language_info": {
   "codemirror_mode": {
    "name": "ipython",
    "version": 2
   },
   "file_extension": ".py",
   "mimetype": "text/x-python",
   "name": "python",
   "nbconvert_exporter": "python",
   "pygments_lexer": "ipython2",
   "version": "2.7.11"
  }
 },
 "nbformat": 4,
 "nbformat_minor": 0
}
