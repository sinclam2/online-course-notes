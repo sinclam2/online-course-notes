{
 "cells": [
  {
   "cell_type": "code",
   "execution_count": 1,
   "metadata": {},
   "outputs": [],
   "source": [
    "import logging"
   ]
  },
  {
   "cell_type": "markdown",
   "metadata": {},
   "source": [
    "### DEBUG\n",
    "- Detailed information, typically of interest only when diagnosing problems.\n",
    "\n",
    "### INFO\n",
    "- Confirmation that things are working as expected.\n",
    "\n",
    "### WARNING\n",
    "- An indication that something unexpected happened, or indicative of some problem in the near future (e.g. ‘disk space low’). The software is still working as expected.\n",
    "\n",
    "### ERROR\n",
    "- Due to a more serious problem, the software has not been able to perform some function.\n",
    "\n",
    "### CRITICAL\n",
    "- A serious error, indicating that the program itself may be unable to continue running."
   ]
  },
  {
   "cell_type": "code",
   "execution_count": 3,
   "metadata": {},
   "outputs": [],
   "source": [
    "logging.basicConfig(level=logging.INFO)\n",
    "#this sets it that all INFO, WARNING, ERROR, and CRITIAL messages are saved (not DEBUG)"
   ]
  },
  {
   "cell_type": "code",
   "execution_count": 5,
   "metadata": {},
   "outputs": [],
   "source": [
    "logging.basicConfig(level=logging.DEBUG)\n",
    "#this sets it that all messages are saved (incl. DEBUG)"
   ]
  },
  {
   "cell_type": "code",
   "execution_count": 9,
   "metadata": {},
   "outputs": [],
   "source": [
    "def is_prime(a):\n",
    "    return all(a % i for i in range(2, a))"
   ]
  },
  {
   "cell_type": "code",
   "execution_count": 10,
   "metadata": {},
   "outputs": [
    {
     "data": {
      "text/plain": [
       "False"
      ]
     },
     "execution_count": 10,
     "metadata": {},
     "output_type": "execute_result"
    }
   ],
   "source": [
    "is_prime(10)"
   ]
  },
  {
   "cell_type": "code",
   "execution_count": 11,
   "metadata": {},
   "outputs": [
    {
     "name": "stderr",
     "output_type": "stream",
     "text": [
      "INFO:root:The number 0 is prime\n",
      "INFO:root:The number 1 is prime\n",
      "INFO:root:The number 2 is prime\n",
      "INFO:root:The number 3 is prime\n",
      "INFO:root:The number 5 is prime\n",
      "INFO:root:The number 7 is prime\n",
      "INFO:root:The number 11 is prime\n",
      "INFO:root:The number 13 is prime\n",
      "INFO:root:The number 17 is prime\n",
      "INFO:root:The number 19 is prime\n",
      "INFO:root:The number 23 is prime\n",
      "INFO:root:The number 29 is prime\n",
      "INFO:root:The number 31 is prime\n",
      "INFO:root:The number 37 is prime\n",
      "INFO:root:The number 41 is prime\n",
      "INFO:root:The number 43 is prime\n",
      "INFO:root:The number 47 is prime\n",
      "INFO:root:The number 53 is prime\n",
      "INFO:root:The number 59 is prime\n",
      "INFO:root:The number 61 is prime\n",
      "INFO:root:The number 67 is prime\n",
      "INFO:root:The number 71 is prime\n",
      "INFO:root:The number 73 is prime\n",
      "INFO:root:The number 79 is prime\n",
      "INFO:root:The number 83 is prime\n",
      "INFO:root:The number 89 is prime\n",
      "INFO:root:The number 97 is prime\n"
     ]
    }
   ],
   "source": [
    "for i in range(100):\n",
    "    if is_prime(i):\n",
    "        logging.info('The number {} is prime'.format(i))"
   ]
  },
  {
   "cell_type": "code",
   "execution_count": 23,
   "metadata": {},
   "outputs": [],
   "source": [
    "#can save the log file to the folder\n",
    "logging.basicConfig(filename = 'logfile.log', level = logging.INFO)"
   ]
  },
  {
   "cell_type": "code",
   "execution_count": 24,
   "metadata": {},
   "outputs": [
    {
     "name": "stderr",
     "output_type": "stream",
     "text": [
      "INFO:root:The number 0 is prime\n",
      "INFO:root:The number 1 is prime\n",
      "INFO:root:The number 2 is prime\n",
      "INFO:root:The number 3 is prime\n",
      "INFO:root:The number 5 is prime\n",
      "INFO:root:The number 7 is prime\n",
      "INFO:root:The number 11 is prime\n",
      "INFO:root:The number 13 is prime\n",
      "INFO:root:The number 17 is prime\n",
      "INFO:root:The number 19 is prime\n",
      "INFO:root:The number 23 is prime\n",
      "INFO:root:The number 29 is prime\n",
      "INFO:root:The number 31 is prime\n",
      "INFO:root:The number 37 is prime\n",
      "INFO:root:The number 41 is prime\n",
      "INFO:root:The number 43 is prime\n",
      "INFO:root:The number 47 is prime\n",
      "INFO:root:The number 53 is prime\n",
      "INFO:root:The number 59 is prime\n",
      "INFO:root:The number 61 is prime\n",
      "INFO:root:The number 67 is prime\n",
      "INFO:root:The number 71 is prime\n",
      "INFO:root:The number 73 is prime\n",
      "INFO:root:The number 79 is prime\n",
      "INFO:root:The number 83 is prime\n",
      "INFO:root:The number 89 is prime\n",
      "INFO:root:The number 97 is prime\n"
     ]
    }
   ],
   "source": [
    "for i in range(100):\n",
    "    if is_prime(i):\n",
    "        logging.info('The number {} is prime'.format(i))"
   ]
  }
 ],
 "metadata": {
  "anaconda-cloud": {},
  "kernelspec": {
   "display_name": "Python [default]",
   "language": "python",
   "name": "python3"
  },
  "language_info": {
   "codemirror_mode": {
    "name": "ipython",
    "version": 3
   },
   "file_extension": ".py",
   "mimetype": "text/x-python",
   "name": "python",
   "nbconvert_exporter": "python",
   "pygments_lexer": "ipython3",
   "version": "3.5.2"
  }
 },
 "nbformat": 4,
 "nbformat_minor": 1
}
