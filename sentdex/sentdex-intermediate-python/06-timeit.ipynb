{
 "cells": [
  {
   "cell_type": "markdown",
   "metadata": {},
   "source": [
    "### What does it do?\n",
    "\n",
    "- Measures how long it takes to run a snippet of code\n",
    "\n",
    "### Why not just use the time module?\n",
    "\n",
    "``E.g. start = time.time()\n",
    "func(val)\n",
    "end = time.time()\n",
    "print(end-start)\n",
    "``\n",
    "\n",
    "- This isn't very precise\n",
    "    - The timeit module runs it many times"
   ]
  },
  {
   "cell_type": "code",
   "execution_count": 1,
   "metadata": {},
   "outputs": [],
   "source": [
    "input_list = range(100)"
   ]
  },
  {
   "cell_type": "code",
   "execution_count": 8,
   "metadata": {},
   "outputs": [],
   "source": [
    "def div_by_five(num):\n",
    "    return num % 5 == 0"
   ]
  },
  {
   "cell_type": "code",
   "execution_count": 9,
   "metadata": {},
   "outputs": [],
   "source": [
    "xyz = (i for i in input_list if div_by_five(i))"
   ]
  },
  {
   "cell_type": "code",
   "execution_count": 10,
   "metadata": {},
   "outputs": [],
   "source": [
    "import timeit"
   ]
  },
  {
   "cell_type": "code",
   "execution_count": 15,
   "metadata": {},
   "outputs": [
    {
     "name": "stdout",
     "output_type": "stream",
     "text": [
      "0.00616111824268728\n"
     ]
    }
   ],
   "source": [
    "print(timeit.timeit('''\n",
    "\n",
    "input_list = range(100)\n",
    "\n",
    "def div_by_five(num):\n",
    "    return num % 5 == 0\n",
    "\n",
    "#generator\n",
    "xyz = (i for i in input_list if div_by_five(i))\n",
    "\n",
    "''', number = 5000))"
   ]
  },
  {
   "cell_type": "code",
   "execution_count": 16,
   "metadata": {},
   "outputs": [
    {
     "name": "stdout",
     "output_type": "stream",
     "text": [
      "0.1376172111259848\n"
     ]
    }
   ],
   "source": [
    "print(timeit.timeit('''\n",
    "\n",
    "input_list = range(100)\n",
    "\n",
    "def div_by_five(num):\n",
    "    return num % 5 == 0\n",
    "\n",
    "#list comprehension\n",
    "xyz = [i for i in input_list if div_by_five(i)]\n",
    "\n",
    "''', number = 5000))"
   ]
  },
  {
   "cell_type": "markdown",
   "metadata": {},
   "source": [
    "**We can see that the list comprehension takes way longer than the generator**\n",
    "\n",
    "- But that's not a fair comparison since the list is stored in memory"
   ]
  },
  {
   "cell_type": "code",
   "execution_count": 39,
   "metadata": {},
   "outputs": [
    {
     "name": "stdout",
     "output_type": "stream",
     "text": [
      "0.289103782743382\n"
     ]
    }
   ],
   "source": [
    "print(timeit.timeit('''\n",
    "\n",
    "input_list = range(100)\n",
    "\n",
    "def div_by_five(num):\n",
    "    return num % 5 == 0\n",
    "\n",
    "#generator\n",
    "xyz = (i for i in input_list if div_by_five(i))\n",
    "\n",
    "#saving values\n",
    "for i in xyz:\n",
    "    x = i\n",
    "\n",
    "''', number = 10000))"
   ]
  },
  {
   "cell_type": "code",
   "execution_count": 40,
   "metadata": {},
   "outputs": [
    {
     "name": "stdout",
     "output_type": "stream",
     "text": [
      "0.28176067069978217\n"
     ]
    }
   ],
   "source": [
    "print(timeit.timeit('''\n",
    "\n",
    "input_list = range(100)\n",
    "\n",
    "def div_by_five(num):\n",
    "    return num % 5 == 0\n",
    "\n",
    "#list comprehension\n",
    "xyz = [i for i in input_list if div_by_five(i)]\n",
    "\n",
    "#saving values\n",
    "for i in xyz:\n",
    "    x = i\n",
    "\n",
    "''', number = 10000))"
   ]
  },
  {
   "cell_type": "markdown",
   "metadata": {},
   "source": [
    "**When saving, the list comprehension is faster**"
   ]
  }
 ],
 "metadata": {
  "anaconda-cloud": {},
  "kernelspec": {
   "display_name": "Python [default]",
   "language": "python",
   "name": "python3"
  },
  "language_info": {
   "codemirror_mode": {
    "name": "ipython",
    "version": 3
   },
   "file_extension": ".py",
   "mimetype": "text/x-python",
   "name": "python",
   "nbconvert_exporter": "python",
   "pygments_lexer": "ipython3",
   "version": "3.5.2"
  }
 },
 "nbformat": 4,
 "nbformat_minor": 1
}
