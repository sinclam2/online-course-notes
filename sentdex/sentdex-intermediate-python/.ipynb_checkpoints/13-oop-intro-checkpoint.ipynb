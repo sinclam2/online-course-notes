{
 "cells": [
  {
   "cell_type": "markdown",
   "metadata": {},
   "source": [
    "**Purpose of object oriented programming**\n",
    "\n",
    "- Create objects\n",
    "    - Objects have attributes and methods"
   ]
  },
  {
   "cell_type": "markdown",
   "metadata": {},
   "source": [
    "- Objects are created by **classes**"
   ]
  },
  {
   "cell_type": "code",
   "execution_count": 2,
   "metadata": {},
   "outputs": [],
   "source": [
    "class Blob:\n",
    "    # the following function initializes a new blob i.e. assigns it standard attributes\n",
    "    def __init__(self, color):\n",
    "        self.color = color\n",
    "        self.x = random.randrange(0, WIDTH)\n",
    "        self.y = random.randrange(0, HEIGHT)\n",
    "        self.size = random.randrange(4, 8)\n",
    "        \n",
    "    def move(self):\n",
    "        self.move_x = random.randrange(-1, 2)\n",
    "        self.move_y = random.randrange(-1, 2)\n",
    "        self.x += self.move_x\n",
    "        self.y += self.move_y\n",
    "        \n",
    "        if self.x < 0:\n",
    "            self.x = 0\n",
    "        elif self.x > WIDTH:\n",
    "            self.x = WIDTH\n",
    "        \n",
    "        if self.y < 0:\n",
    "            self.y = 0\n",
    "        elif self.y > HEIGHT:\n",
    "            self.y = HEIGHT"
   ]
  }
 ],
 "metadata": {
  "kernelspec": {
   "display_name": "Python 3",
   "language": "python",
   "name": "python3"
  },
  "language_info": {
   "codemirror_mode": {
    "name": "ipython",
    "version": 3
   },
   "file_extension": ".py",
   "mimetype": "text/x-python",
   "name": "python",
   "nbconvert_exporter": "python",
   "pygments_lexer": "ipython3",
   "version": "3.6.4"
  }
 },
 "nbformat": 4,
 "nbformat_minor": 2
}
