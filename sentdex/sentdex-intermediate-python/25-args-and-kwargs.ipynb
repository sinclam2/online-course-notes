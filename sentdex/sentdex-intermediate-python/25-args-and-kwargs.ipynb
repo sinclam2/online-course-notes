{
 "cells": [
  {
   "cell_type": "markdown",
   "metadata": {},
   "source": [
    "- args and kwargs are kinda like lists and dictionaries\n",
    "    - args $\\rightarrow$ *arguments*\n",
    "    - kwargs $\\rightarrow$ *key word arguments*"
   ]
  },
  {
   "cell_type": "markdown",
   "metadata": {},
   "source": [
    "`def function(x, y, *args=[], **kwargs={}):`"
   ]
  },
  {
   "cell_type": "code",
   "execution_count": 1,
   "metadata": {},
   "outputs": [],
   "source": [
    "blog_1 = 'I am so awesome'\n",
    "blog_2 = 'Cars are cool'\n",
    "blog_3 = 'Look at my dog'"
   ]
  },
  {
   "cell_type": "code",
   "execution_count": 2,
   "metadata": {},
   "outputs": [],
   "source": [
    "def blog_posts(*args):\n",
    "    for post in args:\n",
    "        print(post)"
   ]
  },
  {
   "cell_type": "code",
   "execution_count": 3,
   "metadata": {},
   "outputs": [
    {
     "name": "stdout",
     "output_type": "stream",
     "text": [
      "I am so awesome\n"
     ]
    }
   ],
   "source": [
    "blog_posts(blog_1)"
   ]
  },
  {
   "cell_type": "code",
   "execution_count": 5,
   "metadata": {},
   "outputs": [
    {
     "name": "stdout",
     "output_type": "stream",
     "text": [
      "I am so awesome\n",
      "Cars are cool\n",
      "Look at my dog\n"
     ]
    }
   ],
   "source": [
    "blog_posts(blog_1, blog_2, blog_3)"
   ]
  },
  {
   "cell_type": "markdown",
   "metadata": {},
   "source": [
    "- We can have other variables before *args"
   ]
  },
  {
   "cell_type": "code",
   "execution_count": 6,
   "metadata": {},
   "outputs": [],
   "source": [
    "blog_title = \"Mike's blog\""
   ]
  },
  {
   "cell_type": "code",
   "execution_count": 7,
   "metadata": {},
   "outputs": [],
   "source": [
    "def blog_posts(title, *args):\n",
    "    print(title)\n",
    "    for post in args:\n",
    "        print(post)"
   ]
  },
  {
   "cell_type": "code",
   "execution_count": 8,
   "metadata": {},
   "outputs": [
    {
     "name": "stdout",
     "output_type": "stream",
     "text": [
      "Mike's blog\n",
      "I am so awesome\n",
      "Cars are cool\n",
      "Look at my dog\n"
     ]
    }
   ],
   "source": [
    "blog_posts(blog_title, blog_1, blog_2, blog_3)"
   ]
  },
  {
   "cell_type": "markdown",
   "metadata": {},
   "source": [
    "- We can use kwargs instead"
   ]
  },
  {
   "cell_type": "code",
   "execution_count": 13,
   "metadata": {},
   "outputs": [],
   "source": [
    "def blog_posts(title, **kwargs):\n",
    "    print(title)\n",
    "    for p_title, post in kwargs.items():\n",
    "        print(p_title, post)"
   ]
  },
  {
   "cell_type": "code",
   "execution_count": 14,
   "metadata": {},
   "outputs": [
    {
     "name": "stdout",
     "output_type": "stream",
     "text": [
      "Mike's blog\n",
      "blog_1 I am so awesome\n",
      "blog_3 Look at my dog\n",
      "blog_2 Cars are cool\n"
     ]
    }
   ],
   "source": [
    "blog_posts(blog_title, blog_1 = 'I am so awesome', blog_2 = 'Cars are cool', blog_3 = 'Look at my dog')"
   ]
  },
  {
   "cell_type": "markdown",
   "metadata": {},
   "source": [
    "- We can have both"
   ]
  },
  {
   "cell_type": "code",
   "execution_count": 15,
   "metadata": {},
   "outputs": [],
   "source": [
    "def blog_posts(title, *args, **kwargs):\n",
    "    print(title)\n",
    "    for num in args:\n",
    "        print(num)\n",
    "    for p_title, post in kwargs.items():\n",
    "        print(p_title, post)"
   ]
  },
  {
   "cell_type": "code",
   "execution_count": 16,
   "metadata": {},
   "outputs": [
    {
     "name": "stdout",
     "output_type": "stream",
     "text": [
      "Mike's blog\n",
      "1\n",
      "2\n",
      "3\n",
      "blog_1 I am so awesome\n",
      "blog_3 Look at my dog\n",
      "blog_2 Cars are cool\n"
     ]
    }
   ],
   "source": [
    "blog_posts(blog_title, \n",
    "           1, 2, 3, \n",
    "           blog_1 = 'I am so awesome', blog_2 = 'Cars are cool', blog_3 = 'Look at my dog')"
   ]
  },
  {
   "cell_type": "code",
   "execution_count": 23,
   "metadata": {},
   "outputs": [],
   "source": [
    "import matplotlib.pyplot as plt\n",
    "%matplotlib inline"
   ]
  },
  {
   "cell_type": "code",
   "execution_count": 24,
   "metadata": {},
   "outputs": [],
   "source": [
    "def graph_operation(x, y):\n",
    "    print('function that graphs {} and {}'.format(str(x), str(y)))\n",
    "    plt.plot(x,y)\n",
    "    plt.show()"
   ]
  },
  {
   "cell_type": "code",
   "execution_count": 25,
   "metadata": {},
   "outputs": [
    {
     "name": "stdout",
     "output_type": "stream",
     "text": [
      "function that graphs [1, 2, 3] and [2, 3, 1]\n"
     ]
    },
    {
     "data": {
      "image/png": "[encoded data removed]",
      "text/plain": [
       "<matplotlib.figure.Figure at 0x50236d8>"
      ]
     },
     "metadata": {},
     "output_type": "display_data"
    }
   ],
   "source": [
    "x1 = [1, 2, 3]\n",
    "y1 = [2, 3, 1]\n",
    "\n",
    "graph_operation(x1, y1)"
   ]
  },
  {
   "cell_type": "code",
   "execution_count": 26,
   "metadata": {},
   "outputs": [],
   "source": [
    "graph_me = [x1, y1]"
   ]
  },
  {
   "cell_type": "code",
   "execution_count": 27,
   "metadata": {},
   "outputs": [
    {
     "name": "stdout",
     "output_type": "stream",
     "text": [
      "function that graphs [1, 2, 3] and [2, 3, 1]\n"
     ]
    },
    {
     "data": {
      "image/png": "[encoded data removed]",
      "text/plain": [
       "<matplotlib.figure.Figure at 0x76b1390>"
      ]
     },
     "metadata": {},
     "output_type": "display_data"
    }
   ],
   "source": [
    "graph_operation(*graph_me)"
   ]
  }
 ],
 "metadata": {
  "kernelspec": {
   "display_name": "Python [default]",
   "language": "python",
   "name": "python3"
  },
  "language_info": {
   "codemirror_mode": {
    "name": "ipython",
    "version": 3
   },
   "file_extension": ".py",
   "mimetype": "text/x-python",
   "name": "python",
   "nbconvert_exporter": "python",
   "pygments_lexer": "ipython3",
   "version": "3.5.2"
  }
 },
 "nbformat": 4,
 "nbformat_minor": 1
}
