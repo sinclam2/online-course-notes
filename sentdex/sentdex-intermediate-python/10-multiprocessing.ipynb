{
 "cells": [
  {
   "cell_type": "markdown",
   "metadata": {},
   "source": [
    "**Why use multiprocessing?**\n",
    "\n",
    "- Without processing, a script typically maxes out at 16% of the available CPU power\n",
    "\n",
    "- This is caused by the **GIL**\n",
    "    - Global interpreter lock\n",
    "    - Need to work around it"
   ]
  },
  {
   "cell_type": "markdown",
   "metadata": {},
   "source": [
    "**What does multiprocessing let us do?**\n",
    "\n",
    "- You can launch separate processes to churn through the same amount of work in less time"
   ]
  },
  {
   "cell_type": "code",
   "execution_count": 1,
   "metadata": {},
   "outputs": [],
   "source": [
    "import multiprocessing"
   ]
  },
  {
   "cell_type": "code",
   "execution_count": 14,
   "metadata": {},
   "outputs": [],
   "source": [
    "def spawn(i):\n",
    "    print('Spawned!'.format(i))"
   ]
  },
  {
   "cell_type": "code",
   "execution_count": 18,
   "metadata": {},
   "outputs": [
    {
     "name": "stdout",
     "output_type": "stream",
     "text": [
      "<Process(Process-510, started)>\n",
      "<Process(Process-511, started)>\n",
      "<Process(Process-512, started)>\n",
      "<Process(Process-513, started)>\n",
      "<Process(Process-514, started)>\n",
      "<Process(Process-515, started)>\n",
      "<Process(Process-516, started)>\n",
      "<Process(Process-517, started)>\n",
      "<Process(Process-518, started)>\n",
      "<Process(Process-519, started)>\n",
      "<Process(Process-520, started)>\n",
      "<Process(Process-521, started)>\n",
      "<Process(Process-522, started)>\n",
      "<Process(Process-523, started)>\n",
      "<Process(Process-524, started)>\n",
      "<Process(Process-525, started)>\n",
      "<Process(Process-526, started)>\n",
      "<Process(Process-527, started)>\n",
      "<Process(Process-528, started)>\n",
      "<Process(Process-529, started)>\n",
      "<Process(Process-530, started)>\n",
      "<Process(Process-531, started)>\n",
      "<Process(Process-532, started)>\n",
      "<Process(Process-533, started)>\n",
      "<Process(Process-534, started)>\n",
      "<Process(Process-535, started)>\n",
      "<Process(Process-536, started)>\n",
      "<Process(Process-537, started)>\n",
      "<Process(Process-538, started)>\n",
      "<Process(Process-539, started)>\n",
      "<Process(Process-540, started)>\n",
      "<Process(Process-541, started)>\n",
      "<Process(Process-542, started)>\n",
      "<Process(Process-543, started)>\n",
      "<Process(Process-544, started)>\n",
      "<Process(Process-545, started)>\n",
      "<Process(Process-546, started)>\n",
      "<Process(Process-547, started)>\n",
      "<Process(Process-548, started)>\n",
      "<Process(Process-549, started)>\n",
      "<Process(Process-550, started)>\n",
      "<Process(Process-551, started)>\n",
      "<Process(Process-552, started)>\n",
      "<Process(Process-553, started)>\n",
      "<Process(Process-554, started)>\n",
      "<Process(Process-555, started)>\n",
      "<Process(Process-556, started)>\n",
      "<Process(Process-557, started)>\n",
      "<Process(Process-558, started)>\n",
      "<Process(Process-559, started)>\n",
      "<Process(Process-560, started)>\n",
      "<Process(Process-561, started)>\n",
      "<Process(Process-562, started)>\n",
      "<Process(Process-563, started)>\n",
      "<Process(Process-564, started)>\n"
     ]
    }
   ],
   "source": [
    "if __name__ == '__main__':\n",
    "    for i in range(55):\n",
    "        p = multiprocessing.Process(target = spawn, args = (i,))\n",
    "        p.start()\n",
    "        #p.join()\n",
    "        print(p)"
   ]
  }
 ],
 "metadata": {
  "anaconda-cloud": {},
  "kernelspec": {
   "display_name": "Python [default]",
   "language": "python",
   "name": "python3"
  },
  "language_info": {
   "codemirror_mode": {
    "name": "ipython",
    "version": 3
   },
   "file_extension": ".py",
   "mimetype": "text/x-python",
   "name": "python",
   "nbconvert_exporter": "python",
   "pygments_lexer": "ipython3",
   "version": "3.5.2"
  }
 },
 "nbformat": 4,
 "nbformat_minor": 1
}
