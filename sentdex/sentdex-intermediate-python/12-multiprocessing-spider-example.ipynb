{
 "cells": [
  {
   "cell_type": "code",
   "execution_count": 1,
   "metadata": {},
   "outputs": [],
   "source": [
    "from multiprocessing import Pool\n",
    "import bs4 as bs\n",
    "import random\n",
    "import requests\n",
    "import string"
   ]
  },
  {
   "cell_type": "code",
   "execution_count": 2,
   "metadata": {},
   "outputs": [],
   "source": [
    "def random_starting_url():\n",
    "    starting = ''.join(random.SystemRandom().choice(string.ascii_lowercase) for _ in range(3))\n",
    "    url = ''.join(['http://', starting, '.com'])\n",
    "    return url"
   ]
  },
  {
   "cell_type": "code",
   "execution_count": 3,
   "metadata": {},
   "outputs": [],
   "source": [
    "def handle_local_links(url, link):\n",
    "    if link.startswith('/'):\n",
    "        return ''.join([url, link])\n",
    "    else:\n",
    "        return link"
   ]
  },
  {
   "cell_type": "code",
   "execution_count": 4,
   "metadata": {},
   "outputs": [],
   "source": [
    "def get_links(url):\n",
    "    try:\n",
    "        resp = requests.get(url)\n",
    "        soup = bs.BeautifulSoup(resp.text, 'lxml')\n",
    "        body = soup.body\n",
    "        links = [link.get('href') for link in body.find_all('a')]\n",
    "        links = [handle_local_links(url, link) for link in links]\n",
    "        links = [str(link.encode(\"ascii\")) for link in links]\n",
    "        return links\n",
    "    \n",
    "    #what if there are no links?\n",
    "    except TypeError as e:\n",
    "        print(e)        \n",
    "        print('Got TypeError')\n",
    "        return []\n",
    "    \n",
    "    #what if none of the links are any good?\n",
    "    except IndexError as e:\n",
    "        print(e)\n",
    "        print('Probably no good links')\n",
    "        return []\n",
    "    \n",
    "    #what another weird error\n",
    "    except AttributeError as e:\n",
    "        print(e)\n",
    "        print('Likely got weird list')\n",
    "    except Exception as e:\n",
    "        print(str(e))"
   ]
  },
  {
   "cell_type": "markdown",
   "metadata": {},
   "source": [
    "# Recall: we actually have to save the `get_links` function to a .py file or else the code below won't run in a jupyter notebook"
   ]
  },
  {
   "cell_type": "code",
   "execution_count": 5,
   "metadata": {},
   "outputs": [],
   "source": [
    "import get_links_func"
   ]
  },
  {
   "cell_type": "code",
   "execution_count": 6,
   "metadata": {},
   "outputs": [
    {
     "data": {
      "text/plain": [
       "[\"b'http://www.google.ca/imghp?hl=en&tab=wi'\",\n",
       " \"b'http://maps.google.ca/maps?hl=en&tab=wl'\",\n",
       " \"b'https://play.google.com/?hl=en&tab=w8'\",\n",
       " \"b'http://www.youtube.com/?gl=CA&tab=w1'\",\n",
       " \"b'http://news.google.ca/nwshp?hl=en&tab=wn'\",\n",
       " \"b'https://mail.google.com/mail/?tab=wm'\",\n",
       " \"b'https://drive.google.com/?tab=wo'\",\n",
       " \"b'https://www.google.ca/intl/en/options/'\",\n",
       " \"b'http://www.google.ca/history/optout?hl=en'\",\n",
       " \"b'http://google.com/preferences?hl=en'\",\n",
       " \"b'https://accounts.google.com/ServiceLogin?hl=en&passive=true&continue=http://www.google.ca/%3Fgfe_rd%3Dcr%26dcr%3D0%26ei%3D-v-7WuntI8mR8Qf_4rHQDg'\",\n",
       " \"b'http://google.com/advanced_search?hl=en-CA&authuser=0'\",\n",
       " \"b'http://google.com/language_tools?hl=en-CA&authuser=0'\",\n",
       " \"b'http://www.google.ca/setprefs?sig=0_npVG4vaoIkiqSjgmd7EOcVbInsc%3D&hl=fr&source=homepage&sa=X&ved=0ahUKEwjh8ra18o_aAhXCzIMKHaz4DggQ2ZgBCAU'\",\n",
       " \"b'http://google.com/intl/en/ads/'\",\n",
       " \"b'http://google.com/services/'\",\n",
       " \"b'https://plus.google.com/108349337900676782287'\",\n",
       " \"b'http://google.com/intl/en/about.html'\",\n",
       " \"b'http://www.google.ca/setprefdomain?prefdom=US&sig=__jUFNZdveV_kXTPRPbNo1Qi0M5Bg%3D'\",\n",
       " \"b'http://google.com/intl/en/policies/privacy/'\",\n",
       " \"b'http://google.com/intl/en/policies/terms/'\"]"
      ]
     },
     "execution_count": 6,
     "metadata": {},
     "output_type": "execute_result"
    }
   ],
   "source": [
    "get_links_func.get_links('http://google.com')"
   ]
  },
  {
   "cell_type": "code",
   "execution_count": 10,
   "metadata": {},
   "outputs": [
    {
     "name": "stdout",
     "output_type": "stream",
     "text": [
      "No connection adapters were found for '['http://hwb.com', 'http://gmn.com', 'http://zgf.com', 'http://ncn.com', 'http://bbc.com', 'http://daa.com', 'http://trj.com', 'http://tnm.com', 'http://cmv.com', 'http://qbm.com', 'http://lbr.com', 'http://scr.com', 'http://pxf.com', 'http://qqy.com', 'http://cvv.com', 'http://jvd.com', 'http://zva.com', 'http://dcm.com', 'http://nhx.com', 'http://czb.com', 'http://jer.com', 'http://mxl.com', 'http://jkp.com', 'http://kdv.com', 'http://ims.com', 'http://eoi.com', 'http://tvo.com', 'http://qcr.com', 'http://hdr.com', 'http://rwx.com', 'http://exf.com', 'http://dni.com', 'http://tqi.com', 'http://gvm.com', 'http://bhk.com', 'http://clj.com', 'http://jlb.com', 'http://svl.com', 'http://gzv.com', 'http://tli.com', 'http://mul.com', 'http://kjf.com', 'http://oam.com', 'http://bge.com', 'http://xyt.com', 'http://wsq.com', 'http://tgq.com', 'http://ufg.com', 'http://fej.com', 'http://eyc.com']'\n",
      "None\n"
     ]
    },
    {
     "ename": "TypeError",
     "evalue": "'NoneType' object is not iterable",
     "output_type": "error",
     "traceback": [
      "\u001b[0;31m---------------------------------------------------------------------------\u001b[0m",
      "\u001b[0;31mTypeError\u001b[0m                                 Traceback (most recent call last)",
      "\u001b[0;32m<ipython-input-10-934a02286fda>\u001b[0m in \u001b[0;36m<module>\u001b[0;34m()\u001b[0m\n\u001b[1;32m      5\u001b[0m \u001b[0mprint\u001b[0m\u001b[1;33m(\u001b[0m\u001b[0mget_links\u001b[0m\u001b[1;33m(\u001b[0m\u001b[0mparse_us\u001b[0m\u001b[1;33m)\u001b[0m\u001b[1;33m)\u001b[0m\u001b[1;33m\u001b[0m\u001b[0m\n\u001b[1;32m      6\u001b[0m \u001b[0mdata\u001b[0m \u001b[1;33m=\u001b[0m \u001b[0mp\u001b[0m\u001b[1;33m.\u001b[0m\u001b[0mmap\u001b[0m\u001b[1;33m(\u001b[0m\u001b[0mget_links_func\u001b[0m\u001b[1;33m.\u001b[0m\u001b[0mget_links\u001b[0m\u001b[1;33m,\u001b[0m \u001b[1;33m[\u001b[0m\u001b[0mlink\u001b[0m \u001b[1;32mfor\u001b[0m \u001b[0mlink\u001b[0m \u001b[1;32min\u001b[0m \u001b[0mparse_us\u001b[0m\u001b[1;33m]\u001b[0m\u001b[1;33m)\u001b[0m\u001b[1;33m\u001b[0m\u001b[0m\n\u001b[0;32m----> 7\u001b[0;31m \u001b[0mdata\u001b[0m \u001b[1;33m=\u001b[0m \u001b[1;33m[\u001b[0m\u001b[0murl\u001b[0m \u001b[1;32mfor\u001b[0m \u001b[0murl_list\u001b[0m \u001b[1;32min\u001b[0m \u001b[0mdata\u001b[0m \u001b[1;32mfor\u001b[0m \u001b[0murl\u001b[0m \u001b[1;32min\u001b[0m \u001b[0murl_list\u001b[0m\u001b[1;33m]\u001b[0m\u001b[1;33m\u001b[0m\u001b[0m\n\u001b[0m\u001b[1;32m      8\u001b[0m \u001b[0mp\u001b[0m\u001b[1;33m.\u001b[0m\u001b[0mclose\u001b[0m\u001b[1;33m(\u001b[0m\u001b[1;33m)\u001b[0m\u001b[1;33m\u001b[0m\u001b[0m\n",
      "\u001b[0;32m<ipython-input-10-934a02286fda>\u001b[0m in \u001b[0;36m<listcomp>\u001b[0;34m(.0)\u001b[0m\n\u001b[1;32m      5\u001b[0m \u001b[0mprint\u001b[0m\u001b[1;33m(\u001b[0m\u001b[0mget_links\u001b[0m\u001b[1;33m(\u001b[0m\u001b[0mparse_us\u001b[0m\u001b[1;33m)\u001b[0m\u001b[1;33m)\u001b[0m\u001b[1;33m\u001b[0m\u001b[0m\n\u001b[1;32m      6\u001b[0m \u001b[0mdata\u001b[0m \u001b[1;33m=\u001b[0m \u001b[0mp\u001b[0m\u001b[1;33m.\u001b[0m\u001b[0mmap\u001b[0m\u001b[1;33m(\u001b[0m\u001b[0mget_links_func\u001b[0m\u001b[1;33m.\u001b[0m\u001b[0mget_links\u001b[0m\u001b[1;33m,\u001b[0m \u001b[1;33m[\u001b[0m\u001b[0mlink\u001b[0m \u001b[1;32mfor\u001b[0m \u001b[0mlink\u001b[0m \u001b[1;32min\u001b[0m \u001b[0mparse_us\u001b[0m\u001b[1;33m]\u001b[0m\u001b[1;33m)\u001b[0m\u001b[1;33m\u001b[0m\u001b[0m\n\u001b[0;32m----> 7\u001b[0;31m \u001b[0mdata\u001b[0m \u001b[1;33m=\u001b[0m \u001b[1;33m[\u001b[0m\u001b[0murl\u001b[0m \u001b[1;32mfor\u001b[0m \u001b[0murl_list\u001b[0m \u001b[1;32min\u001b[0m \u001b[0mdata\u001b[0m \u001b[1;32mfor\u001b[0m \u001b[0murl\u001b[0m \u001b[1;32min\u001b[0m \u001b[0murl_list\u001b[0m\u001b[1;33m]\u001b[0m\u001b[1;33m\u001b[0m\u001b[0m\n\u001b[0m\u001b[1;32m      8\u001b[0m \u001b[0mp\u001b[0m\u001b[1;33m.\u001b[0m\u001b[0mclose\u001b[0m\u001b[1;33m(\u001b[0m\u001b[1;33m)\u001b[0m\u001b[1;33m\u001b[0m\u001b[0m\n",
      "\u001b[0;31mTypeError\u001b[0m: 'NoneType' object is not iterable"
     ]
    }
   ],
   "source": [
    "how_many = 50\n",
    "p = Pool(processes = how_many)\n",
    "parse_us = [random_starting_url() for _ in range(how_many)]\n",
    "#print(parse_us)\n",
    "print(get_links(parse_us))\n",
    "data = p.map(get_links_func.get_links, [link for link in parse_us])\n",
    "data = [url for url_list in data for url in url_list]\n",
    "p.close()"
   ]
  },
  {
   "cell_type": "code",
   "execution_count": 8,
   "metadata": {},
   "outputs": [
    {
     "data": {
      "text/plain": [
       "[None]"
      ]
     },
     "execution_count": 8,
     "metadata": {},
     "output_type": "execute_result"
    }
   ],
   "source": [
    "data"
   ]
  }
 ],
 "metadata": {
  "anaconda-cloud": {},
  "kernelspec": {
   "display_name": "Python [default]",
   "language": "python",
   "name": "python3"
  },
  "language_info": {
   "codemirror_mode": {
    "name": "ipython",
    "version": 3
   },
   "file_extension": ".py",
   "mimetype": "text/x-python",
   "name": "python",
   "nbconvert_exporter": "python",
   "pygments_lexer": "ipython3",
   "version": "3.5.2"
  }
 },
 "nbformat": 4,
 "nbformat_minor": 1
}
