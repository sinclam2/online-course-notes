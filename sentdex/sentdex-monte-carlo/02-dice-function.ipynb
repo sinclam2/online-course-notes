{
 "cells": [
  {
   "cell_type": "markdown",
   "metadata": {},
   "source": [
    "- If the roll is 100 or in 1-50, you lose\n",
    "    - Otherwise, you win"
   ]
  },
  {
   "cell_type": "code",
   "execution_count": 2,
   "metadata": {},
   "outputs": [],
   "source": [
    "import numpy as np"
   ]
  },
  {
   "cell_type": "code",
   "execution_count": 57,
   "metadata": {},
   "outputs": [],
   "source": [
    "def rollDice():\n",
    "    roll = np.random.randint(1,101)\n",
    "    return 50 < roll < 100"
   ]
  },
  {
   "cell_type": "code",
   "execution_count": 72,
   "metadata": {},
   "outputs": [],
   "source": [
    "def simple_bettor(funds, initial_wager, wager_count):\n",
    "    value = funds\n",
    "    wager = initial_wager\n",
    "    \n",
    "    for currentWager in range(wager_count):\n",
    "        if rollDice():\n",
    "            value += wager\n",
    "        else:\n",
    "            value -= wager\n",
    "        print('Funds: {}'.format(value))"
   ]
  },
  {
   "cell_type": "code",
   "execution_count": 74,
   "metadata": {},
   "outputs": [
    {
     "name": "stdout",
     "output_type": "stream",
     "text": [
      "Funds: 9900\n",
      "Funds: 9800\n",
      "Funds: 9700\n",
      "Funds: 9600\n",
      "Funds: 9500\n",
      "Funds: 9600\n",
      "Funds: 9700\n",
      "Funds: 9600\n",
      "Funds: 9500\n",
      "Funds: 9400\n",
      "Funds: 9500\n",
      "Funds: 9600\n",
      "Funds: 9500\n",
      "Funds: 9600\n",
      "Funds: 9500\n",
      "Funds: 9400\n",
      "Funds: 9300\n",
      "Funds: 9400\n",
      "Funds: 9500\n",
      "Funds: 9600\n",
      "Funds: 9500\n",
      "Funds: 9400\n",
      "Funds: 9300\n",
      "Funds: 9400\n",
      "Funds: 9300\n",
      "Funds: 9200\n",
      "Funds: 9300\n",
      "Funds: 9200\n",
      "Funds: 9100\n",
      "Funds: 9200\n",
      "Funds: 9100\n",
      "Funds: 9200\n",
      "Funds: 9300\n",
      "Funds: 9400\n",
      "Funds: 9300\n",
      "Funds: 9400\n",
      "Funds: 9500\n",
      "Funds: 9400\n",
      "Funds: 9300\n",
      "Funds: 9200\n",
      "Funds: 9100\n",
      "Funds: 9200\n",
      "Funds: 9100\n",
      "Funds: 9200\n",
      "Funds: 9300\n",
      "Funds: 9400\n",
      "Funds: 9300\n",
      "Funds: 9400\n",
      "Funds: 9500\n",
      "Funds: 9600\n",
      "Funds: 9500\n",
      "Funds: 9400\n",
      "Funds: 9500\n",
      "Funds: 9400\n",
      "Funds: 9300\n",
      "Funds: 9200\n",
      "Funds: 9300\n",
      "Funds: 9400\n",
      "Funds: 9300\n",
      "Funds: 9200\n",
      "Funds: 9100\n",
      "Funds: 9200\n",
      "Funds: 9300\n",
      "Funds: 9200\n",
      "Funds: 9300\n",
      "Funds: 9200\n",
      "Funds: 9300\n",
      "Funds: 9200\n",
      "Funds: 9100\n",
      "Funds: 9200\n",
      "Funds: 9300\n",
      "Funds: 9200\n",
      "Funds: 9100\n",
      "Funds: 9200\n",
      "Funds: 9100\n",
      "Funds: 9200\n",
      "Funds: 9100\n",
      "Funds: 9200\n",
      "Funds: 9100\n",
      "Funds: 9000\n",
      "Funds: 9100\n",
      "Funds: 9000\n",
      "Funds: 8900\n",
      "Funds: 8800\n",
      "Funds: 8700\n",
      "Funds: 8800\n",
      "Funds: 8700\n",
      "Funds: 8600\n",
      "Funds: 8500\n",
      "Funds: 8400\n",
      "Funds: 8300\n",
      "Funds: 8400\n",
      "Funds: 8300\n",
      "Funds: 8200\n",
      "Funds: 8300\n",
      "Funds: 8200\n",
      "Funds: 8100\n",
      "Funds: 8000\n",
      "Funds: 7900\n",
      "Funds: 8000\n"
     ]
    }
   ],
   "source": [
    "simple_bettor(10000, 100, 100)"
   ]
  }
 ],
 "metadata": {
  "kernelspec": {
   "display_name": "Python 3",
   "language": "python",
   "name": "python3"
  },
  "language_info": {
   "codemirror_mode": {
    "name": "ipython",
    "version": 3
   },
   "file_extension": ".py",
   "mimetype": "text/x-python",
   "name": "python",
   "nbconvert_exporter": "python",
   "pygments_lexer": "ipython3",
   "version": "3.6.4"
  }
 },
 "nbformat": 4,
 "nbformat_minor": 2
}
