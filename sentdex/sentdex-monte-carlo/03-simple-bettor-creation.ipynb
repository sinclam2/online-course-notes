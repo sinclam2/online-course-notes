{
 "cells": [
  {
   "cell_type": "code",
   "execution_count": 1,
   "metadata": {},
   "outputs": [],
   "source": [
    "import numpy as np"
   ]
  },
  {
   "cell_type": "code",
   "execution_count": 19,
   "metadata": {},
   "outputs": [],
   "source": [
    "def simple_bettor_n(funds, initial_wager, wager_count, n):\n",
    "    rolls = np.random.randint(1, 101, size = [wager_count, n])\n",
    "    count_wins = np.sum((rolls>50)*(rolls<100), axis = 0)\n",
    "    count_losses = wager_count - count_wins\n",
    "    \n",
    "    results = funds + initial_wager*(count_wins - count_losses)\n",
    "    return results*(results >= 0)"
   ]
  },
  {
   "cell_type": "code",
   "execution_count": 20,
   "metadata": {},
   "outputs": [
    {
     "data": {
      "text/plain": [
       "array([    0,     0,     0,     0,  4400, 13000,     0,     0,     0,\n",
       "           0,   600,     0,     0,     0,     0,     0,  9200,     0,\n",
       "           0,     0,  6600,     0,  4400,  1400,     0,  2400,     0,\n",
       "           0,     0,     0,     0,     0,     0,     0,     0,  4600,\n",
       "           0,     0,  5600,     0,     0,     0,     0,     0,     0,\n",
       "           0,     0,     0,     0,     0,     0, 15000,     0,     0,\n",
       "           0,  9400,     0,  1800,  3000,     0,     0,     0,     0,\n",
       "           0,     0,     0,     0,     0,     0,     0,     0,     0,\n",
       "           0,     0,     0,     0,     0,     0,     0,  2400, 11000,\n",
       "           0,     0,     0,     0,     0,     0,     0,     0,     0,\n",
       "        6400,     0,     0,     0,     0,     0,     0,     0,  7800,\n",
       "           0])"
      ]
     },
     "execution_count": 20,
     "metadata": {},
     "output_type": "execute_result"
    }
   ],
   "source": [
    "simple_bettor_n(10000, 100, 10000, 100)"
   ]
  }
 ],
 "metadata": {
  "kernelspec": {
   "display_name": "Python 3",
   "language": "python",
   "name": "python3"
  },
  "language_info": {
   "codemirror_mode": {
    "name": "ipython",
    "version": 3
   },
   "file_extension": ".py",
   "mimetype": "text/x-python",
   "name": "python",
   "nbconvert_exporter": "python",
   "pygments_lexer": "ipython3",
   "version": "3.6.4"
  }
 },
 "nbformat": 4,
 "nbformat_minor": 2
}
