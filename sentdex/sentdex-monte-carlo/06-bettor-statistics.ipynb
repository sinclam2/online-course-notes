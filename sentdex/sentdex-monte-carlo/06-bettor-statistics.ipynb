{
 "cells": [
  {
   "cell_type": "code",
   "execution_count": 1,
   "metadata": {},
   "outputs": [],
   "source": [
    "import pandas as pd\n",
    "import numpy as np\n",
    "import matplotlib.pyplot as plt\n",
    "%matplotlib inline\n",
    "plt.rcParams['figure.figsize'] = 10, 10"
   ]
  },
  {
   "cell_type": "code",
   "execution_count": 2,
   "metadata": {},
   "outputs": [],
   "source": [
    "def rollDice():\n",
    "    roll = np.random.randint(1, 101)\n",
    "    return 50 < roll < 100"
   ]
  },
  {
   "cell_type": "code",
   "execution_count": 13,
   "metadata": {},
   "outputs": [],
   "source": [
    "def doubler_bettor_broke(funds, initial_wager, wager_count):\n",
    "    value_results = [funds]\n",
    "    \n",
    "    value = funds\n",
    "    wager = initial_wager\n",
    "    \n",
    "    previous_win = True\n",
    "    \n",
    "    for i in range(wager_count):\n",
    "        if value <= 0:\n",
    "            return value_results\n",
    "        if rollDice():\n",
    "            value += wager\n",
    "            previous_win = True\n",
    "            wager = initial_wager\n",
    "        else:\n",
    "            value -= wager\n",
    "            previous_win = False\n",
    "            wager = wager*2\n",
    "        \n",
    "        value_results.append(value)\n",
    "    \n",
    "    return value_results"
   ]
  },
  {
   "cell_type": "code",
   "execution_count": 21,
   "metadata": {},
   "outputs": [],
   "source": [
    "df = pd.DataFrame(index = range(1001))\n",
    "for col in range(1000):\n",
    "    array = doubler_bettor_broke(10000, 100, 1000)\n",
    "    df.loc[range(len(array)),col] = array"
   ]
  },
  {
   "cell_type": "code",
   "execution_count": 22,
   "metadata": {},
   "outputs": [
    {
     "name": "stdout",
     "output_type": "stream",
     "text": [
      "death rate: 0.774\n",
      "survival rate: 0.226\n"
     ]
    }
   ],
   "source": [
    "print('death rate: {}'.format(pd.isnull(df.iloc[-1]).sum()/float(1000)))\n",
    "print('survival rate: {}'.format(pd.notnull(df.iloc[-1]).sum()/float(1000)))"
   ]
  }
 ],
 "metadata": {
  "kernelspec": {
   "display_name": "Python 3",
   "language": "python",
   "name": "python3"
  },
  "language_info": {
   "codemirror_mode": {
    "name": "ipython",
    "version": 3
   },
   "file_extension": ".py",
   "mimetype": "text/x-python",
   "name": "python",
   "nbconvert_exporter": "python",
   "pygments_lexer": "ipython3",
   "version": "3.6.4"
  }
 },
 "nbformat": 4,
 "nbformat_minor": 2
}
