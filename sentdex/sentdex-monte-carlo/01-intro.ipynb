{
 "cells": [
  {
   "cell_type": "markdown",
   "metadata": {},
   "source": [
    "**What is a Monte Carlo simulation?**\n",
    "\n",
    "- We want to test various outcome possibilities\n",
    "- Often used to assess of a given investment strategy\n",
    "- Reminds us that **success is not the only measure of whether we made a smart choice**\n",
    "    - Choices should not be assessed **after the fact**\n",
    "- Helps visualize potential outcomes to get a better picture of risk"
   ]
  },
  {
   "cell_type": "markdown",
   "metadata": {},
   "source": [
    "- Here, we'll look at dice games to build our simulator\n",
    "    - Consider a die with 100 sides"
   ]
  },
  {
   "cell_type": "markdown",
   "metadata": {},
   "source": [
    "**Recall: Gambler's Fallacy**\n",
    "\n",
    "- The fallacy is that if you got 5 heads in a row, the next flip will definitely be a tails\n",
    "    - It's actually still 50/50"
   ]
  },
  {
   "cell_type": "code",
   "execution_count": 1,
   "metadata": {},
   "outputs": [],
   "source": [
    "import numpy as np"
   ]
  },
  {
   "cell_type": "code",
   "execution_count": 4,
   "metadata": {},
   "outputs": [],
   "source": [
    "def rollDice(n):\n",
    "    roll = np.random.randint(1,101, size = n)\n",
    "    return roll"
   ]
  },
  {
   "cell_type": "code",
   "execution_count": 5,
   "metadata": {},
   "outputs": [
    {
     "data": {
      "text/plain": [
       "array([ 33,  93,  56,  60,   4,  91,  49,  14,  88,   9,  62,  84,  22,\n",
       "         2,  20,  71,  34,  32,  32,  81,  89,  74,  11,  14,  91,  52,\n",
       "       100,  66,   1,  27,  89,  69,  21,  33,  74,  76,  66,   3,  39,\n",
       "        76,  67,  42,  83,  86,  73,  40,  30,  24,   5,   4,  10,  94,\n",
       "        98,  85,  11,  88,  26,  92,  51,  91,  97,  22,  41,  11,   2,\n",
       "        23,  55,  94,  65,  93,  22,  46,  20,  46,  50,  47,  44,  52,\n",
       "        29,  93,  86,  25,  77,  73,  39,  86,  87,  43,  34,  48,  32,\n",
       "         6,  14,  67,  96,  76,  23, 100,  15,  51])"
      ]
     },
     "execution_count": 5,
     "metadata": {},
     "output_type": "execute_result"
    }
   ],
   "source": [
    "rollDice(100)"
   ]
  }
 ],
 "metadata": {
  "kernelspec": {
   "display_name": "Python 3",
   "language": "python",
   "name": "python3"
  },
  "language_info": {
   "codemirror_mode": {
    "name": "ipython",
    "version": 3
   },
   "file_extension": ".py",
   "mimetype": "text/x-python",
   "name": "python",
   "nbconvert_exporter": "python",
   "pygments_lexer": "ipython3",
   "version": "3.6.4"
  }
 },
 "nbformat": 4,
 "nbformat_minor": 2
}
