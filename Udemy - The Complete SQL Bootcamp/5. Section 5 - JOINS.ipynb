{
 "cells": [
  {
   "cell_type": "markdown",
   "metadata": {},
   "source": [
    "# AS Statement\n",
    "\n",
    "- `AS` allows us to come up with an alias for a table selection"
   ]
  },
  {
   "cell_type": "markdown",
   "metadata": {},
   "source": [
    "#### Example\n",
    "\n",
    "```mysql\n",
    "SELECT customer_id, SUM(amount) AS total_spent\n",
    "FROM payment\n",
    "GROUP BY customer_id;\n",
    "```"
   ]
  },
  {
   "cell_type": "markdown",
   "metadata": {},
   "source": [
    "- In the example above, the `SUM(amount)` column will be renamed to `total_spent`"
   ]
  },
  {
   "cell_type": "markdown",
   "metadata": {},
   "source": [
    "____\n",
    "\n",
    "# Overview of Inner Join"
   ]
  },
  {
   "cell_type": "markdown",
   "metadata": {},
   "source": [
    "- So far, we've simply selected the columns and rows from a table, and specified how we want the data to be sorted\n",
    "    - Now, we'll learn how to relate data in one table to another"
   ]
  },
  {
   "cell_type": "markdown",
   "metadata": {},
   "source": [
    "#### Types of joins\n",
    "\n",
    "1. Inner Join\n",
    "2. Outer Join\n",
    "3. Self-join"
   ]
  },
  {
   "cell_type": "markdown",
   "metadata": {},
   "source": [
    "#### Syntax\n",
    "\n",
    "```mysql\n",
    "SELECT table_A.key_col, table_A.extra_col_1, table_B.key_col, table_B.extra_col_2\n",
    "FROM table_A\n",
    "INNER JOIN table_B ON table_A.key = table_B.key\n",
    "```"
   ]
  },
  {
   "cell_type": "markdown",
   "metadata": {},
   "source": [
    "**Note**: the pandas equivalent to this is:\n",
    "\n",
    "```python\n",
    "df_table_A.merge(df_table_B, on='customer_id', how='inner')\n",
    "```"
   ]
  },
  {
   "cell_type": "markdown",
   "metadata": {},
   "source": [
    "- INNER JOIN returns the keys that are included in **both** tables"
   ]
  },
  {
   "cell_type": "markdown",
   "metadata": {},
   "source": [
    " #### Example 1\n",
    "\n",
    "```mysql\n",
    "SELECT \n",
    "customer.customer_id, \n",
    "first_name, \n",
    "last_name,\n",
    "email,\n",
    "amount,\n",
    "payment_date\n",
    "FROM customer\n",
    "INNER JOIN payment on payment.customer_id = customer.customer_id;\n",
    "```"
   ]
  },
  {
   "cell_type": "markdown",
   "metadata": {},
   "source": [
    " #### Example 2\n",
    " \n",
    "- Same as above, except specifying a customer_id\n",
    "\n",
    "```mysql\n",
    "SELECT \n",
    "customer.customer_id, \n",
    "first_name, \n",
    "last_name,\n",
    "email,\n",
    "amount,\n",
    "payment_date\n",
    "FROM customer\n",
    "INNER JOIN payment on payment.customer_id = customer.customer_id;\n",
    "WHERE customer.customer_id = 2\n",
    "```"
   ]
  },
  {
   "cell_type": "markdown",
   "metadata": {},
   "source": [
    "**Example 3**\n",
    "\n",
    "- Selecting transactions handled by each staff member\n",
    "\n",
    "```mysql\n",
    "SELECT\n",
    "    payment,\n",
    "    amount,\n",
    "    first_name,\n",
    "    last_name\n",
    "FROM payment\n",
    "INNER JOIN staff ON payment.staff_id = staff.staff_id\n",
    "```"
   ]
  },
  {
   "cell_type": "markdown",
   "metadata": {},
   "source": [
    "- **Note**: in SQL, we can use `JOIN` instead of `INNER JOIN`\n",
    "    - i.e. `INNER JOIN` is the default `JOIN`"
   ]
  },
  {
   "cell_type": "markdown",
   "metadata": {},
   "source": [
    "**Example 4**\n",
    "\n",
    "- Joining the description table onto the inventory table to see which movies are where\n",
    "\n",
    "```mysql\n",
    "SELECT\n",
    "    store_id,\n",
    "    title\n",
    "FROM inventory\n",
    "INNER JOIN film ON inventory.film_id = film.film_id\n",
    "```"
   ]
  },
  {
   "cell_type": "markdown",
   "metadata": {},
   "source": [
    "**Example 5**\n",
    "\n",
    "- Counting the number of copies of each movie\n",
    "\n",
    "```mysql\n",
    "SELECT\n",
    "    title,\n",
    "    COUNT(title) as n_copies\n",
    "FROM inventory\n",
    "INNER JOIN film ON inventory.film_id = film.film_id\n",
    "GROUP BY title\n",
    "```"
   ]
  },
  {
   "cell_type": "markdown",
   "metadata": {},
   "source": [
    "**Example 6**\n",
    "\n",
    "- Getting the language of each movie\n",
    "\n",
    "```mysql\n",
    "SELECT\n",
    "    film.title,\n",
    "    language.name\n",
    "FROM film\n",
    "JOIN language on language.language_id = film.language_id\n",
    "```"
   ]
  },
  {
   "cell_type": "markdown",
   "metadata": {},
   "source": [
    "____\n",
    "\n",
    "# Overview of Join Types\n",
    "\n",
    "## 1. `INNER JOIN`\n",
    "\n",
    "- Returns the set of records that are contained in **both** tables\n",
    "\n",
    "![](images/inner_join.PNG)"
   ]
  },
  {
   "cell_type": "markdown",
   "metadata": {},
   "source": [
    "```mysql\n",
    "SELECT table_A.key, table_A.col\n",
    "FROM table_A\n",
    "INNER JOIN table_B\n",
    "ON table_A.key=table_B.key\n",
    "```"
   ]
  },
  {
   "cell_type": "markdown",
   "metadata": {},
   "source": [
    "## 2. `FULL OUTER JOIN`\n",
    "\n",
    "- Returns the set of records that are contained in **either** table\n",
    "\n",
    "![](images/full_outer_join.PNG)"
   ]
  },
  {
   "cell_type": "markdown",
   "metadata": {},
   "source": [
    "```mysql\n",
    "SELECT table_A.key, table_A.col\n",
    "FROM table_A\n",
    "FULL OUTER JOIN table_B\n",
    "ON table_A.key=table_B.key\n",
    "```"
   ]
  },
  {
   "cell_type": "markdown",
   "metadata": {},
   "source": [
    "## 3. `LEFT OUTER JOIN`\n",
    "\n",
    "- Returns the set of records that are contained in the **first table**, with matching records from the second table (if available)\n",
    "\n",
    "![](images/left_outer_join.PNG)"
   ]
  },
  {
   "cell_type": "markdown",
   "metadata": {},
   "source": [
    "```mysql\n",
    "SELECT table_A.key, table_A.col\n",
    "FROM table_A\n",
    "LEFT OUTER JOIN table_B\n",
    "ON table_A.key=table_B.key\n",
    "```"
   ]
  },
  {
   "cell_type": "markdown",
   "metadata": {},
   "source": [
    "## 4. `LEFT OUTER JOIN with WHERE`\n",
    "\n",
    "- Returns the records that are contained in the first table, but **not in the second table**\n",
    "    - As we can see, it's a subset of `LEFT OUTER JOIN`\n",
    "\n",
    "![](images/left_outer_join_w_where.PNG)"
   ]
  },
  {
   "cell_type": "markdown",
   "metadata": {},
   "source": [
    "```mysql\n",
    "SELECT table_A.key, table_A.col\n",
    "FROM table_A\n",
    "LEFT OUTER JOIN table_B\n",
    "ON table_A.key=table_B.key\n",
    "WHERE table_B.key IS NULL\n",
    "```"
   ]
  },
  {
   "cell_type": "markdown",
   "metadata": {},
   "source": [
    "## 5. `FULL OUTER JOIN with WHERE`\n",
    "\n",
    "- Returns the records that are **in either table, but not both**\n",
    "    - This is like the `FULL OUTER JOIN` with the `INNER JOIN` core removed\n",
    "    \n",
    "![](images/full_outer_join_w_where.PNG)"
   ]
  },
  {
   "cell_type": "markdown",
   "metadata": {},
   "source": [
    "____\n",
    "\n",
    "# Examples of Outer Joins\n",
    "\n",
    "**Example 1**\n",
    "\n",
    "- Joining the inventory ID onto the film title\n",
    "    - If there are multiple copies of a single film, there will be multiple rows\n",
    "    \n",
    "```mysql\n",
    "SELECT \n",
    "    film.film_id, \n",
    "    film.title, \n",
    "    film.inventory_id\n",
    "FROM film\n",
    "LEFT OUTER JOIN inventory ON inventory.film_id = film.film_id\n",
    "```"
   ]
  },
  {
   "cell_type": "markdown",
   "metadata": {},
   "source": [
    "**Example 2**\n",
    "\n",
    "- Same as above, but only want films **that are missing from the inventory**\n",
    "    - In the previous query, their inventory ID would be NULL\n",
    "    \n",
    "```mysql\n",
    "SELECT \n",
    "    film.film_id, \n",
    "    film.title, \n",
    "    film.inventory_id\n",
    "FROM film\n",
    "LEFT OUTER JOIN inventory ON inventory.film_id = film.film_id\n",
    "WHERE inventory.film_id IS NULL\n",
    "```"
   ]
  },
  {
   "cell_type": "markdown",
   "metadata": {},
   "source": [
    "**Example 3**\n",
    "\n",
    "- Same as above, but only want films **that aren't missing from the inventory**\n",
    "    \n",
    "```mysql\n",
    "SELECT \n",
    "    film.film_id, \n",
    "    film.title, \n",
    "    film.inventory_id\n",
    "FROM film\n",
    "LEFT OUTER JOIN inventory ON inventory.film_id = film.film_id\n",
    "WHERE inventory.film_id IS NOT NULL\n",
    "```"
   ]
  },
  {
   "cell_type": "markdown",
   "metadata": {},
   "source": [
    "____\n",
    "\n",
    "# UNION\n",
    "\n",
    "- The UNION operator combines results of two or more SELECT statements\n",
    "\n",
    "```mysql\n",
    "SELECT col_1, col_2\n",
    "FROM table_A\n",
    "UNION\n",
    "SELECT col_1, col_2\n",
    "FROM table_B\n",
    "```"
   ]
  },
  {
   "cell_type": "markdown",
   "metadata": {},
   "source": [
    "**Rules**\n",
    "\n",
    "1. Both results must have the same number of columns\n",
    "2. The data types in each column must match across tables\n",
    "3. Unless `UNION ALL` is used, all duplicate rows are deleted"
   ]
  },
  {
   "cell_type": "markdown",
   "metadata": {},
   "source": [
    "- `UNION` is usually used to combine two different tables to make analysis easier"
   ]
  }
 ],
 "metadata": {
  "kernelspec": {
   "display_name": "Python 3",
   "language": "python",
   "name": "python3"
  },
  "language_info": {
   "codemirror_mode": {
    "name": "ipython",
    "version": 3
   },
   "file_extension": ".py",
   "mimetype": "text/x-python",
   "name": "python",
   "nbconvert_exporter": "python",
   "pygments_lexer": "ipython3",
   "version": "3.6.8"
  }
 },
 "nbformat": 4,
 "nbformat_minor": 2
}
