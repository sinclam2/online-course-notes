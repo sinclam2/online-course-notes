{
 "cells": [
  {
   "cell_type": "markdown",
   "metadata": {},
   "source": [
    "# AS Statement\n",
    "\n",
    "- `AS` allows us to come up with an alias for a table selection"
   ]
  },
  {
   "cell_type": "markdown",
   "metadata": {},
   "source": [
    "#### Example\n",
    "\n",
    "```mysql\n",
    "SELECT customer_id, SUM(amount) AS total_spent\n",
    "FROM payment\n",
    "GROUP BY customer_id;\n",
    "```"
   ]
  },
  {
   "cell_type": "markdown",
   "metadata": {},
   "source": [
    "- In the example above, the `SUM(amount)` column will be renamed to `total_spent`"
   ]
  },
  {
   "cell_type": "markdown",
   "metadata": {},
   "source": [
    "____\n",
    "\n",
    "# Overview of Inner Join"
   ]
  },
  {
   "cell_type": "markdown",
   "metadata": {},
   "source": [
    "- So far, we've simply selected the columns and rows from a table, and specified how we want the data to be sorted\n",
    "    - Now, we'll learn how to relate data in one table to another"
   ]
  },
  {
   "cell_type": "markdown",
   "metadata": {},
   "source": [
    "#### Types of joins\n",
    "\n",
    "1. Inner Join\n",
    "2. Outer Join\n",
    "3. Self-join"
   ]
  },
  {
   "cell_type": "markdown",
   "metadata": {},
   "source": [
    "#### Syntax\n",
    "\n",
    "```mysql\n",
    "SELECT table_A.key_col, table_A.extra_col_1, table_B.key_col, table_B.extra_col_2\n",
    "FROM table_A\n",
    "INNER JOIN table_B ON table_A.key = table_B.key\n",
    "```"
   ]
  },
  {
   "cell_type": "markdown",
   "metadata": {},
   "source": [
    "**Note**: the pandas equivalent to this is:\n",
    "\n",
    "```python\n",
    "df_table_A.merge(df_table_B, on='customer_id', how='inner')\n",
    "```"
   ]
  },
  {
   "cell_type": "markdown",
   "metadata": {},
   "source": [
    "- INNER JOIN returns the keys that are included in **both** tables"
   ]
  },
  {
   "cell_type": "markdown",
   "metadata": {},
   "source": [
    " #### Example 1\n",
    "\n",
    "```mysql\n",
    "SELECT \n",
    "customer.customer_id, \n",
    "first_name, \n",
    "last_name,\n",
    "email,\n",
    "amount,\n",
    "payment_date\n",
    "FROM customer\n",
    "INNER JOIN payment on payment.customer_id = customer.customer_id;\n",
    "```"
   ]
  },
  {
   "cell_type": "markdown",
   "metadata": {},
   "source": [
    " #### Example 2\n",
    " \n",
    "- Same as above, except specifying a customer_id\n",
    "\n",
    "```mysql\n",
    "SELECT \n",
    "customer.customer_id, \n",
    "first_name, \n",
    "last_name,\n",
    "email,\n",
    "amount,\n",
    "payment_date\n",
    "FROM customer\n",
    "INNER JOIN payment on payment.customer_id = customer.customer_id;\n",
    "WHERE customer.customer_id = 2\n",
    "```"
   ]
  }
 ],
 "metadata": {
  "kernelspec": {
   "display_name": "Python 3",
   "language": "python",
   "name": "python3"
  },
  "language_info": {
   "codemirror_mode": {
    "name": "ipython",
    "version": 3
   },
   "file_extension": ".py",
   "mimetype": "text/x-python",
   "name": "python",
   "nbconvert_exporter": "python",
   "pygments_lexer": "ipython3",
   "version": "3.6.8"
  }
 },
 "nbformat": 4,
 "nbformat_minor": 2
}
