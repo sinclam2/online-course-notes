{
 "cells": [
  {
   "cell_type": "markdown",
   "metadata": {},
   "source": [
    "# 1. How can you retrive all the information from the `cd.facilities` table?\n",
    "\n",
    "```mysql\n",
    "SELECT * FROM cd.facilities\n",
    "```"
   ]
  },
  {
   "cell_type": "markdown",
   "metadata": {},
   "source": [
    "___\n",
    "\n",
    "# 2. You want to print out a list of all of the facilities and their cost to members. How would you retrieve a list of only facility names and costs?\n",
    "\n",
    "```mysql\n",
    "SELECT name, membercost FROM cd.facilities\n",
    "```"
   ]
  },
  {
   "cell_type": "markdown",
   "metadata": {},
   "source": [
    "____\n",
    "\n",
    "# 3. How can you produce a list of facilities that charge a fee to members?\n",
    "\n",
    "```mysql\n",
    "SELECT name \n",
    "FROM cd.facilities\n",
    "WHERE membercost > 0\n",
    "```"
   ]
  },
  {
   "cell_type": "markdown",
   "metadata": {},
   "source": [
    "___\n",
    "\n",
    "# 4. How can you produce a list of facilities that charge a fee to members, and that fee is less than 1/50th of the monthly maintenance cost? Return the facid, facility name, member cost, and monthly maintenance of the facilities in question.\n",
    "\n",
    "```mysql\n",
    "SELECT facid, name, membercost, monthlymaintenance\n",
    "FROM cd.facilities\n",
    "WHERE membercost > 0\n",
    "AND membercost < monthlymaintenance / 50\n",
    "```"
   ]
  },
  {
   "cell_type": "markdown",
   "metadata": {},
   "source": [
    "___\n",
    "\n",
    "# 5. How can you produce a list of all facilities with the word 'Tennis' in their name?\n",
    "\n",
    "```mysql\n",
    "SELECT name \n",
    "FROM cd.facilities \n",
    "WHERE name LIKE '%Tennis%'\n",
    "```"
   ]
  },
  {
   "cell_type": "markdown",
   "metadata": {},
   "source": [
    "____\n",
    "\n",
    "# 6. How can you retrieve the details of facilities with ID 1 and 5? Try to do it without using the OR operator.\n",
    "\n",
    "```mysql\n",
    "SELECT name \n",
    "FROM cd.facilities \n",
    "WHERE facid IN (1,5)\n",
    "```"
   ]
  },
  {
   "cell_type": "markdown",
   "metadata": {},
   "source": [
    "___\n",
    "\n",
    "# 7. How can you produce a list of members who joined after the start of September 2012? Return the memid, surname, firstname, and joindate of the members in question.\n",
    "\n",
    "```mysql\n",
    "SELECT memid, surname, firstname, joindate \n",
    "FROM cd.members \n",
    "WHERE joindate > '2012-09-01'\n",
    "```"
   ]
  },
  {
   "cell_type": "markdown",
   "metadata": {},
   "source": [
    "___\n",
    "\n",
    "# 8. How can you produce an ordered list of the first 10 surnames in the members table? The list must not contain duplicates.\n",
    "\n",
    "```mysql\n",
    "SELECT DISTINCT surname \n",
    "FROM cd.members \n",
    "ORDER BY surname \n",
    "LIMIT 10\n",
    "```"
   ]
  },
  {
   "cell_type": "markdown",
   "metadata": {},
   "source": [
    "___\n",
    "\n",
    "# 9. You'd like to get the signup date of your last member. How can you retrieve this information?\n",
    "\n",
    "```mysql\n",
    "SELECT MAX(joindate) FROM cd.members\n",
    "```"
   ]
  },
  {
   "cell_type": "markdown",
   "metadata": {},
   "source": [
    "___\n",
    "\n",
    "# 10. Produce a count of the number of facilities that have a cost to guests of 10 or more.\n",
    "\n",
    "```mysql\n",
    "SELECT COUNT(facid) \n",
    "FROM cd.facilities\n",
    "WHERE guestcost >= 10\n",
    "```"
   ]
  },
  {
   "cell_type": "markdown",
   "metadata": {},
   "source": [
    "___\n",
    "\n",
    "# 11. Skip"
   ]
  },
  {
   "cell_type": "markdown",
   "metadata": {},
   "source": [
    "___\n",
    "\n",
    "# 12. Produce a list of the total number of slots booked per facility in the month of September 2012. Produce an output table consisting of facility id and slots, sorted by the number of slots.\n",
    "\n",
    "```mysql\n",
    "SELECT facid, SUM(slots)\n",
    "FROM cd.bookings\n",
    "WHERE extract(month FROM starttime) = 9\n",
    "AND extract(year FROM starttime) = 2012\n",
    "GROUP BY facid\n",
    "ORDER BY COUNT(slots)\n",
    "```"
   ]
  },
  {
   "cell_type": "markdown",
   "metadata": {},
   "source": [
    "___\n",
    "\n",
    "# 13. Produce a list of facilities with more than 1000 slots booked. Produce an output table consisting of facility id and total slots, sorted by facility id.\n",
    "\n",
    "```mysql\n",
    "SELECT facid, SUM(slots)\n",
    "FROM cd.bookings\n",
    "GROUP BY facid\n",
    "HAVING SUM(slots) > 1000\n",
    "ORDER BY facid\n",
    "```"
   ]
  },
  {
   "cell_type": "markdown",
   "metadata": {},
   "source": [
    "___\n",
    "\n",
    "# 14. How can you produce a list of the start times for bookings for tennis courts, for the date '2012-09-21'? Return a list of start time and facility name pairings, ordered by the time.\n",
    "\n",
    "```mysql\n",
    "WITH subset AS (SELECT \n",
    "\ttable_b.name,\n",
    "\ttable_a.starttime\n",
    "FROM cd.bookings table_a\n",
    "JOIN cd.facilities table_b ON table_a.facid = table_b.facid)\n",
    "SELECT name, starttime\n",
    "FROM subset\n",
    "WHERE extract(day FROM starttime) = 21\n",
    "AND extract(month FROM starttime) = 9\n",
    "AND extract(year FROM starttime) = 2012\n",
    "ORDER BY starttime\n",
    "\n",
    "```"
   ]
  },
  {
   "cell_type": "markdown",
   "metadata": {},
   "source": [
    "___\n",
    "\n",
    "# 15. How can you produce a list of the start times for bookings by members named 'David Farrell'?\n",
    "\n",
    "```mysql\n",
    "SELECT a.starttime\n",
    "FROM cd.bookings a\n",
    "JOIN cd.members b ON a.memid = b.memid\n",
    "WHERE b.surname = 'Farrell'\n",
    "AND b.firstname = 'David'\n",
    "```"
   ]
  }
 ],
 "metadata": {
  "kernelspec": {
   "display_name": "Python 3",
   "language": "python",
   "name": "python3"
  },
  "language_info": {
   "codemirror_mode": {
    "name": "ipython",
    "version": 3
   },
   "file_extension": ".py",
   "mimetype": "text/x-python",
   "name": "python",
   "nbconvert_exporter": "python",
   "pygments_lexer": "ipython3",
   "version": "3.6.8"
  }
 },
 "nbformat": 4,
 "nbformat_minor": 2
}
