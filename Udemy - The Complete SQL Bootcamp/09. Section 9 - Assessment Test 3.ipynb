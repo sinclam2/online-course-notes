{
 "cells": [
  {
   "cell_type": "markdown",
   "metadata": {},
   "source": [
    "# Assessment Test 3\n",
    "\n",
    "- Create a new database called \"School\" this database should have two tables:\n",
    "    1. students\n",
    "    2. teachers\n",
    "    \n",
    "- The students table should have columns for:\n",
    "    1. student_id\n",
    "    2. first_name\n",
    "    3. last_name\n",
    "    4. homeroom_number\n",
    "    5. phone\n",
    "    6. email\n",
    "    7. graduation year\n",
    "    \n",
    "- The teachers table should have columns for\n",
    "    1. teacher_id\n",
    "    2. first_name\n",
    "    3. last_name\n",
    "    4. homeroom_number\n",
    "    5. department\n",
    "    6. email\n",
    "    7. phone\n",
    "    \n",
    "- The constraints are mostly up to you, but your table constraints do have to consider the following:\n",
    "    1. We must have a phone number to contact students in case of an emergency\n",
    "    2. We must have ids as the primary key of the tables\n",
    "    3. Phone numbers and emails must be unique to the individual"
   ]
  },
  {
   "cell_type": "markdown",
   "metadata": {},
   "source": [
    "____\n",
    "\n",
    "# MY SOLUTION\n",
    "\n",
    "## 1. Creating the school database\n",
    "\n",
    "```mysql\n",
    "CREATE DATABASE School\n",
    "```"
   ]
  },
  {
   "cell_type": "markdown",
   "metadata": {},
   "source": [
    "## 2. Creating the students table\n",
    "\n",
    "```mysql\n",
    "CREATE TABLE students(\n",
    "    student_id serial PRIMARY KEY,\n",
    "    first_name VARCHAR(50) NOT NULL,\n",
    "    last_name VARCHAR(50) NOT NULL,\n",
    "    homeroom_number INTEGER NOT NULL,\n",
    "    phone INTEGER UNIQUE NOT NULL\n",
    "    email VARCHAR(50) UNIQUE,\n",
    "    graduation_year INTEGER    \n",
    "    )\n",
    "```"
   ]
  },
  {
   "cell_type": "markdown",
   "metadata": {},
   "source": [
    "## 3. Creating the teachers table\n",
    "\n",
    "```mysql\n",
    "CREATE TABLE teachers(\n",
    "    teacher_id serial PRIMARY KEY,\n",
    "    first_name VARCHAR(50) NOT NULL,\n",
    "    last_name VARCHAR(50) NOT NULL,\n",
    "    homeroom_number INTEGER NOT NULL UNIQUE,\n",
    "    department VARCHAR(50),\n",
    "    email VARCHAR(50) NOT NULL UNIQUE,\n",
    "    phone INTEGER NOT NULL UNIQUE\n",
    "    )\n",
    "```"
   ]
  }
 ],
 "metadata": {
  "kernelspec": {
   "display_name": "Python 3",
   "language": "python",
   "name": "python3"
  },
  "language_info": {
   "codemirror_mode": {
    "name": "ipython",
    "version": 3
   },
   "file_extension": ".py",
   "mimetype": "text/x-python",
   "name": "python",
   "nbconvert_exporter": "python",
   "pygments_lexer": "ipython3",
   "version": "3.6.8"
  }
 },
 "nbformat": 4,
 "nbformat_minor": 2
}
