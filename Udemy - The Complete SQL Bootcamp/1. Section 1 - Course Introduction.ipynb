{
 "cells": [
  {
   "cell_type": "markdown",
   "metadata": {},
   "source": [
    "# Overview of Databases\n",
    "\n",
    "#### Database definition\n",
    "\n",
    "- Systems used to store and organize data\n",
    "- Useful when dealing with large amounts of data\n",
    "\n",
    "#### Benefits of databases\n",
    "\n",
    "- Data integrity\n",
    "    - Data can't be changed willy nilly\n",
    "- Can handle massive amounts of data\n",
    "- Can easily combine different datasets\n",
    "- Steps can be automated\n",
    "    - Used again later\n",
    "- Can send data to websited and apps"
   ]
  }
 ],
 "metadata": {
  "kernelspec": {
   "display_name": "Python 3",
   "language": "python",
   "name": "python3"
  },
  "language_info": {
   "codemirror_mode": {
    "name": "ipython",
    "version": 3
   },
   "file_extension": ".py",
   "mimetype": "text/x-python",
   "name": "python",
   "nbconvert_exporter": "python",
   "pygments_lexer": "ipython3",
   "version": "3.6.8"
  }
 },
 "nbformat": 4,
 "nbformat_minor": 2
}
