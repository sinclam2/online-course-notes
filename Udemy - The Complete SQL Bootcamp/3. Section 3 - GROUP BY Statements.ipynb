{
 "cells": [
  {
   "cell_type": "markdown",
   "metadata": {},
   "source": [
    "# MIN MAX AVG SUM Aggregate Functions\n",
    "\n",
    "- Already used the `COUNT` aggregate function\n",
    "\n",
    "#### Example - `AVG`\n",
    "\n",
    "```mysql\n",
    "SELECT AVG(amount) FROM payment;\n",
    "```\n",
    "\n",
    "- **Note**: we can round our result to however many digits we want\n",
    "\n",
    "```mysql\n",
    "SELECT ROUND(AVG(amount),2) FROM payment;\n",
    "```"
   ]
  },
  {
   "cell_type": "markdown",
   "metadata": {},
   "source": [
    "#### Example - `MIN`\n",
    "\n",
    "```mysql\n",
    "SELECT MIN(amount) FROM payment;\n",
    "```"
   ]
  },
  {
   "cell_type": "markdown",
   "metadata": {},
   "source": [
    "#### Example - `MAX`\n",
    "\n",
    "```mysql\n",
    "SELECT MAX(amount) FROM payment;\n",
    "```"
   ]
  },
  {
   "cell_type": "markdown",
   "metadata": {},
   "source": [
    "#### Example - `SUM`\n",
    "\n",
    "```mysql\n",
    "SELECT SUM(amount) FROM payment;\n",
    "```"
   ]
  },
  {
   "cell_type": "markdown",
   "metadata": {},
   "source": [
    "____\n",
    "\n",
    "# GROUP BY\n",
    "\n",
    "- This clause assigns the rows in the table into different sets\n",
    "    - For each set, we can apply an aggregate function"
   ]
  },
  {
   "cell_type": "markdown",
   "metadata": {},
   "source": [
    "#### General `GROUP BY` Syntax\n",
    "\n",
    "```mysql\n",
    "SELECT col_1, agg_func(col_2)\n",
    "FROM table_name\n",
    "GROUP BY col_1;\n",
    "```"
   ]
  },
  {
   "cell_type": "markdown",
   "metadata": {},
   "source": [
    "#### Example 1 - Grouping without agg function\n",
    "\n",
    "```mysql\n",
    "SELECT customer_id \n",
    "FROM payment\n",
    "GROUP BY customer_id;\n",
    "```"
   ]
  },
  {
   "cell_type": "markdown",
   "metadata": {},
   "source": [
    "- *What does this query return?*\n",
    "    - The result will be equivalent to:\n",
    "    \n",
    "```mysql\n",
    "SELECT DISTINCT customer_id FROM payment;\n",
    "```"
   ]
  },
  {
   "cell_type": "markdown",
   "metadata": {},
   "source": [
    "- *What if we have another column, but no aggregate function?*\n",
    "    \n",
    "```mysql\n",
    "SELECT customer_id, amount \n",
    "FROM payment\n",
    "GROUP BY customer_id\n",
    "```"
   ]
  },
  {
   "cell_type": "markdown",
   "metadata": {},
   "source": [
    "- Then, we get the error:\n",
    "\n",
    "```\n",
    "ERROR:  column \"payment.amount\" must appear in the GROUP BY clause or be used in an aggregate function\n",
    "LINE 1: select customer_id, amount \n",
    "                            ^\n",
    "SQL state: 42803\n",
    "Character: 21\n",
    "```"
   ]
  },
  {
   "cell_type": "markdown",
   "metadata": {},
   "source": [
    "#### Example 2 - Total `amount` by `customer_id`\n",
    "\n",
    "```mysql\n",
    "SELECT customer_id, SUM(amount)\n",
    "FROM payment\n",
    "GROUP BY customer_id;\n",
    "```\n",
    "\n",
    "- From this query, we get the total amount spend by each customer"
   ]
  },
  {
   "cell_type": "markdown",
   "metadata": {},
   "source": [
    "- If we had a dataframe `df` with two columns (`customer_id` and `amount`, the pandas equivalent to this query would be:\n",
    "\n",
    "```python\n",
    "df.groupby('customer_id').sum()\n",
    "```"
   ]
  },
  {
   "cell_type": "markdown",
   "metadata": {},
   "source": [
    "#### Example 3 - Total `amount` by `cutomer_id`, ordered by `amount`\n",
    "\n",
    "```mysql\n",
    "SELECT customer_id, SUM(amount)\n",
    "FROM payment\n",
    "GROUP BY customer_id\n",
    "ORDER BY SUM(amount) DESC;\n",
    "```\n",
    "\n",
    "- The result of this query will be the same as the one above, except that the customers will be sorted by total amount"
   ]
  },
  {
   "cell_type": "markdown",
   "metadata": {},
   "source": [
    "#### Example 4 - number of orders processed by `staff_id`\n",
    "\n",
    "```mysql\n",
    "SELECT staff_id, COUNT(payment_id)\n",
    "FROM payment\n",
    "GROUP BY staff_id;\n",
    "```"
   ]
  },
  {
   "cell_type": "markdown",
   "metadata": {},
   "source": [
    "#### Example 5 - number of films by rating category\n",
    "\n",
    "```mysql\n",
    "SELECT rating, COUNT(film_id) \n",
    "FROM film\n",
    "GROUP BY rating;\n",
    "```"
   ]
  },
  {
   "cell_type": "markdown",
   "metadata": {},
   "source": [
    "____\n",
    "\n",
    "# Challenge: GROUP BY\n",
    "\n",
    "#### Challenge 1\n",
    "\n",
    "- We have two staff members with staff IDs 1 and 2\n",
    "    - We want to give a bonus to the staff member that handled the most payments\n",
    "- **How many payments did each staff member handle?**\n",
    "    - **How much was the total amount processed by each staff member?**\n",
    " "
   ]
  },
  {
   "cell_type": "markdown",
   "metadata": {},
   "source": [
    "**Number of payments**\n",
    "\n",
    "```mysql\n",
    "SELECT staff_id, COUNT(payment_id) \n",
    "FROM payment\n",
    "GROUP BY staff_id\n",
    "ORDER BY COUNT(payment_id) DESC;\n",
    "```\n",
    "\n",
    "- Result\n",
    "\n",
    "```\n",
    "2\t\"7304\"\n",
    "1\t\"7292\"\n",
    "```\n",
    "\n",
    "- As we can see, staff ID 2 handled more (wrt count)"
   ]
  },
  {
   "cell_type": "markdown",
   "metadata": {},
   "source": [
    "**Total amount processed**\n",
    "\n",
    "```mysql\n",
    "SELECT staff_id, SUM(amount) \n",
    "FROM payment\n",
    "GROUP BY staff_id\n",
    "ORDER BY SUM(amount) DESC;\n",
    "```\n",
    "\n",
    "\n",
    "- Result\n",
    "\n",
    "```\n",
    "2\t\"31059.92\"\n",
    "1\t\"30252.12\"\n",
    "```\n",
    "\n",
    "- Again, we see that staff ID 2 handled more (wrt amount processed)"
   ]
  },
  {
   "cell_type": "markdown",
   "metadata": {},
   "source": [
    "#### Challenge 2\n",
    "\n",
    "- Corporate headquarters is auditing our store\n",
    "    - **What is the average replacement cost of movies by rating?**\n",
    "    \n",
    "    \n",
    "```mysql\n",
    "SELECT rating, AVG(replacement_cost)\n",
    "from film\n",
    "GROUP BY rating;\n",
    "```"
   ]
  },
  {
   "cell_type": "markdown",
   "metadata": {},
   "source": [
    "#### Challenge 3\n",
    "\n",
    "- We want to send coupons to the 5 customers who have spent the most money\n",
    "    - **Who are these 5 customers?**\n",
    "    \n",
    "```mysql\n",
    "SELECT customer_id, SUM(amount)\n",
    "FROM payment\n",
    "GROUP BY customer_id\n",
    "ORDER BY SUM(amount) DESC\n",
    "LIMIT 5;\n",
    "```"
   ]
  },
  {
   "cell_type": "markdown",
   "metadata": {},
   "source": [
    "____\n",
    "\n",
    "# HAVING\n",
    "\n",
    "- `HAVING` is usually used at the same time as `GROUP BY`\n",
    "    - We want the rows of the grouped table that satisfy the specified condition\n",
    "        - This is essentially the `WHERE` clause, but for grouped queries"
   ]
  },
  {
   "cell_type": "markdown",
   "metadata": {},
   "source": [
    "#### Syntax\n",
    "\n",
    "```mysql\n",
    "SELECT col_1, agg_func(col_2)\n",
    "FROM our_table\n",
    "GROUP BY col_1\n",
    "HAVING our_condition;\n",
    "```"
   ]
  },
  {
   "cell_type": "markdown",
   "metadata": {},
   "source": [
    "#### `WHERE` vs. `HAVING`\n",
    "\n",
    "- The `WHERE` clause is applied to the table **before** the grouping\n",
    "    - The `HAVING` clause is applied **after**"
   ]
  },
  {
   "cell_type": "markdown",
   "metadata": {},
   "source": [
    "#### Example 1 - getting customers who have spent more than 200 dollars\n",
    "\n",
    "```mysql\n",
    "SELECT customer_id, SUM(amount)\n",
    "FROM payment\n",
    "GROUP BY customer_id\n",
    "HAVING SUM(amount) > 200;\n",
    "```"
   ]
  },
  {
   "cell_type": "markdown",
   "metadata": {},
   "source": [
    "#### Example 2 - getting the stores that have more than 300 customers\n",
    "\n",
    "```mysql\n",
    "SELECT store_id, COUNT(customer_id)\n",
    "FROM customer\n",
    "GROUP BY store_id\n",
    "HAVING COUNT(customer_id) > 300;\n",
    "```"
   ]
  },
  {
   "cell_type": "markdown",
   "metadata": {},
   "source": [
    "#### Example 3 - getting the rating categories in the list [R, G, PG] whose average rental rate is less than 3 dollars\n",
    "\n",
    "```mysql\n",
    "SELECT rating, AVG(rental_rate)\n",
    "FROM film\n",
    "WHERE rating IN ('R', 'G', 'PG')\n",
    "GROUP BY rating\n",
    "HAVING AVG(rental_rate)<3;\n",
    "```"
   ]
  },
  {
   "cell_type": "markdown",
   "metadata": {},
   "source": [
    "____\n",
    "\n",
    "# HAVING Challenge\n",
    "\n",
    "#### Challenge 1\n",
    "\n",
    "- We want to know what customers are eligible for our platinum credit card\n",
    "    - Requirement: at least 40 transactions\n",
    "    \n",
    "- **Which customers are eligible?**\n",
    "\n",
    "```mysql\n",
    "SELECT customer_id, COUNT(payment_id)\n",
    "FROM payment\n",
    "GROUP BY customer_id\n",
    "HAVING COUNT(payment_id) >= 40;\n",
    "```"
   ]
  },
  {
   "cell_type": "markdown",
   "metadata": {},
   "source": [
    "#### Challenge 2\n",
    "\n",
    "- **When grouped by rating, which movie ratings have an average rental duration of more than 5 days?**\n",
    "\n",
    "```mysql\n",
    "SELECT rating, AVG(rental_duration)\n",
    "FROM film\n",
    "GROUP BY rating\n",
    "HAVING AVG(rental_duration) > 5;\n",
    "```"
   ]
  }
 ],
 "metadata": {
  "kernelspec": {
   "display_name": "Python 3",
   "language": "python",
   "name": "python3"
  },
  "language_info": {
   "codemirror_mode": {
    "name": "ipython",
    "version": 3
   },
   "file_extension": ".py",
   "mimetype": "text/x-python",
   "name": "python",
   "nbconvert_exporter": "python",
   "pygments_lexer": "ipython3",
   "version": "3.6.8"
  }
 },
 "nbformat": 4,
 "nbformat_minor": 2
}
