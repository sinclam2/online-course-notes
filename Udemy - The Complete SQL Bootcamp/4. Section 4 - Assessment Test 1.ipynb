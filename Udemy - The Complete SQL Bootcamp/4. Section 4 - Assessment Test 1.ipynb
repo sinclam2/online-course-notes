{
 "cells": [
  {
   "cell_type": "markdown",
   "metadata": {},
   "source": [
    "#### 1. Return the customer IDs of customers who have spent at least 110 with the staff member who has an ID of 2"
   ]
  },
  {
   "cell_type": "markdown",
   "metadata": {},
   "source": [
    "```mysql\n",
    "SELECT customer_id, SUM(amount)\n",
    "FROM payment\n",
    "WHERE staff_id = 2\n",
    "GROUP BY customer_id\n",
    "HAVING SUM(amount) >= 110;\n",
    "```"
   ]
  },
  {
   "cell_type": "markdown",
   "metadata": {},
   "source": [
    "#### 2. How many films begin with the letter J?\n",
    "\n",
    "```mysql\n",
    "SELECT COUNT(film) \n",
    "FROM film\n",
    "WHERE title LIKE 'J%';\n",
    "```"
   ]
  },
  {
   "cell_type": "markdown",
   "metadata": {},
   "source": [
    "#### 3. What customer has the highest customer ID number whose name starts with an 'E' and has an address ID lower than 500?"
   ]
  },
  {
   "cell_type": "markdown",
   "metadata": {},
   "source": [
    "```mysql\n",
    "SELECT first_name, last_name, customer_id\n",
    "FROM customer\n",
    "WHERE first_name LIKE 'E%'\n",
    "AND address_id < 500\n",
    "ORDER BY customer_id DESC\n",
    "LIMIT 1;\n",
    "```"
   ]
  }
 ],
 "metadata": {
  "kernelspec": {
   "display_name": "Python 3",
   "language": "python",
   "name": "python3"
  },
  "language_info": {
   "codemirror_mode": {
    "name": "ipython",
    "version": 3
   },
   "file_extension": ".py",
   "mimetype": "text/x-python",
   "name": "python",
   "nbconvert_exporter": "python",
   "pygments_lexer": "ipython3",
   "version": "3.6.8"
  }
 },
 "nbformat": 4,
 "nbformat_minor": 2
}
