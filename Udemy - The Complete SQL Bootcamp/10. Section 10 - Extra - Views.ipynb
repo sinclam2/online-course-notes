{
 "cells": [
  {
   "cell_type": "markdown",
   "metadata": {},
   "source": [
    "# Views\n",
    "\n",
    "- A view is essentially a stored query\n",
    "    - The view doesn't physically store the data, it just points to it"
   ]
  },
  {
   "cell_type": "markdown",
   "metadata": {},
   "source": [
    "- Instead of combining all our queries into one big one, we can use views to simplify the steps\n",
    "- Like a table, you can grant permission to users through a view\n",
    "    - This restricts what the users can see to only what's in the view"
   ]
  },
  {
   "cell_type": "markdown",
   "metadata": {},
   "source": [
    "```mysql\n",
    "CREATE VIEW view_name AS query\n",
    "```"
   ]
  },
  {
   "cell_type": "markdown",
   "metadata": {},
   "source": [
    "## Example\n",
    "\n",
    "- We want to join the important customer information into a single table\n",
    "\n",
    "```mysql\n",
    "CREATE VIEW customer_info AS\n",
    "SELECT first_name, last_name, email, address, phone\n",
    "FROM customer\n",
    "JOIN address\n",
    "on customer.address_id = address.address_id\n",
    "```\n",
    "\n",
    "- When I run this, I won't get any results\n",
    "    - This is because the view has been created\n",
    "    \n",
    "- Now, we can query this view:\n",
    "\n",
    "```mysql\n",
    "SELECT * FROM customer_info\n",
    "```"
   ]
  },
  {
   "cell_type": "markdown",
   "metadata": {},
   "source": [
    "**Renaming the view**\n",
    "\n",
    "```mysql\n",
    "ALTER VIEW customer_info RENAME TO cusomer_master_list\n",
    "```"
   ]
  },
  {
   "cell_type": "markdown",
   "metadata": {},
   "source": [
    "**Removing the view**\n",
    "\n",
    "```mysql\n",
    "DROP VIEW customer_master_list\n",
    "```"
   ]
  }
 ],
 "metadata": {
  "kernelspec": {
   "display_name": "Python 3",
   "language": "python",
   "name": "python3"
  },
  "language_info": {
   "codemirror_mode": {
    "name": "ipython",
    "version": 3
   },
   "file_extension": ".py",
   "mimetype": "text/x-python",
   "name": "python",
   "nbconvert_exporter": "python",
   "pygments_lexer": "ipython3",
   "version": "3.6.8"
  }
 },
 "nbformat": 4,
 "nbformat_minor": 2
}
