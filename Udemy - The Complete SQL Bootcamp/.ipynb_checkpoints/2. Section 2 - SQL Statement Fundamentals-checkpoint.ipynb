{
 "cells": [
  {
   "cell_type": "markdown",
   "metadata": {},
   "source": [
    "# SQL Cheat Sheet\n",
    "\n",
    "![](images/SQL_Cheat_Sheet.png)"
   ]
  },
  {
   "cell_type": "markdown",
   "metadata": {},
   "source": [
    "____\n",
    "\n",
    "# SELECT Statement\n",
    "\n",
    "- Can use `SELECT` or `select`, but using the upper-case version makes it more readable\n",
    "- It is typically not good practice to use *\n",
    "\n",
    "#### Examples\n",
    "\n",
    "```sql\n",
    "SELECT * FROM actor;\n",
    "```\n",
    "\n",
    "- Will return all columns from the `actor` table\n",
    "\n",
    "```sql\n",
    "SELECT first_name, last_name FROM actor;\n",
    "```\n",
    "\n",
    "- Will return the first and last name for each actor in the table"
   ]
  },
  {
   "cell_type": "markdown",
   "metadata": {},
   "source": [
    "____\n",
    "\n",
    "# Challenge: SELECT task\n",
    "\n",
    "```sql\n",
    "SELECT first_name, last_name, email FROM customer;\n",
    "```"
   ]
  },
  {
   "cell_type": "markdown",
   "metadata": {},
   "source": [
    "___\n",
    "\n",
    "# SELECT DISTINCT\n",
    "\n",
    "- If we have a column with repeating values, we can use `DISTINCT` to get only the unique values\n",
    "\n",
    "#### Example\n",
    "\n",
    "```sql\n",
    "SELECT DISTINCT release_year FROM film;\n",
    "```"
   ]
  },
  {
   "cell_type": "markdown",
   "metadata": {},
   "source": [
    "____\n",
    "\n",
    "# Challenge: SELECT DISTINCT\n",
    "\n",
    "```sql\n",
    "select DISTINCT rating from film;\n",
    "```"
   ]
  },
  {
   "cell_type": "markdown",
   "metadata": {},
   "source": [
    "____\n",
    "\n",
    "# SELECT WHERE\n",
    "\n",
    "#### Basic Syntax\n",
    "\n",
    "```sql\n",
    "SELECT col_1, col_2 FROM table WHERE conditions;\n",
    "```"
   ]
  },
  {
   "cell_type": "markdown",
   "metadata": {},
   "source": [
    "#### Basic Operators\n",
    "\n",
    "![](images/Operators.png)"
   ]
  },
  {
   "cell_type": "markdown",
   "metadata": {},
   "source": [
    "#### Example 1 - first name is Jamie\n",
    "\n",
    "```sql\n",
    "SELECT last_name, first_name\n",
    "FROM customer\n",
    "WHERE first_name = 'Jamie';\n",
    "```"
   ]
  },
  {
   "cell_type": "markdown",
   "metadata": {},
   "source": [
    "#### Example 2 - first name is Jamie andf last name is Rice\n",
    "\n",
    "```sql\n",
    "SELECT last_name, first_name\n",
    "FROM customer\n",
    "WHERE first_name = 'Jamie' AND last_name = 'Rice';\n",
    "```"
   ]
  },
  {
   "cell_type": "markdown",
   "metadata": {},
   "source": [
    "#### Example 3 - rental amount is either less than or equal to 1 dollar, or greater than or equal to 8 dollars\n",
    "\n",
    "```sql\n",
    "SELECT customer_id, amount, payment_date\n",
    "FROM payment\n",
    "WHERE amount <= 1 OR amount >=8;\n",
    "```"
   ]
  },
  {
   "cell_type": "markdown",
   "metadata": {},
   "source": [
    "____\n",
    "\n",
    "# Challenge: SELECT WHERE\n",
    "\n",
    "#### Challenge 1: what is the email for the customer with the name Nancy Thomas?\n",
    "\n",
    "```sql\n",
    "SELECT email \n",
    "FROM customer \n",
    "WHERE first_name = 'Nancy' \n",
    "AND last_name = 'Thomas';\n",
    "```\n",
    "\n",
    "##### Result\n",
    "nancy.thomas@saikilacustomer.org"
   ]
  },
  {
   "cell_type": "markdown",
   "metadata": {},
   "source": [
    "#### Challenge 2: what is the description for the movie Outlaw Hanky?\n",
    "\n",
    "```sql\n",
    "SELECT description \n",
    "FROM film\n",
    "WHERE title = 'Outlaw Hanky';\n",
    "```\n",
    "\n",
    "##### Result\n",
    "A Thoughtful Story of a Astronaut And a Composer who must Conquer a Dog in The Sahara Desert"
   ]
  },
  {
   "cell_type": "markdown",
   "metadata": {},
   "source": [
    "#### Challenge 3: what is the phone number for the customer who lives at 259 Ipoh Drive?\n",
    "\n",
    "```sql\n",
    "SELECT phone \n",
    "FROM address \n",
    "WHERE address = '259 Ipoh Drive';\n",
    "```\n",
    "\n",
    "##### Result\n",
    "419009857119"
   ]
  },
  {
   "cell_type": "markdown",
   "metadata": {},
   "source": [
    "___\n",
    "\n",
    "# COUNT\n",
    "\n",
    "- The `COUNT` function returns the number of rows where a condition is TRUE\n",
    "\n",
    "#### Example - number of customers\n",
    "\n",
    "```sql\n",
    "SELECT COUNT(*) FROM customer;\n",
    "```\n",
    "\n",
    "- **Note**: if we specify the count for a specific column, NULL values will not be counted\n",
    "\n",
    "#### Example - number of distinct release years for films\n",
    "\n",
    "```sql\n",
    "SELECT COUNT(DISTINCT year) FROM film;\n",
    "```"
   ]
  },
  {
   "cell_type": "markdown",
   "metadata": {},
   "source": [
    "____\n",
    "\n",
    "# LIMIT\n",
    "\n",
    "- `LIMIT` allows you to limit the number of rows that are returned from a query\n",
    "    - **Note**: this is equivalent to `df.head()` in pandas\n",
    "    \n",
    "#### Example\n",
    "\n",
    "```sql\n",
    "SELECT * FROM customers LIMIT 10;\n",
    "```"
   ]
  },
  {
   "cell_type": "markdown",
   "metadata": {},
   "source": [
    "___\n",
    "\n",
    "# ORDER BY\n",
    "\n",
    "#### Syntax\n",
    "\n",
    "- Ascending\n",
    "\n",
    "```sql\n",
    "SELECT col_1, col_2\n",
    "FROM table_name\n",
    "ORDER BY col_1 ASC;\n",
    "```\n",
    "\n",
    "- Descending\n",
    "\n",
    "```sql\n",
    "SELECT col_1, col_2\n",
    "FROM table_name\n",
    "ORDER BY col_1 DESC;\n",
    "```\n",
    "\n",
    "- **Note**: if we don't specify ascending or descending, the default is ascending\n",
    "\n",
    "#### Example - sorting customers by first name\n",
    "\n",
    "```sql\n",
    "SELECT first_name, last_name FROM customer\n",
    "ORDER BY first_name ASC;\n",
    "```"
   ]
  },
  {
   "cell_type": "markdown",
   "metadata": {},
   "source": [
    "#### Example - sorting customers by first name ascending, then last name descending\n",
    "\n",
    "```sql\n",
    "SELECT first_name, last_name FROM customer\n",
    "ORDER BY first_name ASC, last_name DESC;\n",
    "```\n",
    "\n",
    "- **Note**: in pandas, this is equivalent to:\n",
    "\n",
    "```python\n",
    "df.sort_values(['first_name', 'last_name'], ascending=[True, False])\n",
    "```"
   ]
  },
  {
   "cell_type": "markdown",
   "metadata": {},
   "source": [
    "___\n",
    "\n",
    "# Challenge: ORDER BY\n",
    "\n",
    "#### Challenge 1: get the customer ID numbers for the top 10 highest payment amounts\n",
    "\n",
    "```sql\n",
    "SELECT customer_id, amount\n",
    "FROM payment\n",
    "ORDER BY amount DESC\n",
    "LIMIT 10;\n",
    "```"
   ]
  },
  {
   "cell_type": "markdown",
   "metadata": {},
   "source": [
    "#### Challenge 2: get the titles of the movies with film ids 1-5\n",
    "\n",
    "```sql\n",
    "SELECT title, film_id\n",
    "FROM film\n",
    "ORDER BY film_id ASC\n",
    "LIMIT 5;\n",
    "```"
   ]
  },
  {
   "cell_type": "markdown",
   "metadata": {},
   "source": [
    "____\n",
    "\n",
    "# BETWEEN\n",
    "\n",
    "- We can use `BETWEEN` to check if a value is inside a set\n",
    "\n",
    "#### Syntax\n",
    "\n",
    "```sql\n",
    "value BETWEEN low_val AND high_val\n",
    "```\n",
    "\n",
    "- This is equivalent to the alternative SQL statement\n",
    "\n",
    "```sql\n",
    "value >= low_val and value <= high_val\n",
    "```"
   ]
  },
  {
   "cell_type": "markdown",
   "metadata": {},
   "source": [
    "- We can also use `NOT BETWEEN` to check for values outside the set\n",
    "\n",
    "```sql\n",
    "value NOT BETWEEN low_val AND high_val\n",
    "```\n",
    "\n",
    "- This is equivalent to\n",
    "\n",
    "```sql\n",
    "value < low_val or value > high_val\n",
    "```"
   ]
  },
  {
   "cell_type": "markdown",
   "metadata": {},
   "source": [
    "#### Example - payment amount is between 8 and 9 dollars\n",
    "\n",
    "```sql\n",
    "SELECT customer_id, amount\n",
    "FROM payment\n",
    "WHERE amount BETWEEN 8 AND 9;\n",
    "```"
   ]
  },
  {
   "cell_type": "markdown",
   "metadata": {},
   "source": [
    "#### Example - payment date is between 2007/02/07 and 2007/02/15\n",
    "\n",
    "```sql\n",
    "SELECT amount, payment_date\n",
    "FROM payment\n",
    "WHERE payment_date BETWEEN '2007-02-07' AND '2007-02-15';\n",
    "```"
   ]
  },
  {
   "cell_type": "markdown",
   "metadata": {},
   "source": [
    "___\n",
    "\n",
    "# IN\n",
    "\n",
    "- We can use the `IN` operator to check if values are inside a list\n",
    "\n",
    "#### Syntax\n",
    "\n",
    "```sql\n",
    "value IN (val_1, val_2, val_3,...)\n",
    "```"
   ]
  },
  {
   "cell_type": "markdown",
   "metadata": {},
   "source": [
    "- We don't need to explicitly write down each value\n",
    "    - We use a query\n",
    "    \n",
    "```sql\n",
    "value IN (SELECT DISTINCT col FROM tbl_name)\n",
    "```"
   ]
  },
  {
   "cell_type": "markdown",
   "metadata": {},
   "source": [
    "#### Example - get rows where the customer ID is either 1 or 2, order by return date\n",
    "\n",
    "```sql\n",
    "SELECT customer_id, rental_id, return_date\n",
    "FROM rental\n",
    "WHERE customer_id in (1,2)\n",
    "ORDER BY return_date DESC;\n",
    "```"
   ]
  },
  {
   "cell_type": "markdown",
   "metadata": {},
   "source": [
    "____\n",
    "\n",
    "# LIKE\n",
    "\n",
    "#### Motivating example\n",
    "\n",
    "- Let's say we want to find a customer whose first name starts with 'Jen'\n",
    "    - Her name could be Jenny, Jennifer, Jenga, etc.\n",
    "- It would be a major pain to manually look through the names to find the customer\n",
    "    - Instead, we can just query the names using the `LIKE` operator\n",
    "    \n",
    "```sql\n",
    "SELECT first_name, last_name \n",
    "FROM customer\n",
    "WHERE first_name LIKE 'Jen%';\n",
    "```\n",
    "\n",
    "- Here, the % symbol is a wild card meaning anything can come after it\n",
    "    - This technique is called **pattern matching**"
   ]
  },
  {
   "cell_type": "markdown",
   "metadata": {},
   "source": [
    "- % is used to match any sequence of characters\n",
    "- _ is used to match a single character"
   ]
  },
  {
   "cell_type": "markdown",
   "metadata": {},
   "source": [
    "#### Example - customer name ends with a y\n",
    "\n",
    "```sql\n",
    "SELECT first_name, last_name \n",
    "FROM customer\n",
    "WHERE first_name LIKE '%y';\n",
    "```"
   ]
  },
  {
   "cell_type": "markdown",
   "metadata": {},
   "source": [
    "#### Example - customer name contains er\n",
    "\n",
    "```sql\n",
    "SELECT first_name, last_name \n",
    "FROM customer\n",
    "WHERE first_name LIKE '%er%';\n",
    "```"
   ]
  },
  {
   "cell_type": "markdown",
   "metadata": {},
   "source": [
    "#### Example - customer name contains er, but with only one charater preceding it\n",
    "\n",
    "- For example, Theresa would satisfy this condition since the only character preceding the 'er' is 'T'\n",
    "    - Heather would not satisfy it since there are many letters before er\n",
    "\n",
    "```sql\n",
    "SELECT first_name, last_name \n",
    "FROM customer\n",
    "WHERE first_name LIKE '_er%';\n",
    "```"
   ]
  },
  {
   "cell_type": "markdown",
   "metadata": {},
   "source": [
    "- **Note:** if we don't want our `LIKE` statement to be case sensitive, we can use `ILIKE`"
   ]
  },
  {
   "cell_type": "markdown",
   "metadata": {},
   "source": [
    "___\n",
    "\n",
    "# General Challenge\n",
    "\n",
    "#### Challenge 1 - how many payment transactions were greater than 5.00?\n",
    "\n",
    "```sql\n",
    "SELECT COUNT(DISTINCT payment_id) \n",
    "FROM payment \n",
    "WHERE amount > 5;\n",
    "```\n",
    "\n",
    "##### Result\n",
    "\n",
    "3618"
   ]
  },
  {
   "cell_type": "markdown",
   "metadata": {},
   "source": [
    "#### Challenge 2 - how many actors have a first name that starts with the letter P?\n",
    "\n",
    "```sql\n",
    "SELECT COUNT(first_name) \n",
    "FROM actor \n",
    "WHERE first_name LIKE 'P%';\n",
    "```\n",
    "\n",
    "##### Result\n",
    "\n",
    "5"
   ]
  },
  {
   "cell_type": "markdown",
   "metadata": {},
   "source": [
    "#### Challenge 3 - how many unique districts are our customers from?\n",
    "\n",
    "```sql\n",
    "SELECT COUNT(DISTINCT district) \n",
    "FROM address;\n",
    "```\n",
    "\n",
    "##### Result\n",
    "\n",
    "378"
   ]
  },
  {
   "cell_type": "markdown",
   "metadata": {},
   "source": [
    "#### Challenge 4 - get the list of distinct district names\n",
    "\n",
    "```sql\n",
    "SELECT DISTINCT district\n",
    "FROM address;\n",
    "```"
   ]
  },
  {
   "cell_type": "markdown",
   "metadata": {},
   "source": [
    "#### Challenge 5 - how many films have a rating of R and a replacement cost between 5 and 15 dollars?\n",
    "\n",
    "```sql\n",
    "SELECT COUNT(*)\n",
    "FROM film\n",
    "WHERE rating = 'R'\n",
    "AND replacement_cost BETWEEN 5 AND 15;\n",
    "```\n",
    "\n",
    "##### Result\n",
    "\n",
    "52"
   ]
  },
  {
   "cell_type": "markdown",
   "metadata": {},
   "source": [
    "#### Challenge 6 - how many films have the word Truman somewhere in the title?\n",
    "\n",
    "```sql\n",
    "SELECT COUNT(*)\n",
    "FROM film\n",
    "WHERE title LIKE '%Truman%';\n",
    "```\n",
    "\n",
    "##### Result\n",
    "\n",
    "5"
   ]
  }
 ],
 "metadata": {
  "kernelspec": {
   "display_name": "Python 3",
   "language": "python",
   "name": "python3"
  },
  "language_info": {
   "codemirror_mode": {
    "name": "ipython",
    "version": 3
   },
   "file_extension": ".py",
   "mimetype": "text/x-python",
   "name": "python",
   "nbconvert_exporter": "python",
   "pygments_lexer": "ipython3",
   "version": "3.6.8"
  }
 },
 "nbformat": 4,
 "nbformat_minor": 2
}
