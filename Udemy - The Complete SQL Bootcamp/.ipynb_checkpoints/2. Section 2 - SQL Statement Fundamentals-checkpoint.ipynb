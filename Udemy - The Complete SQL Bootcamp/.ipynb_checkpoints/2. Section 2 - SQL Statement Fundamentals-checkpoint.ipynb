{
 "cells": [
  {
   "cell_type": "markdown",
   "metadata": {},
   "source": [
    "# SQL Cheat Sheet\n",
    "\n",
    "![](images/SQL_Cheat_Sheet.png)"
   ]
  },
  {
   "cell_type": "markdown",
   "metadata": {},
   "source": [
    "____\n",
    "\n",
    "# SELECT Statement\n",
    "\n",
    "- Can use `SELECT` or `select`, but using the upper-case version makes it more readable\n",
    "- It is typically not good practice to use *\n",
    "\n",
    "#### Examples\n",
    "\n",
    "```sql\n",
    "SELECT * FROM actor;\n",
    "```\n",
    "\n",
    "- Will return all columns from the `actor` table\n",
    "\n",
    "```sql\n",
    "SELECT first_name, last_name FROM actor;\n",
    "```\n",
    "\n",
    "- Will return the first and last name for each actor in the table"
   ]
  },
  {
   "cell_type": "markdown",
   "metadata": {},
   "source": [
    "____\n",
    "\n",
    "# Challenge: SELECT task\n",
    "\n",
    "```sql\n",
    "SELECT first_name, last_name, email FROM customer;\n",
    "```"
   ]
  }
 ],
 "metadata": {
  "kernelspec": {
   "display_name": "Python 3",
   "language": "python",
   "name": "python3"
  },
  "language_info": {
   "codemirror_mode": {
    "name": "ipython",
    "version": 3
   },
   "file_extension": ".py",
   "mimetype": "text/x-python",
   "name": "python",
   "nbconvert_exporter": "python",
   "pygments_lexer": "ipython3",
   "version": "3.6.8"
  }
 },
 "nbformat": 4,
 "nbformat_minor": 2
}
