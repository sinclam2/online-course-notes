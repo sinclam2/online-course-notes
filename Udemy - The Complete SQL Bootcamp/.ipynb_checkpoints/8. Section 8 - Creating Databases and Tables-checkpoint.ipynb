{
 "cells": [
  {
   "cell_type": "markdown",
   "metadata": {},
   "source": [
    "# Overview\n",
    "\n",
    "1. Start by understanding\n",
    "    - Data Types\n",
    "    - Primary Keys\n",
    "    - Foreign Keys\n",
    "2. Practice creating tables and manipulating data inside them\n",
    "3. Learn to manipulate entire tables\n",
    "4. Take a more in-depth view of contraint concepts"
   ]
  },
  {
   "cell_type": "markdown",
   "metadata": {},
   "source": [
    "____\n",
    "\n",
    "# Data Types\n",
    "\n",
    "- PostgreSQL supports the following data types:\n",
    "    1. Boolean (TRUE or FALSE)\n",
    "    2. Character (i.e. string)\n",
    "    3. Number (i.e. float or int)\n",
    "    4. Temporal (i.e. date or time unit)\n",
    "    5. Special types (e.g. geometric)\n",
    "    6. Array (e.g. [0, 1, 2, 3, 4])"
   ]
  },
  {
   "cell_type": "markdown",
   "metadata": {},
   "source": [
    "- We specify the data type so that no one can add the wrong data type to a column\n",
    "    - E.g. if we have a column of street names, we don't want someone to be able to add a date into the column"
   ]
  },
  {
   "cell_type": "markdown",
   "metadata": {},
   "source": [
    "## 1. Boolean\n",
    "\n",
    "- When we input the values, PostgreSQL will convert them to the correct form:\n",
    "    - 1, yes, Y, t, and true are all converted to TRUE\n",
    "    - 0, no, N, f, and false are all converted to FALSE\n",
    "    - a blank space is converted to NULL"
   ]
  },
  {
   "cell_type": "markdown",
   "metadata": {},
   "source": [
    "## 2. Character\n",
    "\n",
    "- There are 3 subtypes of the character data type:\n",
    "    1. `char`\n",
    "        - A single character\n",
    "        - E.g. 'a'\n",
    "    2. `char(n)`\n",
    "        - A fixed-length character string\n",
    "        - E.g. 'alabama'\n",
    "        - **Notes**: \n",
    "            - if we try to insert a string that *isn't long enough*, the missing characters will be input as spaces\n",
    "            - if we try to insert a string that *is too long*, we'll get an error\n",
    "    3. `varchar(n)`\n",
    "        - A string of up to n-characters in length\n",
    "        - **Note**:\n",
    "            - if we try to insert a string that is less than n characters long, the missing characters **won't** be input as spaces\n",
    "            - if we try to insert a string that is more than n characters long, we'll get an error"
   ]
  },
  {
   "cell_type": "markdown",
   "metadata": {},
   "source": [
    "## 3. Number\n",
    "\n",
    "- There are 2 subtypes of the number data type\n",
    "    1. `int`\n",
    "        - integers\n",
    "        - E.g. 1, 2, 3, ...\n",
    "    2. `float`\n",
    "        - floating-point numbers\n",
    "        - E.g. 3.14, 18.181818181\n",
    "        \n",
    "### Types of integers\n",
    "        \n",
    "#### 3.1.1 - `smallint`\n",
    "\n",
    "- These are 2-byte sized integers\n",
    "- Must be between -32,768 and 32,767\n",
    "\n",
    "#### 3.1.2 - `int`\n",
    "\n",
    "- These are 4-byte sized integers\n",
    "- Must be between -214,783,648 and 214,783,647\n",
    "\n",
    "#### 3.1.3 - `serial`\n",
    "\n",
    "- This keeps a running tally of the values\n",
    "\n",
    "### Types of floating-point numbers\n",
    "\n",
    "#### 3.2.1 - `float(n)`\n",
    "\n",
    "- Has precision of at least n\n",
    "    - **Note**: the maximum possible value for n is 8\n",
    "    \n",
    "#### 3.2.2 - `real` (or `float8`)\n",
    "\n",
    "- These are 8-byte sized floats\n",
    "    - A.k.a. double precision\n",
    "    \n",
    "#### 3.2.3 - `numeric` (or `numeric(p,s)`)\n",
    "\n",
    "- These are real numbers with p digits where s are after the decimal point\n",
    "- **Note**: if we want the number to be as exact as possible (minimal rounding), we'd use numeric(p,)"
   ]
  },
  {
   "cell_type": "markdown",
   "metadata": {},
   "source": [
    "## 4. Temporal\n",
    "\n",
    "1. `date`\n",
    "    - Stores an actual date\n",
    "    - E.g. '2019-07-22'\n",
    "2. `time`\n",
    "    - Stores time data\n",
    "    - E.g. '7:00:03'\n",
    "3. `timestamp`\n",
    "    - Combination of date and time\n",
    "    - E.g. '2019-07-22:07:00:03'\n",
    "4. `interval`\n",
    "    - Stores the difference between time stamps\n",
    "    - E.g. 'INTERVAL ‘23:06:5.5’ HOUR TO SECOND'\n",
    "5. `timestamptz`\n",
    "    - Stores both the timestamp and timezone data"
   ]
  },
  {
   "cell_type": "markdown",
   "metadata": {},
   "source": [
    "____\n",
    "\n",
    "# Primary Keys and Foreign Keys"
   ]
  },
  {
   "cell_type": "markdown",
   "metadata": {},
   "source": [
    "## Primary Key\n",
    "\n",
    "- A column (or group of columns) used to identify a specific row in a table\n",
    "- Primary keys are defined using primary key contraints\n",
    "- A table can **only have one primary key**\n",
    "    - It is good practice to ensure that each table has a primary key\n",
    "- When you add a primary key to a table, PostgreSQL creates a unique index on the column(s)"
   ]
  },
  {
   "cell_type": "markdown",
   "metadata": {},
   "source": [
    "**Example**\n",
    "\n",
    "- In the customer table, we had columns customer_id, first_name, and last_name\n",
    "    - The primary key for this table was the customer_id\n",
    "        - No two customers had the same id\n",
    "        \n",
    "- **Note**: a lot of the time, we'll use a serial data type for our primary key (since it auto-increments)"
   ]
  },
  {
   "cell_type": "markdown",
   "metadata": {},
   "source": [
    "- Usually, we create the primary key while we're creating the table\n",
    "    - We create the table using the `create table` statement:\n",
    "    \n",
    "```mysql\n",
    "CREATE TABLE table_name (\n",
    "    col_1 data_type_1 PRIMARY KEY, \n",
    "    col_2 data_type_2\n",
    ")\n",
    "```"
   ]
  },
  {
   "cell_type": "markdown",
   "metadata": {},
   "source": [
    "## Foreign Key\n",
    "\n",
    "- A field (or group of fields) used to identify a specific row **in another table**\n",
    "    - i.e. a foreign key *refers to the primary key of another table*\n",
    "- A table that contains a foreign key is called a **referencing table** (or a **child table**)\n",
    "    - The table that the foreign key is referencing is called a **referenced table** (or a **parent table**)"
   ]
  },
  {
   "cell_type": "markdown",
   "metadata": {},
   "source": [
    "- **Note**: a table can have multiple foreign keys\n",
    "    - It all depends on its relationships with other tables"
   ]
  },
  {
   "cell_type": "markdown",
   "metadata": {},
   "source": [
    "**Example**\n",
    "\n",
    "- Consider the payment table and the customer table\n",
    "    - The payment table has a primary key that identifies a specific transaction\n",
    "    - The payment table also has a foreign key that references the specific customer that corresponds to the transaction\n",
    "        - So, the primary key of the customer table (the customer id) is the foreign key of the payment table"
   ]
  },
  {
   "cell_type": "markdown",
   "metadata": {},
   "source": [
    "- Foreign keys are defined through foreign key constraints\n",
    "    - These contraints specify the values in a column of the parent table\n",
    "- **Note**: we say that a foreign key constraint maintains *referential integrity* between child and parent tables"
   ]
  },
  {
   "cell_type": "markdown",
   "metadata": {},
   "source": [
    "___\n",
    "\n",
    "# Create Table\n",
    "\n",
    "```mysql\n",
    "CREATE TABLE table_name\n",
    "(col_name TYPE column_constraint,\n",
    "table_constraint)\n",
    "INHERITS existing_table_name\n",
    "```\n",
    "\n",
    "**Outline of steps**\n",
    "\n",
    "1. Specify table name\n",
    "2. Define each column with its\n",
    "    - name\n",
    "    - data type\n",
    "    - contraint\n",
    "3. Specify any table constraints\n",
    "4. Specify any existing table that the new table inherits\n",
    "    - This means that the new table gets all the same columns with their respective properties"
   ]
  },
  {
   "cell_type": "markdown",
   "metadata": {},
   "source": [
    "## PostgreSQL Column Constraints\n",
    "\n",
    "1. `NOT NULL`\n",
    "    - Column can't contain any blank values\n",
    "2. `UNIQUE`\n",
    "    - The same value can't be in the column more than once\n",
    "\n",
    "\n",
    "- **Note**: in postgreSQL, each null value is considered distinct\n",
    "    - This means that a column with all blank value will satisfy the condition that the same value isn't repeated\n",
    "        - This isn't consistent with normal SQL"
   ]
  },
  {
   "cell_type": "markdown",
   "metadata": {},
   "source": [
    "3. `PRIMARY KEY`\n",
    "    - This combines:\n",
    "        - `NOT NULL`\n",
    "        - `UNIQUE`\n",
    "\n",
    "\n",
    "- **Note**: if we want a single column to be our primary key, we can use this column constraint\n",
    "    - If we want multiple columns to be our primary key, we need to use a **table constraint**"
   ]
  },
  {
   "cell_type": "markdown",
   "metadata": {},
   "source": [
    "3. `CHECK`\n",
    "    - We can use this constraint to check a condition we define\n",
    "        - E.g. if we have a price column, we can check that all price values are positive\n",
    "4. `REFERENCES`\n",
    "    - Contains a value from a column of another table\n",
    "    - This specifies the foreign key constraint"
   ]
  },
  {
   "cell_type": "markdown",
   "metadata": {},
   "source": [
    "## PostgreSQL Table Constraints\n",
    "\n",
    "- These are similar to the column constraints, except they apply to the whole table\n",
    "\n",
    "\n",
    "1. `UNIQUE (column_list)`\n",
    "    - No duplicate values in the columns listed\n",
    "2. `PRIMARY KEY (column_list)`\n",
    "    - Uses multiple columns to define the primary key of the table\n",
    "3. `CHECK (condition)`\n",
    "    - Applies the condition check to the entire table\n",
    "4. `REFERENCES`\n",
    "    - Constrains values stored in the column that must exist in a column in another table"
   ]
  },
  {
   "cell_type": "markdown",
   "metadata": {},
   "source": [
    "## Example\n",
    "\n",
    "### 1. Account table\n",
    "\n",
    "**Columns**\n",
    "\n",
    "1. `user_id`\n",
    "    - This is our primary key, so we simply want an integer\n",
    "        - For this, we'll use the serial data type\n",
    "2. `username`\n",
    "    - For this, we want a distinct string that is not blank and unique\n",
    "3. `password`\n",
    "    - This can be a string, and can't be blank\n",
    "4. `email`\n",
    "    - We need each email to be distinct, and can't be blank\n",
    "5. `created_on`\n",
    "    - This will be a time stamp, and can't be blank\n",
    "6. `last_login`\n",
    "    - This is a time stamp without any constraints\n",
    "    \n",
    "**Creating the table**\n",
    "\n",
    "```mysql\n",
    "CREATE TABLE account(\n",
    "    user_id serial PRIMARY KEY,\n",
    "    username VARCHAR(50) UNIQUE NOT NULL,\n",
    "    password VARCHAR(50) NOT NULL,\n",
    "    email VARCHAR(355) UNIQUE NOT NULL\n",
    "    created_on TIMESTAMP NOT NULL,\n",
    "    last_login TIMESTAMP)\n",
    "```"
   ]
  },
  {
   "cell_type": "markdown",
   "metadata": {},
   "source": [
    "### 2. Role table\n",
    "\n",
    "**Columns**\n",
    "\n",
    "1. `role_id`\n",
    "    - This is just the primary key of the table\n",
    "        - As above for the `user_id`, we use series with the primary key constraint\n",
    "2. `role_name`\n",
    "    - This is the actual title for the role, so we'll use a string of limit 255 characters\n",
    "    - Our constraints will be that it's unique, and not blank\n",
    "\n",
    "```mysql\n",
    "CREATE TABLE role(\n",
    "    role_id serial PRIMARY KEY,\n",
    "    role_name VARCHAR(255) UNIQUE NOT NULL)\n",
    "```"
   ]
  },
  {
   "cell_type": "markdown",
   "metadata": {},
   "source": [
    "### 3. Account role table\n",
    "\n",
    "```mysql\n",
    "CREATE TABLE account_role(\n",
    "    user_id integer NOT NULL,\n",
    "    role_id integer NOT NULL,\n",
    "    grant_date timestamp without time zone,\n",
    "    PRIMARY KEY (user_id, role_id))\n",
    "```"
   ]
  },
  {
   "cell_type": "markdown",
   "metadata": {},
   "source": [
    "____\n",
    "\n",
    "# Challenge: Create Table\n",
    "\n",
    "- Create a table to organize our potential leads! We will have the following information:\n",
    "    - A customer's first name, last name, email, sign-up date, and number of minutes spent on the dvd rental site\n",
    "        - You should also have some sort of id tracker for them"
   ]
  },
  {
   "cell_type": "markdown",
   "metadata": {},
   "source": [
    "**My solution**\n",
    "\n",
    "```mysql\n",
    "CREATE TABLE potential_leads(\n",
    "    lead_id serial PRIMARY KEY,\n",
    "    first_name VARCHAR(50) NOT NULL,\n",
    "    last_name VARCHAR(50) NOT NULL,\n",
    "    email VARCHAR(50) UNIQUE NOT NULL,\n",
    "    sign_up_date TIMESTAMP NOT NULL,\n",
    "    n_minutes_on_site integer NOT NULL)\n",
    "```"
   ]
  },
  {
   "cell_type": "markdown",
   "metadata": {},
   "source": [
    "____\n",
    "\n",
    "# INSERT\n",
    "\n",
    "- When we create a new table, it's empty\n",
    "    - We use insert to add rows to the table\n",
    "    \n",
    "```mysql\n",
    "INSERT INTO table_name(col_1, col_2, ...)\n",
    "VALUES (val_1, val_2, ...)\n",
    "```"
   ]
  },
  {
   "cell_type": "markdown",
   "metadata": {},
   "source": [
    "- If we want to insert data from another table, we use `INSERT INTO SELECT` as follows:\n",
    "\n",
    "```mysql\n",
    "INSERT INTO new_table_name\n",
    "SELECT col_1, col_2\n",
    "FROM existing_table_name\n",
    "WHERE condition\n",
    "```"
   ]
  },
  {
   "cell_type": "markdown",
   "metadata": {},
   "source": [
    "## Example\n",
    "\n",
    "- First, we'll create a new table\n",
    "\n",
    "```mysql\n",
    "CREATE TABLE link(\n",
    "    ID serial PRIMARY KEY,\n",
    "    url VARCHAR(255) NOT NULL,\n",
    "    name VARCHAR(255) NOT NULL,\n",
    "    description VARCHAR(255),\n",
    "    rel VARCHAR(50))\n",
    "```"
   ]
  },
  {
   "cell_type": "markdown",
   "metadata": {},
   "source": [
    "- Next, we'll insert a new row\n",
    "\n",
    "```mysql\n",
    "INSERT INTO link(url,name)\n",
    "VALUES\n",
    "('www.google.com', 'Google')\n",
    "```"
   ]
  },
  {
   "cell_type": "markdown",
   "metadata": {},
   "source": [
    "- We only specified the url and the name\n",
    "    - We didn't specify the ID, the description, or the rel value\n",
    "        - The ID value will be populated automatically since it's a serial data type\n",
    "        - The description and rel columns don't have the `NOT NULL` constraint, so they'll be blank"
   ]
  },
  {
   "cell_type": "markdown",
   "metadata": {},
   "source": [
    "- Next, we insert several rows at once\n",
    "\n",
    "```mysql\n",
    "INSERT INTO link (url, name)\n",
    "VALUES\n",
    "('www.bing.com', 'Bing'),\n",
    "('www.amazon.com', 'Amazon')\n",
    "```"
   ]
  },
  {
   "cell_type": "markdown",
   "metadata": {},
   "source": [
    "- Finally, let's try creating another table, and filling it with data from the link table\n",
    "\n",
    "```mysql\n",
    "CREATE TABLE link_copy(LIKE link)\n",
    "```"
   ]
  },
  {
   "cell_type": "markdown",
   "metadata": {},
   "source": [
    "```mysql\n",
    "INSERT INTO link_copy\n",
    "SELECT * FROM link\n",
    "WHERE name = 'Bing'\n",
    "```"
   ]
  },
  {
   "cell_type": "markdown",
   "metadata": {},
   "source": [
    "____\n",
    "\n",
    "# UPDATE\n",
    "\n",
    "- We use `UPDATE` to modify data already in the table\n",
    "\n",
    "```mysql\n",
    "UPDATE table_name\n",
    "SET col_1 = val_1,\n",
    "    col_2 = val_2\n",
    "WHERE condition\n",
    "```"
   ]
  },
  {
   "cell_type": "markdown",
   "metadata": {},
   "source": [
    "## Example\n",
    "\n",
    "- We'll use the link table we made earlier\n",
    "    - We previously hadn't added a description yet for any of the sites we added\n",
    "    \n",
    "**Setting each description (which is currently NULL) to 'Empty Description'**\n",
    "\n",
    "```mysql\n",
    "UPDATE link\n",
    "SET description = 'Empty Description'\n",
    "```\n",
    "\n",
    "- Now, every row will have this value (since we didn't set any conditions)"
   ]
  },
  {
   "cell_type": "markdown",
   "metadata": {},
   "source": [
    "**Updating rows based on a condition**\n",
    "\n",
    "- Here, we'll change the description for the rows whose name value starts with the letter A\n",
    "\n",
    "```mysql\n",
    "UPDATE link\n",
    "SET description = 'Name starts with an A'\n",
    "WHERE name LIKE 'A%'\n",
    "```"
   ]
  },
  {
   "cell_type": "markdown",
   "metadata": {},
   "source": [
    "**Copying one column's values into another**\n",
    "\n",
    "```mysql\n",
    "UPDATE link\n",
    "SET description = name\n",
    "```\n",
    "\n",
    "- Now, each row's description will be the same as its name"
   ]
  },
  {
   "cell_type": "markdown",
   "metadata": {},
   "source": [
    "**Updating the table, and seeing the updated rows**\n",
    "\n",
    "- We can use `RETURNING` to see our changes after the query runs\n",
    "\n",
    "```mysql\n",
    "UPDATE link\n",
    "SET description\n",
    "WHERE id = 1\n",
    "RETURNING id, url, name, description\n",
    "```"
   ]
  },
  {
   "cell_type": "markdown",
   "metadata": {},
   "source": [
    "____\n",
    "\n",
    "# DELETE\n",
    "\n",
    "```mysql\n",
    "DELETE FROM table_name\n",
    "WHERE condition\n",
    "```"
   ]
  },
  {
   "cell_type": "markdown",
   "metadata": {},
   "source": [
    "- After we run the delete statement, it returns the number of rows deleted\n",
    "    - If no rows are deleted (i.e. no rows matched our condition), then it'll return 0\n",
    "    \n",
    "## Example\n",
    "\n",
    "**Delete any row where the name of the row starts with the letter B**\n",
    "\n",
    "```mysql\n",
    "DELETE FROM link\n",
    "WHERE name LIKE 'B%'\n",
    "```\n",
    "\n",
    "- Since our table has two rows that satisfy the condition (b.com and bing.com), this will return a value of 2"
   ]
  },
  {
   "cell_type": "markdown",
   "metadata": {},
   "source": [
    "**Delete a.com, except we'll use RETURNING to see the result**\n",
    "\n",
    "```mysql\n",
    "DELETE FROM link\n",
    "WHERE name = 'A'\n",
    "RETURNING *\n",
    "```\n",
    "\n",
    "- This will return the row that we deleted"
   ]
  },
  {
   "cell_type": "markdown",
   "metadata": {},
   "source": [
    "____\n",
    "\n",
    "# ALTER TABLE\n",
    "\n",
    "- We can use this function to change the structure for a table that already exists in our database\n",
    "\n",
    "```mysql\n",
    "ALTER TABLE table_name action\n",
    "```"
   ]
  },
  {
   "cell_type": "markdown",
   "metadata": {},
   "source": [
    "- The keywords we'll use are:\n",
    "    1. `ADD COLUMN`\n",
    "    2. `DROP COLUMN`\n",
    "    3. `RENAME COLUMN`\n",
    "    4. `ADD CONSTRAINT`\n",
    "    5. `RENAME TO`"
   ]
  },
  {
   "cell_type": "markdown",
   "metadata": {},
   "source": [
    "**Creating a new link table to work with**\n",
    "\n",
    "```mysql\n",
    "CREATE TABLE link(\n",
    "    link_id serial PRIMARY KEY,\n",
    "    title VARCHAR(512) NOT NULL,\n",
    "    url VARCHAR(1024) NOT NULL UNIQUE\n",
    "```"
   ]
  },
  {
   "cell_type": "markdown",
   "metadata": {},
   "source": [
    "## Example - `ADD COLUMN`\n",
    "\n",
    "- Adding a TRUE/FALSE column called 'active'\n",
    "\n",
    "```mysql\n",
    "ALTER TABLE link ADD COLUMN active boolean\n",
    "```"
   ]
  },
  {
   "cell_type": "markdown",
   "metadata": {},
   "source": [
    "## Example - `DROP COLUMN`\n",
    "\n",
    "- Removing the 'active' column we just added\n",
    "\n",
    "```mysql\n",
    "ALTER TABLE link DROP COLUMN active\n",
    "```"
   ]
  },
  {
   "cell_type": "markdown",
   "metadata": {},
   "source": [
    "## Example - `RENAME COLUMN`\n",
    "\n",
    "- Renaming the `title` column to `name`\n",
    "\n",
    "```mysql\n",
    "ALTER TABLE link COLUMN title TO name\n",
    "```"
   ]
  },
  {
   "cell_type": "markdown",
   "metadata": {},
   "source": [
    "## Example - `RENAME TO`\n",
    "\n",
    "- Renaming the entire table from 'link' to 'url_table'\n",
    "\n",
    "```mysql\n",
    "ALTER TABLE link RENAME TO url_table\n",
    "```"
   ]
  },
  {
   "cell_type": "markdown",
   "metadata": {},
   "source": [
    "____\n",
    "\n",
    "# DROP TABLE\n",
    "\n",
    "- We use this command to remove an existing table from the database\n",
    "\n",
    "```mysql\n",
    "DROP TABLE table_name\n",
    "```\n",
    "\n",
    "- If we want to avoid errors if the table doesn't exist, we can use the optional IF EXISTS statement\n",
    "\n",
    "```mysql\n",
    "DROP TABLE IF EXISTS table_name\n",
    "```"
   ]
  },
  {
   "cell_type": "markdown",
   "metadata": {},
   "source": [
    "- If we want to remove the option we drop a table if there's another table that's dependent on it, we can add the RESTRICT keyword\n",
    "\n",
    "```mysql\n",
    "DROP TABLE table_name RESTRICT\n",
    "```"
   ]
  },
  {
   "cell_type": "markdown",
   "metadata": {},
   "source": [
    "- If we want to delete a table, **along with all tables that depend on it**, we can use the CASCADE keyword\n",
    "\n",
    "```mysql\n",
    "DROP TABLE table_name CASCADE\n",
    "```"
   ]
  }
 ],
 "metadata": {
  "kernelspec": {
   "display_name": "Python 3",
   "language": "python",
   "name": "python3"
  },
  "language_info": {
   "codemirror_mode": {
    "name": "ipython",
    "version": 3
   },
   "file_extension": ".py",
   "mimetype": "text/x-python",
   "name": "python",
   "nbconvert_exporter": "python",
   "pygments_lexer": "ipython3",
   "version": "3.6.8"
  }
 },
 "nbformat": 4,
 "nbformat_minor": 2
}
