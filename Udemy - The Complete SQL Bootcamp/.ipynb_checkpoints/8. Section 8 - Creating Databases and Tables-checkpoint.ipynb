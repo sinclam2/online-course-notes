{
 "cells": [
  {
   "cell_type": "markdown",
   "metadata": {},
   "source": [
    "# Overview\n",
    "\n",
    "1. Start by understanding\n",
    "    - Data Types\n",
    "    - Primary Keys\n",
    "    - Foreign Keys\n",
    "2. Practice creating tables and manipulating data inside them\n",
    "3. Learn to manipulate entire tables\n",
    "4. Take a more in-depth view of contraint concepts"
   ]
  },
  {
   "cell_type": "markdown",
   "metadata": {},
   "source": [
    "____\n",
    "\n",
    "# Data Types\n",
    "\n",
    "- PostgreSQL supports the following data types:\n",
    "    1. Boolean (TRUE or FALSE)\n",
    "    2. Character (i.e. string)\n",
    "    3. Number (i.e. float or int)\n",
    "    4. Temporal (i.e. date or time unit)\n",
    "    5. Special types (e.g. geometric)\n",
    "    6. Array (e.g. [0, 1, 2, 3, 4])"
   ]
  },
  {
   "cell_type": "markdown",
   "metadata": {},
   "source": [
    "- We specify the data type so that no one can add the wrong data type to a column\n",
    "    - E.g. if we have a column of street names, we don't want someone to be able to add a date into the column"
   ]
  },
  {
   "cell_type": "markdown",
   "metadata": {},
   "source": [
    "## 1. Boolean\n",
    "\n",
    "- When we input the values, PostgreSQL will convert them to the correct form:\n",
    "    - 1, yes, Y, t, and true are all converted to TRUE\n",
    "    - 0, no, N, f, and false are all converted to FALSE\n",
    "    - a blank space is converted to NULL"
   ]
  },
  {
   "cell_type": "markdown",
   "metadata": {},
   "source": [
    "## 2. Character\n",
    "\n",
    "- There are 3 subtypes of the character data type:\n",
    "    1. `char`\n",
    "        - A single character\n",
    "        - E.g. 'a'\n",
    "    2. `char(n)`\n",
    "        - A fixed-length character string\n",
    "        - E.g. 'alabama'\n",
    "        - **Notes**: \n",
    "            - if we try to insert a string that *isn't long enough*, the missing characters will be input as spaces\n",
    "            - if we try to insert a string that *is too long*, we'll get an error\n",
    "    3. `varchar(n)`\n",
    "        - A string of up to n-characters in length\n",
    "        - **Note**:\n",
    "            - if we try to insert a string that is less than n characters long, the missing characters **won't** be input as spaces\n",
    "            - if we try to insert a string that is more than n characters long, we'll get an error"
   ]
  },
  {
   "cell_type": "markdown",
   "metadata": {},
   "source": [
    "## 3. Number\n",
    "\n",
    "- There are 2 subtypes of the number data type\n",
    "    1. `int`\n",
    "        - integers\n",
    "        - E.g. 1, 2, 3, ...\n",
    "    2. `float`\n",
    "        - floating-point numbers\n",
    "        - E.g. 3.14, 18.181818181\n",
    "        \n",
    "### Types of integers\n",
    "        \n",
    "#### 3.1.1 - `smallint`\n",
    "\n",
    "- These are 2-byte sized integers\n",
    "- Must be between -32,768 and 32,767\n",
    "\n",
    "#### 3.1.2 - `int`\n",
    "\n",
    "- These are 4-byte sized integers\n",
    "- Must be between -214,783,648 and 214,783,647\n",
    "\n",
    "#### 3.1.3 - `serial`\n",
    "\n",
    "- This keeps a running tally of the values\n",
    "\n",
    "### Types of floating-point numbers\n",
    "\n",
    "#### 3.2.1 - `float(n)`\n",
    "\n",
    "- Has precision of at least n\n",
    "    - **Note**: the maximum possible value for n is 8\n",
    "    \n",
    "#### 3.2.2 - `real` (or `float8`)\n",
    "\n",
    "- These are 8-byte sized floats\n",
    "    - A.k.a. double precision\n",
    "    \n",
    "#### 3.2.3 - `numeric` (or `numeric(p,s)`)\n",
    "\n",
    "- These are real numbers with p digits where s are after the decimal point\n",
    "- **Note**: if we want the number to be as exact as possible (minimal rounding), we'd use numeric(p,)"
   ]
  },
  {
   "cell_type": "markdown",
   "metadata": {},
   "source": [
    "## 4. Temporal\n",
    "\n",
    "1. `date`\n",
    "    - Stores an actual date\n",
    "    - E.g. '2019-07-22'\n",
    "2. `time`\n",
    "    - Stores time data\n",
    "    - E.g. '7:00:03'\n",
    "3. `timestamp`\n",
    "    - Combination of date and time\n",
    "    - E.g. '2019-07-22:07:00:03'\n",
    "4. `interval`\n",
    "    - Stores the difference between time stamps\n",
    "    - E.g. 'INTERVAL ‘23:06:5.5’ HOUR TO SECOND'\n",
    "5. `timestamptz`\n",
    "    - Stores both the timestamp and timezone data"
   ]
  },
  {
   "cell_type": "markdown",
   "metadata": {},
   "source": [
    "____\n",
    "\n",
    "# Primary Keys and Foreign Keys"
   ]
  },
  {
   "cell_type": "markdown",
   "metadata": {},
   "source": [
    "## Primary Key\n",
    "\n",
    "- A column (or group of columns) used to identify a specific row in a table\n",
    "- Primary keys are defined using primary key contraints\n",
    "- A table can **only have one primary key**\n",
    "    - It is good practice to ensure that each table has a primary key\n",
    "- When you add a primary key to a table, PostgreSQL creates a unique index on the column(s)"
   ]
  },
  {
   "cell_type": "markdown",
   "metadata": {},
   "source": [
    "**Example**\n",
    "\n",
    "- In the customer table, we had columns customer_id, first_name, and last_name\n",
    "    - The primary key for this table was the customer_id\n",
    "        - No two customers had the same id\n",
    "        \n",
    "- **Note**: a lot of the time, we'll use a serial data type for our primary key (since it auto-increments)"
   ]
  },
  {
   "cell_type": "markdown",
   "metadata": {},
   "source": [
    "- Usually, we create the primary key while we're creating the table\n",
    "    - We create the table using the `create table` statement:\n",
    "    \n",
    "```mysql\n",
    "CREATE TABLE table_name (\n",
    "    col_1 data_type_1 PRIMARY KEY, \n",
    "    col_2 data_type_2\n",
    ")\n",
    "```"
   ]
  },
  {
   "cell_type": "markdown",
   "metadata": {},
   "source": [
    "## Foreign Key\n",
    "\n",
    "- A field (or group of fields) used to identify a specific row **in another table**\n",
    "    - i.e. a foreign key *refers to the primary key of another table*\n",
    "- A table that contains a foreign key is called a **referencing table** (or a **child table**)\n",
    "    - The table that the foreign key is referencing is called a **referenced table** (or a **parent table**)"
   ]
  },
  {
   "cell_type": "markdown",
   "metadata": {},
   "source": [
    "- **Note**: a table can have multiple foreign keys\n",
    "    - It all depends on its relationships with other tables"
   ]
  },
  {
   "cell_type": "markdown",
   "metadata": {},
   "source": [
    "**Example**\n",
    "\n",
    "- Consider the payment table and the customer table\n",
    "    - The payment table has a primary key that identifies a specific transaction\n",
    "    - The payment table also has a foreign key that references the specific customer that corresponds to the transaction\n",
    "        - So, the primary key of the customer table (the customer id) is the foreign key of the payment table"
   ]
  },
  {
   "cell_type": "markdown",
   "metadata": {},
   "source": [
    "- Foreign keys are defined through foreign key constraints\n",
    "    - These contraints specify the values in a column of the parent table\n",
    "- **Note**: we say that a foreign key constraint maintains *referential integrity* between child and parent tables"
   ]
  },
  {
   "cell_type": "markdown",
   "metadata": {},
   "source": [
    "___\n",
    "\n",
    "# Create Table\n",
    "\n"
   ]
  }
 ],
 "metadata": {
  "kernelspec": {
   "display_name": "Python 3",
   "language": "python",
   "name": "python3"
  },
  "language_info": {
   "codemirror_mode": {
    "name": "ipython",
    "version": 3
   },
   "file_extension": ".py",
   "mimetype": "text/x-python",
   "name": "python",
   "nbconvert_exporter": "python",
   "pygments_lexer": "ipython3",
   "version": "3.6.8"
  }
 },
 "nbformat": 4,
 "nbformat_minor": 2
}
