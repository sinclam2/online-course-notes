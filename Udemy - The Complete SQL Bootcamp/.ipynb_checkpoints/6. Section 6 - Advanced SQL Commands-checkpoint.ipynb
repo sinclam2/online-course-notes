{
 "cells": [
  {
   "cell_type": "markdown",
   "metadata": {},
   "source": [
    "# Timestamps\n",
    "\n",
    "### Extract Function\n",
    "\n",
    "- Equvalent to getting year, month, day, etc. from a `datetime` object in python\n",
    "\n",
    "![](images/extract_function_table.PNG)"
   ]
  },
  {
   "cell_type": "markdown",
   "metadata": {},
   "source": [
    "**Example 1**\n",
    "\n",
    "- Getting the day instead of the date from the payment table\n",
    "\n",
    "```mysql\n",
    "SELECT extract(day from payment_date) FROM payment\n",
    "```"
   ]
  },
  {
   "cell_type": "markdown",
   "metadata": {},
   "source": [
    "**Example 2**\n",
    "\n",
    "- Getting the monthly expenditures\n",
    "\n",
    "```mysql\n",
    "SELECT SUM(amount) as total, extract(month from payment_date) AS month\n",
    "FROM payment\n",
    "GROUP BY month\n",
    "ORDER BY total DESC\n",
    "```"
   ]
  },
  {
   "cell_type": "markdown",
   "metadata": {},
   "source": [
    "____\n",
    "\n",
    "# Mathematical Functions\n",
    "\n",
    "### Table 1 - Mathematical Operators\n",
    "\n",
    "![](images/mathematical_operators_table.PNG)"
   ]
  },
  {
   "cell_type": "markdown",
   "metadata": {},
   "source": [
    "### Table 2 - Mathematical Functions\n",
    "\n",
    "![](images/mathematical_functions_table.PNG)"
   ]
  },
  {
   "cell_type": "markdown",
   "metadata": {},
   "source": [
    "_____\n",
    "\n",
    "# String Functions\n",
    "\n",
    "![](images/string_function_table.PNG)"
   ]
  },
  {
   "cell_type": "markdown",
   "metadata": {},
   "source": [
    "____\n",
    "\n",
    "# Subqueries\n",
    "\n",
    "- A subquery is essentially a query within a query\n",
    "\n",
    "**Example**\n",
    "\n",
    "- Suppose we want to find all films whose rental rate is above average\n",
    "    - Steps using the LONG WAY:\n",
    "        1. Find the average rental rate\n",
    "        2. Select the films that exceed this value"
   ]
  },
  {
   "cell_type": "markdown",
   "metadata": {},
   "source": [
    "*Step 1*\n",
    "\n",
    "```mysql\n",
    "SELECT AVG(rental_rate) FROM film\n",
    "```"
   ]
  },
  {
   "cell_type": "markdown",
   "metadata": {},
   "source": [
    "- Result: 2.98"
   ]
  },
  {
   "cell_type": "markdown",
   "metadata": {},
   "source": [
    "*Step 2*\n",
    "\n",
    "```mysql\n",
    "SELECT title, rental_rate\n",
    "FROM film\n",
    "WHERE rental_rate > 2.98\n",
    "```"
   ]
  },
  {
   "cell_type": "markdown",
   "metadata": {},
   "source": [
    "- We want to be able to do this in one query instead of two"
   ]
  },
  {
   "cell_type": "markdown",
   "metadata": {},
   "source": [
    "*Subquery Method*\n",
    "\n",
    "```mysql\n",
    "SELECT title, rental_rate\n",
    "FROM film\n",
    "WHERE rental_rate > (SELECT AVG(rental_rate) FROM film)\n",
    "```"
   ]
  },
  {
   "cell_type": "markdown",
   "metadata": {},
   "source": [
    "____\n",
    "\n",
    "# Self-join\n",
    "\n",
    "- When we want to combine rows with other rows from the same table, we can use a self join\n",
    "- To use a self-join, we need to use an alias for the table"
   ]
  },
  {
   "cell_type": "markdown",
   "metadata": {},
   "source": [
    "**Example 1**\n",
    "\n",
    "- Assume we have the table with the following employees\n",
    "\n",
    "![](images/self_join.PNG)"
   ]
  },
  {
   "cell_type": "markdown",
   "metadata": {},
   "source": [
    "- Suppose we want to find out which employees are from the same employee location as Joe"
   ]
  },
  {
   "cell_type": "markdown",
   "metadata": {},
   "source": [
    "*Easiest way to solve*\n",
    "\n",
    "```mysql\n",
    "SELECT employee_name\n",
    "FROM employee\n",
    "WHERE employee_location = \"New York\"\n",
    "```"
   ]
  },
  {
   "cell_type": "markdown",
   "metadata": {},
   "source": [
    "- But this requires that we know that Joe lives in New York\n",
    "    - We'd prefer a more dynamic approach"
   ]
  },
  {
   "cell_type": "markdown",
   "metadata": {},
   "source": [
    "*Solution using subquery*\n",
    "\n",
    "```mysql\n",
    "SELECT employee_name\n",
    "FROM employee\n",
    "WHERE employee_location IN (\n",
    "    SELECT employee_location\n",
    "    FROM employee\n",
    "    WHERE employee_name = 'Joe')\n",
    "```"
   ]
  },
  {
   "cell_type": "markdown",
   "metadata": {},
   "source": [
    "- This method is actually slower than the self-join"
   ]
  },
  {
   "cell_type": "markdown",
   "metadata": {},
   "source": [
    "*Solution using self-join*\n",
    "\n",
    "```mysql\n",
    "SELECT table_1.employee_name\n",
    "FROM employee AS table_1, employee AS table_2\n",
    "WHERE table_1.employee_location = table_2.employee_location\n",
    "AND table_2.employee_name = 'Joe'\n",
    "```"
   ]
  },
  {
   "cell_type": "markdown",
   "metadata": {},
   "source": [
    "**Example 2**\n",
    "\n",
    "- Suppose we want a list of movies released in the same year as Chamber Italian\n",
    "\n",
    "```mysql\n",
    "SELECT table_1.title\n",
    "FROM film AS table_1, film AS table_2\n",
    "WHERE table_1.release_year = table_2.release_year\n",
    "AND table_2.title = 'Chamber Italian'\n",
    "```"
   ]
  },
  {
   "cell_type": "markdown",
   "metadata": {},
   "source": [
    "**Example 3**\n",
    "\n",
    "- What if we wanted to find all customers with a first name matching another customer's last name\n",
    "\n",
    "```mysql\n",
    "SELECT table_1.first_name, table_1.last_name, table_2.first_name, table_2.last_name\n",
    "FROM customer AS table_1, customer AS table_2\n",
    "WHERE table_1.first_name = table_2.last_name\n",
    "```"
   ]
  }
 ],
 "metadata": {
  "kernelspec": {
   "display_name": "Python 3",
   "language": "python",
   "name": "python3"
  },
  "language_info": {
   "codemirror_mode": {
    "name": "ipython",
    "version": 3
   },
   "file_extension": ".py",
   "mimetype": "text/x-python",
   "name": "python",
   "nbconvert_exporter": "python",
   "pygments_lexer": "ipython3",
   "version": "3.6.8"
  }
 },
 "nbformat": 4,
 "nbformat_minor": 2
}
