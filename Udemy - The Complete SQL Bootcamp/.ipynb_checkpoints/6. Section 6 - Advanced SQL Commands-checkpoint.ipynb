{
 "cells": [
  {
   "cell_type": "markdown",
   "metadata": {},
   "source": [
    "# Timestamps\n",
    "\n",
    "### Extract Function\n",
    "\n",
    "- Equvalent to getting year, month, day, etc. from a `datetime` object in python\n",
    "\n",
    "![](images/extract_function_table.PNG)"
   ]
  },
  {
   "cell_type": "markdown",
   "metadata": {},
   "source": [
    "**Example 1**\n",
    "\n",
    "- Getting the day instead of the date from the payment table\n",
    "\n",
    "```mysql\n",
    "SELECT extract(day from payment_date) FROM payment\n",
    "```"
   ]
  },
  {
   "cell_type": "markdown",
   "metadata": {},
   "source": [
    "**Example 2**\n",
    "\n",
    "- Getting the monthly expenditures\n",
    "\n",
    "```mysql\n",
    "SELECT SUM(amount) as total, extract(month from payment_date) AS month\n",
    "FROM payment\n",
    "GROUP BY month\n",
    "ORDER BY total DESC\n",
    "```"
   ]
  },
  {
   "cell_type": "markdown",
   "metadata": {},
   "source": [
    "____\n",
    "\n",
    "# Mathematical Functions\n",
    "\n",
    "### Table 1 - Mathematical Operators\n",
    "\n",
    "![](images/mathematical_operators_table.PNG)"
   ]
  },
  {
   "cell_type": "markdown",
   "metadata": {},
   "source": [
    "### Table 2 - Mathematical Functions\n",
    "\n",
    "![](images/mathematical_functions_table.PNG)"
   ]
  },
  {
   "cell_type": "markdown",
   "metadata": {},
   "source": [
    "_____\n",
    "\n",
    "# String Functions\n",
    "\n",
    "![](images/string_function_table.PNG)"
   ]
  }
 ],
 "metadata": {
  "kernelspec": {
   "display_name": "Python 3",
   "language": "python",
   "name": "python3"
  },
  "language_info": {
   "codemirror_mode": {
    "name": "ipython",
    "version": 3
   },
   "file_extension": ".py",
   "mimetype": "text/x-python",
   "name": "python",
   "nbconvert_exporter": "python",
   "pygments_lexer": "ipython3",
   "version": "3.6.8"
  }
 },
 "nbformat": 4,
 "nbformat_minor": 2
}
