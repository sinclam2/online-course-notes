{
 "cells": [
  {
   "cell_type": "markdown",
   "metadata": {},
   "source": [
    "# Overview"
   ]
  },
  {
   "cell_type": "markdown",
   "metadata": {},
   "source": [
    "#### Why do we run unit tests?\n",
    "\n",
    "- Catches bugs before they get to the field\n",
    "- By using multiple layers of tests, we can ensure we catch ALL bugs\n",
    "\n",
    "#### Levels of testing\n",
    "\n",
    "1. Unit testing\n",
    "    - Lowest level of testing\n",
    "    - Validate individual functions\n",
    "    \n",
    "2. Component testing\n",
    "    - Tests a collection of functions\n",
    "    \n",
    "3. System testing\n",
    "    - Tests how the collections of functions interact\n",
    "    \n",
    "4. Performance testing\n",
    "    - Tests the timing and resource usage of the system"
   ]
  },
  {
   "cell_type": "markdown",
   "metadata": {},
   "source": [
    "#### Unit testing\n",
    "\n",
    "- Tests functions in isolation\n",
    "- For each outcome, a unit test should be created\n",
    "- To better organize groups of unit tests, they can be organized into test suites\n",
    "- Unit tests should be executed in the development environment instead of the production environment\n",
    "- Unit tests should build and execute automatically"
   ]
  },
  {
   "cell_type": "markdown",
   "metadata": {},
   "source": [
    "*Example*\n",
    "\n",
    "```python\n",
    "def str_length(str_to_check):\n",
    "    return len(str_to_check)    \n",
    "```\n",
    "\n",
    "- As we can see, this function simply returns the number of characters of the string\n",
    "\n",
    "```python\n",
    "def test_str_length():\n",
    "    test_str_to_check = \"a\"\n",
    "    result = str_length(test_str_to_check)\n",
    "    assert len(result) == 1\n",
    "```"
   ]
  },
  {
   "cell_type": "markdown",
   "metadata": {},
   "source": [
    "- In this test function, there are three steps\n",
    "    1. Setup\n",
    "        - This is the `test_str_to_check = \"a\"` line\n",
    "    2. Action\n",
    "        - This is the ``result = str_length(test_str_to_check)`` line\n",
    "    3. Assert\n",
    "        - This is the ``assert len(result) == 1`` line\n",
    "        \n",
    "- All unit tests should follow this structure"
   ]
  },
  {
   "cell_type": "markdown",
   "metadata": {},
   "source": [
    "#### What is test driven development (aka TDD)?\n",
    "\n",
    "- A process to help the developer take personal responsibility for their code\n",
    "- **Unit tests are written before the production code**\n",
    "    - This can feel strange at first, but once adopted, it becomes hard to write code any other way\n",
    "    - **Note**: this doesn't mean that *all* tests are written before the production code - just that no production code is written before the functions have unit tests\n",
    "- As the production code is developed, the unit tests continously check that the code passes\n",
    "    - This way, feedback on the production code is immediate"
   ]
  },
  {
   "cell_type": "markdown",
   "metadata": {},
   "source": [
    "#### What are some of the benefits of TDD?\n",
    "\n",
    "- Ensures that as code is modified, we can be confident that nothing will break\n",
    "- Immediate feedback\n",
    "- Tests can be used as a source of documentation\n",
    "- Helps drive good OOP design"
   ]
  },
  {
   "cell_type": "markdown",
   "metadata": {},
   "source": [
    "#### TDD work flow: red, green, refactor\n",
    "\n",
    "- Red phase\n",
    "    - Write a unit test that fails in the production code\n",
    "- Green phase\n",
    "    - Write just enough production code so that the previously failing test passes\n",
    "- Refactor phase\n",
    "    - Refactor the production code to clean it up\n",
    "        - E.g. remove duplicates, ensure code follows best practices"
   ]
  },
  {
   "cell_type": "markdown",
   "metadata": {},
   "source": [
    "#### Uncle Bob's 3 Laws of TDD\n",
    "\n",
    "1. You may not write any production code **until you have a failing unit test**\n",
    "2. You may not write more of a unit test than is sufficient to fail, and not compiling is considered failing\n",
    "3. You may not write more production code than is sufficient to pass the currently failing unit test\n",
    "\n",
    "\n",
    "- Ideally, these three laws will be followed in quick succession\n",
    "    - That way, if you write production code that breaks something, it should be easy to fix"
   ]
  },
  {
   "cell_type": "markdown",
   "metadata": {},
   "source": [
    "_____\n",
    "\n",
    "# Simple Unit Testing and TDD Coding Session"
   ]
  },
  {
   "cell_type": "markdown",
   "metadata": {},
   "source": [
    "- We want to write a function that determines whether a given year is a leap year\n",
    "    - A leap year needs to satisfy one of the conditions below\n",
    "        1. Year is divisible by 4 but not 100 or 400\n",
    "        2. Year is divisible by 4, 100, and 400"
   ]
  },
  {
   "cell_type": "markdown",
   "metadata": {},
   "source": [
    "**Test cases**\n",
    "- Below, we outline the test cases we want to implement, in order of increasing complexity\n",
    "\n",
    "\n",
    "1. Can successfully call the `leapYear` function\n",
    "2. Returns false if year not divisible by 4\n",
    "3. Returns true if divisible by 4, but not 100 or 400\n",
    "4. Returns false if divisble by 4 and 100, but not 400\n",
    "5. Returns true if divisibly by 4, 100, and 400"
   ]
  },
  {
   "cell_type": "markdown",
   "metadata": {},
   "source": [
    "*Test case 1*\n",
    "\n",
    "- Before we write the function `leapYear`, we need to write a failing test\n",
    "\n",
    "```python\n",
    "def test_call_leapYear():\n",
    "    leapYear(1)\n",
    "```\n",
    "\n",
    "- Since `leapYear` hasn't been defined, this test will return an error\n",
    "    - So, **we've finished the red phase for this test**\n",
    "- Now, we write the `leapYear` function in production\n",
    "    - **Recall**: this function doesn't need to be complete - **we just need to make the test pass**\n",
    "    \n",
    "```python\n",
    "def leapYear(year):\n",
    "    return True\n",
    "```\n",
    "\n",
    "- Now, our test won't fail\n",
    "    - So now, **we've finished the green phase**\n",
    "    \n",
    "- We don't really need to refactor the function just yet, so we'll move on to unit test 2"
   ]
  },
  {
   "cell_type": "markdown",
   "metadata": {},
   "source": [
    "*Test case 2*\n",
    "\n",
    "- Writing a failing test\n",
    "\n",
    "```python\n",
    "def test_false_if_not_divisible_by_4():\n",
    "    test_year = 1995\n",
    "    result = leapYear(test_year)\n",
    "    assert result == False\n",
    "```\n",
    "\n",
    "- Since our current version of `leapYear` only returns True, we know this test will fail\n",
    "    - Hence we've completed the red phase\n",
    "        - Onto the green phase - updating the `leapYear` function\n",
    "            - **Recall**: we want to make our updated function as simple as possible while still passing the test\n",
    "        \n",
    "```python\n",
    "def leapYear(year):\n",
    "        return False\n",
    "```\n",
    "\n",
    "- Now that our test passes, we move onto the refactor phase\n",
    "    - This time, **we do have something to refactor**\n",
    "        - Our first test case calls the function, but so does our second test case\n",
    "            - This means that we could remove our first unit test, and all our test cases will still be checked\n",
    "                - **So, we can delete `test_call_leapYear()`**"
   ]
  },
  {
   "cell_type": "markdown",
   "metadata": {},
   "source": [
    "*Test case 3*\n",
    "\n",
    "```python\n",
    "def test_true_if_divisible_by_4_not_100_400():\n",
    "    test_year = 1996\n",
    "    result = leapYear(test_year)\n",
    "    assert result == True\n",
    "```\n",
    "\n",
    "- Since our updated function only returns False, our test fails and we're finished with the red phase\n",
    "\n",
    "\n",
    "```python\n",
    "def leapYear(year):\n",
    "    if year % 4 == 0:\n",
    "        return True\n",
    "    return False\n",
    "```\n",
    "\n",
    "- This will pass in our test case 1996, but we note that the logic is incomplete (doesn't check that it's NOT divisible by 100 or 400)\n",
    "\n",
    "- As we move onto the refactor phase, we notice that both functions define the test_year, then compare it to the output\n",
    "    - We can simplify our code by defining a utility function\n",
    "    \n",
    "```python\n",
    "def check_leap_year(test_year, expected_result):\n",
    "    result = leapYear(test_year)\n",
    "    assert result == expected_result\n",
    "```\n",
    "\n",
    "- Now, we refactor our existing test functions to use this function\n",
    "\n",
    "```python\n",
    "def test_false_if_not_divisible_by_4():\n",
    "    check_leap_year(1995, False)\n",
    "\n",
    "def test_true_if_divisible_by_4_not_100_400():\n",
    "    check_leap_year(1996, True)\n",
    "```\n",
    "\n",
    "- So now we've written a test that fails, updated the production code so that the test passes, and refactored the production code to remove duplicates"
   ]
  },
  {
   "cell_type": "markdown",
   "metadata": {},
   "source": [
    "*Test case 4*\n",
    "\n",
    "```python\n",
    "def test_false_if_divisible_by_4_and_100_not_400():\n",
    "    check_leap_year(2100, False)\n",
    "```\n",
    "\n",
    "- Since our function returns True if divisible by 4, the test will fail\n",
    "    - To update the production code, we need to add in the additional checks\n",
    "    \n",
    "```python\n",
    "def leapYear(year):\n",
    "    if year % 4 == 0:\n",
    "        if year % 100 == 0:\n",
    "            return False\n",
    "        return True\n",
    "    return False\n",
    "```\n",
    "\n",
    "- **Note**: again, since we want our changes to the production code to be minimal, we didn't add a test for whether it's NOT divisible by 400\n",
    "    - All we want is for the test to pass"
   ]
  },
  {
   "cell_type": "markdown",
   "metadata": {},
   "source": [
    "*Test case 5*\n",
    "\n",
    "```python\n",
    "def test_true_if_divisible_by_4_100_and_400():\n",
    "    check_leap_year(2000, True)\n",
    "```\n",
    "\n",
    "- 2000 is divisible by 4 and 100\n",
    "    - Therefore, under the current iteration of our `leapYear`, it will return True and hence this test will fail\n",
    "        - We need to make one last change to our function\n",
    "        \n",
    "```python\n",
    "def leapYear(year):\n",
    "    if year % 4 == 0:\n",
    "        if year % 100 == 0:\n",
    "            if year % 400 == 0:\n",
    "                return True\n",
    "            return False\n",
    "        return True\n",
    "    return False\n",
    "```\n",
    "\n",
    "- Since we haven't left anything to refactor, **it looks like we're done!**"
   ]
  },
  {
   "cell_type": "markdown",
   "metadata": {},
   "source": [
    "____\n",
    "\n",
    "# Creating Python Virtual Environments\n",
    "\n",
    "- By default, all python packages are installed in a single directory\n",
    "    - This can cause problems when we have multiple projects with different dependencies\n",
    "- Virtual environments allow different package versions to be defined for each project"
   ]
  },
  {
   "cell_type": "markdown",
   "metadata": {},
   "source": [
    "- To use virtual environments, need to install pipenv\n",
    "    - `pip install pipenv`"
   ]
  }
 ],
 "metadata": {
  "kernelspec": {
   "display_name": "Python 3",
   "language": "python",
   "name": "python3"
  },
  "language_info": {
   "codemirror_mode": {
    "name": "ipython",
    "version": 3
   },
   "file_extension": ".py",
   "mimetype": "text/x-python",
   "name": "python",
   "nbconvert_exporter": "python",
   "pygments_lexer": "ipython3",
   "version": "3.6.8"
  }
 },
 "nbformat": 4,
 "nbformat_minor": 2
}
