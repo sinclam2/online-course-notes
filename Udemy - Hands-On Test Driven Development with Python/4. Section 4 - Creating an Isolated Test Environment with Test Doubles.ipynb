{
 "cells": [
  {
   "cell_type": "markdown",
   "metadata": {},
   "source": [
    "# Test Doubles and the `unittest.mock` framework"
   ]
  },
  {
   "cell_type": "markdown",
   "metadata": {},
   "source": [
    "#### What are test doubles?\n",
    "\n",
    "- Test doubles are objects that can be used in unit tests in the place of a real thing\n",
    "    - E.g. if our unit test queries a rest API, the test may fail not because of a problem with the code, but because the rest API is down for some reason\n",
    "        - Instead of relying on the API, we can create a replacement for the results of the query, and feed those into the test"
   ]
  },
  {
   "cell_type": "markdown",
   "metadata": {},
   "source": [
    "#### Types of test doubles\n",
    "\n",
    "1. Dummy objects\n",
    "    - Simplest form\n",
    "    - Simply placeholders; never actually used in the test\n",
    "2. Fake objects\n",
    "    - A simplified version of the object used in production code\n",
    "    - This is good enough for testing \n",
    "3. Stub objects\n",
    "    - Are actually callable, but return \"canned\" responses\n",
    "4. Spy objects\n",
    "    - Records the values passed in, that can then be used in the test for validation\n",
    "5. Mock objects\n",
    "    - Pre-programmed to expect specific calls and parameters\n",
    "    - Can throw exceptions where necessary"
   ]
  },
  {
   "cell_type": "markdown",
   "metadata": {},
   "source": [
    "#### Mock frameworks\n",
    "\n",
    "- Provide an easy way to create test doubles at runtime\n",
    "- Provide a fast means for creating mocking expectations for tests\n",
    "- Can be much more efficient than creating custom mock objects\n",
    "    - Can be error prone and time consuming"
   ]
  },
  {
   "cell_type": "markdown",
   "metadata": {},
   "source": [
    "#### `unittest.mock`\n",
    "\n",
    "- Built-in for python 3.3+\n",
    "\n",
    "- Provides the `Mock` class to create mock objects"
   ]
  },
  {
   "cell_type": "markdown",
   "metadata": {},
   "source": [
    "#### `Mock` - initialization\n",
    "\n",
    "- `Mock` provides many initialization parameters to control the behaviour of the mock object\n",
    "    - `spec` specifies the interface that the mock object is implementing\n",
    "        - If we call an attribute that isn't specified in the spec, an error will be raised\n",
    "    - `side_effect` specifies a function that should be called when the mock object is called\n",
    "    - `return_value` specified the value that is returned when the mock object is called"
   ]
  },
  {
   "cell_type": "markdown",
   "metadata": {},
   "source": [
    "#### `Mock` - verification\n",
    "\n",
    "- `Mock` provides built-in functions to verify how the mock object was used\n",
    "    - `assert_called` verifies whether the mock object was called\n",
    "    - `assert_called_once` verifies whether the mock object was called only once\n",
    "    - `assert_called_with` verifies whether the mock object was called with the specified parameters\n",
    "    - `assert_called_once_with` verifies the combination of the two above\n",
    "    - `assert_not_called` verifies whether the mock object wasn't called at all\n",
    "    - `assert_has_calls` verifies whether a list of mock objects was called with the specified parameters\n",
    "    - `called` returns a boolean indicating whether the mock object was ever called\n",
    "    - `call_count` returns the number of times a mock object was called\n",
    "    - `call_args` returns the arguments the mock was most recently called with\n",
    "    - `call_args_list` returns a list of arguments for all calls to the mock object"
   ]
  },
  {
   "cell_type": "markdown",
   "metadata": {},
   "source": [
    "#### `MagicMock` class\n",
    "\n",
    "- Derived from the `Mock` class\n",
    "- Provides a default implementation of the default magic methods in python\n",
    "    - E.g. `__str__`\n",
    "- This class simplifies test setup"
   ]
  },
  {
   "cell_type": "markdown",
   "metadata": {},
   "source": [
    "#### pytest monkeypath test fixture\n",
    "\n",
    "- Allows a test to dynamically replace:\n",
    "    - Module and class attributes\n",
    "    - Dictionary entries\n",
    "    - Environment variables"
   ]
  },
  {
   "cell_type": "markdown",
   "metadata": {},
   "source": [
    "____\n",
    "\n",
    "# `unittest.mock` - Mocking the File System Examples\n",
    "\n",
    "- We're gonna create a function called `read_from_file` that reads in a file, and returns the first line\n",
    "\n",
    "**Test Cases**\n",
    "\n",
    "1. Can call `read_from_file`\n",
    "2. Calling `read_from_file` on a specified file returns the correct string\n",
    "3. Calling `read_from_file` for a file that doesn't exist, an exception is thrown"
   ]
  },
  {
   "cell_type": "markdown",
   "metadata": {},
   "source": [
    "##### 1. Can call read_from_file\n",
    "\n",
    "**Red Phase**\n",
    "\n",
    "```python\n",
    "from line_reader import read_from_file\n",
    "\n",
    "def test_can_call_read_from_file():\n",
    "    read_from_file('filename.txt')\n",
    "```"
   ]
  },
  {
   "cell_type": "markdown",
   "metadata": {},
   "source": [
    "- This code won't run since we haven't defined the `read_from_file` module\n",
    "\n",
    "**Green Phase**\n",
    "\n",
    "- Creating the new `line_reader.py` script\n",
    "\n",
    "```python\n",
    "def read_from_file(filename):\n",
    "    pass\n",
    "```\n",
    "\n",
    "- Now, our first unit test will pass"
   ]
  },
  {
   "cell_type": "markdown",
   "metadata": {},
   "source": [
    "**Refactor Phase**\n",
    "\n",
    "- Nothing to refactor yet"
   ]
  },
  {
   "cell_type": "markdown",
   "metadata": {},
   "source": [
    "##### 2. Calling `read_from_file` on a specified file returns the correct string\n",
    "\n",
    "- In this test case, we want our function to actually open a file and return the first line\n",
    "- We don't want to have to create a test file, since it would add an external dependency to the test\n",
    "    - Instead, we'll mock the `open` function to return a `MagicMock` object, and another `MagicMock` object to return the test string"
   ]
  },
  {
   "cell_type": "markdown",
   "metadata": {},
   "source": [
    "**Red Phase**\n",
    "\n",
    "- First, we need to import the appropriate modules for our test script\n",
    "\n",
    "```python\n",
    "import pytest\n",
    "from pytest import raises\n",
    "from unittest.mock import MagicMock\n",
    "```\n",
    "\n",
    "- Now, we define our new test\n",
    "\n",
    "```python\n",
    "def test_returns_correct_string(monkeypatch):\n",
    "    # Setting up mock objects\n",
    "    # Step 1: Defining the mock object for the actual file that we're gonna open\n",
    "    mock_file = MagicMock()\n",
    "    \n",
    "    # Step 2: Defining the mock object for the `read_line` built-in function, and specifying that when it's called, it\n",
    "    # should return a test string\n",
    "    mock_read_line = MagicMock(return_value = 'test line')\n",
    "    \n",
    "    # Step 3: Assigning our `mock_read_line` object to our `mock_file` object\n",
    "    mock_file.read_line = mock_read_line\n",
    "    \n",
    "    # Step 4: Defining the mock object for when we call the built-in `.open()` function\n",
    "    mock_open = MagicMock(return_value=mock_file)\n",
    "    \n",
    "    # Step 5: Using `monkeypatch` to override the built-in `.open()` function with our custom `mock_open` object\n",
    "    monkeypatch.setattr('builtins.open', mock_open)\n",
    "    \n",
    "    # Running the test\n",
    "    # Calling the `read_from_file` function with a fake filename\n",
    "    result = read_from_file('filename.txt')\n",
    "    # Asserting that the mock_open function was called once, with the specified parameters\n",
    "    mock_open.assert_called_once_with('filename.txt', 'r')\n",
    "    # Asserting that the output of the function was 'test line' as we intended\n",
    "    assert result == 'test line'\n",
    "```\n",
    "\n",
    "- This unit test will fail, so we move onto the Green Phase"
   ]
  },
  {
   "cell_type": "markdown",
   "metadata": {},
   "source": [
    "**Green Phase**\n",
    "\n",
    "- We now create a function in the production code to read the file and return the first line\n",
    "    - Now, we update our `read_from_file` function\n",
    "    \n",
    "```python\n",
    "import os\n",
    "\n",
    "def read_from_file(filename):\n",
    "    infile = open(filename, 'r')\n",
    "    line = infile.readline()\n",
    "    return line\n",
    "```\n",
    "\n",
    "- With this new function, `test_returns_correct_string` will pass\n",
    "    - However, our first test `test_can_call_read_from_file` will fail\n",
    "        - **It fails because it will actually try to open the 'blah' file, which doesn't exist**\n",
    "        - Since we're calling the function in our new test, we can delete it anyways\n",
    "        \n",
    "**Refactor Phase**\n",
    "\n",
    "- As described above, we'll delete the `test_can_call_read_from_file` unit test"
   ]
  },
  {
   "cell_type": "markdown",
   "metadata": {},
   "source": [
    "##### 3. Calling `read_from_file` for a file that doesn't exist, an exception is thrown\n",
    "\n",
    "**Red Phase**\n",
    "\n",
    "- We assume that the function will use `os.path.exists` function to verify that the path exists\n",
    "    - We'll copy our set up steps from our last test\n",
    "\n",
    "```python\n",
    "def test_throws_exception_no_file(monkeypatch):\n",
    "    # Setting up mock objects\n",
    "    # Step 1: Defining the mock object for the actual file that we're gonna open\n",
    "    mock_file = MagicMock()\n",
    "    \n",
    "    # Step 2: Defining the mock object for the `read_line` built-in function, and specifying that when it's called, it\n",
    "    # should return a test string\n",
    "    mock_read_line = MagicMock(return_value = 'test line')\n",
    "    \n",
    "    # Step 3: Assigning our `mock_read_line` object to our `mock_file` object\n",
    "    mock_file.read_line = mock_read_line\n",
    "    \n",
    "    # Step 4: Defining the mock object for when we call the built-in `.open()` function\n",
    "    mock_open = MagicMock(return_value=mock_file)\n",
    "    \n",
    "    # Step 5: Using `monkeypatch` to override the built-in `.open()` function with our custom `mock_open` object\n",
    "    monkeypatch.setattr('builtins.open', mock_open)\n",
    "    \n",
    "    ## New steps\n",
    "    # Step 6: Defining the mock object for when we call `os.path.exists()`\n",
    "    mock_exists = MagicMock(return_value=False)\n",
    "    \n",
    "    # Step 7: Using `monkeypatch` to override the `os.path.exists()` function with our custom `mock_exists` object\n",
    "    monkeypatch.setattr('os.path.exists', mock_exists)\n",
    "    \n",
    "    # Running the test\n",
    "    with raises(Exception):\n",
    "        result = read_from_file('filename.txt')\n",
    "```\n",
    "\n",
    "- Since our `read_from_file` function never calls the `os.path.exists` function, this test will return 'test line' instead of an exception, and so it will fail"
   ]
  },
  {
   "cell_type": "markdown",
   "metadata": {},
   "source": [
    "**Green Phase**\n",
    "\n",
    "- We need to add in a check that uses `os.path.exists` into our production code\n",
    "\n",
    "    \n",
    "```python\n",
    "def read_from_file(filename):\n",
    "    if not os.path.exists(filename):\n",
    "        raise Exception('File does not exist')\n",
    "    infile = open(filename, 'r')\n",
    "    line = infile.readline()\n",
    "    return line\n",
    "```\n",
    "\n",
    "- Now, our new test passes but our old test fails\n",
    "    - This is because the check will fail for our previous test\n",
    "        - We can fix this by adding a `mock_exists` object to our first test, but make it return `True` instead of `False`"
   ]
  },
  {
   "cell_type": "markdown",
   "metadata": {},
   "source": [
    "```python\n",
    "def test_returns_correct_string(monkeypatch):\n",
    "    # Setting up mock objects\n",
    "    # Step 1: Defining the mock object for the actual file that we're gonna open\n",
    "    mock_file = MagicMock()\n",
    "    \n",
    "    # Step 2: Defining the mock object for the `read_line` built-in function, and specifying that when it's called, it\n",
    "    # should return a test string\n",
    "    mock_read_line = MagicMock(return_value = 'test line')\n",
    "    \n",
    "    # Step 3: Assigning our `mock_read_line` object to our `mock_file` object\n",
    "    mock_file.read_line = mock_read_line\n",
    "    \n",
    "    # Step 4: Defining the mock object for when we call the built-in `.open()` function\n",
    "    mock_open = MagicMock(return_value=mock_file)\n",
    "    \n",
    "    # Step 5: Using `monkeypatch` to override the built-in `.open()` function with our custom `mock_open` object\n",
    "    monkeypatch.setattr('builtins.open', mock_open)\n",
    "    \n",
    "    # Step 6: Defining the mock object for when we call `os.path.exists()`\n",
    "    mock_exists = MagicMock(return_value=True)\n",
    "    \n",
    "    # Step 7: Using `monkeypatch` to override the `os.path.exists()` function with our custom `mock_exists` object\n",
    "    monkeypatch.setattr('os.path.exists', mock_exists)\n",
    "    \n",
    "    # Running the test\n",
    "    # Calling the `read_from_file` function with a fake filename\n",
    "    result = read_from_file('filename.txt')\n",
    "    # Asserting that the mock_open function was called once, with the specified parameters\n",
    "    mock_open.assert_called_once_with('filename.txt', 'r')\n",
    "    # Asserting that the output of the function was 'test line' as we intended\n",
    "    assert result == 'test line'\n",
    "```"
   ]
  },
  {
   "cell_type": "markdown",
   "metadata": {},
   "source": [
    "- Now, all our tests will pass"
   ]
  },
  {
   "cell_type": "markdown",
   "metadata": {},
   "source": [
    "**Refactor Phase**\n",
    "\n",
    "- As we can see, there's a bunch of duplicated code\n",
    "    - We can create a test fixture to include the common code"
   ]
  },
  {
   "cell_type": "markdown",
   "metadata": {},
   "source": [
    "```python\n",
    "@pytest.fixture()\n",
    "def mock_open(monkeypatch):\n",
    "    # Setting up mock objects\n",
    "    # Step 1: Defining the mock object for the actual file that we're gonna open\n",
    "    mock_file = MagicMock()\n",
    "    \n",
    "    # Step 2: Defining the mock object for the `read_line` built-in function, and specifying that when it's called, it\n",
    "    # should return a test string\n",
    "    mock_read_line = MagicMock(return_value = 'test line')\n",
    "    \n",
    "    # Step 3: Assigning our `mock_read_line` object to our `mock_file` object\n",
    "    mock_file.read_line = mock_read_line\n",
    "    \n",
    "    # Step 4: Defining the mock object for when we call the built-in `.open()` function\n",
    "    mock_open = MagicMock(return_value=mock_file)\n",
    "    \n",
    "    # Step 5: Using `monkeypatch` to override the built-in `.open()` function with our custom `mock_open` object\n",
    "    monkeypatch.setattr('builtins.open', mock_open)\n",
    "    return mock_open\n",
    "```\n",
    "\n",
    "- Now, we update our two tests:\n",
    "\n",
    "```python\n",
    "def test_returns_correct_string(mock_open, monkeypatch):    \n",
    "    mock_exists = MagicMock(return_value=True)\n",
    "    monkeypatch.setattr('os.path.exists', mock_exists)\n",
    "    \n",
    "    # Running the test\n",
    "    # Calling the `read_from_file` function with a fake filename\n",
    "    result = read_from_file('filename.txt')\n",
    "    # Asserting that the mock_open function was called once, with the specified parameters\n",
    "    mock_open.assert_called_once_with('filename.txt', 'r')\n",
    "    # Asserting that the output of the function was 'test line' as we intended\n",
    "    assert result == 'test line'\n",
    "    \n",
    "def test_throws_exception_no_file(mock_open, monkeypatch):\n",
    "    mock_exists = MagicMock(return_value=False)\n",
    "    monkeypatch.setattr('os.path.exists', mock_exists)\n",
    "    \n",
    "    # Running the test\n",
    "    with raises(Exception):\n",
    "        result = read_from_file('filename.txt')\n",
    "\n",
    "```\n",
    "\n",
    "- Now, all our tests pass!"
   ]
  },
  {
   "cell_type": "markdown",
   "metadata": {},
   "source": [
    "____\n",
    "\n",
    "# `unittest.mock` - Mocking an Abstract Interface\n",
    "\n",
    "- Let's say we're working with the following production code:\n",
    "\n",
    "```python\n",
    "from abc import ABC, abstractmethod\n",
    "\n",
    "class AbstractAdder(ABC):\n",
    "    @abstractmethod\n",
    "    def add(self, value1, value2):\n",
    "        pass\n",
    "\n",
    "class ConcreteAdder(AbstractAdder):\n",
    "    def add(self, value1, value2):\n",
    "        return value1 + value2\n",
    "```"
   ]
  },
  {
   "cell_type": "markdown",
   "metadata": {},
   "source": [
    "**Test Cases**\n",
    "\n",
    "1. Can call `AddExecuter`\n",
    "2. `AddExecuter` calls `AbstractAdder` properly and returns correct result"
   ]
  },
  {
   "cell_type": "markdown",
   "metadata": {},
   "source": [
    "##### 1. Can call `AddExecuter`\n",
    "\n",
    "**Red Phase**\n",
    "\n",
    "- We'll import the functions from the `my_abc.py` module and write out test\n",
    "\n",
    "```python\n",
    "from my_abc import AbstractAdder, ConcreteAdder\n",
    "\n",
    "def test_can_call_AddExecuter():\n",
    "    adder = ConcreteAdder()\n",
    "    AddExecuter(adder)\n",
    "```\n",
    "\n",
    "- Since we haven't added an `AddExecuter` function to our production code yet, this test will fail"
   ]
  },
  {
   "cell_type": "markdown",
   "metadata": {},
   "source": [
    "**Green Phase**\n",
    "\n",
    "- Creating a basic function for `AddExecuter` in the production code\n",
    "\n",
    "```python\n",
    "def AddExeuter(AbstractAdder):\n",
    "    pass\n",
    "```\n",
    "\n",
    "- Now our test will pass\n",
    "\n",
    "**Refactor Phase**\n",
    "\n",
    "- Nothing to do, so we move on"
   ]
  },
  {
   "cell_type": "markdown",
   "metadata": {},
   "source": [
    "##### 2. `AddExecuter` calls `AbstractAdder` properly and returns correct result\n",
    "\n",
    "- We need create a mock `AbstractAdder` instance with a mock of the `add` method\n",
    "    - Then, we'll pass the mock into a call to the `AddExecuter`\n",
    "    - Finally, we'll check the `add` mock to ensure it was called correctly\n",
    "    \n",
    "**Red Phase**\n",
    "\n",
    "- First, we need to import the required module to create our mock objects\n",
    "\n",
    "```python\n",
    "from unittest.mock import MagicMock\n",
    "```\n",
    "\n",
    "- Now, we write our new unit test\n",
    "\n",
    "```python\n",
    "def test_correct_call():\n",
    "    # Creating the mock object for AbstractAdder\n",
    "    mock_adder = MagicMock(AbstractAdder)\n",
    "    # Creating the mock for the add method\n",
    "    mock_adder.add = MagicMock(return_value=3)\n",
    "    # Calling AddExecuter using the mock_adder object\n",
    "    result = AddExecutrer(mock_adder)\n",
    "    # Testing the results\n",
    "    mock_adder.add.assert_called_once_with(1, 2)\n",
    "    assert result == 3\n",
    "```\n",
    "\n",
    "- Since our `AddExecuter` function doesn't do anything, our test will fail"
   ]
  },
  {
   "cell_type": "markdown",
   "metadata": {},
   "source": [
    "**Green Phase**\n",
    "\n",
    "```python\n",
    "def AddExeuter(AbstractAdder):\n",
    "    return AbstractAdder.add(1,2)\n",
    "```\n",
    "\n",
    "- Now, our test passes\n",
    "\n",
    "**Refactor Phase**\n",
    "\n",
    "- The only thing to do is remove our original test, since the new test calls the function anyways"
   ]
  },
  {
   "cell_type": "markdown",
   "metadata": {},
   "source": [
    "____\n",
    "\n",
    "# `unittest.mock` - Mocking a Network Connection\n",
    "\n",
    "- We never want our unit tests to actually try to connect to a network\n",
    "    - It can slow things down tremendously\n",
    "    - Tests can fail, even though there are no issues with the code, because of connectivity issues\n",
    "    \n",
    "- In this example, we'll pass in a url string, and we'll use the `request` library to make a call to that url\n",
    "\n",
    "**Test Cases**\n",
    "\n",
    "1. Can call `get_url`\n",
    "2. `get_url` correctly calls HTTP and returns the correct response"
   ]
  },
  {
   "cell_type": "markdown",
   "metadata": {},
   "source": [
    "##### 1. Can call `get_url`\n",
    "\n",
    "**Red Phase**\n",
    "\n",
    "- Even though we haven't written any production code, we anticipate that we'll have a `network_mock.py` script that we'll import\n",
    "\n",
    "```python\n",
    "from network_mock import get_url\n",
    "\n",
    "def test_can_call_get_url():\n",
    "    get_url('http://www.ebaumsworld.com')\n",
    "```\n",
    "\n",
    "- Since we don't have any production code yet, this test will fail"
   ]
  },
  {
   "cell_type": "markdown",
   "metadata": {},
   "source": [
    "**Green Phase**\n",
    "\n",
    "- Now, we create our `network_mock.py` script\n",
    "\n",
    "```python\n",
    "def get_url(url):\n",
    "    pass\n",
    "```\n",
    "\n",
    "- Now, our test will pass\n",
    "\n",
    "**Refactor Phase**\n",
    "\n",
    "- Since there's nothing to refactor, we're good"
   ]
  },
  {
   "cell_type": "markdown",
   "metadata": {},
   "source": [
    "##### 2. `get_url` correctly calls HTTP and returns the correct response\n",
    "\n",
    "1. We'll use `monkeypatch` and `MagicMock` to create an instance of `requests.get()`\n",
    "2. We'll create another `MagicMock` object for what the function returns"
   ]
  },
  {
   "cell_type": "markdown",
   "metadata": {},
   "source": [
    "**Red Phase**\n",
    "\n",
    "- First, we need to import MagicMock\n",
    "\n",
    "```python\n",
    "from unittest.mock import MagicMock\n",
    "```\n",
    "\n",
    "- Now, we write our new test\n",
    "\n",
    "```python\n",
    "def test_correct_call_and_response(monkeypatch):\n",
    "    # Creating a mock object for the result of our call incl. the text\n",
    "    mock_result = MagicMock()\n",
    "    mock_result.text = 'Welcome to Ebaumsworld!'\n",
    "    \n",
    "    # Creating a mock object to use instead of requests.get()\n",
    "    mock_get = MagicMock(return_value = mock_result)\n",
    "    \n",
    "    # Overriding requests.get() with mock_get\n",
    "    mokeypatch.setattr('requests.get', mock_get)\n",
    "    \n",
    "    # Calling the get_url function\n",
    "    result = get_url('http://www.ebaumsworld.com')\n",
    "    \n",
    "    # Testing the results\n",
    "    mock_get.assert_called_once_with('http://www.ebaumsworld.com')\n",
    "    assert result.text == 'Welcome to Ebaumsworld!'\n",
    "```\n",
    "\n",
    "- This test fails"
   ]
  },
  {
   "cell_type": "markdown",
   "metadata": {},
   "source": [
    "**Green Phase**\n",
    "\n",
    "- Now, we need to simply make `get_url` call the `requests.get()` function\n",
    "\n",
    "```python\n",
    "import requests\n",
    "\n",
    "def get_url(url):\n",
    "    return requests.get(url)\n",
    "```\n",
    "\n",
    "- Now, our test passes"
   ]
  },
  {
   "cell_type": "markdown",
   "metadata": {},
   "source": [
    "**Refactor Phase**\n",
    "\n",
    "- We can delete the first test case since it's redundant"
   ]
  }
 ],
 "metadata": {
  "kernelspec": {
   "display_name": "Python 3",
   "language": "python",
   "name": "python3"
  },
  "language_info": {
   "codemirror_mode": {
    "name": "ipython",
    "version": 3
   },
   "file_extension": ".py",
   "mimetype": "text/x-python",
   "name": "python",
   "nbconvert_exporter": "python",
   "pygments_lexer": "ipython3",
   "version": "3.6.8"
  }
 },
 "nbformat": 4,
 "nbformat_minor": 2
}
