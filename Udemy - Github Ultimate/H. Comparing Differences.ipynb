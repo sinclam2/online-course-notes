{
 "cells": [
  {
   "cell_type": "markdown",
   "metadata": {},
   "source": [
    "# Comparing with pull requests\n",
    "\n",
    "- An easy way to compare two sets of code in GitHub is to initiate a pull request\n",
    "    - If we want to compare two branches, we can simply select one as the base branch, and the other as the compare branch\n",
    "        - Once selected, we'll be able to see the history of commits, as well as the diff between files\n",
    "- Once we're done with our comparison, we can discard the pull request"
   ]
  },
  {
   "cell_type": "markdown",
   "metadata": {},
   "source": [
    "___\n",
    "\n",
    "# Comparing commits\n",
    "\n",
    "- One way of comparing different commit is by going to the commits tab for the repo, and selecting one of the commits we're interested in\n",
    "    - By default, when we select a commit id, **it'll show us the diff between it and the previous commit id**\n",
    "        - **Note**: on this commit page, we can add comments to the overall commit, or to individual lines of code\n",
    "\n",
    "- Another way of comparing commits (that allows us to be more specific) is by creating a pull request as we did above\n",
    "    - This time, instead, we specific specific commit ids for our base and compare (instead of branches)"
   ]
  },
  {
   "cell_type": "markdown",
   "metadata": {},
   "source": [
    "___\n",
    "\n",
    "# Comparing tags\n",
    "\n",
    "- On our repository page, we go to releases, then select tags\n",
    "    - We want to compare one tag to another\n",
    "        - We can do this using the method we described above: creating a new pull request\n",
    "            - For our base/compare selections, we can specify the tags we want to compare"
   ]
  },
  {
   "cell_type": "markdown",
   "metadata": {},
   "source": [
    "____\n",
    "\n",
    "# Avanced comparisons\n",
    "\n",
    "- Let's say we want to compare the following:\n",
    "    - HEAD of develop branch **right now**\n",
    "    - HEAD of develop branch **3 days ago**\n",
    "        - To do this, we can set the base as: `develop@{3days}`\n",
    "- Instead of specifying the number of days, we can also specify the specific date\n",
    "\n",
    "- Now, let's say we want to compare the following:\n",
    "    - HEAD\n",
    "    - 3 commits before HEAD\n",
    "        - To do this, we can set the base as `HEAD@{3}`"
   ]
  }
 ],
 "metadata": {
  "kernelspec": {
   "display_name": "Python 3",
   "language": "python",
   "name": "python3"
  },
  "language_info": {
   "codemirror_mode": {
    "name": "ipython",
    "version": 3
   },
   "file_extension": ".py",
   "mimetype": "text/x-python",
   "name": "python",
   "nbconvert_exporter": "python",
   "pygments_lexer": "ipython3",
   "version": "3.6.8"
  }
 },
 "nbformat": 4,
 "nbformat_minor": 2
}
