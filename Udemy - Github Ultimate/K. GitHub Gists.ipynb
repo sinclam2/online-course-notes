{
 "cells": [
  {
   "cell_type": "markdown",
   "metadata": {},
   "source": [
    "# Gists Overview\n",
    "\n",
    "- Simple way to share code\n",
    "    - Can share entire files, or simply a snippet\n",
    "- Can be thought of as a \"micro\" git repo"
   ]
  },
  {
   "cell_type": "markdown",
   "metadata": {},
   "source": [
    "____\n",
    "\n",
    "# Creating a gist\n",
    "\n",
    "- At the top of our GitHub home page, we navigate to the \"Gist\" link at the top\n",
    "    - We create a gist, add a description, and add the code"
   ]
  },
  {
   "cell_type": "markdown",
   "metadata": {},
   "source": [
    "____\n",
    "\n",
    "# Working with gists locally\n",
    "\n",
    "- Just like repos, we can clone our gists\n",
    "    - If we make changes, we add, commit, and push just like a repo"
   ]
  },
  {
   "cell_type": "markdown",
   "metadata": {},
   "source": [
    "___\n",
    "\n",
    "# Sharing gists\n",
    "\n",
    "- The gist url is unique - best way to share"
   ]
  },
  {
   "cell_type": "markdown",
   "metadata": {},
   "source": [
    "___\n",
    "\n",
    "# Deleting gists\n",
    "\n",
    "- When we delete our gist on the GitHub page, we need to delete it locally using:\n",
    "\n",
    "```shell\n",
    "rm -rf <gist name>\n",
    "```"
   ]
  }
 ],
 "metadata": {
  "kernelspec": {
   "display_name": "Python 3",
   "language": "python",
   "name": "python3"
  },
  "language_info": {
   "codemirror_mode": {
    "name": "ipython",
    "version": 3
   },
   "file_extension": ".py",
   "mimetype": "text/x-python",
   "name": "python",
   "nbconvert_exporter": "python",
   "pygments_lexer": "ipython3",
   "version": "3.6.8"
  }
 },
 "nbformat": 4,
 "nbformat_minor": 2
}
