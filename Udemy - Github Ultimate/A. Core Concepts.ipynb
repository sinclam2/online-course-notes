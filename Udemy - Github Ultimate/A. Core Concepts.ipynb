{
 "cells": [
  {
   "cell_type": "markdown",
   "metadata": {},
   "source": [
    "# What is Git?\n",
    "\n",
    "- Distributed version control system\n",
    "    - Because it is distributed, it can scale massively\n",
    "        - i.e. lots of people can collaborate from anywhere in the world\n",
    "        \n",
    "- Most operations are local\n",
    "    - Once you have everything set up, you don't need a network connection to do work\n",
    "        - This makes it very fast to work with\n",
    "        \n",
    "- Free and open source\n",
    "    - Therefore, very active community\n",
    "    - Very easy to find developers with lots of Git experience\n",
    "    - Has become the de-facto standard system"
   ]
  },
  {
   "cell_type": "markdown",
   "metadata": {},
   "source": [
    "___\n",
    "\n",
    "# The Repository\n",
    "\n",
    "- The repository is made up of version contolled files and folders in the project\n",
    "    - The folder is considered the *working directory*\n",
    "    \n",
    "- The working directory contains a quasi-hidden .git folder\n",
    "    - This contains the actual repository\n",
    "        - Files and folders contain the history\n",
    "        \n",
    "- It's best practice to have each repo limited to a single focus\n",
    "    - E.g. for an application, have one repo for the front-end, and a second for the back-end"
   ]
  },
  {
   "cell_type": "markdown",
   "metadata": {},
   "source": [
    "___\n",
    "\n",
    "# Commits and Files\n",
    "\n",
    "- Snapshots of the repo are called *commits*\n",
    "- Commits are saved onto a timeline called a *branch*\n",
    "    - The default branch is called the *master branch*"
   ]
  },
  {
   "cell_type": "markdown",
   "metadata": {},
   "source": [
    "___\n",
    "\n",
    "# What is GitHub?\n",
    "\n",
    "- Public repository system provided by GitHub, Inc.\n",
    "- Most popular Git hosting platform"
   ]
  }
 ],
 "metadata": {
  "kernelspec": {
   "display_name": "Python 3",
   "language": "python",
   "name": "python3"
  },
  "language_info": {
   "codemirror_mode": {
    "name": "ipython",
    "version": 3
   },
   "file_extension": ".py",
   "mimetype": "text/x-python",
   "name": "python",
   "nbconvert_exporter": "python",
   "pygments_lexer": "ipython3",
   "version": "3.6.8"
  }
 },
 "nbformat": 4,
 "nbformat_minor": 2
}
