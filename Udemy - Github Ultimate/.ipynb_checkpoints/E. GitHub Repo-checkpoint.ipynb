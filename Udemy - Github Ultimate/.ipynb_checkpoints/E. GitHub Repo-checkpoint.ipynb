{
 "cells": [
  {
   "cell_type": "markdown",
   "metadata": {},
   "source": [
    "# Starting remote\n",
    "\n",
    "- We create a new repository on GitHub, and select the option to initialize with a README.md file\n",
    "    - GitHub redirects us to the repo page, but instead of an empty page (with instructions on how to clone the repo, or link a local repo), we see a directory\n",
    "        - **Why?**\n",
    "            - This is because when we created the repo, GitHub created a new master branch, and added the files to it"
   ]
  },
  {
   "cell_type": "markdown",
   "metadata": {},
   "source": [
    "____\n",
    "\n",
    "# Create a local copy with clone\n",
    "\n",
    "- We have our repo on GitHub, and we want to create a local working directory\n",
    "\n",
    "- If we haven't set up SSH, we can use the default HTTPS link to clone our repo\n",
    "    - If we have set up SSH< we use the SSH link\n",
    "    \n",
    "- Now, we navigate to our local repository folder, and use the command:\n",
    "\n",
    "```shell\n",
    "git clone <pasted clone link>\n",
    "```"
   ]
  },
  {
   "cell_type": "markdown",
   "metadata": {},
   "source": [
    "___\n",
    "\n",
    "# `fetch` vs. `pull`\n",
    "\n",
    "- Let's say we make a change to our GitHub repository **directly in the browser**\n",
    "    - This means that our **remote repository has changes that aren't in our local directory**\n",
    "    \n",
    "- Now, let's also say that we make a change to a different file locally\n",
    "    - Now, not only is our local directory **behind on the previous change, but is also ahead of remote on the current change**\n",
    "    \n",
    "- Now, we try to use the `git push` command\n",
    "\n",
    "```\n",
    "![rejected]     master -> master (fetch first)\n",
    "error: failed to push some refs...\n",
    "```\n",
    "\n",
    "- This message is telling us to fetch remote changes before we push our local changes\n",
    "\n",
    "- The `pull` command is really two commands at once\n",
    "    1. `fetch`\n",
    "        - This gets the changes from our remote repository\n",
    "    2. `merge`\n",
    "        - This merges the changes we fetched into our local repository\n",
    "        \n",
    "- Since the change we made in the browser doesn't conflict with our local change, we don't need to worry about any merge conflicts\n",
    "    - This means we can use `git pull`\n",
    "    \n",
    "- Once we run the pull command, we're prompted to add a merge commit message to explain why the merge is necessary\n",
    "    - We can just use the default commit message\n",
    "    \n",
    "- Now that our local directory is up-to-date with our remote, we can run `git push` again"
   ]
  },
  {
   "cell_type": "markdown",
   "metadata": {},
   "source": [
    "_____\n",
    "\n",
    "# Updating repository and remote references\n",
    "\n",
    "- Let's say we updated our repository name on GitHub\n",
    "    - Now, our local branch will be pointing to an outdated location\n",
    "        - To update the location, we copy the clone link from our repo page, and use the following command:\n",
    "        \n",
    "```shell\n",
    "git remote set-url origin <pasted clone link>\n",
    "```"
   ]
  }
 ],
 "metadata": {
  "kernelspec": {
   "display_name": "Python 3",
   "language": "python",
   "name": "python3"
  },
  "language_info": {
   "codemirror_mode": {
    "name": "ipython",
    "version": 3
   },
   "file_extension": ".py",
   "mimetype": "text/x-python",
   "name": "python",
   "nbconvert_exporter": "python",
   "pygments_lexer": "ipython3",
   "version": "3.6.8"
  }
 },
 "nbformat": 4,
 "nbformat_minor": 2
}
