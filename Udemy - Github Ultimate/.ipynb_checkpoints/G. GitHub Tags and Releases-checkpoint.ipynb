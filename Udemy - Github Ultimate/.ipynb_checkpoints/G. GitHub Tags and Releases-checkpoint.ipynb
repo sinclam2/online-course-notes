{
 "cells": [
  {
   "cell_type": "markdown",
   "metadata": {},
   "source": [
    "# Local tags\n",
    "\n",
    "- To check the local tags for our repository, we use the command:\n",
    "\n",
    "```shell\n",
    "git tag\n",
    "```\n",
    "\n",
    "- If we haven't created any tags, we won't get any results\n",
    "\n",
    "**Lightweight tags**\n",
    "\n",
    "- To easily create a tag that points to the HEAD on a specific branch, we use:\n",
    "\n",
    "```shell\n",
    "git tag <tag name> <branch name>\n",
    "```\n",
    "\n",
    "- *What is this doing?*\n",
    "    - It essentially creates an alias for the commit ID\n",
    "    \n",
    "**Annotated tags**\n",
    "\n",
    "- To add some more details to our tags, we can use:\n",
    "\n",
    "```shell\n",
    "git tag -a <tag name> -m \" <Release notes> \" <commit ID>\n",
    "```"
   ]
  },
  {
   "cell_type": "markdown",
   "metadata": {},
   "source": [
    "___\n",
    "\n",
    "# Pushing local tags to GitHub\n",
    "\n",
    "- Now that we've created some local tags, we can push a specific to remote with the command:\n",
    "\n",
    "```shell\n",
    "git push origin <tag name>\n",
    "```\n",
    "\n",
    "- To push all tags at once, we use:\n",
    "\n",
    "```shell\n",
    "git push --tags\n",
    "```"
   ]
  },
  {
   "cell_type": "markdown",
   "metadata": {},
   "source": [
    "____\n",
    "\n",
    "# Deleting Tags\n",
    "\n",
    "- If we delete a tag on GitHub, it'll still exist locally\n",
    "    - To delete our local copy of the tag, we use:\n",
    "    \n",
    "```shell\n",
    "git tag -d <tag-name>\n",
    "```\n",
    "\n",
    "- Now, let's say we deleted outr tag locally first\n",
    "    - To update our remote repository, we use:\n",
    "    \n",
    "```shell\n",
    "git push origin :<tag-name>\n",
    "```"
   ]
  },
  {
   "cell_type": "markdown",
   "metadata": {},
   "source": [
    "___\n",
    "\n",
    "# Creating a floating tag\n",
    "\n",
    "- Let's say we made some changes, and we want to update the commit ID that a tag points to\n",
    "    - We can do this using the command:\n",
    "    \n",
    "```shell\n",
    "git tag -f <tag-to-move> <updated-commit-id>\n",
    "```\n",
    "\n",
    "- **Note**: if we don't specify the commit id, it'll use the HEAD\n",
    "\n",
    "- Now, we can push our updates to remote using:\n",
    "\n",
    "```shell\n",
    "git push --force origin unstable\n",
    "```"
   ]
  },
  {
   "cell_type": "markdown",
   "metadata": {},
   "source": [
    "___\n",
    "\n",
    "# Tags vs. releases\n",
    "\n",
    "- On first glance, they seem the same\n",
    "    - **Key difference**: can add release notes to releases\n",
    "    \n",
    "- **Note**: when we delete a release, it's doesn't delete the underlying tag it references"
   ]
  },
  {
   "cell_type": "code",
   "execution_count": null,
   "metadata": {},
   "outputs": [],
   "source": []
  }
 ],
 "metadata": {
  "kernelspec": {
   "display_name": "Python 3",
   "language": "python",
   "name": "python3"
  },
  "language_info": {
   "codemirror_mode": {
    "name": "ipython",
    "version": 3
   },
   "file_extension": ".py",
   "mimetype": "text/x-python",
   "name": "python",
   "nbconvert_exporter": "python",
   "pygments_lexer": "ipython3",
   "version": "3.6.8"
  }
 },
 "nbformat": 4,
 "nbformat_minor": 2
}
