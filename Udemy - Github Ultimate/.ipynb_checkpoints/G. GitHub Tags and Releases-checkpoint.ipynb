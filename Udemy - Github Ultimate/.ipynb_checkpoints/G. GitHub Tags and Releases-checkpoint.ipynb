{
 "cells": [
  {
   "cell_type": "markdown",
   "metadata": {},
   "source": [
    "# Local tags\n",
    "\n",
    "- To check the local tags for our repository, we use the command:\n",
    "\n",
    "```shell\n",
    "git tag\n",
    "```\n",
    "\n",
    "- If we haven't created any tags, we won't get any results\n",
    "\n",
    "**Lightweight tags**\n",
    "\n",
    "- To easily create a tag that points to the HEAD on a specific branch, we use:\n",
    "\n",
    "```shell\n",
    "git tag <tag name> <branch name>\n",
    "```\n",
    "\n",
    "- *What is this doing?*\n",
    "    - It essentially creates an alias for the commit ID\n",
    "    \n",
    "**Annotated tags**\n",
    "\n",
    "- To add some more details to our tags, we can use:\n",
    "\n",
    "```shell\n",
    "git tag -a <tag name> -m \" <Release notes> \" <commit ID>\n",
    "```"
   ]
  },
  {
   "cell_type": "markdown",
   "metadata": {},
   "source": [
    "___\n",
    "\n",
    "# Pushing local tags to GitHub\n",
    "\n",
    "- Now that we've created some local tags, we can push a specific to remote with the command:\n",
    "\n",
    "```shell\n",
    "git push origin <tag name>\n",
    "```\n",
    "\n",
    "- To push all tags at once, we use:\n",
    "\n",
    "```shell\n",
    "git push --tags\n",
    "```"
   ]
  }
 ],
 "metadata": {
  "kernelspec": {
   "display_name": "Python 3",
   "language": "python",
   "name": "python3"
  },
  "language_info": {
   "codemirror_mode": {
    "name": "ipython",
    "version": 3
   },
   "file_extension": ".py",
   "mimetype": "text/x-python",
   "name": "python",
   "nbconvert_exporter": "python",
   "pygments_lexer": "ipython3",
   "version": "3.6.8"
  }
 },
 "nbformat": 4,
 "nbformat_minor": 2
}
