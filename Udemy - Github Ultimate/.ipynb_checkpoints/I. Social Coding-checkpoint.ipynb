{
 "cells": [
  {
   "cell_type": "markdown",
   "metadata": {},
   "source": [
    "# Copying a repo by forking\n",
    "\n",
    "- Let's say there's a repo made by someone else that we want to contribute to\n",
    "    - We can **create a fork of this repo to create our own copy of it**\n",
    "        - Once it's created, we should have our own version\n",
    "            - We call the official version of the repo the **upstream repo** or **parent repo**"
   ]
  },
  {
   "cell_type": "markdown",
   "metadata": {},
   "source": [
    "____\n",
    "\n",
    "# Creating a feature branch in our forked repository\n",
    "\n",
    "- When we're in our forked repo, we copy the clone link from the GitHub page, and run the following command in our terminal:\n",
    "\n",
    "```shell\n",
    "git clone <pasted-url>\n",
    "```\n",
    "\n",
    "- Now we should have a working directory for our forked repo, and we'll be on the master branch\n",
    "    - Next, we can create a feature branch using the command:\n",
    "    \n",
    "```shell\n",
    "git checkout -b <feature-branch-name>\n",
    "```\n",
    "\n",
    "- Let's say we've made some changes to our new feature branch, and we've committed the changes\n",
    "    - Since we created the new branch locally, we push it to GitHub (for the first time) using:\n",
    "    \n",
    "```shell\n",
    "git push -u origin <feature-branch-name>\n",
    "```"
   ]
  },
  {
   "cell_type": "markdown",
   "metadata": {},
   "source": [
    "___\n",
    "\n",
    "# Contributing feature branch to upstream repo\n",
    "\n",
    "- We click the 'Compare & pull request' button on the GitHub page for our feature branch\n",
    "    - By default, GitHub will select the upsteam repo as the base fork"
   ]
  },
  {
   "cell_type": "markdown",
   "metadata": {},
   "source": [
    "____\n",
    "\n",
    "# Accepting pull requests\n",
    "\n",
    "- Now, let's change hats and now assume **we're the owner of the upstream repository**\n",
    "    - We see that someone has created a pull request to merge updates form a fork into the official repository\n",
    "- As we review the PR, we create some comments, and can merge and close it\n",
    "    - Since the pull request was accepted, the forked verison of the repo will reflect the master branch of the upsteam repo"
   ]
  }
 ],
 "metadata": {
  "kernelspec": {
   "display_name": "Python 3",
   "language": "python",
   "name": "python3"
  },
  "language_info": {
   "codemirror_mode": {
    "name": "ipython",
    "version": 3
   },
   "file_extension": ".py",
   "mimetype": "text/x-python",
   "name": "python",
   "nbconvert_exporter": "python",
   "pygments_lexer": "ipython3",
   "version": "3.6.8"
  }
 },
 "nbformat": 4,
 "nbformat_minor": 2
}
