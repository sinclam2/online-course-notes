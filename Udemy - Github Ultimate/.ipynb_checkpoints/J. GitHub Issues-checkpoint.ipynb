{
 "cells": [
  {
   "cell_type": "markdown",
   "metadata": {},
   "source": [
    "# Labels\n",
    "\n",
    "- Can use labels to categorize issues:\n",
    "    1. bug\n",
    "    2. duplicate\n",
    "    3. enhancement\n",
    "    4. help wanted\n",
    "    5. invalid\n",
    "    6. question\n",
    "    7. wontfix"
   ]
  },
  {
   "cell_type": "markdown",
   "metadata": {},
   "source": [
    "___\n",
    "\n",
    "# Milestones\n",
    "\n",
    "- Major events we're aspiring to reach\n",
    "- We create a title, describe the milestone, and can set a due date for it"
   ]
  },
  {
   "cell_type": "markdown",
   "metadata": {},
   "source": [
    "____\n",
    "\n",
    "# Creating issues\n",
    "\n",
    "- When we create a new issue in our repo, we can add a label, and assign it to a milestone"
   ]
  },
  {
   "cell_type": "markdown",
   "metadata": {},
   "source": [
    "____\n",
    "\n",
    "# Closing issues\n",
    "\n",
    "- Let's say we made some changes to our repo, and committed it to the master branch\n",
    "    - Now, the issue can be closed\n",
    "- We navigate to the issue page, add a comment, and click \"close and comment\"\n",
    "    - If we want to **close our issue while we commit our changes**, we simply need to add `close #<issue number>` to our commit message\n",
    "- If we want to **associate a commit ID with a particular issue** is to simply mention it in a comment including `#<issue number>`"
   ]
  }
 ],
 "metadata": {
  "kernelspec": {
   "display_name": "Python 3",
   "language": "python",
   "name": "python3"
  },
  "language_info": {
   "codemirror_mode": {
    "name": "ipython",
    "version": 3
   },
   "file_extension": ".py",
   "mimetype": "text/x-python",
   "name": "python",
   "nbconvert_exporter": "python",
   "pygments_lexer": "ipython3",
   "version": "3.6.8"
  }
 },
 "nbformat": 4,
 "nbformat_minor": 2
}
