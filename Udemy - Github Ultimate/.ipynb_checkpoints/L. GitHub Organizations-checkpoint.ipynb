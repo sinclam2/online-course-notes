{
 "cells": [
  {
   "cell_type": "markdown",
   "metadata": {},
   "source": [
    "# Creating a GitHub organization\n",
    "\n",
    "- The organization name is like a user name\n",
    "    - If the organization name already exists, we won't be able to user the name\n",
    "- We need to specify a billing email, even if we're creating a free (open source) organization"
   ]
  },
  {
   "cell_type": "markdown",
   "metadata": {},
   "source": [
    "___\n",
    "\n",
    "# Transferring a repo to an organization\n",
    "\n",
    "- On GitHub, we go to our repo's Settigs > Danger Zone > Transfer Ownership\n",
    "    - We need to re-type the repo name\n",
    "        - This is to ensure that we're not transferring them willy nilly\n",
    "    - Then, we specify the organization we're transferring the repo to\n",
    "    - Finally, we'll need to retype our password to finalize"
   ]
  },
  {
   "cell_type": "markdown",
   "metadata": {},
   "source": [
    "___\n",
    "\n",
    "# Forking organization repos back to our account\n",
    "\n",
    "- We may still want a personal copy of the repo\n",
    "    - Then, as we make updates, we can push them to the organization"
   ]
  },
  {
   "cell_type": "markdown",
   "metadata": {},
   "source": [
    "___\n",
    "\n",
    "# Updating remote references on the local side\n",
    "\n",
    "- After transferring the repo to our organization, and forking it, we can add an additional remote reference to our local repo\n",
    "\n",
    "```shell\n",
    "git remote add upstream <pasted clone link from organization repo>\n",
    "```\n",
    "\n",
    "- Now, we can use `git fetch upstream` to pull the branches of the organization repo\n",
    "    - Alternatively, we can fetch all remote branches at once using:\n",
    "    \n",
    "```shell\n",
    "git fetch --all\n",
    "```"
   ]
  },
  {
   "cell_type": "markdown",
   "metadata": {},
   "source": [
    "____\n",
    "\n",
    "# Branches and confusion\n",
    "\n",
    "- Let's say a new branch called **shared** is made on the upstream version of our repository\n",
    "    - i.e. the version that is owned by the organizaiton, that we forked\n",
    "    \n",
    "- Next, we make a branch on the repo version of our forked repo, and **it's also called shared**\n",
    "    - This isn't good, since our branches will probably cause problems\n",
    "    \n",
    "- Now, to checkout our forked repo's version of the branch locally, we need to create a local version by:\n",
    "\n",
    "```shell\n",
    "git checkout -b shared origin/shared\n",
    "```"
   ]
  }
 ],
 "metadata": {
  "kernelspec": {
   "display_name": "Python 3",
   "language": "python",
   "name": "python3"
  },
  "language_info": {
   "codemirror_mode": {
    "name": "ipython",
    "version": 3
   },
   "file_extension": ".py",
   "mimetype": "text/x-python",
   "name": "python",
   "nbconvert_exporter": "python",
   "pygments_lexer": "ipython3",
   "version": "3.6.8"
  }
 },
 "nbformat": 4,
 "nbformat_minor": 2
}
