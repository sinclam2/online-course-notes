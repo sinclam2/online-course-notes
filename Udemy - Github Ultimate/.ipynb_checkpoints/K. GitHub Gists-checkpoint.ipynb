{
 "cells": [
  {
   "cell_type": "markdown",
   "metadata": {},
   "source": [
    "# Gists Overview\n",
    "\n",
    "- Simple way to share code\n",
    "    - Can share entire files, or simply a snippet\n",
    "- Can be thought of as a \"micro\" git repo"
   ]
  },
  {
   "cell_type": "markdown",
   "metadata": {},
   "source": [
    "____\n",
    "\n",
    "# Creating a gist\n",
    "\n",
    "- At the top of our GitHub home page, we navigate to the \"Gist\" link at the top\n",
    "    - We create a gist, add a description, and add the code"
   ]
  },
  {
   "cell_type": "markdown",
   "metadata": {},
   "source": [
    "____\n",
    "\n",
    "# Working with gists locally"
   ]
  }
 ],
 "metadata": {
  "kernelspec": {
   "display_name": "Python 3",
   "language": "python",
   "name": "python3"
  },
  "language_info": {
   "codemirror_mode": {
    "name": "ipython",
    "version": 3
   },
   "file_extension": ".py",
   "mimetype": "text/x-python",
   "name": "python",
   "nbconvert_exporter": "python",
   "pygments_lexer": "ipython3",
   "version": "3.6.8"
  }
 },
 "nbformat": 4,
 "nbformat_minor": 2
}
