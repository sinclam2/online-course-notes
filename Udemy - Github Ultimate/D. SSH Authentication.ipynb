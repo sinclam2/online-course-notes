{
 "cells": [
  {
   "cell_type": "markdown",
   "metadata": {},
   "source": [
    "# Overview\n",
    "\n",
    "- HTTPS authentication is the default setting on GitHub\n",
    "- SSH better for working on a computer that we work on all the time\n",
    "    - It takes a little longer to set up\n",
    "        - But once it's set up, easier to work with"
   ]
  },
  {
   "cell_type": "markdown",
   "metadata": {},
   "source": [
    "____\n",
    "\n",
    "# SSH vs. HTTPS\n",
    "\n",
    "**Drawbacks of HTTPS**\n",
    "\n",
    "- If we're working on a private repository, we'll need to log in each time we push or pull\n",
    "    - For public, it may only prompt for push\n",
    "    \n",
    "**Note**: if you haven't been prompted, it's probably because your username and password are stored in the system credentials manager\n",
    "\n",
    "- If we use SSH, we generate a key\n",
    "    - This means once we're logged in once, we're good"
   ]
  },
  {
   "cell_type": "markdown",
   "metadata": {},
   "source": [
    "____\n",
    "\n",
    "# Generating a key\n",
    "\n",
    "- If we run the following command in our working directory:\n",
    "\n",
    "```shell\n",
    "ls .ssh\n",
    "```\n",
    "\n",
    "- We'll get the message:\n",
    "\n",
    "```\n",
    "ls: .ssh: No such file or directory\n",
    "```\n",
    "\n",
    "- To create our .ssh directory, we use the following command:\n",
    "\n",
    "```shell\n",
    "mkdir .ssh\n",
    "```\n",
    "\n",
    "- Then, we use `cd .ssh/` to move into our new directory\n",
    "\n",
    "- Now, to create our keys, we use:\n",
    "\n",
    "```shell\n",
    "ssh-keygen -t rsa -C \"michael.sinclair92@gmail.com\"\n",
    "```\n",
    "\n",
    "- The message returned will read:\n",
    "\n",
    "```\n",
    "Generating public/private rsa key pair\n",
    "Enter file in which to save the key (.../.ssh/id_rsa):\n",
    "Enter passphrase (empty for no passphrase): \n",
    "```\n",
    "\n",
    "- We now type in a pass phrase\n",
    "    - We receive a message confirming that the key has been saved\n",
    "\n",
    "- If we use the command `ls -al` to see the files in our directory, we should have the two following files:\n",
    "    1. id_rsa\n",
    "        - This is the private key\n",
    "    2. id_rsa.pub\n",
    "        - This is the public key\n",
    "        \n",
    "- We now **open the public key in a text editor, and copy all the contents**\n",
    "    - This is pasted into our GitHub in the next steps"
   ]
  },
  {
   "cell_type": "markdown",
   "metadata": {},
   "source": [
    "____\n",
    "\n",
    "# Verifying our key to authenticate with GitHub\n",
    "\n",
    "- In the last step of the previous section, we copied the contents of our public key\n",
    "\n",
    "- We now go to our GitHub profile, and navigate to: Profile>Settings>SSH Keys\n",
    "\n",
    "- In the SSH keys section, we click \"Add SSH key\"\n",
    "    - In the Title section, we describe **the computer we're working on**\n",
    "    - In the Key section, we paste the public key we previously copied\n",
    "    \n",
    "- Once we've submitted our password, the new SSH key should be listed\n",
    "\n",
    "- To confirm that our machine can communicate with GitHub, we use the following command:\n",
    "\n",
    "```shell\n",
    "ssh -T git@github.com\n",
    "```\n",
    "\n",
    "- Since we've never connected to GitHub via SSH, we'll get the following message:\n",
    "\n",
    "```\n",
    "Are you sure you want to continue connecting (yes/no)?\n",
    "```\n",
    "\n",
    "- When we submit 'yes', we'll be prompted to submit the passphrase we defined in the previous step\n",
    "    - We should now be connected"
   ]
  }
 ],
 "metadata": {
  "kernelspec": {
   "display_name": "Python 3",
   "language": "python",
   "name": "python3"
  },
  "language_info": {
   "codemirror_mode": {
    "name": "ipython",
    "version": 3
   },
   "file_extension": ".py",
   "mimetype": "text/x-python",
   "name": "python",
   "nbconvert_exporter": "python",
   "pygments_lexer": "ipython3",
   "version": "3.6.8"
  }
 },
 "nbformat": 4,
 "nbformat_minor": 2
}
