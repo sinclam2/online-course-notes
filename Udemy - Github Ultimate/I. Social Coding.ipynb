{
 "cells": [
  {
   "cell_type": "markdown",
   "metadata": {},
   "source": [
    "# Copying a repo by forking\n",
    "\n",
    "- Let's say there's a repo made by someone else that we want to contribute to\n",
    "    - We can **create a fork of this repo to create our own copy of it**\n",
    "        - Once it's created, we should have our own version\n",
    "            - We call the official version of the repo the **upstream repo** or **parent repo**"
   ]
  },
  {
   "cell_type": "markdown",
   "metadata": {},
   "source": [
    "____\n",
    "\n",
    "# Creating a feature branch in our forked repository\n",
    "\n",
    "- When we're in our forked repo, we copy the clone link from the GitHub page, and run the following command in our terminal:\n",
    "\n",
    "```shell\n",
    "git clone <pasted-url>\n",
    "```\n",
    "\n",
    "- Now we should have a working directory for our forked repo, and we'll be on the master branch\n",
    "    - Next, we can create a feature branch using the command:\n",
    "    \n",
    "```shell\n",
    "git checkout -b <feature-branch-name>\n",
    "```\n",
    "\n",
    "- Let's say we've made some changes to our new feature branch, and we've committed the changes\n",
    "    - Since we created the new branch locally, we push it to GitHub (for the first time) using:\n",
    "    \n",
    "```shell\n",
    "git push -u origin <feature-branch-name>\n",
    "```"
   ]
  },
  {
   "cell_type": "markdown",
   "metadata": {},
   "source": [
    "___\n",
    "\n",
    "# Contributing feature branch to upstream repo\n",
    "\n",
    "- We click the 'Compare & pull request' button on the GitHub page for our feature branch\n",
    "    - By default, GitHub will select the upsteam repo as the base fork"
   ]
  },
  {
   "cell_type": "markdown",
   "metadata": {},
   "source": [
    "____\n",
    "\n",
    "# Accepting pull requests\n",
    "\n",
    "- Now, let's change hats and now assume **we're the owner of the upstream repository**\n",
    "    - We see that someone has created a pull request to merge updates form a fork into the official repository\n",
    "- As we review the PR, we create some comments, and can merge and close it\n",
    "    - Since the pull request was accepted, the forked verison of the repo will reflect the master branch of the upsteam repo"
   ]
  },
  {
   "cell_type": "markdown",
   "metadata": {},
   "source": [
    "____\n",
    "\n",
    "# Synchronizing changes back to local fork\n",
    "\n",
    "- We've previously:\n",
    "    1. Forked a repository\n",
    "    2. Cloned our forked repo to our local directory\n",
    "    3. Created a feature branch and pushed it to the remote version of our forked repo\n",
    "    4. Created a pull request to have our feature branch merged into the master branch of the parent repo\n",
    "    5. The pull request was merged\n",
    "    6. Deleted the feature branch\n",
    "    \n",
    "- So now, our local working directory will have two branches\n",
    "    1. The feature branch\n",
    "    2. The original master branch\n",
    "        - Since our pull request was merged, this branch will be behind the parent repo\n",
    "        \n",
    "- We switch to our local master branch using:\n",
    "\n",
    "```shell\n",
    "git checkout master\n",
    "```\n",
    "\n",
    "- We can't update our local branch to the parent repo by using `git pull` since it'll just pull from our forked repo (not the parent repo)\n",
    "    - To synchronize everything, we need to create a new remote reference\n",
    "    \n",
    "```shell\n",
    "git remote add upstream <pasted clone link from upstream repo>\n",
    "```\n",
    "\n",
    "- Now, when we use the command `git remote -v`, we'll have two pairs of repos\n",
    "    1. origin\n",
    "        - This is our original\n",
    "    2. upstream\n",
    "        - This is the one we just created\n",
    "        \n",
    "- Now, we'll pull from our upstream repo's master branch\n",
    "\n",
    "```shell\n",
    "git pull upstream master\n",
    "```\n",
    "\n",
    "- Finally, we update our forked version of the remote repo by pushing our updated local copy\n",
    "\n",
    "```shell\n",
    "git push origin master\n",
    "```\n",
    "\n",
    "- We don't need our local feature branch anymore, so we can delete it by:\n",
    "\n",
    "```shell\n",
    "git branch -d <feature-branch-name>\n",
    "```\n",
    "\n",
    "- And now that we don't need the remote reference for the feature branch, we remote it using\n",
    "\n",
    "```shell\n",
    "git fetch -p\n",
    "```"
   ]
  }
 ],
 "metadata": {
  "kernelspec": {
   "display_name": "Python 3",
   "language": "python",
   "name": "python3"
  },
  "language_info": {
   "codemirror_mode": {
    "name": "ipython",
    "version": 3
   },
   "file_extension": ".py",
   "mimetype": "text/x-python",
   "name": "python",
   "nbconvert_exporter": "python",
   "pygments_lexer": "ipython3",
   "version": "3.6.8"
  }
 },
 "nbformat": 4,
 "nbformat_minor": 2
}
