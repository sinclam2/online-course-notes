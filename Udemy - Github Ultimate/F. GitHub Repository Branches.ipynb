{
 "cells": [
  {
   "cell_type": "markdown",
   "metadata": {},
   "source": [
    "# Creating a new branch on GitHub\n",
    "\n",
    "- **Easiest way**\n",
    "    - Select the Branch: master dropdown\n",
    "        - Type in new branch name"
   ]
  },
  {
   "cell_type": "markdown",
   "metadata": {},
   "source": [
    "___\n",
    "\n",
    "# Adding new local branches to remote\n",
    "\n",
    "- We'll create a branch locally, then push it to our remote repository on GitHub\n",
    "\n",
    "- First, we create the new branch\n",
    "\n",
    "```shell\n",
    "git checkout -b new-branch\n",
    "```\n",
    "\n",
    "- Once we run this command, we'll be on the new branch (not the master)\n",
    "\n",
    "- Now, let's say we make some change, and commit the changes to our new local branch\n",
    "    - We'll push our local branch to GitHub with the following command:\n",
    "    \n",
    "```shell\n",
    "git push -u origin new-branch\n",
    "```\n",
    "\n",
    "- **Note**: the `-u` in this command sets up the tracking relationship with the branch\n",
    "\n",
    "- The message should contain the following line\n",
    "\n",
    "```\n",
    "* [new branch] new-branch -> new-branch\n",
    "```"
   ]
  },
  {
   "cell_type": "markdown",
   "metadata": {},
   "source": [
    "___\n",
    "\n",
    "# Comparing and pull requests\n",
    "\n",
    "- If there are no forks involved, GitHub will automatically compare branches, and prepare to merge\n",
    "    - We simple need to add a title and a comment\n",
    "- The view on GitHub shows us the diff between files\n",
    "- Anyone can create a pull request\n",
    "    - Only people with special privileges can merge the request"
   ]
  }
 ],
 "metadata": {
  "kernelspec": {
   "display_name": "Python 3",
   "language": "python",
   "name": "python3"
  },
  "language_info": {
   "codemirror_mode": {
    "name": "ipython",
    "version": 3
   },
   "file_extension": ".py",
   "mimetype": "text/x-python",
   "name": "python",
   "nbconvert_exporter": "python",
   "pygments_lexer": "ipython3",
   "version": "3.6.8"
  }
 },
 "nbformat": 4,
 "nbformat_minor": 2
}
