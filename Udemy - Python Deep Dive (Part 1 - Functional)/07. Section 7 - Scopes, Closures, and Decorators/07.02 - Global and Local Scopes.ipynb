{
 "cells": [
  {
   "cell_type": "markdown",
   "metadata": {},
   "source": [
    "# What happens when we assign a value to a variable?"
   ]
  },
  {
   "cell_type": "code",
   "execution_count": 1,
   "metadata": {},
   "outputs": [],
   "source": [
    "a = 10"
   ]
  },
  {
   "cell_type": "markdown",
   "metadata": {},
   "source": [
    "- Now the variable `a` points to an object in memory\n",
    "    - The object in memory happens to be an integer with value 10\n",
    "        - We say that **the variable name is bound to the object**"
   ]
  },
  {
   "cell_type": "markdown",
   "metadata": {},
   "source": [
    "- By using the variable name in our code, we can access the object it was bound to\n",
    "    - However, **we can't just reference `a` ANYWHERE in our code!**\n",
    "        - Maybe that label only exists in a certain scope\n",
    "        - Maybe that label points elsewhere in another scope"
   ]
  },
  {
   "cell_type": "markdown",
   "metadata": {},
   "source": [
    "- The part of the code where the variable points to the object is called the **lexical scope** (aka scope)\n",
    "    - The bindings between the variables and the memory addresses are stored in **namespaces**\n",
    "        - We can think of this as a table with:\n",
    "            1. Column 1: Names\n",
    "            2. Column 2: Addresses"
   ]
  },
  {
   "cell_type": "markdown",
   "metadata": {},
   "source": [
    "- Every scope has a corresponding namespace\n",
    "    - They go hand-in-hand"
   ]
  },
  {
   "cell_type": "markdown",
   "metadata": {},
   "source": [
    "# What is the global scope?\n",
    "\n",
    "- This is essentially the module scope\n",
    "    - It spans a single file\n",
    "        - In Python, there's no such thing as a truly global scope\n",
    "            - The only exception is the built-in scope"
   ]
  },
  {
   "cell_type": "markdown",
   "metadata": {},
   "source": [
    "- Built-in and global variables can be used **anywhere** inside our module"
   ]
  },
  {
   "cell_type": "markdown",
   "metadata": {},
   "source": [
    "- Global scopes are nested inside the built-in scope\n",
    "\n",
    "![](images/nested_scopes.PNG)"
   ]
  },
  {
   "cell_type": "markdown",
   "metadata": {},
   "source": [
    "- Let's say we reference some variable in Module 1\n",
    "    - If the variable doesn't exist inside the Module 1 name space, the code will next look in the built-in scope's namespace"
   ]
  },
  {
   "cell_type": "markdown",
   "metadata": {},
   "source": [
    "### Examples"
   ]
  },
  {
   "cell_type": "markdown",
   "metadata": {},
   "source": [
    "**Example 1**\n",
    "\n",
    "- Let's say we have a file saved called module1.py\n",
    "    - There's only one line in it: `print(True)`\n",
    "    \n",
    "- Let's actually create the file"
   ]
  },
  {
   "cell_type": "code",
   "execution_count": 3,
   "metadata": {},
   "outputs": [],
   "source": [
    "with open('module1.py', 'w') as f: \n",
    "    f.write('print(True)') "
   ]
  },
  {
   "cell_type": "markdown",
   "metadata": {},
   "source": [
    "- Neither `print` nor `True` are defined in the module\n",
    "    - Therefore, they won't be found in the namespace when the code is run"
   ]
  },
  {
   "cell_type": "code",
   "execution_count": 4,
   "metadata": {},
   "outputs": [
    {
     "name": "stdout",
     "output_type": "stream",
     "text": [
      "True\n"
     ]
    }
   ],
   "source": [
    "%run module1"
   ]
  },
  {
   "cell_type": "markdown",
   "metadata": {},
   "source": [
    "- As we can see, it didn't fail when we ran it\n",
    "    - When we ran the code, it looked for `print` and `True` in the built-in scope"
   ]
  },
  {
   "cell_type": "markdown",
   "metadata": {},
   "source": [
    "**Example 2**\n",
    "\n",
    "- Now, let's say module2.py contains `print(a)`\n",
    "    - Unlike the previous example, this will cause an error"
   ]
  },
  {
   "cell_type": "code",
   "execution_count": 5,
   "metadata": {},
   "outputs": [],
   "source": [
    "with open('module2.py', 'w') as f: \n",
    "    f.write('print(a)') "
   ]
  },
  {
   "cell_type": "code",
   "execution_count": 6,
   "metadata": {},
   "outputs": [
    {
     "ename": "NameError",
     "evalue": "name 'a' is not defined",
     "output_type": "error",
     "traceback": [
      "\u001b[1;31m---------------------------------------------------------------------------\u001b[0m",
      "\u001b[1;31mNameError\u001b[0m                                 Traceback (most recent call last)",
      "\u001b[1;32m~\\Documents\\Python Scripts\\repos\\online-course-notes\\Udemy - Python Deep Dive (Part 1 - Functional)\\07. Section 7 - Scopes, Closures, and Decorators\\module2.py\u001b[0m in \u001b[0;36m<module>\u001b[1;34m\u001b[0m\n\u001b[1;32m----> 1\u001b[1;33m \u001b[0mprint\u001b[0m\u001b[1;33m(\u001b[0m\u001b[0ma\u001b[0m\u001b[1;33m)\u001b[0m\u001b[1;33m\u001b[0m\u001b[1;33m\u001b[0m\u001b[0m\n\u001b[0m",
      "\u001b[1;31mNameError\u001b[0m: name 'a' is not defined"
     ]
    }
   ],
   "source": [
    "%run module2"
   ]
  },
  {
   "cell_type": "markdown",
   "metadata": {},
   "source": [
    "- As expected, we get an error\n",
    "    - This is because `a` isn't defined in the module2 or the built-in namespace"
   ]
  },
  {
   "cell_type": "markdown",
   "metadata": {},
   "source": [
    "**Example 3**\n",
    "\n",
    "- In module3.py, we have:\n",
    "\n",
    "```python\n",
    "print = lambda x: f'hello {x}'\n",
    "s = print('world')\n",
    "```"
   ]
  },
  {
   "cell_type": "markdown",
   "metadata": {},
   "source": [
    "- We overwrote the built-in `print` function with a custom one\n",
    "    - Instead of printing it, it creates a string"
   ]
  },
  {
   "cell_type": "code",
   "execution_count": 8,
   "metadata": {},
   "outputs": [],
   "source": [
    "code = \"\"\"\n",
    "print = lambda x: f'hello {x}'\n",
    "s = print('world')\n",
    "\"\"\"\n",
    "\n",
    "with open('module3.py', 'w') as f: \n",
    "    f.write(code) "
   ]
  },
  {
   "cell_type": "code",
   "execution_count": 9,
   "metadata": {},
   "outputs": [],
   "source": [
    "%run module3"
   ]
  },
  {
   "cell_type": "markdown",
   "metadata": {},
   "source": [
    "- As we can see, nothing was printed\n",
    "    - This is what we expected\n",
    "        - Within the module3 namespace, `s` was be defined as `'hello world'`"
   ]
  },
  {
   "cell_type": "markdown",
   "metadata": {},
   "source": [
    "- **Note**: overwriting built-in functions with custom ones is called **masking**\n",
    "    - Not recommended"
   ]
  },
  {
   "cell_type": "markdown",
   "metadata": {},
   "source": [
    "# What is the local scope?\n",
    "\n",
    "- When we define functions, we can create variables inside the function\n",
    "\n",
    "```python\n",
    "def f():\n",
    "    a = 10\n",
    "    print(a)\n",
    "```"
   ]
  },
  {
   "cell_type": "markdown",
   "metadata": {},
   "source": [
    "- Inside the function, we now have a variable `a`\n",
    "    - The actual variable **isn't created until the function is called**"
   ]
  },
  {
   "cell_type": "markdown",
   "metadata": {},
   "source": [
    "- Every time the function is called, a new scope is created!\n",
    "    - That's why recursion works\n",
    "        - It's not the same object being fed into itself"
   ]
  },
  {
   "cell_type": "code",
   "execution_count": 73,
   "metadata": {},
   "outputs": [],
   "source": [
    "def my_func(a, b):\n",
    "    c = a * b\n",
    "    return c"
   ]
  },
  {
   "cell_type": "markdown",
   "metadata": {},
   "source": [
    "- When the Python code is **compiled**:\n",
    "    - `my_func` is added to the name space and points to the function object\n",
    "    - `a`, `b`, and `c` are determined to be local variables\n",
    "        - Therefore, they aren't added to the namespace\n",
    "    - A namespace for `my_func` hasn't been created yet\n",
    "        - That happens when we run the function"
   ]
  },
  {
   "cell_type": "markdown",
   "metadata": {},
   "source": [
    "- Now, let's say we call the function:"
   ]
  },
  {
   "cell_type": "code",
   "execution_count": 74,
   "metadata": {},
   "outputs": [
    {
     "data": {
      "text/plain": [
       "'zz'"
      ]
     },
     "execution_count": 74,
     "metadata": {},
     "output_type": "execute_result"
    }
   ],
   "source": [
    "my_func('z',2)"
   ]
  },
  {
   "cell_type": "markdown",
   "metadata": {},
   "source": [
    "- At **runtime**, a namespace for `my_func` is created\n",
    "    - `a` and `b` are added to the name space, and they point to 'z' and 2\n",
    "        - Furthermore, `c` is created and points to 'zz'"
   ]
  },
  {
   "cell_type": "markdown",
   "metadata": {},
   "source": [
    "- *What happens once the function is finished?*\n",
    "    - The scope is deleted"
   ]
  },
  {
   "cell_type": "markdown",
   "metadata": {},
   "source": [
    "- Now, let's say we call the function again:"
   ]
  },
  {
   "cell_type": "code",
   "execution_count": 75,
   "metadata": {},
   "outputs": [
    {
     "data": {
      "text/plain": [
       "50"
      ]
     },
     "execution_count": 75,
     "metadata": {},
     "output_type": "execute_result"
    }
   ],
   "source": [
    "my_func(10, 5)"
   ]
  },
  {
   "cell_type": "markdown",
   "metadata": {},
   "source": [
    "- Now, a **new** scope is created, and `a`, `b` and `c` are defined within it\n",
    "    - Scope is deleted when the function is finished"
   ]
  },
  {
   "cell_type": "markdown",
   "metadata": {},
   "source": [
    "# What are nested scopes?\n",
    "\n",
    "- Let's consider a russian nesting doll of scopes:\n",
    "\n",
    "![](images/nested_scopes_2.PNG)"
   ]
  },
  {
   "cell_type": "markdown",
   "metadata": {},
   "source": [
    "- When we request an object bound to a variable name:\n",
    "    - E.g. `print(a)`\n",
    "        - The order of looking for `a` is:\n",
    "            1. local scope\n",
    "            2. module scope\n",
    "            3. built-in scope"
   ]
  },
  {
   "cell_type": "markdown",
   "metadata": {},
   "source": [
    "- When a function is finished, the scope is deleted\n",
    "    - Therefore, for each memory adress that is referenced in the function, the reference count goes down by one when the scope is deleted\n",
    "        - When this happens, we say that the variable **goes out of scope**"
   ]
  },
  {
   "cell_type": "markdown",
   "metadata": {},
   "source": [
    "# How do we modify a global variable from inside a function?\n",
    "\n",
    "**Example**"
   ]
  },
  {
   "cell_type": "code",
   "execution_count": 84,
   "metadata": {},
   "outputs": [],
   "source": [
    "a = 0"
   ]
  },
  {
   "cell_type": "code",
   "execution_count": 85,
   "metadata": {},
   "outputs": [],
   "source": [
    "def my_func():\n",
    "    a = 100\n",
    "    print(a)"
   ]
  },
  {
   "cell_type": "markdown",
   "metadata": {},
   "source": [
    "- When `my_func` is compiled, the local scope isn't created\n",
    "    - Therefore, as far as our code is concerned, **there's only one `a` and it's equal to 0**"
   ]
  },
  {
   "cell_type": "markdown",
   "metadata": {},
   "source": [
    "- Inside our function, the local variable `a` **masks** the global version"
   ]
  },
  {
   "cell_type": "code",
   "execution_count": 86,
   "metadata": {},
   "outputs": [
    {
     "name": "stdout",
     "output_type": "stream",
     "text": [
      "100\n"
     ]
    },
    {
     "data": {
      "text/plain": [
       "(None, 0)"
      ]
     },
     "execution_count": 86,
     "metadata": {},
     "output_type": "execute_result"
    }
   ],
   "source": [
    "my_func(), a"
   ]
  },
  {
   "cell_type": "markdown",
   "metadata": {},
   "source": [
    "- As we can see, the local version of `a` is equal to 100, and the global version is equal to 0"
   ]
  },
  {
   "cell_type": "markdown",
   "metadata": {},
   "source": [
    "- Let's say we want to change the global version of `a` from inside the function\n",
    "    - We can used the keyword `global`"
   ]
  },
  {
   "cell_type": "code",
   "execution_count": 87,
   "metadata": {},
   "outputs": [],
   "source": [
    "a = 0\n",
    "\n",
    "def my_func():\n",
    "    global a\n",
    "    a = 100\n",
    "    print(a)"
   ]
  },
  {
   "cell_type": "code",
   "execution_count": 88,
   "metadata": {},
   "outputs": [
    {
     "name": "stdout",
     "output_type": "stream",
     "text": [
      "100\n"
     ]
    },
    {
     "data": {
      "text/plain": [
       "(None, 100)"
      ]
     },
     "execution_count": 88,
     "metadata": {},
     "output_type": "execute_result"
    }
   ],
   "source": [
    "my_func(), a"
   ]
  },
  {
   "cell_type": "markdown",
   "metadata": {},
   "source": [
    "- As we can see, the `global` keyword updated the global version of `a`"
   ]
  }
 ],
 "metadata": {
  "kernelspec": {
   "display_name": "Python 3",
   "language": "python",
   "name": "python3"
  },
  "language_info": {
   "codemirror_mode": {
    "name": "ipython",
    "version": 3
   },
   "file_extension": ".py",
   "mimetype": "text/x-python",
   "name": "python",
   "nbconvert_exporter": "python",
   "pygments_lexer": "ipython3",
   "version": "3.7.7"
  }
 },
 "nbformat": 4,
 "nbformat_minor": 4
}
