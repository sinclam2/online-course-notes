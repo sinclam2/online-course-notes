{
 "cells": [
  {
   "cell_type": "markdown",
   "metadata": {},
   "source": [
    "# What are inner functions?\n",
    "\n",
    "- We're able to define functions inside another"
   ]
  },
  {
   "cell_type": "code",
   "execution_count": 6,
   "metadata": {},
   "outputs": [],
   "source": [
    "def outer_func():\n",
    "    # do something\n",
    "    def inner_func():\n",
    "        pass\n",
    "    return inner_func()"
   ]
  },
  {
   "cell_type": "markdown",
   "metadata": {},
   "source": [
    "- In this example, we'll have the local scope of `inner_func` embedded inside the local scope of `outer_func`\n",
    "\n",
    "![](images/nested_scopes_3.PNG)"
   ]
  },
  {
   "cell_type": "markdown",
   "metadata": {},
   "source": [
    "- Both `inner_func` and `outer_func` have access to both the global and built-in scopes\n",
    "    - Furthermore, `inner_func` has access to the scope of `outer_func`\n",
    "        - To `inner_func`, the scope is `outer_func` is **neither local nor global**\n",
    "            - It's called a **non-local scope**"
   ]
  },
  {
   "cell_type": "markdown",
   "metadata": {},
   "source": [
    "### Examples\n",
    "\n",
    "**Example 1**\n",
    "\n",
    "- We'll create a new module containing the following:\n",
    "\n",
    "```python\n",
    "def outer_func():\n",
    "    a = 10\n",
    "    def inner_func():\n",
    "        print(a)\n",
    "    \n",
    "    inner_func()\n",
    "\n",
    "outer_func()\n",
    "```"
   ]
  },
  {
   "cell_type": "code",
   "execution_count": 7,
   "metadata": {},
   "outputs": [],
   "source": [
    "code = \"\"\"\n",
    "def outer_func():\n",
    "    a = 10\n",
    "    def inner_func():\n",
    "        print(a)\n",
    "\n",
    "    inner_func()\n",
    "\n",
    "outer_func()\n",
    "\"\"\""
   ]
  },
  {
   "cell_type": "code",
   "execution_count": 8,
   "metadata": {},
   "outputs": [],
   "source": [
    "with open('module_example_1.py', 'w') as f: \n",
    "    f.write(code) "
   ]
  },
  {
   "cell_type": "code",
   "execution_count": 10,
   "metadata": {},
   "outputs": [
    {
     "name": "stdout",
     "output_type": "stream",
     "text": [
      "10\n"
     ]
    }
   ],
   "source": [
    "%run module_example_1"
   ]
  },
  {
   "cell_type": "markdown",
   "metadata": {},
   "source": [
    "- As we can see, when we called `outer_func`, it:\n",
    "    1. Defined `a` in its local scope\n",
    "    2. Defined `inner_func`\n",
    "        - Since `a` was never defined in the local scope of `inner_func`, it recognized `a` from the non-local scope of `outer_func`\n",
    "    3. Called `inner_func`, which printed `a`"
   ]
  },
  {
   "cell_type": "markdown",
   "metadata": {},
   "source": [
    "**Example 2**\n",
    "\n",
    "- Let's consider a similar module:\n",
    "\n",
    "```python\n",
    "a = 10\n",
    "\n",
    "def outer_func():\n",
    "    def inner_func():\n",
    "        print(a)\n",
    "    \n",
    "    inner_func()\n",
    "\n",
    "outer_func()\n",
    "```"
   ]
  },
  {
   "cell_type": "markdown",
   "metadata": {},
   "source": [
    "- The difference between this example and the previous is where `a` is defined\n",
    "    - Here, it's in the global scope instead of the local scope of `outer_func`"
   ]
  },
  {
   "cell_type": "code",
   "execution_count": 11,
   "metadata": {},
   "outputs": [],
   "source": [
    "code = \"\"\"\n",
    "a = 10\n",
    "\n",
    "def outer_func():\n",
    "    def inner_func():\n",
    "        print(a)\n",
    "\n",
    "    inner_func()\n",
    "\n",
    "outer_func()\n",
    "\"\"\""
   ]
  },
  {
   "cell_type": "code",
   "execution_count": 12,
   "metadata": {},
   "outputs": [],
   "source": [
    "with open('module_example_2.py', 'w') as f: \n",
    "    f.write(code) "
   ]
  },
  {
   "cell_type": "code",
   "execution_count": 16,
   "metadata": {},
   "outputs": [
    {
     "name": "stdout",
     "output_type": "stream",
     "text": [
      "10\n"
     ]
    }
   ],
   "source": [
    "%run module_example_2"
   ]
  },
  {
   "cell_type": "markdown",
   "metadata": {},
   "source": [
    "- As we can see, the correct value was printed\n",
    "    - The code:\n",
    "        1. Didn't find `a` in the local scope of `inner_func`\n",
    "        2. Didn't find `a` in the non-local scope of `outer_func`\n",
    "        3. Found `a` in the global scope"
   ]
  },
  {
   "cell_type": "markdown",
   "metadata": {},
   "source": [
    "**Example 3**\n",
    "\n",
    "- This time, we'll define the global variable `a` inside the local scope of `inner_func`\n",
    "\n",
    "```python\n",
    "def outer_func():\n",
    "    def inner_func():\n",
    "        global a\n",
    "        a = 'hello'\n",
    "        print(a)\n",
    "\n",
    "    inner_func()\n",
    "\n",
    "outer_func()\n",
    "print(a)\n",
    "```"
   ]
  },
  {
   "cell_type": "code",
   "execution_count": 18,
   "metadata": {},
   "outputs": [],
   "source": [
    "code = \"\"\"\n",
    "def outer_func():\n",
    "    def inner_func():\n",
    "        global a\n",
    "        a = 'hello'\n",
    "        print(a)\n",
    "\n",
    "    inner_func()\n",
    "\n",
    "outer_func()\n",
    "print(a)\n",
    "\"\"\""
   ]
  },
  {
   "cell_type": "code",
   "execution_count": 19,
   "metadata": {},
   "outputs": [],
   "source": [
    "with open('module_example_3.py', 'w') as f: \n",
    "    f.write(code) "
   ]
  },
  {
   "cell_type": "code",
   "execution_count": 20,
   "metadata": {},
   "outputs": [
    {
     "name": "stdout",
     "output_type": "stream",
     "text": [
      "hello\n",
      "hello\n"
     ]
    }
   ],
   "source": [
    "%run module_example_3"
   ]
  },
  {
   "cell_type": "markdown",
   "metadata": {},
   "source": [
    "# Can we modify non-local variables?"
   ]
  },
  {
   "cell_type": "code",
   "execution_count": 21,
   "metadata": {},
   "outputs": [],
   "source": [
    "def outer_func():\n",
    "    x = 'hello'\n",
    "    \n",
    "    def inner_func():\n",
    "        x = 'python'\n",
    "        \n",
    "    inner_func()\n",
    "    \n",
    "    print(x)"
   ]
  },
  {
   "cell_type": "code",
   "execution_count": 22,
   "metadata": {},
   "outputs": [
    {
     "name": "stdout",
     "output_type": "stream",
     "text": [
      "hello\n"
     ]
    }
   ],
   "source": [
    "outer_func()"
   ]
  },
  {
   "cell_type": "markdown",
   "metadata": {},
   "source": [
    "- When `outer_func` is compiled, `x` is recognized as a local variable\n",
    "    - When `inner_func` is compiled, its own version `x` is recognized as a local variable (for `inner_func`)"
   ]
  },
  {
   "cell_type": "markdown",
   "metadata": {},
   "source": [
    "- This means that when we call `outer_func`, the `x` in the `inner_func` scope is recognized to be **different** from the `x` in the non-local scope of `outer_func`\n",
    "    - Even though we call `inner_func` inside `outer_func`, once it is finished (while still inside the function), its scope is deleted\n",
    "        - Therefore, by the time `print(x)` runs, the `x` inside the `inner_func` scope is already gone"
   ]
  },
  {
   "cell_type": "markdown",
   "metadata": {},
   "source": [
    "- The only way to modify non-local variables is by explicity referencing it\n",
    "    - We use the `nonlocal` keyword"
   ]
  },
  {
   "cell_type": "code",
   "execution_count": 23,
   "metadata": {},
   "outputs": [],
   "source": [
    "def outer_func():\n",
    "    x = 'hello'\n",
    "    \n",
    "    def inner_func():\n",
    "        nonlocal x\n",
    "        x = 'python'\n",
    "        \n",
    "    inner_func()\n",
    "    \n",
    "    print(x)"
   ]
  },
  {
   "cell_type": "code",
   "execution_count": 24,
   "metadata": {},
   "outputs": [
    {
     "name": "stdout",
     "output_type": "stream",
     "text": [
      "python\n"
     ]
    }
   ],
   "source": [
    "outer_func()"
   ]
  },
  {
   "cell_type": "markdown",
   "metadata": {},
   "source": [
    "- This time, instead of creating a local variable for `x` in the scope of `inner_func`, we simply reference the variable in the non-local scope"
   ]
  },
  {
   "cell_type": "markdown",
   "metadata": {},
   "source": [
    "- **Note**: when we use the `nonlocal` keyword, Python will look in all the scopes **except the global scope**"
   ]
  },
  {
   "cell_type": "code",
   "execution_count": 25,
   "metadata": {},
   "outputs": [],
   "source": [
    "def outer():\n",
    "    x = 'hello'\n",
    "    \n",
    "    def inner_1():\n",
    "        \n",
    "        def inner_2():\n",
    "            nonlocal x\n",
    "            x = 'python'\n",
    "        \n",
    "        inner_2()\n",
    "        \n",
    "    inner_1()\n",
    "    print(x)"
   ]
  },
  {
   "cell_type": "code",
   "execution_count": 26,
   "metadata": {},
   "outputs": [
    {
     "name": "stdout",
     "output_type": "stream",
     "text": [
      "python\n"
     ]
    }
   ],
   "source": [
    "outer()"
   ]
  },
  {
   "cell_type": "markdown",
   "metadata": {},
   "source": [
    "- As we can see, `x` was overwritten\n",
    "\n",
    "![](images/non_local_scope.PNG)"
   ]
  },
  {
   "cell_type": "code",
   "execution_count": 27,
   "metadata": {},
   "outputs": [],
   "source": [
    "def outer():\n",
    "    x = 'hello'\n",
    "    \n",
    "    def inner_1():\n",
    "        x = 'python'\n",
    "        def inner_2():\n",
    "            nonlocal x\n",
    "            x = 'monty'\n",
    "        print(f'inner (before): {x}')\n",
    "        inner_2()\n",
    "        print(f'inner (after): {x}')\n",
    "        \n",
    "    inner_1()\n",
    "    print(f'outer (final): {x}')"
   ]
  },
  {
   "cell_type": "code",
   "execution_count": 28,
   "metadata": {},
   "outputs": [
    {
     "name": "stdout",
     "output_type": "stream",
     "text": [
      "inner (before): python\n",
      "inner (after): monty\n",
      "outer (final): hello\n"
     ]
    }
   ],
   "source": [
    "outer()"
   ]
  },
  {
   "cell_type": "markdown",
   "metadata": {},
   "source": [
    "![](images/non_local_scope_2.PNG)"
   ]
  },
  {
   "cell_type": "code",
   "execution_count": 29,
   "metadata": {},
   "outputs": [],
   "source": [
    "def outer():\n",
    "    x = 'hello'\n",
    "    \n",
    "    def inner_1():\n",
    "        nonlocal x\n",
    "        x = 'python'\n",
    "        def inner_2():\n",
    "            nonlocal x\n",
    "            x = 'monty'\n",
    "        print(f'inner (before): {x}')\n",
    "        inner_2()\n",
    "        print(f'inner (after): {x}')\n",
    "        \n",
    "    inner_1()\n",
    "    print(f'outer (final): {x}')"
   ]
  },
  {
   "cell_type": "code",
   "execution_count": 30,
   "metadata": {},
   "outputs": [
    {
     "name": "stdout",
     "output_type": "stream",
     "text": [
      "inner (before): python\n",
      "inner (after): monty\n",
      "outer (final): monty\n"
     ]
    }
   ],
   "source": [
    "outer()"
   ]
  },
  {
   "cell_type": "markdown",
   "metadata": {},
   "source": [
    "![](images/non_local_scope_3.PNG)"
   ]
  },
  {
   "cell_type": "code",
   "execution_count": 31,
   "metadata": {},
   "outputs": [],
   "source": [
    "x = 100\n",
    "\n",
    "def outer():\n",
    "    x = 'python'\n",
    "    \n",
    "    def inner_1():\n",
    "        nonlocal x\n",
    "        x = 'monty'\n",
    "        def inner_2():\n",
    "            global x\n",
    "            x = 'hello'\n",
    "        print(f'inner (before): {x}')\n",
    "        inner_2()\n",
    "        print(f'inner (after): {x}')\n",
    "        \n",
    "    inner_1()\n",
    "    print(f'outer (final): {x}')"
   ]
  },
  {
   "cell_type": "code",
   "execution_count": 32,
   "metadata": {},
   "outputs": [
    {
     "name": "stdout",
     "output_type": "stream",
     "text": [
      "inner (before): monty\n",
      "inner (after): monty\n",
      "outer (final): monty\n"
     ]
    }
   ],
   "source": [
    "outer()"
   ]
  },
  {
   "cell_type": "markdown",
   "metadata": {},
   "source": [
    "![](images/non_local_scope_4.PNG)"
   ]
  }
 ],
 "metadata": {
  "kernelspec": {
   "display_name": "Python 3",
   "language": "python",
   "name": "python3"
  },
  "language_info": {
   "codemirror_mode": {
    "name": "ipython",
    "version": 3
   },
   "file_extension": ".py",
   "mimetype": "text/x-python",
   "name": "python",
   "nbconvert_exporter": "python",
   "pygments_lexer": "ipython3",
   "version": "3.7.7"
  }
 },
 "nbformat": 4,
 "nbformat_minor": 4
}
