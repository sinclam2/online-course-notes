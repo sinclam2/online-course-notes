{
 "cells": [
  {
   "cell_type": "markdown",
   "metadata": {},
   "source": [
    "# What types of scopes will we look at?\n",
    "\n",
    "1. Local scopes\n",
    "2. Global scopes\n",
    "3. Non-local scopes\n",
    "4. Nested scopes"
   ]
  },
  {
   "cell_type": "markdown",
   "metadata": {},
   "source": [
    "# What will we learn about wrt closures?\n",
    "\n",
    "1. What they are\n",
    "    - **Hint**: they are not equivalent to lambdas\n",
    "2. Closure scopes"
   ]
  },
  {
   "cell_type": "markdown",
   "metadata": {},
   "source": [
    "# What will we learn about wrt decorators?\n",
    "\n",
    "1. What they are\n",
    "2. How they are related to closures\n",
    "3. Convenience feature of `@`\n",
    "4. Applications"
   ]
  }
 ],
 "metadata": {
  "kernelspec": {
   "display_name": "Python 3",
   "language": "python",
   "name": "python3"
  },
  "language_info": {
   "codemirror_mode": {
    "name": "ipython",
    "version": 3
   },
   "file_extension": ".py",
   "mimetype": "text/x-python",
   "name": "python",
   "nbconvert_exporter": "python",
   "pygments_lexer": "ipython3",
   "version": "3.7.7"
  }
 },
 "nbformat": 4,
 "nbformat_minor": 4
}
