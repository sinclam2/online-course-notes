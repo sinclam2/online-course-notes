{
 "cells": [
  {
   "cell_type": "markdown",
   "metadata": {},
   "source": [
    "# How can we use parameterized decorators?\n",
    "\n",
    "- In previous lessons, we've already used parameterized decorators\n",
    "    - E.g. `@wraps(fn)`, `@lru_cache(maxsize=8)`, etc."
   ]
  },
  {
   "cell_type": "markdown",
   "metadata": {},
   "source": [
    "- However, we haven't created any parameterized decorators\n",
    "    - E.g. `@timed`, `@logged`, etc."
   ]
  },
  {
   "cell_type": "markdown",
   "metadata": {},
   "source": [
    "- Since parameterized decorators have the parentheses at the end, they're a function call\n",
    "    - However, since our unparameterized decorators don't, they're not a function call"
   ]
  },
  {
   "cell_type": "markdown",
   "metadata": {},
   "source": [
    "- Let's review our `timed` decorator"
   ]
  },
  {
   "cell_type": "code",
   "execution_count": 2,
   "metadata": {},
   "outputs": [],
   "source": [
    "def timed(fn):\n",
    "    from time import perf_counter\n",
    "    \n",
    "    def inner(*args, **kwargs):\n",
    "        total_elapsed = 0\n",
    "        \n",
    "        for i in range(10):\n",
    "            start = perf_counter()\n",
    "            result = fn(*args, **kwargs)\n",
    "            end = perf_counter()\n",
    "            elapsed = end - start\n",
    "            total_elapsed += elapsed\n",
    "            \n",
    "        avg_elapsed = total_elapsed / 10\n",
    "        print(avg_elapsed)\n",
    "        \n",
    "        return result\n",
    "    return inner"
   ]
  },
  {
   "cell_type": "markdown",
   "metadata": {},
   "source": [
    "- Now, if we define some function `my_func`, we can decorate it two ways:\n",
    "\n",
    "\n",
    "**`@` Method**\n",
    "```python\n",
    "@timed\n",
    "def my_func():\n",
    "    # Do something\n",
    "```\n",
    "\n",
    "\n",
    "**Other Method**\n",
    "```python\n",
    "def my_func():\n",
    "    # Do something\n",
    "    \n",
    "my_func = timed(my_func)\n",
    "```"
   ]
  },
  {
   "cell_type": "markdown",
   "metadata": {},
   "source": [
    "# How can we convert the hard-coded 10 in our function to a parameter?"
   ]
  },
  {
   "cell_type": "markdown",
   "metadata": {},
   "source": [
    "- We'll try adding it to the `timed` decorator"
   ]
  },
  {
   "cell_type": "code",
   "execution_count": 3,
   "metadata": {},
   "outputs": [],
   "source": [
    "def timed(fn, n_reps):\n",
    "    from time import perf_counter\n",
    "    \n",
    "    def inner(*args, **kwargs):\n",
    "        total_elapsed = 0\n",
    "        \n",
    "        for i in range(n_reps):\n",
    "            start = perf_counter()\n",
    "            result = fn(*args, **kwargs)\n",
    "            end = perf_counter()\n",
    "            elapsed = end - start\n",
    "            total_elapsed += elapsed\n",
    "            \n",
    "        avg_elapsed = total_elapsed / n_reps\n",
    "        print(avg_elapsed)\n",
    "        \n",
    "        return result\n",
    "    return inner"
   ]
  },
  {
   "cell_type": "markdown",
   "metadata": {},
   "source": [
    "- Now, the way to decorate `my_func` is:\n",
    "\n",
    "```python\n",
    "my_func = timed(my_func, 10)\n",
    "```"
   ]
  },
  {
   "cell_type": "markdown",
   "metadata": {},
   "source": [
    "- *But what about using `@`?*\n",
    "    - **Won't work**:\n",
    "\n",
    "```python\n",
    "@timed(10)\n",
    "def my_func():\n",
    "    # Do something\n",
    "```"
   ]
  },
  {
   "cell_type": "markdown",
   "metadata": {},
   "source": [
    "- `timed` expects two parameters\n",
    "    - We need to rethink the solution"
   ]
  },
  {
   "cell_type": "markdown",
   "metadata": {},
   "source": [
    "- **Recall**: `timed` is a function that returns the `inner` closure\n",
    "    - i.e. combines the original function `fn` with elements outside its scope"
   ]
  },
  {
   "cell_type": "markdown",
   "metadata": {},
   "source": [
    "- If we want `@timed(10)` to work, then `timed(10)` needs to return a decorator\n",
    "    - i.e. needs to return an instance of `timed` instead of `inner`"
   ]
  },
  {
   "cell_type": "markdown",
   "metadata": {},
   "source": [
    "- It would need to be something like:\n",
    "\n",
    "```python\n",
    "dec = timed(10)\n",
    "\n",
    "@dec\n",
    "def my_func():\n",
    "    # Do something\n",
    "```"
   ]
  },
  {
   "cell_type": "markdown",
   "metadata": {},
   "source": [
    "- Therefore, **`timed` is no longer a decorator in this method**\n",
    "    - It's a **decorator generating function**\n",
    "        - This is called a **decorator factory**"
   ]
  },
  {
   "cell_type": "code",
   "execution_count": 4,
   "metadata": {},
   "outputs": [],
   "source": [
    "def outer(n_reps):\n",
    "    def timed(fn):\n",
    "        from time import perf_counter\n",
    "        def inner(*args, **kwargs):\n",
    "            total_elapsed = 0\n",
    "            for i in range(n_reps):\n",
    "                start = perf_counter()\n",
    "                result = fn(*args, **kwargs)\n",
    "                end = perf_counter()\n",
    "                elapsed = end - start\n",
    "                total_elapsed += elapsed\n",
    "            avg_elapsed = total_elapsed / n_reps\n",
    "            print(avg_elapsed)\n",
    "            return result\n",
    "        return inner\n",
    "    return timed"
   ]
  },
  {
   "cell_type": "markdown",
   "metadata": {},
   "source": [
    "- Now, if we call `outer(10)`, it'll return a decorator `timed` with `n_reps = 10`\n",
    "    - i.e. it'll return our initial decorator we defined with the hard-coded 10"
   ]
  },
  {
   "cell_type": "markdown",
   "metadata": {},
   "source": [
    "- So, the new way of decorating `my_func` would be:\n",
    "\n",
    "```python\n",
    "my_func = outer(10)(my_func)\n",
    "```"
   ]
  },
  {
   "cell_type": "markdown",
   "metadata": {},
   "source": [
    "____\n",
    "\n",
    "- **Recall**: the following two ways to decorate `my_func` with our old version of `timed` are equivalent:\n",
    "\n",
    "**`@` Method**\n",
    "```python\n",
    "@timed\n",
    "def my_func():\n",
    "    # Do something\n",
    "```\n",
    "\n",
    "\n",
    "**Other Method**\n",
    "```python\n",
    "def my_func():\n",
    "    # Do something\n",
    "    \n",
    "my_func = timed(my_func)\n",
    "```\n",
    "\n",
    "- As we can see, to translate the Other Method to the `@` Method, we just:\n",
    "    1. Took the `timed(my_func)` line\n",
    "    2. Removed the parameter `my_func` (i.e. parentheses)\n",
    "    3. Put it above the function with the `@` symbol\n",
    "____"
   ]
  },
  {
   "cell_type": "markdown",
   "metadata": {},
   "source": [
    "- So, with our new line `my_func = outer(10)(my_func)`, the equivalent would be:\n",
    "\n",
    "```python\n",
    "@outer(10)\n",
    "def my_func():\n",
    "    # Do something\n",
    "```"
   ]
  },
  {
   "cell_type": "markdown",
   "metadata": {},
   "source": [
    "- Boom!\n",
    "    - We're done!"
   ]
  },
  {
   "cell_type": "markdown",
   "metadata": {},
   "source": [
    "____\n",
    "\n",
    "# Examples"
   ]
  },
  {
   "cell_type": "code",
   "execution_count": 5,
   "metadata": {},
   "outputs": [],
   "source": [
    "def dec_factory():\n",
    "    print('running dec_factory')\n",
    "    \n",
    "    def dec(fn):\n",
    "        print('running dec')\n",
    "        \n",
    "        def inner(*args, **kwargs):\n",
    "            print('running inner')\n",
    "            return fn(*args, **kwargs)\n",
    "        \n",
    "        return inner\n",
    "    \n",
    "    return dec"
   ]
  },
  {
   "cell_type": "code",
   "execution_count": 6,
   "metadata": {},
   "outputs": [
    {
     "name": "stdout",
     "output_type": "stream",
     "text": [
      "running dec_factory\n"
     ]
    }
   ],
   "source": [
    "dec = dec_factory()"
   ]
  },
  {
   "cell_type": "markdown",
   "metadata": {},
   "source": [
    "- As we can see, the decorator factory was used to create a decorator"
   ]
  },
  {
   "cell_type": "code",
   "execution_count": 7,
   "metadata": {},
   "outputs": [
    {
     "name": "stdout",
     "output_type": "stream",
     "text": [
      "running dec\n"
     ]
    }
   ],
   "source": [
    "@dec\n",
    "def my_func():\n",
    "    print('running my func')"
   ]
  },
  {
   "cell_type": "markdown",
   "metadata": {},
   "source": [
    "- Then, the decorator we created was used to decorate `my_func`"
   ]
  },
  {
   "cell_type": "code",
   "execution_count": 8,
   "metadata": {},
   "outputs": [
    {
     "name": "stdout",
     "output_type": "stream",
     "text": [
      "running inner\n",
      "running my func\n"
     ]
    }
   ],
   "source": [
    "my_func()"
   ]
  },
  {
   "cell_type": "markdown",
   "metadata": {},
   "source": [
    "- Finally, when we call `my_func`, it runs both `inner` and `my_func`\n",
    "    - This is because decorating `my_func` is equivalent to setting `my_func = dec(my_func)`, and `dec(my_func)` returns an instance of `inner`"
   ]
  },
  {
   "cell_type": "markdown",
   "metadata": {},
   "source": [
    "- An alternative way to equivalently decorate our function is:"
   ]
  },
  {
   "cell_type": "code",
   "execution_count": 10,
   "metadata": {},
   "outputs": [
    {
     "name": "stdout",
     "output_type": "stream",
     "text": [
      "running dec_factory\n",
      "running dec\n"
     ]
    }
   ],
   "source": [
    "@dec_factory()\n",
    "def my_func():\n",
    "    print('running my func')"
   ]
  },
  {
   "cell_type": "markdown",
   "metadata": {},
   "source": [
    "- In this example, it runs `decorator_factory`, then decorates `my_func` in a single step"
   ]
  }
 ],
 "metadata": {
  "kernelspec": {
   "display_name": "Python 3",
   "language": "python",
   "name": "python3"
  },
  "language_info": {
   "codemirror_mode": {
    "name": "ipython",
    "version": 3
   },
   "file_extension": ".py",
   "mimetype": "text/x-python",
   "name": "python",
   "nbconvert_exporter": "python",
   "pygments_lexer": "ipython3",
   "version": "3.7.7"
  }
 },
 "nbformat": 4,
 "nbformat_minor": 4
}
