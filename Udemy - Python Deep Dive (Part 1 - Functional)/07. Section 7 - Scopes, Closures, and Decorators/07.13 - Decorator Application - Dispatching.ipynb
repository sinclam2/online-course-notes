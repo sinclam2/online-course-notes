{
 "cells": [
  {
   "cell_type": "markdown",
   "metadata": {},
   "source": [
    "# What is overloading?\n",
    "\n",
    "- In other languages, we can have multiple functions assigned to a single name\n",
    "    - As long as the signatures are different\n",
    "        - i.e. the data types of our parameters determines which function to use"
   ]
  },
  {
   "cell_type": "markdown",
   "metadata": {},
   "source": [
    "- This doesn't exist in Python since we don't have static typing\n",
    "    - Therefore, function signatures aren't really a thing"
   ]
  },
  {
   "cell_type": "markdown",
   "metadata": {},
   "source": [
    "- Instead, we can use **single dispatch generic functions**\n",
    "    - Allows us to something similar"
   ]
  },
  {
   "cell_type": "markdown",
   "metadata": {},
   "source": [
    "# How do we use single dispatch generic functions?\n",
    "\n",
    "- Let's consider an example where we're translating HTML"
   ]
  },
  {
   "cell_type": "code",
   "execution_count": 2,
   "metadata": {},
   "outputs": [],
   "source": [
    "from html import escape"
   ]
  },
  {
   "cell_type": "code",
   "execution_count": 3,
   "metadata": {},
   "outputs": [],
   "source": [
    "def html_escape(arg):\n",
    "    return escape(str(arg))"
   ]
  },
  {
   "cell_type": "code",
   "execution_count": 4,
   "metadata": {},
   "outputs": [],
   "source": [
    "def html_int(a):\n",
    "    return f'{a}(<i>{str(hex(a))}</i>)'"
   ]
  },
  {
   "cell_type": "code",
   "execution_count": 5,
   "metadata": {},
   "outputs": [],
   "source": [
    "def html_real(a):\n",
    "    return '{0:.2f}'.format(round(a, 2))"
   ]
  },
  {
   "cell_type": "code",
   "execution_count": 6,
   "metadata": {},
   "outputs": [],
   "source": [
    "def html_str(s):\n",
    "    return html_escape(s).replace('\\n', '<br/>\\n')"
   ]
  },
  {
   "cell_type": "code",
   "execution_count": 7,
   "metadata": {},
   "outputs": [],
   "source": [
    "def html_list(l):\n",
    "    items = (f'<li>{html_escape(i)}<\\li>' for i in l)\n",
    "    \n",
    "    return '<ul>\\n' + '\\n'.join(items) + '\\n</ul>'"
   ]
  },
  {
   "cell_type": "code",
   "execution_count": 8,
   "metadata": {},
   "outputs": [],
   "source": [
    "def html_dict(d):\n",
    "    items = (f'<li>{k}={v}<\\li>' for k,v in d.items())\n",
    "    \n",
    "    return '<ul>\\n' + '\\n'.join(items) + '\\n</ul>'"
   ]
  },
  {
   "cell_type": "code",
   "execution_count": 9,
   "metadata": {},
   "outputs": [],
   "source": [
    "var = \"\"\"\n",
    "this\n",
    "is\n",
    "a\n",
    "multi\n",
    "line string with special\n",
    "characters: 10 < 100\n",
    "\"\"\""
   ]
  },
  {
   "cell_type": "code",
   "execution_count": 10,
   "metadata": {},
   "outputs": [
    {
     "name": "stdout",
     "output_type": "stream",
     "text": [
      "<br/>\n",
      "this<br/>\n",
      "is<br/>\n",
      "a<br/>\n",
      "multi<br/>\n",
      "line string with special<br/>\n",
      "characters: 10 &lt; 100<br/>\n",
      "\n"
     ]
    }
   ],
   "source": [
    "print(html_str(var))"
   ]
  },
  {
   "cell_type": "code",
   "execution_count": 11,
   "metadata": {},
   "outputs": [
    {
     "name": "stdout",
     "output_type": "stream",
     "text": [
      "255(<i>0xff</i>)\n"
     ]
    }
   ],
   "source": [
    "print(html_int(255))"
   ]
  },
  {
   "cell_type": "code",
   "execution_count": 12,
   "metadata": {},
   "outputs": [
    {
     "name": "stdout",
     "output_type": "stream",
     "text": [
      "(3+10j)\n"
     ]
    }
   ],
   "source": [
    "print(html_escape(3+10j))"
   ]
  },
  {
   "cell_type": "markdown",
   "metadata": {},
   "source": [
    "- We want to be able to support Decimals"
   ]
  },
  {
   "cell_type": "code",
   "execution_count": 13,
   "metadata": {},
   "outputs": [],
   "source": [
    "from decimal import Decimal"
   ]
  },
  {
   "cell_type": "markdown",
   "metadata": {},
   "source": [
    "- Now, we'll write our dispatch function"
   ]
  },
  {
   "cell_type": "code",
   "execution_count": 14,
   "metadata": {},
   "outputs": [],
   "source": [
    "def htmlize(arg):\n",
    "    if isinstance(arg, int):\n",
    "        return html_int(arg)\n",
    "    elif isinstance(arg, float) or isinstance(arg, Decimal):\n",
    "        return html_real(arg)\n",
    "    elif isinstance(arg, str):\n",
    "        return html_str(arg)\n",
    "    elif isinstance(arg, list) or isinstance(arg, tuple):\n",
    "        return html_list(arg)\n",
    "    elif isinstance(arg, dict):\n",
    "        return html_dict(arg)\n",
    "    else:\n",
    "        return html_escape(arg)"
   ]
  },
  {
   "cell_type": "code",
   "execution_count": 15,
   "metadata": {},
   "outputs": [
    {
     "data": {
      "text/plain": [
       "'100(<i>0x64</i>)'"
      ]
     },
     "execution_count": 15,
     "metadata": {},
     "output_type": "execute_result"
    }
   ],
   "source": [
    "htmlize(100)"
   ]
  },
  {
   "cell_type": "code",
   "execution_count": 16,
   "metadata": {},
   "outputs": [
    {
     "data": {
      "text/plain": [
       "'<br/>\\nthis<br/>\\nis<br/>\\na<br/>\\nmulti<br/>\\nline string with special<br/>\\ncharacters: 10 &lt; 100<br/>\\n'"
      ]
     },
     "execution_count": 16,
     "metadata": {},
     "output_type": "execute_result"
    }
   ],
   "source": [
    "htmlize(var)"
   ]
  },
  {
   "cell_type": "markdown",
   "metadata": {},
   "source": [
    "# Will we run into issues with our code so far?\n",
    "\n",
    "- Yes\n",
    "    - There are actual problems with our code\n",
    "    - There are also prblems with how we're solving our problem"
   ]
  },
  {
   "cell_type": "code",
   "execution_count": 17,
   "metadata": {},
   "outputs": [
    {
     "name": "stdout",
     "output_type": "stream",
     "text": [
      "<ul>\n",
      "<li>1<\\li>\n",
      "<li>2<\\li>\n",
      "<li>3<\\li>\n",
      "</ul>\n"
     ]
    }
   ],
   "source": [
    "print(htmlize([1,2,3]))"
   ]
  },
  {
   "cell_type": "markdown",
   "metadata": {},
   "source": [
    "- That worked fine\n",
    "    - But what if our list contained both multi-line text, a tuple of integers, and an integer"
   ]
  },
  {
   "cell_type": "code",
   "execution_count": 19,
   "metadata": {},
   "outputs": [
    {
     "name": "stdout",
     "output_type": "stream",
     "text": [
      "<ul>\n",
      "<li>\n",
      "h\n",
      "e\n",
      "l\n",
      "l\n",
      "o<\\li>\n",
      "<li>(1, 2)<\\li>\n",
      "<li>100<\\li>\n",
      "</ul>\n"
     ]
    }
   ],
   "source": [
    "print(htmlize([\"\"\"\n",
    "h\n",
    "e\n",
    "l\n",
    "l\n",
    "o\"\"\", (1,2), 100]))"
   ]
  },
  {
   "cell_type": "markdown",
   "metadata": {},
   "source": [
    "- This isn't right\n",
    "    - The elements of the list need to be `htmlize`-d themselves\n",
    "        - This means we need to change the code to:"
   ]
  },
  {
   "cell_type": "code",
   "execution_count": 20,
   "metadata": {},
   "outputs": [],
   "source": [
    "def html_list(l):\n",
    "    items = (f'<li>{htmlize(i)}<\\li>' for i in l)\n",
    "    \n",
    "    return '<ul>\\n' + '\\n'.join(items) + '\\n</ul>'"
   ]
  },
  {
   "cell_type": "markdown",
   "metadata": {},
   "source": [
    "- **But wait a minute!**\n",
    "    - *`htmlize` was originally defined **after** `html_list`\n",
    "        - *Won't this cause an error?*\n",
    "            - NO"
   ]
  },
  {
   "cell_type": "markdown",
   "metadata": {},
   "source": [
    "- In Python, this is allowed\n",
    "\n",
    "____\n",
    "\n",
    "**Example**"
   ]
  },
  {
   "cell_type": "code",
   "execution_count": 21,
   "metadata": {},
   "outputs": [],
   "source": [
    "def func_defined_first(a):\n",
    "    return func_defined_second(a)\n",
    "\n",
    "def func_defined_second(a):\n",
    "    return f'afadsfsdaf {a}'"
   ]
  },
  {
   "cell_type": "code",
   "execution_count": 22,
   "metadata": {},
   "outputs": [
    {
     "data": {
      "text/plain": [
       "'afadsfsdaf 10'"
      ]
     },
     "execution_count": 22,
     "metadata": {},
     "output_type": "execute_result"
    }
   ],
   "source": [
    "func_defined_first(10)"
   ]
  },
  {
   "cell_type": "markdown",
   "metadata": {},
   "source": [
    "- As we can see, even though `func_defined_second` is called in `func_defined_first` before it's even defined, it's alright\n",
    "    - **Only needs to be defined by the time it's called - NOT when it's defined**\n",
    "    \n",
    "___"
   ]
  },
  {
   "cell_type": "markdown",
   "metadata": {},
   "source": [
    "- But our approach is gonna cause problems\n",
    "    - Instead, we'd like `htmlize` to maintain a dictionary of functions\n",
    "        - To prove that we don't need to define them first, we can delete the previously defined functions"
   ]
  },
  {
   "cell_type": "code",
   "execution_count": 23,
   "metadata": {},
   "outputs": [],
   "source": [
    "del html_escape, html_int, html_real, html_str, html_list, html_dict"
   ]
  },
  {
   "cell_type": "markdown",
   "metadata": {},
   "source": [
    "- **Note**: if we have some dict `d`, then `d.get(key, alt)` gives us the value from the dict corresponding to the key\n",
    "    - If the key isn't found in `d`, it returns the `alt` value\n",
    "    \n",
    "___\n",
    "\n",
    "**Example**"
   ]
  },
  {
   "cell_type": "code",
   "execution_count": 24,
   "metadata": {},
   "outputs": [],
   "source": [
    "d = {1:'a', 2:'b'}"
   ]
  },
  {
   "cell_type": "code",
   "execution_count": 26,
   "metadata": {},
   "outputs": [
    {
     "data": {
      "text/plain": [
       "('a', 'b', 'alt')"
      ]
     },
     "execution_count": 26,
     "metadata": {},
     "output_type": "execute_result"
    }
   ],
   "source": [
    "d.get(1,'alt'), d.get(2,'alt'), d.get(3,'alt')"
   ]
  },
  {
   "cell_type": "markdown",
   "metadata": {},
   "source": [
    "____"
   ]
  },
  {
   "cell_type": "code",
   "execution_count": 28,
   "metadata": {},
   "outputs": [],
   "source": [
    "def htmlize(arg):\n",
    "    registry = {object: html_escape, \n",
    "                int: html_int, \n",
    "                float: html_real,\n",
    "                Decimal: html_real, \n",
    "                str: html_str, \n",
    "                list: html_list, \n",
    "                tuple: html_tuple, \n",
    "                set: html_set, \n",
    "                dict: html_dict}\n",
    "    \n",
    "    fn = registry.get(type(arg), registry[object])\n",
    "    return fn(arg)"
   ]
  },
  {
   "cell_type": "markdown",
   "metadata": {},
   "source": [
    "# Will this solution cause problems?\n",
    "\n",
    "- Possibly\n",
    "    - It's not ideal to hard-code the `registry` dictionary\n",
    "        - We can find a smarter solution"
   ]
  },
  {
   "cell_type": "markdown",
   "metadata": {},
   "source": [
    "- First, we'll create a new decorator that creates a dispatcher function"
   ]
  },
  {
   "cell_type": "code",
   "execution_count": 29,
   "metadata": {},
   "outputs": [],
   "source": [
    "def single_argument_dispatch(fn):\n",
    "    registry = {}\n",
    "    # Setting the default function\n",
    "    registry[object] = fn\n",
    "    \n",
    "    def inner(arg):\n",
    "        return registry[object](arg)\n",
    "    \n",
    "    return inner"
   ]
  },
  {
   "cell_type": "markdown",
   "metadata": {},
   "source": [
    "- *What is this decorator even doing?*\n",
    "    1. Takes the function we're defining\n",
    "    2. Creates a dictionary called `registry`\n",
    "    3. Sets our function from 1 as the default function in registry\n",
    "    4. Defines an `inner` function that simply runs `fn` on `arg`\n",
    "    5. Returns the `inner` function"
   ]
  },
  {
   "cell_type": "code",
   "execution_count": 30,
   "metadata": {},
   "outputs": [],
   "source": [
    "@single_argument_dispatch\n",
    "def htmlize(a):\n",
    "    return escape(str(a))"
   ]
  },
  {
   "cell_type": "code",
   "execution_count": 31,
   "metadata": {},
   "outputs": [
    {
     "data": {
      "text/plain": [
       "'1 &lt; 100'"
      ]
     },
     "execution_count": 31,
     "metadata": {},
     "output_type": "execute_result"
    }
   ],
   "source": [
    "htmlize('1 < 100')"
   ]
  },
  {
   "cell_type": "markdown",
   "metadata": {},
   "source": [
    "- Here, when we called `htmlize`, it actually called `inner`, which simply runs `escape(str('1 < 100'))`"
   ]
  },
  {
   "cell_type": "markdown",
   "metadata": {},
   "source": [
    "- Let's expand our decorator"
   ]
  },
  {
   "cell_type": "code",
   "execution_count": 36,
   "metadata": {},
   "outputs": [],
   "source": [
    "def single_argument_dispatch(fn):\n",
    "    registry = {}\n",
    "    # Setting the default function\n",
    "    registry[object] = fn\n",
    "    registry[int] = lambda a: f'{a}(<i>{str(hex(a))}</i>)'\n",
    "    registry[str] = lambda s: escape(s).replace('\\n', '<br/>\\n')\n",
    "    \n",
    "    def inner(arg):\n",
    "        f = registry.get(type(arg), registry[object])\n",
    "        return f(arg)\n",
    "    \n",
    "    return inner"
   ]
  },
  {
   "cell_type": "markdown",
   "metadata": {},
   "source": [
    "- Now, our registry contains two extra key-value pairs"
   ]
  },
  {
   "cell_type": "code",
   "execution_count": 37,
   "metadata": {},
   "outputs": [],
   "source": [
    "@single_argument_dispatch\n",
    "def htmlize(a):\n",
    "    return escape(str(a))"
   ]
  },
  {
   "cell_type": "code",
   "execution_count": 38,
   "metadata": {},
   "outputs": [
    {
     "data": {
      "text/plain": [
       "'1 &lt; 100'"
      ]
     },
     "execution_count": 38,
     "metadata": {},
     "output_type": "execute_result"
    }
   ],
   "source": [
    "htmlize('1 < 100')"
   ]
  },
  {
   "cell_type": "markdown",
   "metadata": {},
   "source": [
    "- Now, let's try it for an `int`"
   ]
  },
  {
   "cell_type": "code",
   "execution_count": 39,
   "metadata": {},
   "outputs": [
    {
     "data": {
      "text/plain": [
       "'100(<i>0x64</i>)'"
      ]
     },
     "execution_count": 39,
     "metadata": {},
     "output_type": "execute_result"
    }
   ],
   "source": [
    "htmlize(100)"
   ]
  },
  {
   "cell_type": "markdown",
   "metadata": {},
   "source": [
    "- Ok, looks like it worked"
   ]
  },
  {
   "cell_type": "markdown",
   "metadata": {},
   "source": [
    "- *But how is this different from our previous `htmlize` function?*\n",
    "    - We still need to hard-code the lambda functions\n",
    "        - Our solution should **feed in functions from the outside**"
   ]
  },
  {
   "cell_type": "markdown",
   "metadata": {},
   "source": [
    "- New decorator:"
   ]
  },
  {
   "cell_type": "code",
   "execution_count": 45,
   "metadata": {},
   "outputs": [],
   "source": [
    "def single_argument_dispatch(fn):\n",
    "    registry = {}\n",
    "    # Setting the default function\n",
    "    registry[object] = fn\n",
    "    \n",
    "    def decorated_function(arg):\n",
    "        f = registry.get(type(arg), registry[object])\n",
    "        return f(arg)\n",
    "    \n",
    "    # Creating a decorator factory INSIDE our decorator\n",
    "    def register(type_):\n",
    "        def inner(fn):\n",
    "            registry[type_] = fn\n",
    "            return fn\n",
    "        return inner\n",
    "    \n",
    "    return decorated_function"
   ]
  },
  {
   "cell_type": "code",
   "execution_count": 46,
   "metadata": {},
   "outputs": [],
   "source": [
    "@single_argument_dispatch\n",
    "def htmlize(a):\n",
    "    return escape(str(a))"
   ]
  },
  {
   "cell_type": "code",
   "execution_count": 48,
   "metadata": {},
   "outputs": [
    {
     "data": {
      "text/plain": [
       "'1 &lt; 100'"
      ]
     },
     "execution_count": 48,
     "metadata": {},
     "output_type": "execute_result"
    }
   ],
   "source": [
    "htmlize('1 < 100')"
   ]
  },
  {
   "cell_type": "markdown",
   "metadata": {},
   "source": [
    "- It worked as expected, but let's try an `int`"
   ]
  },
  {
   "cell_type": "code",
   "execution_count": 49,
   "metadata": {},
   "outputs": [
    {
     "data": {
      "text/plain": [
       "'100'"
      ]
     },
     "execution_count": 49,
     "metadata": {},
     "output_type": "execute_result"
    }
   ],
   "source": [
    "htmlize(100)"
   ]
  },
  {
   "cell_type": "markdown",
   "metadata": {},
   "source": [
    "- That didn't format it at all\n",
    "    - Because we never added it to the `registry`"
   ]
  },
  {
   "cell_type": "markdown",
   "metadata": {},
   "source": [
    "- *How can we add it to the `registry`?*"
   ]
  },
  {
   "cell_type": "code",
   "execution_count": 50,
   "metadata": {},
   "outputs": [],
   "source": [
    "def single_argument_dispatch(fn):\n",
    "    registry = {}\n",
    "    # Setting the default function\n",
    "    registry[object] = fn\n",
    "    \n",
    "    def decorated_function(arg):\n",
    "        f = registry.get(type(arg), registry[object])\n",
    "        return f(arg)\n",
    "    \n",
    "    # Creating a decorator factory INSIDE our decorator\n",
    "    def register(type_):\n",
    "        def inner(fn):\n",
    "            registry[type_] = fn\n",
    "            return fn\n",
    "        return inner\n",
    "    \n",
    "    # Adding register as a method of the decorated function\n",
    "    decorated_function.register = register\n",
    "    \n",
    "    return decorated_function"
   ]
  },
  {
   "cell_type": "markdown",
   "metadata": {},
   "source": [
    "- **Recall**: we can set one function as a method of another\n",
    "\n",
    "___\n",
    "\n",
    "**Example**"
   ]
  },
  {
   "cell_type": "code",
   "execution_count": 51,
   "metadata": {},
   "outputs": [],
   "source": [
    "d = lambda x: x\n",
    "e = lambda y: y+1\n",
    "d.e = e"
   ]
  },
  {
   "cell_type": "code",
   "execution_count": 53,
   "metadata": {},
   "outputs": [
    {
     "data": {
      "text/plain": [
       "(1, 2, 2)"
      ]
     },
     "execution_count": 53,
     "metadata": {},
     "output_type": "execute_result"
    }
   ],
   "source": [
    "d(1), e(1), d.e(1)"
   ]
  },
  {
   "cell_type": "markdown",
   "metadata": {},
   "source": [
    "____"
   ]
  },
  {
   "cell_type": "code",
   "execution_count": 54,
   "metadata": {},
   "outputs": [],
   "source": [
    "@single_argument_dispatch\n",
    "def htmlize(a):\n",
    "    return escape(str(a))"
   ]
  },
  {
   "cell_type": "markdown",
   "metadata": {},
   "source": [
    "- Our new version of `htmlize` has the built-in method `register`"
   ]
  },
  {
   "cell_type": "code",
   "execution_count": 55,
   "metadata": {},
   "outputs": [
    {
     "data": {
      "text/plain": [
       "<function __main__.single_argument_dispatch.<locals>.register(type_)>"
      ]
     },
     "execution_count": 55,
     "metadata": {},
     "output_type": "execute_result"
    }
   ],
   "source": [
    "htmlize.register"
   ]
  },
  {
   "cell_type": "markdown",
   "metadata": {},
   "source": [
    "### Recap\n",
    "\n",
    "1. *Why did we define `htmlize` to simply return `escape(str(a))`?*\n",
    "    - Because that's the most basic thing it needs to do\n",
    "        - **That's why we set `registry[object] = fn` in our decorator**\n",
    "            - If the `arg` fed into it is some generic object, that's what runs\n",
    "2. *What about the other `htmlize` functions?*\n",
    "    - We created our decorator to enable them to be added later"
   ]
  },
  {
   "cell_type": "markdown",
   "metadata": {},
   "source": [
    "**Line-by-line review**"
   ]
  },
  {
   "cell_type": "markdown",
   "metadata": {},
   "source": [
    "```python\n",
    "def single_argument_dispatch(fn):\n",
    "    registry = {}\n",
    "    # Setting the default function\n",
    "    registry[object] = fn\n",
    "```\n",
    "\n",
    "- So far, our decorator:\n",
    "    1. Takes the function we want to decorate\n",
    "        - In this case, it'll be the basic version of `htmlize`\n",
    "    2. Creates an empty dictionary called `registry`\n",
    "        - **Note**: this registry will be in the non-local scope of our `htmlize` function\n",
    "            - i.e. when we define the function and decorate it, the `registry` will forever be associated with the function\n",
    "    3. Defines our default function in the registry as the function we fed in"
   ]
  },
  {
   "cell_type": "markdown",
   "metadata": {},
   "source": [
    "```python\n",
    "    # Creating a decorator factory INSIDE our decorator\n",
    "    def register(type_):\n",
    "        def inner(fn):\n",
    "            registry[type_] = fn\n",
    "            return fn\n",
    "        return inner\n",
    "```\n",
    "\n",
    "- This part is confusing\n",
    "    - It creates a decorator that we feed in the data type before the definition\n",
    "        - Now, whatever function we define gets added to the `registry`\n",
    "        \n",
    "        \n",
    "```python\n",
    "    # Adding register as a method of the decorated function\n",
    "    decorated_function.register = register\n",
    "    \n",
    "    return decorated_function\n",
    "```\n",
    "\n",
    "- This simply associates our new decorator with the function"
   ]
  },
  {
   "cell_type": "markdown",
   "metadata": {},
   "source": [
    "- Let's add a new function to the registry"
   ]
  },
  {
   "cell_type": "code",
   "execution_count": 56,
   "metadata": {},
   "outputs": [],
   "source": [
    "@htmlize.register(int)\n",
    "def html_int(a):\n",
    "    return f'{a}(<i>{str(hex(a))}</i>)'"
   ]
  },
  {
   "cell_type": "markdown",
   "metadata": {},
   "source": [
    "- Now, let's test it"
   ]
  },
  {
   "cell_type": "code",
   "execution_count": 57,
   "metadata": {},
   "outputs": [
    {
     "data": {
      "text/plain": [
       "'100(<i>0x64</i>)'"
      ]
     },
     "execution_count": 57,
     "metadata": {},
     "output_type": "execute_result"
    }
   ],
   "source": [
    "htmlize(100)"
   ]
  },
  {
   "cell_type": "markdown",
   "metadata": {},
   "source": [
    "- It worked!"
   ]
  },
  {
   "cell_type": "code",
   "execution_count": 58,
   "metadata": {},
   "outputs": [],
   "source": [
    "@htmlize.register(list)\n",
    "def html_list(l):\n",
    "    items = (f'<li>{htmlize(i)}<\\li>' for i in l)\n",
    "    \n",
    "    return '<ul>\\n' + '\\n'.join(items) + '\\n</ul>'"
   ]
  },
  {
   "cell_type": "markdown",
   "metadata": {},
   "source": [
    "- **Recall**: this is the same as:\n",
    "\n",
    "```python\n",
    "html_list = htmlize.register(list)(html_list)\n",
    "```"
   ]
  },
  {
   "cell_type": "markdown",
   "metadata": {},
   "source": [
    "- But we didn't notice something - we can stack the decorators!"
   ]
  },
  {
   "cell_type": "code",
   "execution_count": 59,
   "metadata": {},
   "outputs": [],
   "source": [
    "@htmlize.register(tuple)\n",
    "@htmlize.register(list)\n",
    "def html_list(l):\n",
    "    items = (f'<li>{htmlize(i)}<\\li>' for i in l)\n",
    "    \n",
    "    return '<ul>\\n' + '\\n'.join(items) + '\\n</ul>'"
   ]
  },
  {
   "cell_type": "code",
   "execution_count": 60,
   "metadata": {},
   "outputs": [
    {
     "data": {
      "text/plain": [
       "'<ul>\\n<li>1(<i>0x1</i>)<\\\\li>\\n<li>2(<i>0x2</i>)<\\\\li>\\n<li>3(<i>0x3</i>)<\\\\li>\\n</ul>'"
      ]
     },
     "execution_count": 60,
     "metadata": {},
     "output_type": "execute_result"
    }
   ],
   "source": [
    "htmlize([1,2,3])"
   ]
  },
  {
   "cell_type": "markdown",
   "metadata": {},
   "source": [
    "# Will looking up the type of `arg` cause problems?\n",
    "\n",
    "- Yes\n",
    "    - Consider `True`"
   ]
  },
  {
   "cell_type": "code",
   "execution_count": 61,
   "metadata": {},
   "outputs": [
    {
     "data": {
      "text/plain": [
       "'True'"
      ]
     },
     "execution_count": 61,
     "metadata": {},
     "output_type": "execute_result"
    }
   ],
   "source": [
    "htmlize(True)"
   ]
  },
  {
   "cell_type": "markdown",
   "metadata": {},
   "source": [
    "- Ideally, this would recognize `True` as an integral number"
   ]
  },
  {
   "cell_type": "markdown",
   "metadata": {},
   "source": [
    "- Let's try something new"
   ]
  },
  {
   "cell_type": "code",
   "execution_count": 62,
   "metadata": {},
   "outputs": [],
   "source": [
    "from numbers import Integral"
   ]
  },
  {
   "cell_type": "code",
   "execution_count": 65,
   "metadata": {},
   "outputs": [
    {
     "data": {
      "text/plain": [
       "True"
      ]
     },
     "execution_count": 65,
     "metadata": {},
     "output_type": "execute_result"
    }
   ],
   "source": [
    "isinstance(True, Integral)"
   ]
  },
  {
   "cell_type": "markdown",
   "metadata": {},
   "source": [
    "- *What's the difference between `isinstance` and looking up the type?*\n",
    "    - It recognizes sub-class types\n",
    "    \n",
    "___\n",
    "\n",
    "**Example**"
   ]
  },
  {
   "cell_type": "code",
   "execution_count": 66,
   "metadata": {},
   "outputs": [],
   "source": [
    "class Person:\n",
    "    pass"
   ]
  },
  {
   "cell_type": "code",
   "execution_count": 67,
   "metadata": {},
   "outputs": [],
   "source": [
    "class Student(Person):\n",
    "    pass"
   ]
  },
  {
   "cell_type": "code",
   "execution_count": 68,
   "metadata": {},
   "outputs": [],
   "source": [
    "p = Student()"
   ]
  },
  {
   "cell_type": "code",
   "execution_count": 69,
   "metadata": {},
   "outputs": [
    {
     "data": {
      "text/plain": [
       "__main__.Student"
      ]
     },
     "execution_count": 69,
     "metadata": {},
     "output_type": "execute_result"
    }
   ],
   "source": [
    "type(p)"
   ]
  },
  {
   "cell_type": "markdown",
   "metadata": {},
   "source": [
    "- Recognizes the object type"
   ]
  },
  {
   "cell_type": "code",
   "execution_count": 70,
   "metadata": {},
   "outputs": [
    {
     "data": {
      "text/plain": [
       "True"
      ]
     },
     "execution_count": 70,
     "metadata": {},
     "output_type": "execute_result"
    }
   ],
   "source": [
    "isinstance(p, Person)"
   ]
  },
  {
   "cell_type": "markdown",
   "metadata": {},
   "source": [
    "- Also recognizes that it's a `Person`\n",
    "    - A `Student` is also a `Person` though inheritance\n",
    "        - This wouldn't be recognized if we only checked the type"
   ]
  },
  {
   "cell_type": "markdown",
   "metadata": {},
   "source": [
    "___\n",
    "\n",
    "- Now, let's say we want to define a function for integral numbers\n",
    "    - First, let's redefine our `htmlize` function"
   ]
  },
  {
   "cell_type": "code",
   "execution_count": 75,
   "metadata": {},
   "outputs": [],
   "source": [
    "@single_argument_dispatch\n",
    "def htmlize(a):\n",
    "    return escape(str(a))"
   ]
  },
  {
   "cell_type": "code",
   "execution_count": 76,
   "metadata": {},
   "outputs": [],
   "source": [
    "@htmlize.register(Integral)\n",
    "def html_integral_number(a):\n",
    "    return f'{a}(<i>{str(hex(a))}</i>)'"
   ]
  },
  {
   "cell_type": "markdown",
   "metadata": {},
   "source": [
    "- Now, let's confirm that 10 is an integral number"
   ]
  },
  {
   "cell_type": "code",
   "execution_count": 77,
   "metadata": {},
   "outputs": [
    {
     "data": {
      "text/plain": [
       "True"
      ]
     },
     "execution_count": 77,
     "metadata": {},
     "output_type": "execute_result"
    }
   ],
   "source": [
    "isinstance(10, Integral)"
   ]
  },
  {
   "cell_type": "code",
   "execution_count": 78,
   "metadata": {},
   "outputs": [
    {
     "data": {
      "text/plain": [
       "'10'"
      ]
     },
     "execution_count": 78,
     "metadata": {},
     "output_type": "execute_result"
    }
   ],
   "source": [
    "htmlize(10)"
   ]
  },
  {
   "cell_type": "markdown",
   "metadata": {},
   "source": [
    "- As we can see, our function didn't recognize 10 as an integral number\n",
    "    - We need to fix this by using `isinstance` in our decorator"
   ]
  }
 ],
 "metadata": {
  "kernelspec": {
   "display_name": "Python 3",
   "language": "python",
   "name": "python3"
  },
  "language_info": {
   "codemirror_mode": {
    "name": "ipython",
    "version": 3
   },
   "file_extension": ".py",
   "mimetype": "text/x-python",
   "name": "python",
   "nbconvert_exporter": "python",
   "pygments_lexer": "ipython3",
   "version": "3.7.7"
  }
 },
 "nbformat": 4,
 "nbformat_minor": 4
}
