{
 "cells": [
  {
   "cell_type": "markdown",
   "metadata": {},
   "source": [
    "# Have we seen decorators before?\n",
    "\n",
    "- Yes!\n",
    "    - In the last video, we created a function to count the number of times a function has been called"
   ]
  },
  {
   "cell_type": "code",
   "execution_count": 1,
   "metadata": {},
   "outputs": [],
   "source": [
    "def counter(fn):\n",
    "    cnt = 0\n",
    "    def inner(*args, **kwargs):\n",
    "        nonlocal cnt\n",
    "        cnt += 1\n",
    "        print(f'{fn.__name__} has been called {cnt} times')\n",
    "        return fn(*args, **kwargs)\n",
    "    return inner"
   ]
  },
  {
   "cell_type": "markdown",
   "metadata": {},
   "source": [
    "- Now, we can count the number of times we use a function\n",
    "    - For example, `add`:"
   ]
  },
  {
   "cell_type": "code",
   "execution_count": 2,
   "metadata": {},
   "outputs": [],
   "source": [
    "def add(a, b=0):\n",
    "    return a + b"
   ]
  },
  {
   "cell_type": "code",
   "execution_count": 3,
   "metadata": {},
   "outputs": [],
   "source": [
    "add = counter(add)"
   ]
  },
  {
   "cell_type": "markdown",
   "metadata": {},
   "source": [
    "- We've overwritten the original `add` function with the `counter` version\n",
    "    - Now, whenever we call `add`, it'll print the count"
   ]
  },
  {
   "cell_type": "code",
   "execution_count": 4,
   "metadata": {},
   "outputs": [
    {
     "name": "stdout",
     "output_type": "stream",
     "text": [
      "add has been called 1 times\n"
     ]
    }
   ],
   "source": [
    "result = add(1, 2)"
   ]
  },
  {
   "cell_type": "code",
   "execution_count": 5,
   "metadata": {},
   "outputs": [
    {
     "data": {
      "text/plain": [
       "3"
      ]
     },
     "execution_count": 5,
     "metadata": {},
     "output_type": "execute_result"
    }
   ],
   "source": [
    "result"
   ]
  },
  {
   "cell_type": "markdown",
   "metadata": {},
   "source": [
    "- In conclusion, we've modified our original `add` function by wrapping it inside another function\n",
    "    - By doing this, we've added additional functionality\n",
    "        - We say: we **decorated our function** `add` with `counter`"
   ]
  },
  {
   "cell_type": "markdown",
   "metadata": {},
   "source": [
    "- Here, `counter` is called a **decorator function**"
   ]
  },
  {
   "cell_type": "markdown",
   "metadata": {},
   "source": [
    "# In general, what is a decorator?\n",
    "\n",
    "- General rules:\n",
    "    1. takes a function as an argument\n",
    "    2. returns a closure\n",
    "        - i.e. combines the original function with some extra variables\n",
    "    3. usually accepts any combination of parameters\n",
    "        - because of the `*args` and `**kwargs` in the `inner` function definition\n",
    "    4. runs some code in the inner function\n",
    "        - E.g. count, print, etc.\n",
    "    5. the returned closure function calls the original function using the arguments passed in"
   ]
  },
  {
   "cell_type": "markdown",
   "metadata": {},
   "source": [
    "![](images/decorator.PNG)"
   ]
  },
  {
   "cell_type": "markdown",
   "metadata": {},
   "source": [
    "# What is the `@` symbol?\n",
    "\n",
    "- A convenience of Python\n",
    "- In the previous example, `counter` was a decorator\n",
    "    - We \"decorated\" our add function using:\n",
    "    \n",
    "```python\n",
    "def counter(fn):\n",
    "    cnt = 0\n",
    "    def inner(*args, **kwargs):\n",
    "        nonlocal cnt\n",
    "        cnt += 1\n",
    "        print(f'{fn.__name__} has been called {cnt} times')\n",
    "        return fn(*args, **kwargs)\n",
    "    return inner\n",
    "\n",
    "def add(a, b=0):\n",
    "    return a + b\n",
    "\n",
    "add = counter(add)\n",
    "```"
   ]
  },
  {
   "cell_type": "markdown",
   "metadata": {},
   "source": [
    "- This is so common in Python, we could've alternatively done it by:\n",
    "\n",
    "```python\n",
    "def counter(fn):\n",
    "    cnt = 0\n",
    "    def inner(*args, **kwargs):\n",
    "        nonlocal cnt\n",
    "        cnt += 1\n",
    "        print(f'{fn.__name__} has been called {cnt} times')\n",
    "        return fn(*args, **kwargs)\n",
    "    return inner\n",
    "\n",
    "@counter\n",
    "def add(a, b=0):\n",
    "    return a + b\n",
    "```"
   ]
  },
  {
   "cell_type": "markdown",
   "metadata": {},
   "source": [
    "- As we can see, instead of overwriting `add` with `counter(add)`, we just had to use `@counter` before the definition of `add` in the first place"
   ]
  },
  {
   "cell_type": "markdown",
   "metadata": {},
   "source": [
    "- Let's try using this new syntax"
   ]
  },
  {
   "cell_type": "code",
   "execution_count": 6,
   "metadata": {},
   "outputs": [],
   "source": [
    "@counter\n",
    "def mult(a, b, c=1):\n",
    "    \"\"\"\n",
    "        returns the product of three values\n",
    "    \"\"\"\n",
    "    return a * b * c"
   ]
  },
  {
   "cell_type": "code",
   "execution_count": 7,
   "metadata": {},
   "outputs": [
    {
     "data": {
      "text/plain": [
       "'inner'"
      ]
     },
     "execution_count": 7,
     "metadata": {},
     "output_type": "execute_result"
    }
   ],
   "source": [
    "mult.__name__"
   ]
  },
  {
   "cell_type": "markdown",
   "metadata": {},
   "source": [
    "- Ah!\n",
    "    - Took on the name of the function returned by `counter`\n",
    "        - Therefore, we got `inner`"
   ]
  },
  {
   "cell_type": "code",
   "execution_count": 8,
   "metadata": {},
   "outputs": [
    {
     "name": "stdout",
     "output_type": "stream",
     "text": [
      "Help on function inner in module __main__:\n",
      "\n",
      "inner(*args, **kwargs)\n",
      "\n"
     ]
    }
   ],
   "source": [
    "help(mult)"
   ]
  },
  {
   "cell_type": "markdown",
   "metadata": {},
   "source": [
    "- Instead of getting the documentation for `mult`, we got it for `inner`"
   ]
  },
  {
   "cell_type": "markdown",
   "metadata": {},
   "source": [
    "- *What if we wanted to maintain the original name and documentation?*\n",
    "    - We can overwrite the `inner` values"
   ]
  },
  {
   "cell_type": "code",
   "execution_count": 9,
   "metadata": {},
   "outputs": [],
   "source": [
    "def counter(fn):\n",
    "    cnt = 0\n",
    "    def inner(*args, **kwargs):\n",
    "        nonlocal cnt\n",
    "        cnt += 1\n",
    "        print(f'{fn.__name__} has been called {cnt} times')\n",
    "        return fn(*args, **kwargs)\n",
    "    inner.__name__ = fn.__name__\n",
    "    inner.__doc__ = fn.__doc__\n",
    "    return inner"
   ]
  },
  {
   "cell_type": "code",
   "execution_count": 10,
   "metadata": {},
   "outputs": [],
   "source": [
    "@counter\n",
    "def mult(a, b, c=1):\n",
    "    \"\"\"\n",
    "        returns the product of three values\n",
    "    \"\"\"\n",
    "    return a * b * c"
   ]
  },
  {
   "cell_type": "code",
   "execution_count": 11,
   "metadata": {},
   "outputs": [
    {
     "data": {
      "text/plain": [
       "'mult'"
      ]
     },
     "execution_count": 11,
     "metadata": {},
     "output_type": "execute_result"
    }
   ],
   "source": [
    "mult.__name__"
   ]
  },
  {
   "cell_type": "code",
   "execution_count": 12,
   "metadata": {},
   "outputs": [
    {
     "name": "stdout",
     "output_type": "stream",
     "text": [
      "Help on function mult in module __main__:\n",
      "\n",
      "mult(*args, **kwargs)\n",
      "    returns the product of three values\n",
      "\n"
     ]
    }
   ],
   "source": [
    "help(mult)"
   ]
  },
  {
   "cell_type": "markdown",
   "metadata": {},
   "source": [
    "- This fixes these two issues\n",
    "    - *Is there a more general way to fix this?*\n",
    "        - Yes"
   ]
  },
  {
   "cell_type": "markdown",
   "metadata": {},
   "source": [
    "# What is `functools.wraps`?\n",
    "\n",
    "- We can use the built-in function to copy over all the metadata"
   ]
  },
  {
   "cell_type": "code",
   "execution_count": 13,
   "metadata": {},
   "outputs": [],
   "source": [
    "from functools import wraps"
   ]
  },
  {
   "cell_type": "code",
   "execution_count": 14,
   "metadata": {},
   "outputs": [],
   "source": [
    "def counter(fn):\n",
    "    cnt = 0\n",
    "    @wraps(fn)\n",
    "    def inner(*args, **kwargs):\n",
    "        nonlocal cnt\n",
    "        cnt += 1\n",
    "        print(f'{fn.__name__} has been called {cnt} times')\n",
    "        return fn(*args, **kwargs)\n",
    "    return inner"
   ]
  },
  {
   "cell_type": "code",
   "execution_count": 15,
   "metadata": {},
   "outputs": [],
   "source": [
    "@counter\n",
    "def mult(a, b, c=1):\n",
    "    \"\"\"\n",
    "        returns the product of three values\n",
    "    \"\"\"\n",
    "    return a * b * c"
   ]
  },
  {
   "cell_type": "code",
   "execution_count": 16,
   "metadata": {},
   "outputs": [
    {
     "data": {
      "text/plain": [
       "('mult', '\\n        returns the product of three values\\n    ')"
      ]
     },
     "execution_count": 16,
     "metadata": {},
     "output_type": "execute_result"
    }
   ],
   "source": [
    "mult.__name__, mult.__doc__"
   ]
  },
  {
   "cell_type": "markdown",
   "metadata": {},
   "source": [
    "- **Note**: we don't NEED to use `@wraps`\n",
    "    - However, it makes debugging a lot easier"
   ]
  }
 ],
 "metadata": {
  "kernelspec": {
   "display_name": "Python 3",
   "language": "python",
   "name": "python3"
  },
  "language_info": {
   "codemirror_mode": {
    "name": "ipython",
    "version": 3
   },
   "file_extension": ".py",
   "mimetype": "text/x-python",
   "name": "python",
   "nbconvert_exporter": "python",
   "pygments_lexer": "ipython3",
   "version": "3.7.7"
  }
 },
 "nbformat": 4,
 "nbformat_minor": 4
}
