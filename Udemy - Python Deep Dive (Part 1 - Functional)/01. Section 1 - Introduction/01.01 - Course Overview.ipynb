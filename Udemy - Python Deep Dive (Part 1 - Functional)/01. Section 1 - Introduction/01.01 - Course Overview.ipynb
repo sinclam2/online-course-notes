{
 "cells": [
  {
   "cell_type": "markdown",
   "metadata": {},
   "source": [
    "# What is this course about?\n",
    "\n",
    "1. The Python **language and built-in types**\n",
    "2. The **standard library**\n",
    "    - Not about third-party libraries\n",
    "    - Want to understand what's built-in\n",
    "3. Becoming an **expert** Python developer\n",
    "4. **Idiomatic Python**"
   ]
  },
  {
   "cell_type": "markdown",
   "metadata": {},
   "source": [
    "___\n",
    "\n",
    "# What is idiomatic Python?\n",
    "\n",
    "- The **Zen of Python** outlines what this means\n",
    "\n",
    "\n",
    "**Rules**\n",
    "\n",
    "- Beautiful is better than ugly.\n",
    "- Explicit is better than implicit.\n",
    "- Simple is better than complex.\n",
    "- Complex is better than complicated.\n",
    "- Flat is better than nested.\n",
    "- Sparse is better than dense.\n",
    "- Readability counts.\n",
    "- Special cases aren't special enough to break the rules.\n",
    "- Although practicality beats purity.\n",
    "- Errors should never pass silently.\n",
    "- Unless explicitly silenced.\n",
    "- In the face of ambiguity, refuse the temptation to guess.\n",
    "- There should be one-- and preferably only one --obvious way to do it.\n",
    "- Although that way may not be obvious at first unless you're Dutch.\n",
    "- Now is better than never.\n",
    "- Although never is often better than *right* now.\n",
    "- If the implementation is hard to explain, it's a bad idea.\n",
    "- If the implementation is easy to explain, it may be a good idea.\n",
    "- Namespaces are one honking great idea -- let's do more of those!"
   ]
  },
  {
   "cell_type": "markdown",
   "metadata": {},
   "source": [
    "___\n",
    "\n",
    "# What will the course cover?\n",
    "\n",
    "1. Quick refresher of Python\n",
    "2. Variables and memory\n",
    "3. Numeric types\n",
    "4. Booleans\n",
    "5. Functions\n",
    "6. Function arguments\n",
    "7. Function scopes and closures\n",
    "8. Decorators\n",
    "9. Tuples as data structures\n",
    "10. Modules, packages, and namespaces\n",
    "11. Extras"
   ]
  }
 ],
 "metadata": {
  "kernelspec": {
   "display_name": "Python 3",
   "language": "python",
   "name": "python3"
  },
  "language_info": {
   "codemirror_mode": {
    "name": "ipython",
    "version": 3
   },
   "file_extension": ".py",
   "mimetype": "text/x-python",
   "name": "python",
   "nbconvert_exporter": "python",
   "pygments_lexer": "ipython3",
   "version": "3.6.8"
  }
 },
 "nbformat": 4,
 "nbformat_minor": 2
}
