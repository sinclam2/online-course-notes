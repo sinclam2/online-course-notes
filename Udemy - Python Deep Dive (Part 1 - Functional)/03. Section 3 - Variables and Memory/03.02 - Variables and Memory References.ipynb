{
 "cells": [
  {
   "cell_type": "markdown",
   "metadata": {},
   "source": [
    "# What is memory?\n",
    "\n",
    "- We can think of memory as a series of slots\n",
    "    - We can store and retrieve data from the slots\n",
    "- Also similar to the mail system\n",
    "    - When we write a letter, we need to include the address of the recipient\n",
    "        - This address refers to a **unique** mailbox somewhere in the world\n",
    "            - For memory, we use an address to specify the unique location in memory where the information is stored\n",
    "- When we store data in memory, it can take up multiple addresses (i.e. the information is so big it requires multiple \"slots\")\n",
    "    - This works as long as we know the first address\n",
    "    \n",
    "![](images/memory_1.png)"
   ]
  },
  {
   "cell_type": "markdown",
   "metadata": {},
   "source": [
    "- In the example above:\n",
    "    - object 1 overflows from address 1000 into 1001\n",
    "    - object 2 overflows from address 1002, past 1003, and into 1004\n",
    "    - object 3 fits precisely in address 1005"
   ]
  },
  {
   "cell_type": "markdown",
   "metadata": {},
   "source": [
    "____\n",
    "\n",
    "# What is a heap?\n",
    "\n",
    "- In this context, the heap is the map of the addresses where our information is stored\n",
    "    - To retrieve information from the heap, we use the **Python Memory Manager**"
   ]
  },
  {
   "cell_type": "markdown",
   "metadata": {},
   "source": [
    "____\n",
    "\n",
    "# So how are variables stored in memory?\n",
    "\n",
    "- Let's say we define the following variable:\n",
    "\n",
    "```python\n",
    "my_var_1 = 10\n",
    "```\n",
    "\n",
    "- When this code is run, let's say it is assigned to address 1000\n",
    "\n",
    "- *So what is `my_var_1` then?*\n",
    "    - The variable name is basically an **alias** for the memory address 1000\n",
    "        - i.e. `my_var_1` **references** the object at 0x1000\n",
    "    \n",
    "![](images/memory_2.png)"
   ]
  },
  {
   "cell_type": "markdown",
   "metadata": {},
   "source": [
    "- So, this means that `my_var_1` doesn't really equal 10\n",
    "    - Instead, it equals the memory address 1000\n",
    "        - However, for all practical purposes, we can think of `my_var_1` being equal to 10"
   ]
  },
  {
   "cell_type": "markdown",
   "metadata": {},
   "source": [
    "___\n",
    "\n",
    "# How can we see what the memory address is for a variable?\n",
    "\n",
    "- Although it is uncommon to use it in day-to-day practice, we can use `id()` to get the address"
   ]
  },
  {
   "cell_type": "code",
   "execution_count": 1,
   "metadata": {},
   "outputs": [],
   "source": [
    "my_var = 1"
   ]
  },
  {
   "cell_type": "code",
   "execution_count": 2,
   "metadata": {},
   "outputs": [
    {
     "data": {
      "text/plain": [
       "1432846448"
      ]
     },
     "execution_count": 2,
     "metadata": {},
     "output_type": "execute_result"
    }
   ],
   "source": [
    "id(my_var)"
   ]
  },
  {
   "cell_type": "markdown",
   "metadata": {},
   "source": [
    "- This gives us the address as a base-10 number\n",
    "    - We can convert it to hexadecimal using the `hex()` function"
   ]
  },
  {
   "cell_type": "code",
   "execution_count": 3,
   "metadata": {},
   "outputs": [
    {
     "data": {
      "text/plain": [
       "'0x55678070'"
      ]
     },
     "execution_count": 3,
     "metadata": {},
     "output_type": "execute_result"
    }
   ],
   "source": [
    "hex(id(my_var))"
   ]
  }
 ],
 "metadata": {
  "kernelspec": {
   "display_name": "Python 3",
   "language": "python",
   "name": "python3"
  },
  "language_info": {
   "codemirror_mode": {
    "name": "ipython",
    "version": 3
   },
   "file_extension": ".py",
   "mimetype": "text/x-python",
   "name": "python",
   "nbconvert_exporter": "python",
   "pygments_lexer": "ipython3",
   "version": "3.6.8"
  }
 },
 "nbformat": 4,
 "nbformat_minor": 2
}
