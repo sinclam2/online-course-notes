{
 "cells": [
  {
   "cell_type": "markdown",
   "metadata": {},
   "source": [
    "# What will we cover in this section?\n",
    "\n",
    "1. Memory references\n",
    "    1. What variables really are\n",
    "    2. Memory management\n",
    "        1. Reference counting\n",
    "        2. Garbage collection\n",
    "    3. Dynamic vs. static typing\n",
    "    4. Mutability and immutability\n",
    "    5. Shared references\n",
    "    6. Variable equality\n",
    "    7. Everything is an object"
   ]
  }
 ],
 "metadata": {
  "kernelspec": {
   "display_name": "Python 3",
   "language": "python",
   "name": "python3"
  },
  "language_info": {
   "codemirror_mode": {
    "name": "ipython",
    "version": 3
   },
   "file_extension": ".py",
   "mimetype": "text/x-python",
   "name": "python",
   "nbconvert_exporter": "python",
   "pygments_lexer": "ipython3",
   "version": "3.6.8"
  }
 },
 "nbformat": 4,
 "nbformat_minor": 2
}
