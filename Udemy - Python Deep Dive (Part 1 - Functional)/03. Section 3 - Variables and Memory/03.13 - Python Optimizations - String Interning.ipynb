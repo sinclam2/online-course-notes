{
 "cells": [
  {
   "cell_type": "markdown",
   "metadata": {},
   "source": [
    "# What is string interning?\n",
    "\n",
    "- Similar to integers, there are some strings that are so common in Python code that it's more efficient to pre-load them when Python starts up\n",
    "    - When any code we write is being compiled, **all identifiers are interned**\n",
    "        - *What are identifiers?*\n",
    "            - Any of the following that starts with an underscore (e.g. `_my_identifier`)\n",
    "                1. Variable names\n",
    "                2. Function names\n",
    "                3. Class names\n",
    "                4. etc."
   ]
  },
  {
   "cell_type": "markdown",
   "metadata": {},
   "source": [
    "- *Why does Python bother with this?*\n",
    "    - In its normal activities, Python has to compare many strings\n",
    "        - If we want to compare two long strings that haven't been interned, it would need to compare each character\n",
    "            - However, if we know that the strings have been interned, all we need to do is **compare their memory addresses**\n",
    "                - This is much faster"
   ]
  },
  {
   "cell_type": "markdown",
   "metadata": {},
   "source": [
    "- We can manually force strings to be interned using `sys.intern()`\n",
    "    - If we wanted to define `a` and `b` to both refer to a string that we want interned:\n",
    "    \n",
    "```python\n",
    "import sys\n",
    "\n",
    "a = sys.intern('my string I want interned')\n",
    "b = sys.intern('my string I want interned')\n",
    "```"
   ]
  },
  {
   "cell_type": "markdown",
   "metadata": {},
   "source": [
    "- Notice that we can't just set `a = b`\n",
    "\n",
    "- *So when would we need to do this?*\n",
    "    - Usually, never\n",
    "    - Some special cases\n",
    "        - E.g. we're trying to run NLP on some Shakespeare text"
   ]
  },
  {
   "cell_type": "markdown",
   "metadata": {},
   "source": [
    "___\n",
    "\n",
    "# Examples"
   ]
  },
  {
   "cell_type": "code",
   "execution_count": 1,
   "metadata": {},
   "outputs": [
    {
     "data": {
      "text/plain": [
       "(1826727443904, 1826727443904)"
      ]
     },
     "execution_count": 1,
     "metadata": {},
     "output_type": "execute_result"
    }
   ],
   "source": [
    "a = 'hello'\n",
    "b = 'hello'\n",
    "id(a),id(b)"
   ]
  },
  {
   "cell_type": "markdown",
   "metadata": {},
   "source": [
    "- Since `'hello'` looks like an identifier, it is interned\n",
    "    - Therefore, `a` and `b` have the same memory address\n",
    "    \n",
    "- **Note**: don't confuse this with `a` and `b` being set to the same memory address because they're strings (and strings are immutable)\n",
    "    - To show that, we would have run:\n",
    "    \n",
    "```python\n",
    "a = 'hello'\n",
    "b = a\n",
    "id(a),id(b)\n",
    "```"
   ]
  },
  {
   "cell_type": "code",
   "execution_count": 2,
   "metadata": {},
   "outputs": [
    {
     "data": {
      "text/plain": [
       "(1826727538736, 1826727542512)"
      ]
     },
     "execution_count": 2,
     "metadata": {},
     "output_type": "execute_result"
    }
   ],
   "source": [
    "a = 'hello world'\n",
    "b = 'hello world'\n",
    "id(a),id(b)"
   ]
  },
  {
   "cell_type": "markdown",
   "metadata": {},
   "source": [
    "- Since `'hello world'` doesn't look like an identifier, it isn't interned\n",
    "    - Therefore, the two variables don't share a memory reference"
   ]
  },
  {
   "cell_type": "code",
   "execution_count": 5,
   "metadata": {},
   "outputs": [
    {
     "data": {
      "text/plain": [
       "(1826727254416, 1826727254416)"
      ]
     },
     "execution_count": 5,
     "metadata": {},
     "output_type": "execute_result"
    }
   ],
   "source": [
    "a = '_this_is_a_super_long_ass_string_that_could_be_used_as_an_identifier'\n",
    "b = '_this_is_a_super_long_ass_string_that_could_be_used_as_an_identifier'\n",
    "id(a), id(b)"
   ]
  },
  {
   "cell_type": "markdown",
   "metadata": {},
   "source": [
    "- Looks like an identifier $\\rightarrow$ interned"
   ]
  },
  {
   "cell_type": "code",
   "execution_count": 7,
   "metadata": {},
   "outputs": [
    {
     "data": {
      "text/plain": [
       "(1826729357440, 1826729357440, 1826727445760, 1826727445408)"
      ]
     },
     "execution_count": 7,
     "metadata": {},
     "output_type": "execute_result"
    }
   ],
   "source": [
    "import sys\n",
    "\n",
    "a = sys.intern('this string will be interned')\n",
    "b = sys.intern('this string will be interned')\n",
    "c = 'this string will not be interned'\n",
    "d = 'this string will not be interned'\n",
    "id(a), id(b), id(c), id(d)"
   ]
  },
  {
   "cell_type": "markdown",
   "metadata": {},
   "source": [
    "- As we can see, the addresses for `a` and `b` are the same\n",
    "    - The addresses for `c` and `d` are not the same"
   ]
  }
 ],
 "metadata": {
  "kernelspec": {
   "display_name": "Python 3",
   "language": "python",
   "name": "python3"
  },
  "language_info": {
   "codemirror_mode": {
    "name": "ipython",
    "version": 3
   },
   "file_extension": ".py",
   "mimetype": "text/x-python",
   "name": "python",
   "nbconvert_exporter": "python",
   "pygments_lexer": "ipython3",
   "version": "3.6.8"
  }
 },
 "nbformat": 4,
 "nbformat_minor": 2
}
