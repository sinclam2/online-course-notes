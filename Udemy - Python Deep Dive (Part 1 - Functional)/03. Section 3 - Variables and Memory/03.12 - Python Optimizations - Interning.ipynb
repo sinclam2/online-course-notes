{
 "cells": [
  {
   "cell_type": "markdown",
   "metadata": {},
   "source": [
    "# What is interning?\n",
    "\n",
    "- Let's revisit a past example:"
   ]
  },
  {
   "cell_type": "code",
   "execution_count": 1,
   "metadata": {},
   "outputs": [
    {
     "data": {
      "text/plain": [
       "(1990427024, 1990427024)"
      ]
     },
     "execution_count": 1,
     "metadata": {},
     "output_type": "execute_result"
    }
   ],
   "source": [
    "a = 10\n",
    "b = 10\n",
    "id(a), id(b)"
   ]
  },
  {
   "cell_type": "markdown",
   "metadata": {},
   "source": [
    "- `a` and `b` are both integers with value 10\n",
    "    - To save memory, Python has assigned them to the same memory address\n",
    "        - **Recall**: this should be fine since integers are immutable objects"
   ]
  },
  {
   "cell_type": "code",
   "execution_count": 2,
   "metadata": {},
   "outputs": [
    {
     "data": {
      "text/plain": [
       "(2705010545648, 2705010545520)"
      ]
     },
     "execution_count": 2,
     "metadata": {},
     "output_type": "execute_result"
    }
   ],
   "source": [
    "a = 500\n",
    "b = 500\n",
    "id(a), id(b)"
   ]
  },
  {
   "cell_type": "markdown",
   "metadata": {},
   "source": [
    "- In this case, however, `a` and `b` **don't have the same memory address**\n",
    "    - *What's going on?*\n",
    "        - This is Python **interning**"
   ]
  },
  {
   "cell_type": "markdown",
   "metadata": {},
   "source": [
    "- When Python (more specifically CPython) pre-loads the integers between -5 and 256\n",
    "    - When we reference an integer in that range, instead of creating a new version of it at a different memory address, Python will just reference the pre-loaded one"
   ]
  },
  {
   "cell_type": "markdown",
   "metadata": {},
   "source": [
    "- Essentially, the integers in the range [-5, 256] are **singletons**\n",
    "    - Only instantiated once\n",
    "    \n",
    "- *Why does Python bother pre-loading these integers?*\n",
    "    - Small integers show up ofter in most code\n",
    "        - Worth it to try to save some time"
   ]
  },
  {
   "cell_type": "markdown",
   "metadata": {},
   "source": [
    "- Let's show that what we're asserting is actually true:"
   ]
  },
  {
   "cell_type": "code",
   "execution_count": 3,
   "metadata": {},
   "outputs": [
    {
     "name": "stdout",
     "output_type": "stream",
     "text": [
      "257\n"
     ]
    }
   ],
   "source": [
    "i = -5\n",
    "\n",
    "while True:\n",
    "    str_code_a = f\"a = {i}\"\n",
    "    str_code_b = f\"b = {i}\"\n",
    "    exec(str_code_a)\n",
    "    exec(str_code_b)\n",
    "    if a is not b:\n",
    "        break\n",
    "    i += 1\n",
    "print(i)"
   ]
  },
  {
   "cell_type": "markdown",
   "metadata": {},
   "source": [
    "- As we can see, the first integer where this isn't true is 257"
   ]
  }
 ],
 "metadata": {
  "kernelspec": {
   "display_name": "Python 3",
   "language": "python",
   "name": "python3"
  },
  "language_info": {
   "codemirror_mode": {
    "name": "ipython",
    "version": 3
   },
   "file_extension": ".py",
   "mimetype": "text/x-python",
   "name": "python",
   "nbconvert_exporter": "python",
   "pygments_lexer": "ipython3",
   "version": "3.6.8"
  }
 },
 "nbformat": 4,
 "nbformat_minor": 2
}
