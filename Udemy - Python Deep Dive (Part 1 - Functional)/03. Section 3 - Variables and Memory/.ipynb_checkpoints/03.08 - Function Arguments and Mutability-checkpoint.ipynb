{
 "cells": [
  {
   "cell_type": "markdown",
   "metadata": {},
   "source": [
    "# Quick review\n",
    "\n",
    "- We saw that strings are **immutable** objects\n",
    "    - For example, if we run the following code:\n",
    "    \n",
    "```python\n",
    "my_var = 'hello'\n",
    "```\n",
    "\n",
    "- `my_var` points to a memory address where the string object containing 'hello' is stored\n",
    "    - Now, let's say we update `my_var` as follows:\n",
    "    \n",
    "```python\n",
    "my_var = 'abcd'\n",
    "```\n",
    "\n",
    "- Now, `my_var` will point to a **different memory address** where the string object containing 'abcd' is stored"
   ]
  },
  {
   "cell_type": "markdown",
   "metadata": {},
   "source": [
    "___\n",
    "\n",
    "# Why are immutable objects safe from unintended side-effects?\n",
    "\n",
    "- *What do we even mean by \"side effects\"?*\n",
    "    - If we pass a variable that references an **immutable** object into a function, the data stored in the object cannot be changed\n",
    "        - For **mutable** objects, however, it is possible that the data will change\n",
    "            - This is the *side effect* we're talking about\n",
    "            \n",
    "- Let's say we have the following function:\n",
    "\n",
    "```python\n",
    "def process(s):\n",
    "    s = s + ' world'\n",
    "    return s\n",
    "```\n",
    "\n",
    "- Now, let's say we have:\n",
    "\n",
    "```python\n",
    "my_var = 'hello'\n",
    "```"
   ]
  },
  {
   "cell_type": "markdown",
   "metadata": {},
   "source": [
    "- We now have two scopes\n",
    "    1. The `process` scope\n",
    "        - This refers to the code inside our process function\n",
    "    2. The module scope\n",
    "        - This refers to the code outside the process function\n",
    "        \n",
    "- When we define `my_var` to have value 'hello', there is now a memory location in the module scope that our variable references\n",
    "\n",
    "- If we run `process(my_var)`, we're calling our `process` function with `my_var` as the function argument\n",
    "    - This means that **the reference of `my_var` is passed to `process`**\n",
    "        - Now, the function argument `s` points to the same memory address as `my_var`"
   ]
  },
  {
   "cell_type": "markdown",
   "metadata": {},
   "source": [
    "- Next, when the function executes `s = s + ' world'`, it cannot format the object at its memory address (since strings are immutable)\n",
    "    - As a result, `s` will point to a new memory address, where the object will contain 'hello world'\n",
    "    - `my_var` will still point to its original memory address, whose object still contains 'hello'"
   ]
  },
  {
   "cell_type": "markdown",
   "metadata": {},
   "source": [
    "___\n",
    "\n",
    "# Why are mutable objects at risk of unintended side-effects?\n",
    "\n",
    "- Let's consider the following function\n",
    "\n",
    "```python\n",
    "def process(lst):\n",
    "    lst.append(100)\n",
    "```\n",
    "\n",
    "- Pretty simple\n",
    "    - Just appends the value 100 to the list we feed in\n",
    "    \n",
    "```python\n",
    "my_list = [1,2,3]\n",
    "```\n",
    "\n",
    "- Again, let's consider the scopes:\n",
    "    1. The `process` scope\n",
    "    2. The module scope\n",
    "        - `my_list` points to an object stored in here\n",
    "        \n",
    "- When we call `process`, we feed the reference from `my_list` into the function\n",
    "    - `lst` now points to the same memory address as `my_list`\n",
    "\n",
    "- Therefore, when we run `process(my_list)`, 100 is appended to the object at the same memory address as `my_list`\n",
    "    - i.e. **100 is appended to `my_list`!**\n",
    "        - Now, we'll have `my_list = [1,2,3,100]`"
   ]
  },
  {
   "cell_type": "markdown",
   "metadata": {},
   "source": [
    "____\n",
    "\n",
    "# What happens if the container is immutable, but the elements are mutable?\n",
    "\n",
    "- Consider the following function (whose argument is a tuple of lists) and variable\n",
    "\n",
    "```python\n",
    "def process(t):\n",
    "    t[0].append(3)\n",
    "    \n",
    "my_tuple = ([1,2],'a')\n",
    "```\n",
    "\n",
    "- `my_tuple` is in the module scope, and feeding it into `process`, `t` will point to the same address\n",
    "\n",
    "- If we run `process(my_tuple)`, the result will be that `my_tuple = ([1,2,3],'a')`"
   ]
  },
  {
   "cell_type": "markdown",
   "metadata": {},
   "source": [
    "____\n",
    "\n",
    "# Examples\n",
    "\n",
    "### 1. Strings"
   ]
  },
  {
   "cell_type": "code",
   "execution_count": 1,
   "metadata": {},
   "outputs": [],
   "source": [
    "def process(s):\n",
    "    print(f'String address of s at start of function = {id(s)}')\n",
    "    s = s + ' world'\n",
    "    print(f'String address of s at end of function = {id(s)}')"
   ]
  },
  {
   "cell_type": "code",
   "execution_count": 2,
   "metadata": {},
   "outputs": [
    {
     "name": "stdout",
     "output_type": "stream",
     "text": [
      "String address of my_var at initialization = 2629961349696\n",
      "String address of s at start of function = 2629961349696\n",
      "String address of s at end of function = 2629961994096\n",
      "String address of my_var at after function has run = 2629961349696\n"
     ]
    }
   ],
   "source": [
    "my_var = 'hello'\n",
    "print(f'String address of my_var at initialization = {id(my_var)}')\n",
    "\n",
    "process(my_var)\n",
    "\n",
    "print(f'String address of my_var at after function has run = {id(my_var)}')"
   ]
  },
  {
   "cell_type": "markdown",
   "metadata": {},
   "source": [
    "- As we can see, the address of `my_var` never changed\n",
    "    - `s` initially took on the same address as `my_var`, but when we modified it, it needed to be reassigned to another address\n",
    "        - In other words, we confirmed that `my_var` is immutable\n",
    "            - And safe from unintended side effects"
   ]
  },
  {
   "cell_type": "markdown",
   "metadata": {},
   "source": [
    "### 2. Lists"
   ]
  },
  {
   "cell_type": "code",
   "execution_count": 3,
   "metadata": {},
   "outputs": [],
   "source": [
    "def modify_list(lst):\n",
    "    print(f'Address of lst at start of function = {id(lst)}')\n",
    "    lst.append(100)\n",
    "    print(f'Address of lst at end of function = {id(lst)}')"
   ]
  },
  {
   "cell_type": "code",
   "execution_count": 4,
   "metadata": {},
   "outputs": [
    {
     "name": "stdout",
     "output_type": "stream",
     "text": [
      "[1, 2, 3] 2629960458824\n",
      "Address of lst at start of function = 2629960458824\n",
      "Address of lst at end of function = 2629960458824\n",
      "[1, 2, 3, 100] 2629960458824\n"
     ]
    }
   ],
   "source": [
    "my_list = [1,2,3]\n",
    "\n",
    "print(my_list, id(my_list))\n",
    "\n",
    "modify_list(my_list)\n",
    "\n",
    "print(my_list, id(my_list))"
   ]
  },
  {
   "cell_type": "markdown",
   "metadata": {},
   "source": [
    "- As we can see, the addresses are all the same, and 100 is actually appended to `my_list`\n",
    "    - In other words, we've confirmed that we can modify list inside a function"
   ]
  },
  {
   "cell_type": "markdown",
   "metadata": {},
   "source": [
    "### 3. Tuples"
   ]
  },
  {
   "cell_type": "code",
   "execution_count": 5,
   "metadata": {},
   "outputs": [],
   "source": [
    "def modify_tuple(t):\n",
    "    print(f'Address of t at start of function = {id(t)}')\n",
    "    t[0].append(100)\n",
    "    print(f'Address of t at end of function = {id(t)}')"
   ]
  },
  {
   "cell_type": "code",
   "execution_count": 6,
   "metadata": {},
   "outputs": [
    {
     "name": "stdout",
     "output_type": "stream",
     "text": [
      "([1, 2], 'a') 2629960685192\n",
      "Address of t at start of function = 2629960685192\n",
      "Address of t at end of function = 2629960685192\n",
      "([1, 2, 100], 'a') 2629960685192\n"
     ]
    }
   ],
   "source": [
    "my_tuple = ([1,2],'a')\n",
    "\n",
    "print(my_tuple, id(my_tuple))\n",
    "\n",
    "modify_tuple(my_tuple)\n",
    "\n",
    "print(my_tuple, id(my_tuple))"
   ]
  },
  {
   "cell_type": "markdown",
   "metadata": {},
   "source": [
    "- Again, the memory address is consistent throughout, and even though tuples are immutable, its elements were mutable and we successfully appended the value 100 to the first element without changing the address"
   ]
  }
 ],
 "metadata": {
  "kernelspec": {
   "display_name": "Python 3",
   "language": "python",
   "name": "python3"
  },
  "language_info": {
   "codemirror_mode": {
    "name": "ipython",
    "version": 3
   },
   "file_extension": ".py",
   "mimetype": "text/x-python",
   "name": "python",
   "nbconvert_exporter": "python",
   "pygments_lexer": "ipython3",
   "version": "3.6.8"
  }
 },
 "nbformat": 4,
 "nbformat_minor": 2
}
