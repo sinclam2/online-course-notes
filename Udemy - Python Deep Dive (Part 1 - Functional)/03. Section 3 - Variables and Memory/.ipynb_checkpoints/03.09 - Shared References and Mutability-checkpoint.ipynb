{
 "cells": [
  {
   "cell_type": "markdown",
   "metadata": {},
   "source": [
    "# What is a shared reference, again?\n",
    "\n",
    "- When two variables point to the same memory address (i.e. point to the same object stored in memory), then they have a **shared reference**\n",
    "\n",
    "- For example, if we run the following:\n",
    "\n",
    "```python\n",
    "a = 10\n",
    "b = a\n",
    "```\n",
    "\n",
    "- Now, `b` and `a` point to the same address"
   ]
  },
  {
   "cell_type": "markdown",
   "metadata": {},
   "source": [
    "- Next, consider switching to functions:\n",
    "\n",
    "```python\n",
    "def my_func(v):\n",
    "    ...\n",
    "\n",
    "t = 20\n",
    "my_func(t)\n",
    "```\n",
    "\n",
    "- Now, `t` and the function argument `v` point to the same address"
   ]
  },
  {
   "cell_type": "markdown",
   "metadata": {},
   "source": [
    "- Next, consider the following:\n",
    "\n",
    "```python\n",
    "a = 10\n",
    "b = 10\n",
    "```\n",
    "\n",
    "- *Do `a` and `b` have a shared reference?*\n",
    "    - Yes\n",
    "        - Since they both have the same value, Python saves memory by not duplicating its storage\n",
    "        \n",
    "- The same is true for:\n",
    "\n",
    "```python\n",
    "s1 = 'hello'\n",
    "s2 = 'hello'\n",
    "```"
   ]
  },
  {
   "cell_type": "markdown",
   "metadata": {},
   "source": [
    "___\n",
    "\n",
    "# Is it safe to have our variables pointing to the same addresses?\n",
    "\n",
    "- Yes!\n",
    "    - Since these values (so far) have all been immutable, it doesn't matter"
   ]
  },
  {
   "cell_type": "markdown",
   "metadata": {},
   "source": [
    "___\n",
    "\n",
    "# Is the same true for mutable objects?\n",
    "\n",
    "- No\n",
    "    - We need to be more careful\n",
    "    \n",
    "- Consider the following:\n",
    "\n",
    "```python\n",
    "a = [1,2,3]\n",
    "b = a\n",
    "```\n",
    "\n",
    "- Now, both `a` and `b` will have a shared reference\n",
    "    - If we modify one of them, the other will also be modified\n",
    "    \n",
    "- Because of this, if we run the following:\n",
    "\n",
    "```python\n",
    "a = [1,2,3]\n",
    "b = [1,2,3]\n",
    "```\n",
    "\n",
    "- The two variables `a` and `b` will not point to the same address\n",
    "    - Python knows that since lists are mutable, it's not worth risking errors to gain a little extra optimization"
   ]
  },
  {
   "cell_type": "code",
   "execution_count": 1,
   "metadata": {},
   "outputs": [
    {
     "data": {
      "text/plain": [
       "(1581243801648, 1581243801648)"
      ]
     },
     "execution_count": 1,
     "metadata": {},
     "output_type": "execute_result"
    }
   ],
   "source": [
    "a = 'hello'\n",
    "b = 'hello'\n",
    "id(a), id(b)"
   ]
  },
  {
   "cell_type": "markdown",
   "metadata": {},
   "source": [
    "- As we expect, same address"
   ]
  },
  {
   "cell_type": "code",
   "execution_count": 2,
   "metadata": {},
   "outputs": [
    {
     "data": {
      "text/plain": [
       "(1581243037384, 1581243774920)"
      ]
     },
     "execution_count": 2,
     "metadata": {},
     "output_type": "execute_result"
    }
   ],
   "source": [
    "a = [1,2,3]\n",
    "b = [1,2,3]\n",
    "id(a), id(b)"
   ]
  },
  {
   "cell_type": "markdown",
   "metadata": {},
   "source": [
    "- Different addresses"
   ]
  }
 ],
 "metadata": {
  "kernelspec": {
   "display_name": "Python 3",
   "language": "python",
   "name": "python3"
  },
  "language_info": {
   "codemirror_mode": {
    "name": "ipython",
    "version": 3
   },
   "file_extension": ".py",
   "mimetype": "text/x-python",
   "name": "python",
   "nbconvert_exporter": "python",
   "pygments_lexer": "ipython3",
   "version": "3.6.8"
  }
 },
 "nbformat": 4,
 "nbformat_minor": 2
}
