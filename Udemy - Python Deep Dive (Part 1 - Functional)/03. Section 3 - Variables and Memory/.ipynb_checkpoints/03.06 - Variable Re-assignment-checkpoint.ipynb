{
 "cells": [
  {
   "cell_type": "markdown",
   "metadata": {},
   "source": [
    "# What is going on when we change the value of a variable?"
   ]
  },
  {
   "cell_type": "markdown",
   "metadata": {},
   "source": [
    "- Let's say we write the following line of code:\n",
    "\n",
    "```python\n",
    "my_var = 10\n",
    "```\n",
    "\n",
    "- Now, we know that `my_var` points to a location in memory (let's say address 1000), and at that address, an integer value of 10 is stored\n",
    "\n",
    "- Later, we update the variable:\n",
    "\n",
    "```python\n",
    "my_var = 15\n",
    "```\n",
    "\n",
    "- *Is the value of address 1000 now 15, or does `my_var` now point to some other address?*\n",
    "    - The latter!\n",
    "        - `my_var` now points to some other address (let's say 1001) that has an integer value of 15\n",
    "            - The memory address 1000 still stores the integer value 10, but it is no longer associated with `my_var`\n",
    "                - If there are no other variables associated with the memory address 1000, it'll get cleaned up by the python memory management\n"
   ]
  },
  {
   "cell_type": "markdown",
   "metadata": {},
   "source": [
    "- *But what if, instead of the second line of code above, we ran the following?:*\n",
    "\n",
    "```python\n",
    "my_var += 5\n",
    "```\n",
    "\n",
    "- **Doesn't matter**\n",
    "    - Still uses a new memory location"
   ]
  },
  {
   "cell_type": "markdown",
   "metadata": {},
   "source": [
    "____\n",
    "\n",
    "# Example"
   ]
  },
  {
   "cell_type": "code",
   "execution_count": 4,
   "metadata": {},
   "outputs": [],
   "source": [
    "a = 10"
   ]
  },
  {
   "cell_type": "code",
   "execution_count": 5,
   "metadata": {},
   "outputs": [
    {
     "data": {
      "text/plain": [
       "(1992851856, int)"
      ]
     },
     "execution_count": 5,
     "metadata": {},
     "output_type": "execute_result"
    }
   ],
   "source": [
    "id(a), type(a)"
   ]
  },
  {
   "cell_type": "code",
   "execution_count": 6,
   "metadata": {},
   "outputs": [],
   "source": [
    "a += 5"
   ]
  },
  {
   "cell_type": "code",
   "execution_count": 7,
   "metadata": {},
   "outputs": [
    {
     "data": {
      "text/plain": [
       "(1992852016, int)"
      ]
     },
     "execution_count": 7,
     "metadata": {},
     "output_type": "execute_result"
    }
   ],
   "source": [
    "id(a), type(a)"
   ]
  },
  {
   "cell_type": "markdown",
   "metadata": {},
   "source": [
    "- Same type, different address"
   ]
  },
  {
   "cell_type": "markdown",
   "metadata": {},
   "source": [
    "- *What if we define two variables with the same value?*"
   ]
  },
  {
   "cell_type": "code",
   "execution_count": 8,
   "metadata": {},
   "outputs": [],
   "source": [
    "b = 15"
   ]
  },
  {
   "cell_type": "code",
   "execution_count": 9,
   "metadata": {},
   "outputs": [
    {
     "data": {
      "text/plain": [
       "(1992852016, 1992852016)"
      ]
     },
     "execution_count": 9,
     "metadata": {},
     "output_type": "execute_result"
    }
   ],
   "source": [
    "id(a), id(b)"
   ]
  },
  {
   "cell_type": "markdown",
   "metadata": {},
   "source": [
    "- They're using the same address!"
   ]
  }
 ],
 "metadata": {
  "kernelspec": {
   "display_name": "Python 3",
   "language": "python",
   "name": "python3"
  },
  "language_info": {
   "codemirror_mode": {
    "name": "ipython",
    "version": 3
   },
   "file_extension": ".py",
   "mimetype": "text/x-python",
   "name": "python",
   "nbconvert_exporter": "python",
   "pygments_lexer": "ipython3",
   "version": "3.6.8"
  }
 },
 "nbformat": 4,
 "nbformat_minor": 2
}
