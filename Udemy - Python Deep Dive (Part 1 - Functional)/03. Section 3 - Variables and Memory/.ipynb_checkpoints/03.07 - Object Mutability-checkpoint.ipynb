{
 "cells": [
  {
   "cell_type": "markdown",
   "metadata": {},
   "source": [
    "# What is going on when we change the value of an object?\n",
    "\n",
    "- A variable refers to an object in memory\n",
    "    - Each object in memory has:\n",
    "        1. a type\n",
    "        2. a state (i.e. some data)\n",
    "- When we change the value of an object, we're **modifying the internal state** of the object\n",
    "\n",
    "### Example\n",
    "\n",
    "- Let's say we have a variable called `my_account`\n",
    "    - The data type for `my_account` is a `BankAccount` object\n",
    "\n",
    "```python\n",
    "my_account = BankAccount(acct_no=12345, balance=150)\n",
    "```"
   ]
  },
  {
   "cell_type": "markdown",
   "metadata": {},
   "source": [
    "- Now, let's say we modify the balance by depositing some money\n",
    "\n",
    "```python\n",
    "my_account = BankAccount(acct_no=12345, balance=500)\n",
    "```\n",
    "\n",
    "- We notice that `my_account` still points to its original memory address\n",
    "    - But we noticed in the last lecture that when we updated the value, the memory address changed\n",
    "        - *Why hasn't the address changed this time?*\n",
    "            - This is because the **object has mutated**"
   ]
  },
  {
   "cell_type": "markdown",
   "metadata": {},
   "source": [
    "____\n",
    "\n",
    "# What's the difference between a mutable and an immutable object?\n",
    "\n",
    "- If we can **change the internal state of an object**, then it's **MUTABLE**\n",
    "    - i.e. if we can change the value while keeping the memory address the same\n",
    "\n",
    "- If we **CAN'T change the internal state of an object**, then it's **IMMUTABLE**"
   ]
  },
  {
   "cell_type": "markdown",
   "metadata": {},
   "source": [
    "___\n",
    "\n",
    "# Examples in Python\n",
    "\n",
    "### Immutable\n",
    "\n",
    "1. Numbers\n",
    "    - E.g. int, float, Booleans, etc.\n",
    "2. Strings\n",
    "3. Tuples\n",
    "4. Frozen sets\n",
    "5. User-defined classes (**if we so choose**)\n",
    "\n",
    "### Mutable\n",
    "\n",
    "1. Lists\n",
    "2. Sets\n",
    "3. Dictionaries\n",
    "4. User-defined classes (**if we so choose**)"
   ]
  },
  {
   "cell_type": "markdown",
   "metadata": {},
   "source": [
    "____\n",
    "\n",
    "# Why does this matter?\n",
    "\n",
    "- Let's say we define a tuple:\n",
    "\n",
    "```python\n",
    "t = (1,2,3)\n",
    "```\n",
    "\n",
    "- As we know, tuples are immutable\n",
    "    - We can't add or remove or replace any of the values\n",
    "        - **Note**: in this case both the following are immutable:\n",
    "            1. the container (i.e. the tuple)\n",
    "                - we know tuples are immutable\n",
    "            2. the elements (i.e. 1, 2, and 3)\n",
    "                - we also know integers are immutable\n",
    "\n",
    "- Now, let's consider the following:\n",
    "\n",
    "```python\n",
    "a = [1,2]\n",
    "b = [3,4]\n",
    "t = (a,b)\n",
    "```\n",
    "\n",
    "- `t` is a tuple, so it's immutable\n",
    "    - But `a` and `b` are both lists, so they should be immutable\n",
    "    \n",
    "- This means that if we run the following:\n",
    "\n",
    "```python\n",
    "a.append(3)\n",
    "b.append(5)\n",
    "```\n",
    "\n",
    "- Then we'd have `t = ([1,2,3],[3,4,5])`\n",
    "    - So, unlike our previous tuple, the container is **immutable**, but the elements (i.e. the lists) are **mutable**"
   ]
  },
  {
   "cell_type": "markdown",
   "metadata": {},
   "source": [
    "**Conclusion**: don't confuse the mutability of the container vs. the elements"
   ]
  },
  {
   "cell_type": "markdown",
   "metadata": {},
   "source": [
    "____\n",
    "\n",
    "# Examples"
   ]
  },
  {
   "cell_type": "code",
   "execution_count": 1,
   "metadata": {},
   "outputs": [],
   "source": [
    "my_list = [1,2,3]"
   ]
  },
  {
   "cell_type": "code",
   "execution_count": 2,
   "metadata": {},
   "outputs": [
    {
     "data": {
      "text/plain": [
       "(list, 2658346481544)"
      ]
     },
     "execution_count": 2,
     "metadata": {},
     "output_type": "execute_result"
    }
   ],
   "source": [
    "type(my_list), id(my_list)"
   ]
  },
  {
   "cell_type": "code",
   "execution_count": 3,
   "metadata": {},
   "outputs": [],
   "source": [
    "my_list.append(4)"
   ]
  },
  {
   "cell_type": "code",
   "execution_count": 4,
   "metadata": {},
   "outputs": [
    {
     "data": {
      "text/plain": [
       "2658346481544"
      ]
     },
     "execution_count": 4,
     "metadata": {},
     "output_type": "execute_result"
    }
   ],
   "source": [
    "id(my_list)"
   ]
  },
  {
   "cell_type": "markdown",
   "metadata": {},
   "source": [
    "- Same memory address (since lists are mutable)"
   ]
  },
  {
   "cell_type": "code",
   "execution_count": 7,
   "metadata": {},
   "outputs": [
    {
     "data": {
      "text/plain": [
       "2658346613768"
      ]
     },
     "execution_count": 7,
     "metadata": {},
     "output_type": "execute_result"
    }
   ],
   "source": [
    "my_list_1 = [1,2,3]\n",
    "id(my_list_1)"
   ]
  },
  {
   "cell_type": "code",
   "execution_count": 8,
   "metadata": {},
   "outputs": [
    {
     "data": {
      "text/plain": [
       "2658346481928"
      ]
     },
     "execution_count": 8,
     "metadata": {},
     "output_type": "execute_result"
    }
   ],
   "source": [
    "my_list_1 = my_list_1 + [4]\n",
    "id(my_list_1)"
   ]
  },
  {
   "cell_type": "markdown",
   "metadata": {},
   "source": [
    "- This time, the address is different\n",
    "    - *Why?*\n",
    "        - Because we're not appending new element\n",
    "            - We're **concatenating two elements**\n",
    "                - We'll take a more in-depth look into lists later"
   ]
  },
  {
   "cell_type": "code",
   "execution_count": 9,
   "metadata": {},
   "outputs": [
    {
     "data": {
      "text/plain": [
       "{'key1': 1, 'key2': 'a'}"
      ]
     },
     "execution_count": 9,
     "metadata": {},
     "output_type": "execute_result"
    }
   ],
   "source": [
    "my_dict = dict(key1=1, key2='a')\n",
    "my_dict"
   ]
  },
  {
   "cell_type": "code",
   "execution_count": 10,
   "metadata": {},
   "outputs": [
    {
     "data": {
      "text/plain": [
       "2658346702168"
      ]
     },
     "execution_count": 10,
     "metadata": {},
     "output_type": "execute_result"
    }
   ],
   "source": [
    "id(my_dict)"
   ]
  },
  {
   "cell_type": "code",
   "execution_count": 11,
   "metadata": {},
   "outputs": [
    {
     "data": {
      "text/plain": [
       "2658346702168"
      ]
     },
     "execution_count": 11,
     "metadata": {},
     "output_type": "execute_result"
    }
   ],
   "source": [
    "my_dict['key_3'] = 10.5\n",
    "id(my_dict)"
   ]
  },
  {
   "cell_type": "markdown",
   "metadata": {},
   "source": [
    "- Same address (since dictionaries are also immutable)"
   ]
  },
  {
   "cell_type": "code",
   "execution_count": 12,
   "metadata": {},
   "outputs": [],
   "source": [
    "t = (1,2,3)"
   ]
  },
  {
   "cell_type": "code",
   "execution_count": 13,
   "metadata": {},
   "outputs": [
    {
     "data": {
      "text/plain": [
       "2658346592368"
      ]
     },
     "execution_count": 13,
     "metadata": {},
     "output_type": "execute_result"
    }
   ],
   "source": [
    "id(t)"
   ]
  },
  {
   "cell_type": "code",
   "execution_count": 15,
   "metadata": {},
   "outputs": [
    {
     "data": {
      "text/plain": [
       "(1, 1992851568)"
      ]
     },
     "execution_count": 15,
     "metadata": {},
     "output_type": "execute_result"
    }
   ],
   "source": [
    "t[0], id(t[0])"
   ]
  },
  {
   "cell_type": "code",
   "execution_count": 16,
   "metadata": {},
   "outputs": [],
   "source": [
    "t = ([1, 2], [3,4])"
   ]
  },
  {
   "cell_type": "code",
   "execution_count": 17,
   "metadata": {},
   "outputs": [
    {
     "data": {
      "text/plain": [
       "2658345338376"
      ]
     },
     "execution_count": 17,
     "metadata": {},
     "output_type": "execute_result"
    }
   ],
   "source": [
    "id(t)"
   ]
  },
  {
   "cell_type": "markdown",
   "metadata": {},
   "source": [
    "- Different address (since we redefined it)"
   ]
  },
  {
   "cell_type": "code",
   "execution_count": 18,
   "metadata": {},
   "outputs": [
    {
     "data": {
      "text/plain": [
       "([1, 2], [3, 4])"
      ]
     },
     "execution_count": 18,
     "metadata": {},
     "output_type": "execute_result"
    }
   ],
   "source": [
    "t[0], t[1]"
   ]
  },
  {
   "cell_type": "code",
   "execution_count": 19,
   "metadata": {},
   "outputs": [],
   "source": [
    "t[0].append(3)"
   ]
  },
  {
   "cell_type": "code",
   "execution_count": 21,
   "metadata": {},
   "outputs": [
    {
     "data": {
      "text/plain": [
       "(([1, 2, 3], [3, 4]), 2658345338376)"
      ]
     },
     "execution_count": 21,
     "metadata": {},
     "output_type": "execute_result"
    }
   ],
   "source": [
    "t, id(t)"
   ]
  },
  {
   "cell_type": "markdown",
   "metadata": {},
   "source": [
    "- As we can see, the first element has been modified\n",
    "    - But the memory address is the same"
   ]
  }
 ],
 "metadata": {
  "kernelspec": {
   "display_name": "Python 3",
   "language": "python",
   "name": "python3"
  },
  "language_info": {
   "codemirror_mode": {
    "name": "ipython",
    "version": 3
   },
   "file_extension": ".py",
   "mimetype": "text/x-python",
   "name": "python",
   "nbconvert_exporter": "python",
   "pygments_lexer": "ipython3",
   "version": "3.6.8"
  }
 },
 "nbformat": 4,
 "nbformat_minor": 2
}
