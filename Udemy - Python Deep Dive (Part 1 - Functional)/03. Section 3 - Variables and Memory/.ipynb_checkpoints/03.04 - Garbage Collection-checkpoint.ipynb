{
 "cells": [
  {
   "cell_type": "markdown",
   "metadata": {},
   "source": [
    "- We just saw that Python counts the number of references to an object stored in memory\n",
    "    - When the reference count goes down to zero, the object is deleted and the memory address is made available to store new objects"
   ]
  },
  {
   "cell_type": "markdown",
   "metadata": {},
   "source": [
    "___\n",
    "\n",
    "# What are circular references?\n",
    "\n",
    "### Example 1\n",
    "\n",
    "- As we've seen so far, let's say we have a variable `my_var` that points to an object in memory\n",
    "    - The reference count for the object is equal to 1 (only `my_var` points to it)\n",
    "- Next, we redefine `my_var` to be equal to `None`\n",
    "    - This causes the reference count for the object in memory to go to zero\n",
    "        - Python deletes the object, and we're all good\n",
    "        \n",
    "### Example 2\n",
    "\n",
    "- This time, we again have `my_var` pointing to the object in memory, but **the object contains a reference to another object**\n",
    "    - When we redefine `my_var` to be `None` the reference count for Object 1 decreases to zero, but the reference count for Object 2 stays at 1 (since Object 1 still references it)\n",
    "        - Since Object 1 has reference count zero, it gets destroyed\n",
    "            - This causes the reference count for Object 2 to go to zero, and it is also destroyed\n",
    "                - Again, we're all good\n",
    "                \n",
    "### Example 3\n",
    "\n",
    "- Now, consider the same scenario as Example 2, except not only does Object 1 reference Object 2, but Object 2 also references Object 1\n",
    "    - Before `my_var` is set to be `None`, the reference count for Object 1 is 2 (one from `my_var`, and one from Object 2)\n",
    "        - Therefore, when we redefine `my_var` to be `None`, the reference count for Object 1 decreases to 1\n",
    "            - ***But this means Object 1 and 2 will still have a reference count of 1***\n",
    "                - ***THEY WON'T BE DELETED***\n",
    "                    - This scenario is called a **circular reference**\n",
    "- Since the Python memory management system works off reference counts, these objects would never be deleted\n",
    "    - This causes a **memory leak**"
   ]
  },
  {
   "cell_type": "markdown",
   "metadata": {},
   "source": [
    "____\n",
    "\n",
    "# What is the garbage collector?\n",
    "\n",
    "- The garbage collector removes these circular references\n",
    "    - Eliminates memory leaks\n",
    "- We can interact with the garbage collector through the `gc` module\n",
    "    - By default, garbage collection is enabled\n",
    "        - We can manually turn it off, but it's dangerous\n",
    "- *Why would we want to turn off the garbage collection anyway?*\n",
    "    - In advanced cases, we may want to optimize our program\n",
    "        - Garbage collection uses up some processing power to run\n",
    "- In general, garbage collection works fine\n",
    "    - In older versions of python (<3.4), there could be some issues"
   ]
  },
  {
   "cell_type": "markdown",
   "metadata": {},
   "source": [
    "____\n",
    "\n",
    "# Example"
   ]
  },
  {
   "cell_type": "code",
   "execution_count": 1,
   "metadata": {},
   "outputs": [],
   "source": [
    "import ctypes\n",
    "import gc"
   ]
  },
  {
   "cell_type": "code",
   "execution_count": 2,
   "metadata": {},
   "outputs": [],
   "source": [
    "def ref_count(address):\n",
    "    return ctypes.c_long.from_address(address).value"
   ]
  },
  {
   "cell_type": "code",
   "execution_count": 3,
   "metadata": {},
   "outputs": [],
   "source": [
    "def object_by_id(object_id):\n",
    "    for obj in gc.get_objects():\n",
    "        if id(obj) == object_id:\n",
    "            return \"Object exists\"\n",
    "    return \"Not found\""
   ]
  },
  {
   "cell_type": "markdown",
   "metadata": {},
   "source": [
    "- Defining classes with circular references"
   ]
  },
  {
   "cell_type": "code",
   "execution_count": 4,
   "metadata": {},
   "outputs": [],
   "source": [
    "class A:\n",
    "    def __init__(self):\n",
    "        self.b = B(self)\n",
    "        print(f'A: self:{hex(id(self))}, b:{hex(id(self.b))}')"
   ]
  },
  {
   "cell_type": "code",
   "execution_count": 5,
   "metadata": {},
   "outputs": [],
   "source": [
    "class B:\n",
    "    def __init__(self, a):\n",
    "        self.a = a\n",
    "        print(f'B: self:{hex(id(self))}, a:{hex(id(self.a))}')"
   ]
  },
  {
   "cell_type": "markdown",
   "metadata": {},
   "source": [
    "- Disabling garbage collection"
   ]
  },
  {
   "cell_type": "code",
   "execution_count": 6,
   "metadata": {},
   "outputs": [
    {
     "name": "stdout",
     "output_type": "stream",
     "text": [
      "B: self:0x220583fc860, a:0x220583fc828\n",
      "A: self:0x220583fc828, b:0x220583fc860\n"
     ]
    }
   ],
   "source": [
    "my_var = A()"
   ]
  },
  {
   "cell_type": "markdown",
   "metadata": {},
   "source": [
    "- As we can see, the memory address of a in B is the same as the memory address of A (and vice-versa)"
   ]
  },
  {
   "cell_type": "code",
   "execution_count": 7,
   "metadata": {},
   "outputs": [
    {
     "data": {
      "text/plain": [
       "'0x220583fc828'"
      ]
     },
     "execution_count": 7,
     "metadata": {},
     "output_type": "execute_result"
    }
   ],
   "source": [
    "hex(id(my_var))"
   ]
  },
  {
   "cell_type": "markdown",
   "metadata": {},
   "source": [
    "- Also, the memory address of `my_var` is the same as A"
   ]
  },
  {
   "cell_type": "code",
   "execution_count": 8,
   "metadata": {},
   "outputs": [
    {
     "data": {
      "text/plain": [
       "'0x220583fc860'"
      ]
     },
     "execution_count": 8,
     "metadata": {},
     "output_type": "execute_result"
    }
   ],
   "source": [
    "hex(id(my_var.b))"
   ]
  },
  {
   "cell_type": "code",
   "execution_count": 9,
   "metadata": {},
   "outputs": [
    {
     "data": {
      "text/plain": [
       "'0x220583fc828'"
      ]
     },
     "execution_count": 9,
     "metadata": {},
     "output_type": "execute_result"
    }
   ],
   "source": [
    "hex(id(my_var.b.a))"
   ]
  },
  {
   "cell_type": "markdown",
   "metadata": {},
   "source": [
    "- We're now satisfied that we have a circular reference"
   ]
  },
  {
   "cell_type": "code",
   "execution_count": 10,
   "metadata": {},
   "outputs": [],
   "source": [
    "a_id = id(my_var)\n",
    "b_id = id(my_var.b)"
   ]
  },
  {
   "cell_type": "code",
   "execution_count": 11,
   "metadata": {},
   "outputs": [
    {
     "name": "stdout",
     "output_type": "stream",
     "text": [
      "2 1\n"
     ]
    }
   ],
   "source": [
    "print(ref_count(a_id),ref_count(b_id))"
   ]
  },
  {
   "cell_type": "markdown",
   "metadata": {},
   "source": [
    "- As expected, the address for which `my_var` is an alias (i.e. the object A) has two references\n",
    "    - One from `my_var`, and one from Object B"
   ]
  },
  {
   "cell_type": "markdown",
   "metadata": {},
   "source": [
    "- Now, we'll check whether these objects (A and B) are being tracked by the garbage collector"
   ]
  },
  {
   "cell_type": "code",
   "execution_count": 12,
   "metadata": {},
   "outputs": [
    {
     "data": {
      "text/plain": [
       "'Object exists'"
      ]
     },
     "execution_count": 12,
     "metadata": {},
     "output_type": "execute_result"
    }
   ],
   "source": [
    "object_by_id(a_id)"
   ]
  },
  {
   "cell_type": "code",
   "execution_count": 13,
   "metadata": {},
   "outputs": [
    {
     "data": {
      "text/plain": [
       "'Object exists'"
      ]
     },
     "execution_count": 13,
     "metadata": {},
     "output_type": "execute_result"
    }
   ],
   "source": [
    "object_by_id(b_id)"
   ]
  },
  {
   "cell_type": "markdown",
   "metadata": {},
   "source": [
    "- Now, we destroy the reference from `my_var`"
   ]
  },
  {
   "cell_type": "code",
   "execution_count": 14,
   "metadata": {},
   "outputs": [],
   "source": [
    "my_var = None"
   ]
  },
  {
   "cell_type": "code",
   "execution_count": 15,
   "metadata": {},
   "outputs": [
    {
     "data": {
      "text/plain": [
       "1"
      ]
     },
     "execution_count": 15,
     "metadata": {},
     "output_type": "execute_result"
    }
   ],
   "source": [
    "ref_count(a_id)"
   ]
  },
  {
   "cell_type": "markdown",
   "metadata": {},
   "source": [
    "- Now that we've removed the reference from `my_var`, we're only left with the circular reference\n",
    "    - *Are the objects still being tracked by the garbage collector?*"
   ]
  },
  {
   "cell_type": "code",
   "execution_count": 16,
   "metadata": {},
   "outputs": [
    {
     "data": {
      "text/plain": [
       "('Object exists', 'Object exists')"
      ]
     },
     "execution_count": 16,
     "metadata": {},
     "output_type": "execute_result"
    }
   ],
   "source": [
    "object_by_id(a_id),object_by_id(b_id)"
   ]
  },
  {
   "cell_type": "markdown",
   "metadata": {},
   "source": [
    "- Yup\n",
    "    - We can manually run the garbage collector"
   ]
  },
  {
   "cell_type": "code",
   "execution_count": 17,
   "metadata": {},
   "outputs": [
    {
     "data": {
      "text/plain": [
       "39"
      ]
     },
     "execution_count": 17,
     "metadata": {},
     "output_type": "execute_result"
    }
   ],
   "source": [
    "gc.collect()"
   ]
  },
  {
   "cell_type": "code",
   "execution_count": 18,
   "metadata": {},
   "outputs": [
    {
     "data": {
      "text/plain": [
       "('Not found', 'Not found')"
      ]
     },
     "execution_count": 18,
     "metadata": {},
     "output_type": "execute_result"
    }
   ],
   "source": [
    "object_by_id(a_id),object_by_id(b_id)"
   ]
  },
  {
   "cell_type": "markdown",
   "metadata": {},
   "source": [
    "- Neither of them are found!\n",
    "    - They've been removed!"
   ]
  }
 ],
 "metadata": {
  "kernelspec": {
   "display_name": "Python 3",
   "language": "python",
   "name": "python3"
  },
  "language_info": {
   "codemirror_mode": {
    "name": "ipython",
    "version": 3
   },
   "file_extension": ".py",
   "mimetype": "text/x-python",
   "name": "python",
   "nbconvert_exporter": "python",
   "pygments_lexer": "ipython3",
   "version": "3.6.8"
  }
 },
 "nbformat": 4,
 "nbformat_minor": 2
}
