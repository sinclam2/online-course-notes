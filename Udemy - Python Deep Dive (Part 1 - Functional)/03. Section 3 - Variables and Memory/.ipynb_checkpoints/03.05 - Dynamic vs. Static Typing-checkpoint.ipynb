{
 "cells": [
  {
   "cell_type": "markdown",
   "metadata": {},
   "source": [
    "# What is static typing?\n",
    "\n",
    "- Many languages are statically typed\n",
    "    - E.g. Java, C++, Swift\n",
    "- Let's look at an example in Java:\n",
    "\n",
    "```java\n",
    "String myVar = \"hello\";\n",
    "```\n",
    "\n",
    "- As we can see, we need to specify the data type as we define the variable\n",
    "    - The two are inextricably linked\n",
    "    \n",
    "- If, later on, we try to set `myVar = 10`, we'll get an error\n",
    "    - This is because 10 is an integer, and we defined `myVar` to only take on string values"
   ]
  },
  {
   "cell_type": "markdown",
   "metadata": {},
   "source": [
    "____\n",
    "\n",
    "# What is dynamic typing?\n",
    "\n",
    "- In Python, the equivalent to the code above would be:\n",
    "\n",
    "```python\n",
    "my_var = \"hello\"\n",
    "```\n",
    "\n",
    "- *Question: If we tried to run the following code, would it fail?*\n",
    "\n",
    "```python\n",
    "my_var = 10\n",
    "```\n",
    "\n",
    "- **No**\n",
    "    - This is because Python is a dynamically typed language\n",
    "        - The data type of the variable is not tied to the variable name\n",
    "        \n",
    "- *But doesn't this mean that the data type of the variable is changing?*\n",
    "    - Well, the **variable never truly had a data type in the first place**\n",
    "        - Recall: variable names are simply aliases for memory locations\n",
    "            - When we change `my_var` from a string to an int, it simply changes the reference memory location"
   ]
  },
  {
   "cell_type": "markdown",
   "metadata": {},
   "source": [
    "- We can use the built-in `type` function to determine the data type of a variable\n",
    "    - Keep in mind, however, that since Python is dynamically typed, it only corresponds to where the variable is currently referencing"
   ]
  },
  {
   "cell_type": "code",
   "execution_count": 1,
   "metadata": {},
   "outputs": [
    {
     "name": "stdout",
     "output_type": "stream",
     "text": [
      "a <class 'str'>\n",
      "123 <class 'int'>\n",
      "[1, 2, 3] <class 'list'>\n"
     ]
    }
   ],
   "source": [
    "for a in ['a', 123, [1,2,3]]:\n",
    "    print(a, type(a))"
   ]
  }
 ],
 "metadata": {
  "kernelspec": {
   "display_name": "Python 3",
   "language": "python",
   "name": "python3"
  },
  "language_info": {
   "codemirror_mode": {
    "name": "ipython",
    "version": 3
   },
   "file_extension": ".py",
   "mimetype": "text/x-python",
   "name": "python",
   "nbconvert_exporter": "python",
   "pygments_lexer": "ipython3",
   "version": "3.6.8"
  }
 },
 "nbformat": 4,
 "nbformat_minor": 2
}
