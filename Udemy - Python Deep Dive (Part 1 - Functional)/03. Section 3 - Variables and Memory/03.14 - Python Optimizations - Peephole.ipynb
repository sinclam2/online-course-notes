{
 "cells": [
  {
   "cell_type": "markdown",
   "metadata": {},
   "source": [
    "# So what is a peephole optimizer?\n",
    "\n",
    "- Let's say we have the following code that counts the number of minutes worked by tallying up each day from a list\n",
    "\n",
    "```python\n",
    "total_minutes_worked = 0\n",
    "\n",
    "for day in list_of_days_worked:\n",
    "    total_minutes_worked += 8 * 60\n",
    "```\n",
    "\n",
    "- In each loop, the multiplication `8*60` will be perfomed\n",
    "    - If the loop needs to repeat many times, this will be a waste of time\n",
    "    \n",
    "- By using the **peephold optimizer**, when Python compiles the code above, the multiplication will be **precalculated** and the code will *effectively* be translated to:\n",
    "\n",
    "```python\n",
    "total_minutes_worked = 0\n",
    "\n",
    "for day in list_of_days_worked:\n",
    "    total_minutes_worked += 480\n",
    "```"
   ]
  },
  {
   "cell_type": "markdown",
   "metadata": {},
   "source": [
    "- The peephole optimizer isn't just for numeric calculations\n",
    "    - It can also be used for **short sequences** (of length < 20)\n",
    "    \n",
    "- For example, if we had the following loop:\n",
    "\n",
    "```python\n",
    "for _ in range(1000):\n",
    "    print('abc'*3)\n",
    "```\n",
    "\n",
    "- The peephole optimizer would convert it to:\n",
    "\n",
    "```python\n",
    "for _ in range(1000):\n",
    "    print('abcabcabc')\n",
    "```"
   ]
  },
  {
   "cell_type": "markdown",
   "metadata": {},
   "source": [
    "- The peephole optimizer also runs **membership tests**\n",
    "    - Let's say we have the following loop:\n",
    "    \n",
    "```python\n",
    "for i in list_really_long_set_of_numbers:\n",
    "    if i in [1,2,3]:\n",
    "        print(i)\n",
    "```\n",
    "\n",
    "- If we swapped out the mutable list for an immutable equivalent, say a tuple, then the code will run faster\n",
    "    - That's what the peephole optimizer does\n",
    "        - The optimized code would be:\n",
    "        \n",
    "```python\n",
    "for i in list_really_long_set_of_numbers:\n",
    "    if i in (1,2,3):\n",
    "        print(i)\n",
    "```"
   ]
  },
  {
   "cell_type": "markdown",
   "metadata": {},
   "source": [
    "- For membership tests, the following conversions are made:\n",
    "    1. lists $\\rightarrow$ tuples\n",
    "    2. sets $\\rightarrow$ frozensets "
   ]
  },
  {
   "cell_type": "markdown",
   "metadata": {},
   "source": [
    "- **Note**: set membership is waaaay faster than list or tuple membership\n",
    "    - This means `if i in {1,2,3}` is way faster than `if i in [1,2,3]`"
   ]
  },
  {
   "cell_type": "markdown",
   "metadata": {},
   "source": [
    "___\n",
    "\n",
    "# Examples"
   ]
  },
  {
   "cell_type": "code",
   "execution_count": 2,
   "metadata": {},
   "outputs": [],
   "source": [
    "def my_func():\n",
    "    # This will be a precomputed calculation\n",
    "    a = 24 * 60\n",
    "    # This will be a precompiled tuple (10 elements)\n",
    "    b = (1, 2) * 5\n",
    "    # This will be a precompiled string (9 elements)\n",
    "    c = 'abc' * 3\n",
    "    # This string won't be precompiled since it's too long (22 elements)\n",
    "    d = 'ab' * 11"
   ]
  },
  {
   "cell_type": "markdown",
   "metadata": {},
   "source": [
    "- Now that this has been compiled, the pre-computations and pre-compilations are already done\n",
    "    - Let's look at the constants associated with this function:"
   ]
  },
  {
   "cell_type": "code",
   "execution_count": 3,
   "metadata": {},
   "outputs": [
    {
     "data": {
      "text/plain": [
       "(None,\n",
       " 24,\n",
       " 60,\n",
       " 1,\n",
       " 2,\n",
       " 5,\n",
       " 'abc',\n",
       " 3,\n",
       " 'ab',\n",
       " 11,\n",
       " 1440,\n",
       " (1, 2),\n",
       " (1, 2, 1, 2, 1, 2, 1, 2, 1, 2),\n",
       " 'abcabcabc')"
      ]
     },
     "execution_count": 3,
     "metadata": {},
     "output_type": "execute_result"
    }
   ],
   "source": [
    "my_func.__code__.co_consts"
   ]
  },
  {
   "cell_type": "markdown",
   "metadata": {},
   "source": [
    "- We can see the following constants:\n",
    "    1. `1440 = 24 * 60`\n",
    "    2. `(1, 2, 1, 2, 1, 2, 1, 2, 1, 2) = (1, 2) * 5`\n",
    "    3. `'abcabcabc' = 'abc' * 3`\n",
    "- We also notice that `'ab' * 11` isn't in there (since it was too long)"
   ]
  },
  {
   "cell_type": "code",
   "execution_count": 4,
   "metadata": {},
   "outputs": [],
   "source": [
    "def my_func(a):\n",
    "    if e in [1,2,3]:\n",
    "        pass"
   ]
  },
  {
   "cell_type": "code",
   "execution_count": 5,
   "metadata": {},
   "outputs": [
    {
     "data": {
      "text/plain": [
       "(None, 1, 2, 3, (1, 2, 3))"
      ]
     },
     "execution_count": 5,
     "metadata": {},
     "output_type": "execute_result"
    }
   ],
   "source": [
    "my_func.__code__.co_consts"
   ]
  },
  {
   "cell_type": "markdown",
   "metadata": {},
   "source": [
    "- As we can see, the list `[1,2,3]` was converted to a tuple `(1,2,3)`\n",
    "    - Let's try it again, but with a set"
   ]
  },
  {
   "cell_type": "code",
   "execution_count": 7,
   "metadata": {},
   "outputs": [],
   "source": [
    "def my_func(a):\n",
    "    if e in {1,2,3}:\n",
    "        pass"
   ]
  },
  {
   "cell_type": "code",
   "execution_count": 8,
   "metadata": {},
   "outputs": [
    {
     "data": {
      "text/plain": [
       "(None, 1, 2, 3, frozenset({1, 2, 3}))"
      ]
     },
     "execution_count": 8,
     "metadata": {},
     "output_type": "execute_result"
    }
   ],
   "source": [
    "my_func.__code__.co_consts"
   ]
  },
  {
   "cell_type": "markdown",
   "metadata": {},
   "source": [
    "- This time, the set was converted to a frozen set"
   ]
  },
  {
   "cell_type": "code",
   "execution_count": 9,
   "metadata": {},
   "outputs": [],
   "source": [
    "import string\n",
    "import time"
   ]
  },
  {
   "cell_type": "code",
   "execution_count": 10,
   "metadata": {},
   "outputs": [
    {
     "data": {
      "text/plain": [
       "'abcdefghijklmnopqrstuvwxyzABCDEFGHIJKLMNOPQRSTUVWXYZ'"
      ]
     },
     "execution_count": 10,
     "metadata": {},
     "output_type": "execute_result"
    }
   ],
   "source": [
    "string.ascii_letters"
   ]
  },
  {
   "cell_type": "code",
   "execution_count": 11,
   "metadata": {},
   "outputs": [],
   "source": [
    "list_characters = list(string.ascii_letters)\n",
    "tuple_characters = tuple(string.ascii_letters)\n",
    "set_characters = set(string.ascii_letters)"
   ]
  },
  {
   "cell_type": "code",
   "execution_count": 12,
   "metadata": {},
   "outputs": [],
   "source": [
    "def membership_test(n_trials, container):\n",
    "    for i in range(n_trials):\n",
    "        if 'z' in container:\n",
    "            pass"
   ]
  },
  {
   "cell_type": "code",
   "execution_count": 13,
   "metadata": {},
   "outputs": [
    {
     "name": "stdout",
     "output_type": "stream",
     "text": [
      "list time: 3.6877974\n"
     ]
    }
   ],
   "source": [
    "start = time.perf_counter()\n",
    "membership_test(10000000, list_characters)\n",
    "end = time.perf_counter()\n",
    "print(f'list time: {end - start}')"
   ]
  },
  {
   "cell_type": "code",
   "execution_count": 14,
   "metadata": {},
   "outputs": [
    {
     "name": "stdout",
     "output_type": "stream",
     "text": [
      "tuple time: 3.654041300000003\n"
     ]
    }
   ],
   "source": [
    "start = time.perf_counter()\n",
    "membership_test(10000000, tuple_characters)\n",
    "end = time.perf_counter()\n",
    "print(f'tuple time: {end - start}')"
   ]
  },
  {
   "cell_type": "code",
   "execution_count": 15,
   "metadata": {},
   "outputs": [
    {
     "name": "stdout",
     "output_type": "stream",
     "text": [
      "set time: 0.41592899999999844\n"
     ]
    }
   ],
   "source": [
    "start = time.perf_counter()\n",
    "membership_test(10000000, set_characters)\n",
    "end = time.perf_counter()\n",
    "print(f'set time: {end - start}')"
   ]
  },
  {
   "cell_type": "markdown",
   "metadata": {},
   "source": [
    "- As we can see, the tuple is slightly faster than the list, but the set is way faster than both"
   ]
  }
 ],
 "metadata": {
  "kernelspec": {
   "display_name": "Python 3",
   "language": "python",
   "name": "python3"
  },
  "language_info": {
   "codemirror_mode": {
    "name": "ipython",
    "version": 3
   },
   "file_extension": ".py",
   "mimetype": "text/x-python",
   "name": "python",
   "nbconvert_exporter": "python",
   "pygments_lexer": "ipython3",
   "version": "3.6.8"
  }
 },
 "nbformat": 4,
 "nbformat_minor": 2
}
