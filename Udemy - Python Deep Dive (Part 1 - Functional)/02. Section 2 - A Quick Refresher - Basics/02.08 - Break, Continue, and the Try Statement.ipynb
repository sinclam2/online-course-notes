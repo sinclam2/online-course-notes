{
 "cells": [
  {
   "cell_type": "markdown",
   "metadata": {},
   "source": [
    "# What is a `try` statement?\n",
    "\n",
    "- When we use `try`, we also have `except` and `finally`\n",
    "    - If the `try` statement passes, the code below it runs\n",
    "    - If not, the code in the `except` statement runs\n",
    "    - No matter what, the code in the `finally` statement runs"
   ]
  },
  {
   "cell_type": "code",
   "execution_count": 1,
   "metadata": {},
   "outputs": [
    {
     "name": "stdout",
     "output_type": "stream",
     "text": [
      "this always executes\n"
     ]
    }
   ],
   "source": [
    "a = 10\n",
    "b = 1\n",
    "\n",
    "try:\n",
    "    a/b\n",
    "except ZeroDivisionError:\n",
    "    print('division by 0')\n",
    "finally:\n",
    "    print('this always executes')"
   ]
  },
  {
   "cell_type": "code",
   "execution_count": 2,
   "metadata": {},
   "outputs": [
    {
     "name": "stdout",
     "output_type": "stream",
     "text": [
      "division by 0\n",
      "this always executes\n"
     ]
    }
   ],
   "source": [
    "a = 10\n",
    "b = 0\n",
    "\n",
    "try:\n",
    "    a/b\n",
    "except ZeroDivisionError:\n",
    "    print('division by 0')\n",
    "finally:\n",
    "    print('this always executes')"
   ]
  },
  {
   "cell_type": "code",
   "execution_count": 4,
   "metadata": {},
   "outputs": [
    {
     "name": "stdout",
     "output_type": "stream",
     "text": [
      "----------\n",
      "1, 1 this always executes\n",
      "1 1 - main loop\n",
      "----------\n",
      "2, 0 division by 0\n",
      "2, 0 this always executes\n",
      "----------\n",
      "3, -1 this always executes\n",
      "3 -1 - main loop\n",
      "----------\n",
      "4, -2 this always executes\n",
      "4 -2 - main loop\n"
     ]
    }
   ],
   "source": [
    "a = 0\n",
    "b = 2\n",
    "\n",
    "while a < 4:\n",
    "    print('----------')\n",
    "    a += 1\n",
    "    b -= 1\n",
    "    try:\n",
    "        a/b\n",
    "    except ZeroDivisionError:\n",
    "        print(f'{a}, {b} division by 0')\n",
    "        continue\n",
    "    finally:\n",
    "        print(f'{a}, {b} this always executes') # runs every time\n",
    "    print(f'{a} {b} - main loop') # only runs when the try statement succeeds"
   ]
  },
  {
   "cell_type": "markdown",
   "metadata": {},
   "source": [
    "- As we can see, the `finally` code always runs whehter the `try` statement succeeds or not\n",
    "    - This is handy if there is something we need to happen no matter what\n",
    "        - E.g. save and close a file\n",
    "- **Note**: this works if we use `break` instead of `continue`\n",
    "    - i.e. if we want to end a loop entirely instead of skipping the rest of the current iteration"
   ]
  },
  {
   "cell_type": "code",
   "execution_count": 5,
   "metadata": {},
   "outputs": [
    {
     "name": "stdout",
     "output_type": "stream",
     "text": [
      "----------\n",
      "1, 1 this always executes\n",
      "1 1 - main loop\n",
      "----------\n",
      "2, 0 division by 0\n",
      "2, 0 this always executes\n"
     ]
    }
   ],
   "source": [
    "a = 0\n",
    "b = 2\n",
    "\n",
    "while a < 4:\n",
    "    print('----------')\n",
    "    a += 1\n",
    "    b -= 1\n",
    "    try:\n",
    "        a/b\n",
    "    except ZeroDivisionError:\n",
    "        print(f'{a}, {b} division by 0')\n",
    "        break\n",
    "    finally:\n",
    "        print(f'{a}, {b} this always executes') # runs every time\n",
    "    print(f'{a} {b} - main loop') # only runs when the try statement succeeds"
   ]
  },
  {
   "cell_type": "markdown",
   "metadata": {},
   "source": [
    "- As we can see, when the `break` is triggered, the `finally` statement still ran"
   ]
  },
  {
   "cell_type": "markdown",
   "metadata": {},
   "source": [
    "_____\n",
    "\n",
    "# Can we add `else` to this (like in the previous `while` statements?\n",
    "\n",
    "- Yes\n",
    "    - In this example, the only time it will run is if the `while` loop doesn't encounter a break"
   ]
  },
  {
   "cell_type": "code",
   "execution_count": 6,
   "metadata": {},
   "outputs": [
    {
     "name": "stdout",
     "output_type": "stream",
     "text": [
      "----------\n",
      "1, 1 this always executes\n",
      "1 1 - main loop\n",
      "----------\n",
      "2, 0 division by 0\n",
      "2, 0 this always executes\n"
     ]
    }
   ],
   "source": [
    "a = 0\n",
    "b = 2\n",
    "\n",
    "while a < 4:\n",
    "    print('----------')\n",
    "    a += 1\n",
    "    b -= 1\n",
    "    try:\n",
    "        a/b\n",
    "    except ZeroDivisionError:\n",
    "        print(f'{a}, {b} division by 0')\n",
    "        break\n",
    "    finally:\n",
    "        print(f'{a}, {b} this always executes') # runs every time\n",
    "    print(f'{a} {b} - main loop') # only runs when the try statement succeeds\n",
    "else:\n",
    "    print('Code executed without a zero division error')"
   ]
  },
  {
   "cell_type": "code",
   "execution_count": 7,
   "metadata": {},
   "outputs": [
    {
     "name": "stdout",
     "output_type": "stream",
     "text": [
      "----------\n",
      "1, 9 this always executes\n",
      "1 9 - main loop\n",
      "----------\n",
      "2, 8 this always executes\n",
      "2 8 - main loop\n",
      "----------\n",
      "3, 7 this always executes\n",
      "3 7 - main loop\n",
      "----------\n",
      "4, 6 this always executes\n",
      "4 6 - main loop\n",
      "Code executed without a zero division error\n"
     ]
    }
   ],
   "source": [
    "a = 0\n",
    "b = 10\n",
    "\n",
    "while a < 4:\n",
    "    print('----------')\n",
    "    a += 1\n",
    "    b -= 1\n",
    "    try:\n",
    "        a/b\n",
    "    except ZeroDivisionError:\n",
    "        print(f'{a}, {b} division by 0')\n",
    "        break\n",
    "    finally:\n",
    "        print(f'{a}, {b} this always executes') # runs every time\n",
    "    print(f'{a} {b} - main loop') # only runs when the try statement succeeds\n",
    "else:\n",
    "    print('Code executed without a zero division error')"
   ]
  }
 ],
 "metadata": {
  "kernelspec": {
   "display_name": "Python 3",
   "language": "python",
   "name": "python3"
  },
  "language_info": {
   "codemirror_mode": {
    "name": "ipython",
    "version": 3
   },
   "file_extension": ".py",
   "mimetype": "text/x-python",
   "name": "python",
   "nbconvert_exporter": "python",
   "pygments_lexer": "ipython3",
   "version": "3.6.8"
  }
 },
 "nbformat": 4,
 "nbformat_minor": 2
}
