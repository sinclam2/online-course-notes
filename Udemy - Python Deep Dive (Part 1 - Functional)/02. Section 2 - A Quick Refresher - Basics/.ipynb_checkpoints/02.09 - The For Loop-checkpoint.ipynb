{
 "cells": [
  {
   "cell_type": "markdown",
   "metadata": {},
   "source": [
    "# How are `for` loops written in other languages?\n",
    "\n",
    "### Example (in C)\n",
    "\n",
    "```c\n",
    "// Print numbers from 1 to 10\n",
    "#include <stdio.h>\n",
    "\n",
    "int main() {\n",
    "  int i;\n",
    "\n",
    "  for (i = 1; i < 11; ++i)\n",
    "  {\n",
    "    printf(\"%d \", i);\n",
    "  }\n",
    "  return 0;\n",
    "}\n",
    "```"
   ]
  },
  {
   "cell_type": "markdown",
   "metadata": {},
   "source": [
    "- As we can see, we followed the following steps:\n",
    "    1. declare that `i` is an integer\n",
    "    2. specified that we wanted:\n",
    "        1. `i` to start at 1\n",
    "        2. the loop to terminate when `i < 11`\n",
    "        3. `i` to increment up by 1 each loop\n",
    "    3. specified that if the conditions are satisfied for a given `i` value, to print its value\n",
    "    4. finally, we specified to exit the loop by returning zero"
   ]
  },
  {
   "cell_type": "markdown",
   "metadata": {},
   "source": [
    "___\n",
    "\n",
    "# What is an iterable?\n",
    "\n",
    "- In Python, an iterable is capable of returning objects one at a time"
   ]
  },
  {
   "cell_type": "markdown",
   "metadata": {},
   "source": [
    "### Examples\n",
    "\n",
    "- lists\n",
    "- tuples\n",
    "- strings\n",
    "- etc."
   ]
  },
  {
   "cell_type": "markdown",
   "metadata": {},
   "source": [
    "____\n",
    "\n",
    "# So, how can we replicate the loop above in Python?\n",
    "\n",
    "- **Not with the `for` loop?**\n",
    "    - With the `while` loop instead!"
   ]
  },
  {
   "cell_type": "code",
   "execution_count": 2,
   "metadata": {},
   "outputs": [
    {
     "name": "stdout",
     "output_type": "stream",
     "text": [
      "1\n",
      "2\n",
      "3\n",
      "4\n",
      "5\n",
      "6\n",
      "7\n",
      "8\n",
      "9\n",
      "10\n"
     ]
    }
   ],
   "source": [
    "i = 1\n",
    "\n",
    "while i < 11:\n",
    "    print(i)\n",
    "    i += 1\n",
    "i = None # This is equivalent to returning 0 above"
   ]
  },
  {
   "cell_type": "markdown",
   "metadata": {},
   "source": [
    "- Boom!"
   ]
  },
  {
   "cell_type": "markdown",
   "metadata": {},
   "source": [
    "____\n",
    "\n",
    "# So how do we use the `for` loop in Python?\n",
    "\n",
    "### Example"
   ]
  },
  {
   "cell_type": "code",
   "execution_count": 3,
   "metadata": {},
   "outputs": [
    {
     "name": "stdout",
     "output_type": "stream",
     "text": [
      "0\n",
      "1\n",
      "2\n",
      "3\n",
      "4\n"
     ]
    }
   ],
   "source": [
    "for i in range(5):\n",
    "    print(i)"
   ]
  },
  {
   "cell_type": "markdown",
   "metadata": {},
   "source": [
    "- *But isn't this the same as the while loop above?*\n",
    "    - **NO!**\n",
    "        - This iterates the iterable instead of incrementing values"
   ]
  },
  {
   "cell_type": "markdown",
   "metadata": {},
   "source": [
    "### Other examples"
   ]
  },
  {
   "cell_type": "code",
   "execution_count": 4,
   "metadata": {},
   "outputs": [
    {
     "name": "stdout",
     "output_type": "stream",
     "text": [
      "1\n",
      "2\n",
      "3\n",
      "4\n"
     ]
    }
   ],
   "source": [
    "for i in [1,2,3,4]:\n",
    "    print(i)"
   ]
  },
  {
   "cell_type": "code",
   "execution_count": 5,
   "metadata": {},
   "outputs": [
    {
     "name": "stdout",
     "output_type": "stream",
     "text": [
      "h\n",
      "e\n",
      "l\n",
      "l\n",
      "o\n"
     ]
    }
   ],
   "source": [
    "for letter in 'hello':\n",
    "    print(letter)"
   ]
  },
  {
   "cell_type": "code",
   "execution_count": 6,
   "metadata": {},
   "outputs": [
    {
     "name": "stdout",
     "output_type": "stream",
     "text": [
      "1\n",
      "2\n",
      "a\n",
      "[1, 2, 3, 4]\n"
     ]
    }
   ],
   "source": [
    "for x in (1,2,'a',[1,2,3,4]):\n",
    "    print(x)"
   ]
  },
  {
   "cell_type": "markdown",
   "metadata": {},
   "source": [
    "____\n",
    "\n",
    "# Can we use `break` and `continue` in `for` loops?\n",
    "\n",
    "- Yes!"
   ]
  },
  {
   "cell_type": "code",
   "execution_count": 8,
   "metadata": {},
   "outputs": [
    {
     "name": "stdout",
     "output_type": "stream",
     "text": [
      "0\n",
      "1\n",
      "2\n",
      "4\n",
      "5\n",
      "6\n"
     ]
    }
   ],
   "source": [
    "for i in range(10):\n",
    "    if i == 3:\n",
    "        continue\n",
    "    print(i)\n",
    "    if i == 6:\n",
    "        break"
   ]
  },
  {
   "cell_type": "markdown",
   "metadata": {},
   "source": [
    "____\n",
    "\n",
    "# Can we use `else` in `for` loops?"
   ]
  },
  {
   "cell_type": "code",
   "execution_count": 10,
   "metadata": {},
   "outputs": [
    {
     "name": "stdout",
     "output_type": "stream",
     "text": [
      "Didn't find a multiple of 7\n"
     ]
    }
   ],
   "source": [
    "for i in range(1, 5):\n",
    "    if i % 7 == 0:\n",
    "        print(f'{i} is a multiple of 7')\n",
    "        break\n",
    "else:\n",
    "    print(\"Didn't find a multiple of 7\")"
   ]
  },
  {
   "cell_type": "code",
   "execution_count": 11,
   "metadata": {},
   "outputs": [
    {
     "name": "stdout",
     "output_type": "stream",
     "text": [
      "14 is a multiple of 7\n"
     ]
    }
   ],
   "source": [
    "for i in range(10, 20):\n",
    "    if i % 7 == 0:\n",
    "        print(f'{i} is a multiple of 7')\n",
    "        break\n",
    "else:\n",
    "    print(\"Didn't find a multiple of 7\")"
   ]
  },
  {
   "cell_type": "markdown",
   "metadata": {},
   "source": [
    "____\n",
    "\n",
    "# Can we use `try` ,`except`, and `finally` in `for` loops?\n",
    "\n",
    "- Yup!"
   ]
  },
  {
   "cell_type": "code",
   "execution_count": 12,
   "metadata": {},
   "outputs": [
    {
     "name": "stdout",
     "output_type": "stream",
     "text": [
      "-------\n",
      "this chunk always runs\n",
      "this is the last chunk of the main loop\n",
      "-------\n",
      "this chunk always runs\n",
      "this is the last chunk of the main loop\n",
      "-------\n",
      "this chunk always runs\n",
      "this is the last chunk of the main loop\n",
      "-------\n",
      "zero division error\n",
      "this chunk always runs\n",
      "-------\n",
      "this chunk always runs\n",
      "this is the last chunk of the main loop\n"
     ]
    }
   ],
   "source": [
    "for i in range(5):\n",
    "    print('-------')\n",
    "    try:\n",
    "        10 / (i - 3) # when i==3 we'll have a division by zero error\n",
    "    except ZeroDivisionError:\n",
    "        print('zero division error')\n",
    "        continue\n",
    "    finally:\n",
    "        print('this chunk always runs')\n",
    "    print('this is the last chunk of the main loop')"
   ]
  },
  {
   "cell_type": "markdown",
   "metadata": {},
   "source": [
    "____\n",
    "\n",
    "# What if we want to know the index of the iterable as we're looping through?\n",
    "\n",
    "- We can use `enumerate`!\n",
    "    - Without `enumerate`, we would use something clunky like:"
   ]
  },
  {
   "cell_type": "code",
   "execution_count": 15,
   "metadata": {},
   "outputs": [
    {
     "name": "stdout",
     "output_type": "stream",
     "text": [
      "0 h\n",
      "1 e\n",
      "2 l\n",
      "3 l\n",
      "4 o\n"
     ]
    }
   ],
   "source": [
    "s = 'hello'\n",
    "idx = 0\n",
    "\n",
    "for letter in s:\n",
    "    print(idx, letter)\n",
    "    idx += 1"
   ]
  },
  {
   "cell_type": "markdown",
   "metadata": {},
   "source": [
    "- Instead, we can write this as:"
   ]
  },
  {
   "cell_type": "code",
   "execution_count": 16,
   "metadata": {},
   "outputs": [
    {
     "name": "stdout",
     "output_type": "stream",
     "text": [
      "0 h\n",
      "1 e\n",
      "2 l\n",
      "3 l\n",
      "4 o\n"
     ]
    }
   ],
   "source": [
    "s = 'hello'\n",
    "\n",
    "for idx, letter in enumerate(s):\n",
    "    print(idx, letter)"
   ]
  },
  {
   "cell_type": "markdown",
   "metadata": {},
   "source": [
    "- As we can see, the output is the same"
   ]
  }
 ],
 "metadata": {
  "kernelspec": {
   "display_name": "Python 3",
   "language": "python",
   "name": "python3"
  },
  "language_info": {
   "codemirror_mode": {
    "name": "ipython",
    "version": 3
   },
   "file_extension": ".py",
   "mimetype": "text/x-python",
   "name": "python",
   "nbconvert_exporter": "python",
   "pygments_lexer": "ipython3",
   "version": "3.6.8"
  }
 },
 "nbformat": 4,
 "nbformat_minor": 2
}
