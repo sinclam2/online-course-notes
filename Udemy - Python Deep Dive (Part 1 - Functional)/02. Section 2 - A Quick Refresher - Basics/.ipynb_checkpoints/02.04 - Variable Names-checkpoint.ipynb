{
 "cells": [
  {
   "cell_type": "markdown",
   "metadata": {},
   "source": [
    "# What are the rules of identifier names?\n",
    "\n",
    "1. Are case-sensitive\n",
    "    - E.g. `my_var`, `My_var`, and `mY_vAr` are all distinct variables\n",
    "2. Must start with either an underscore (`_`) or a letter\n",
    "3. Cannot be reserved words\n",
    "    - E.g. if, None, False, etc."
   ]
  },
  {
   "cell_type": "markdown",
   "metadata": {},
   "source": [
    "____\n",
    "\n",
    "# What are the conventions for identifier names?\n",
    "\n",
    "1. If we're using a **single underscore** (e.g. `_my_var`), then the variable is for *internal-use*\n",
    "    - i.e. anyone using the code shouldn't mess with the variable\n",
    "    - **Note**: if we define the function this way and save it to a module, it will **not** be imported by the import statement `from my_module import *`\n",
    "    \n",
    "2. If we're using a **double underscore** (e.g. `__my_var`), then the variable is used for *name mangling* \n",
    "    - **Note**: covered later in the course\n",
    "    \n",
    "3. If we're using a **double underscore at the beginning and end** of the name (e.g. `__my_var__`), then the variable is a *system-defined name*\n",
    "    - **Note**: we shouldn't be defining these\n",
    "        - E.g. `__init__`\n",
    "        \n",
    "\n",
    "\n",
    "- There are more conventions outlined in the [**PEP 8 documentation**](https://www.python.org/dev/peps/pep-0008/)"
   ]
  }
 ],
 "metadata": {
  "kernelspec": {
   "display_name": "Python 3",
   "language": "python",
   "name": "python3"
  },
  "language_info": {
   "codemirror_mode": {
    "name": "ipython",
    "version": 3
   },
   "file_extension": ".py",
   "mimetype": "text/x-python",
   "name": "python",
   "nbconvert_exporter": "python",
   "pygments_lexer": "ipython3",
   "version": "3.6.8"
  }
 },
 "nbformat": 4,
 "nbformat_minor": 2
}
