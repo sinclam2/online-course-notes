{
 "cells": [
  {
   "cell_type": "markdown",
   "metadata": {},
   "source": [
    "# Are there functions available in Python without importing?\n",
    "\n",
    "- There are many\n",
    "    - E.g. `len`"
   ]
  },
  {
   "cell_type": "code",
   "execution_count": 1,
   "metadata": {},
   "outputs": [
    {
     "data": {
      "text/plain": [
       "3"
      ]
     },
     "execution_count": 1,
     "metadata": {},
     "output_type": "execute_result"
    }
   ],
   "source": [
    "list_numbers = [1,2,3]\n",
    "len(list_numbers)"
   ]
  },
  {
   "cell_type": "markdown",
   "metadata": {},
   "source": [
    "____\n",
    "\n",
    "# Are there functions that are available without installing anything, but require import?\n",
    "\n",
    "- Yes\n",
    "    - E.g. the `sqrt` function from the `math` library"
   ]
  },
  {
   "cell_type": "code",
   "execution_count": 2,
   "metadata": {},
   "outputs": [
    {
     "data": {
      "text/plain": [
       "10.0"
      ]
     },
     "execution_count": 2,
     "metadata": {},
     "output_type": "execute_result"
    }
   ],
   "source": [
    "from math import sqrt\n",
    "\n",
    "sqrt(100)"
   ]
  },
  {
   "cell_type": "markdown",
   "metadata": {},
   "source": [
    "____\n",
    "\n",
    "# What are functions anyway?\n",
    "\n",
    "- They essentially take some input, and do to it what we want"
   ]
  },
  {
   "cell_type": "code",
   "execution_count": 8,
   "metadata": {},
   "outputs": [],
   "source": [
    "def func_1(a, b):\n",
    "    print('values are', a, 'and', b)"
   ]
  },
  {
   "cell_type": "code",
   "execution_count": 9,
   "metadata": {},
   "outputs": [
    {
     "name": "stdout",
     "output_type": "stream",
     "text": [
      "values are 10 and 1\n"
     ]
    }
   ],
   "source": [
    "func_1(10, 1)"
   ]
  },
  {
   "cell_type": "markdown",
   "metadata": {},
   "source": [
    "- **Note**: in other languages, we need to specify the datatype of the parameter\n",
    "    - In Python, we don't need to do that\n",
    "- If we want to specify the parameter type, we can use **annotations**"
   ]
  },
  {
   "cell_type": "code",
   "execution_count": 11,
   "metadata": {},
   "outputs": [],
   "source": [
    "def func_2(a : int, b : float):\n",
    "    print('values are', a, 'and', b)"
   ]
  },
  {
   "cell_type": "code",
   "execution_count": 13,
   "metadata": {},
   "outputs": [
    {
     "name": "stdout",
     "output_type": "stream",
     "text": [
      "values are 1 and 2\n"
     ]
    }
   ],
   "source": [
    "func_2(1, 2)"
   ]
  },
  {
   "cell_type": "markdown",
   "metadata": {},
   "source": [
    "- **Note**: this is simply for documentation\n",
    "    - We can pass in whatever we want and the function will still run"
   ]
  },
  {
   "cell_type": "code",
   "execution_count": 14,
   "metadata": {},
   "outputs": [
    {
     "name": "stdout",
     "output_type": "stream",
     "text": [
      "values are [1, 2, 3, 4] and 2\n"
     ]
    }
   ],
   "source": [
    "func_2([1,2,3,4], '2')"
   ]
  },
  {
   "cell_type": "markdown",
   "metadata": {},
   "source": [
    "____\n",
    "\n",
    "# Can we define a function that uses another one, even before the second function is defined?\n",
    "\n",
    "- Yes\n",
    "\n",
    "### Example\n",
    "\n",
    "- Let's say we first define the solution for the Pythagorean Theorem, and then we define how to calculate the square root"
   ]
  },
  {
   "cell_type": "code",
   "execution_count": 15,
   "metadata": {},
   "outputs": [
    {
     "data": {
      "text/plain": [
       "1.4142135623730951"
      ]
     },
     "execution_count": 15,
     "metadata": {},
     "output_type": "execute_result"
    }
   ],
   "source": [
    "def length_of_hypotenuse(adjacent_length, opposite_length):\n",
    "    return square_root(adjacent_length ** 2 + opposite_length ** 2)\n",
    "\n",
    "def square_root(x):\n",
    "    return x ** 0.5\n",
    "\n",
    "length_of_hypotenuse(1, 1)"
   ]
  },
  {
   "cell_type": "markdown",
   "metadata": {},
   "source": [
    "- *Why didn't we get an error?*\n",
    "    - Because **the order that we define the functions doesn't matter**"
   ]
  },
  {
   "cell_type": "markdown",
   "metadata": {},
   "source": [
    "- This is why it is common to define the functions at the top of our code\n",
    "    - If we're calling the functions after they've all been defined, the order doesn't matter"
   ]
  },
  {
   "cell_type": "markdown",
   "metadata": {},
   "source": [
    "_____\n",
    "\n",
    "# Do we need to use `def` to define a function?\n",
    "\n",
    "- No\n",
    "    - We can also use `lambda`\n",
    "        - **Note**: we'll cover these in depth later on\n",
    "        \n",
    "### Example\n",
    "        \n",
    "- If we wanted to define the `square_root` function above using `lambda`, we could do:"
   ]
  },
  {
   "cell_type": "code",
   "execution_count": 16,
   "metadata": {},
   "outputs": [],
   "source": [
    "square_root = lambda x: x**0.5"
   ]
  },
  {
   "cell_type": "code",
   "execution_count": 17,
   "metadata": {},
   "outputs": [
    {
     "data": {
      "text/plain": [
       "2.0"
      ]
     },
     "execution_count": 17,
     "metadata": {},
     "output_type": "execute_result"
    }
   ],
   "source": [
    "square_root(4)"
   ]
  },
  {
   "cell_type": "markdown",
   "metadata": {},
   "source": [
    "- Works the same!"
   ]
  }
 ],
 "metadata": {
  "kernelspec": {
   "display_name": "Python 3",
   "language": "python",
   "name": "python3"
  },
  "language_info": {
   "codemirror_mode": {
    "name": "ipython",
    "version": 3
   },
   "file_extension": ".py",
   "mimetype": "text/x-python",
   "name": "python",
   "nbconvert_exporter": "python",
   "pygments_lexer": "ipython3",
   "version": "3.6.8"
  }
 },
 "nbformat": 4,
 "nbformat_minor": 2
}
