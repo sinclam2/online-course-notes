{
 "cells": [
  {
   "cell_type": "markdown",
   "metadata": {},
   "source": [
    "- In this course, we'll cover:\n",
    "\n",
    "\n",
    "1. Numbers\n",
    "    1. Integral numbers\n",
    "        - Integers\n",
    "        - Booleans\n",
    "    2. Non-integral Numbers\n",
    "        - Floats\n",
    "        - Complex\n",
    "        - Decimals\n",
    "        - Fractions\n",
    "2. Collections\n",
    "    1. Sequences\n",
    "        - Mutable sequences \n",
    "            - E.g. lists\n",
    "        - Immutable sequences\n",
    "            - E.g. tuples, strings\n",
    "    2. Sets\n",
    "        - Mutable sets\n",
    "            - E.g. sets\n",
    "        - Immutable sets\n",
    "            - E.g. frozen sets\n",
    "3. Mappings\n",
    "    1. Dictionaries\n",
    "    \n",
    "4. Callables\n",
    "    1. User-defined functions\n",
    "    2. Generators\n",
    "    3. Classes\n",
    "    4. Instance methods\n",
    "    5. Class instances (`__call__()`)\n",
    "    6. Built-in functions\n",
    "        - E.g. `len`\n",
    "    7. Built-in methods\n",
    "        - E.g. `my_list.append(x)`\n",
    "        \n",
    "5. Singletons\n",
    "    1. None\n",
    "    2. NotImplemented\n",
    "    3. Ellipsis"
   ]
  }
 ],
 "metadata": {
  "kernelspec": {
   "display_name": "Python 3",
   "language": "python",
   "name": "python3"
  },
  "language_info": {
   "codemirror_mode": {
    "name": "ipython",
    "version": 3
   },
   "file_extension": ".py",
   "mimetype": "text/x-python",
   "name": "python",
   "nbconvert_exporter": "python",
   "pygments_lexer": "ipython3",
   "version": "3.6.8"
  }
 },
 "nbformat": 4,
 "nbformat_minor": 2
}
