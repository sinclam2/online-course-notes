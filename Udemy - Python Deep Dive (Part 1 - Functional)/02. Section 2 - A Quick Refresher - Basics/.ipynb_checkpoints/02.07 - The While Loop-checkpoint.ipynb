{
 "cells": [
  {
   "cell_type": "markdown",
   "metadata": {},
   "source": [
    "# What does a `while` loop do?\n",
    "\n",
    "- The loop performs a task as long as a condition is true\n",
    "\n",
    "### Example"
   ]
  },
  {
   "cell_type": "code",
   "execution_count": 1,
   "metadata": {},
   "outputs": [
    {
     "name": "stdout",
     "output_type": "stream",
     "text": [
      "0\n",
      "1\n",
      "2\n",
      "3\n",
      "4\n"
     ]
    }
   ],
   "source": [
    "i = 0\n",
    "\n",
    "while i < 5:\n",
    "    print(i)\n",
    "    i += 1"
   ]
  },
  {
   "cell_type": "markdown",
   "metadata": {},
   "source": [
    "- **Note**: we're not guaranteed that the code will even do anything!\n",
    "\n",
    "### Example"
   ]
  },
  {
   "cell_type": "code",
   "execution_count": 2,
   "metadata": {},
   "outputs": [],
   "source": [
    "j = 10\n",
    "\n",
    "while j < 5:\n",
    "    print(j)\n",
    "    j += 1"
   ]
  },
  {
   "cell_type": "markdown",
   "metadata": {},
   "source": [
    "- As we can see, nothing is even printed"
   ]
  },
  {
   "cell_type": "markdown",
   "metadata": {},
   "source": [
    "____\n",
    "\n",
    "# What if we want the code to do something at least once (even if the `while` statement is false)?\n",
    "\n",
    "- In other languages, a `do while` loop is used to do this:\n",
    "\n",
    "```javascript\n",
    "let result = \"\";\n",
    "let i = 0;\n",
    "\n",
    "do {\n",
    "  i = i + 1;\n",
    "  result = result + i;\n",
    "} while (i < 5);\n",
    "```"
   ]
  },
  {
   "cell_type": "markdown",
   "metadata": {},
   "source": [
    "- In this example, the code is run at least once\n",
    "    - However, in Python, there is no equivalent to the do while loop\n",
    "        - We can do it manually, though"
   ]
  },
  {
   "cell_type": "code",
   "execution_count": 5,
   "metadata": {},
   "outputs": [
    {
     "name": "stdout",
     "output_type": "stream",
     "text": [
      "5\n"
     ]
    }
   ],
   "source": [
    "i = 5\n",
    "\n",
    "while True: # This will always run until it's stopped\n",
    "    print(i)\n",
    "    if i >= 5:\n",
    "        break # This breaks the while loop"
   ]
  },
  {
   "cell_type": "markdown",
   "metadata": {},
   "source": [
    "### Example\n",
    "\n",
    "- Let's say we wanted the user to input their name, except it must meet the following conditions:\n",
    "    1. The name has length at least 2\n",
    "    2. The name is printable\n",
    "    3. The name only contains alphanumeric characters"
   ]
  },
  {
   "cell_type": "code",
   "execution_count": 9,
   "metadata": {},
   "outputs": [
    {
     "name": "stdout",
     "output_type": "stream",
     "text": [
      "Please enter your name: m\n",
      "Please enter your name: .....\n",
      "Please enter your name: Mike\n",
      "Hello Mike\n"
     ]
    }
   ],
   "source": [
    "min_length = 2\n",
    "name = input('Please enter your name: ')\n",
    "\n",
    "while not(len(name)>= min_length and name.isprintable() and name.isalpha()):\n",
    "    name = input('Please enter your name: ')\n",
    "    \n",
    "print('Hello {}'.format(name))"
   ]
  },
  {
   "cell_type": "markdown",
   "metadata": {},
   "source": [
    "- But shouldn't we not repeat `name = input('Please enter your name: ')` twice?\n",
    "    - That's true!\n",
    "        - We can reformat our code to fix this (in an elegant way)"
   ]
  },
  {
   "cell_type": "code",
   "execution_count": 10,
   "metadata": {},
   "outputs": [
    {
     "name": "stdout",
     "output_type": "stream",
     "text": [
      "Please enter your name: m\n",
      "Please enter your name: .....\n",
      "Please enter your name: Mike\n",
      "Hello Mike\n"
     ]
    }
   ],
   "source": [
    "min_length = 2\n",
    "\n",
    "while True:\n",
    "    name = input('Please enter your name: ')\n",
    "    if len(name)>= min_length and name.isprintable() and name.isalpha():\n",
    "        break    \n",
    "    \n",
    "print('Hello {}'.format(name))"
   ]
  },
  {
   "cell_type": "markdown",
   "metadata": {},
   "source": [
    "- Did the same thing!"
   ]
  },
  {
   "cell_type": "markdown",
   "metadata": {},
   "source": [
    "_____\n",
    "\n",
    "# What is the `continue` statement?\n",
    "\n",
    "- This is like the `break` statement, except it only terminates the current iteration of the loop\n",
    "\n",
    "### Example\n",
    "\n",
    "- We want to print integers less than 10 that are odd "
   ]
  },
  {
   "cell_type": "code",
   "execution_count": 13,
   "metadata": {},
   "outputs": [
    {
     "name": "stdout",
     "output_type": "stream",
     "text": [
      "1\n",
      "3\n",
      "5\n",
      "7\n",
      "9\n"
     ]
    }
   ],
   "source": [
    "i = 0\n",
    "\n",
    "while i < 10:\n",
    "    i += 1\n",
    "    if i % 2 == 0:\n",
    "        continue\n",
    "    print(i) # this line will be skipped for even numbers"
   ]
  },
  {
   "cell_type": "markdown",
   "metadata": {},
   "source": [
    "____\n",
    "\n",
    "# Can we use `else` in a `while` loop?\n",
    "\n",
    "- Yes!\n",
    "    - **Note**: this only is executed if the while loop *terminates normally*\n",
    "    \n",
    "- If we didn't know about the else statement, we'd use a flag:"
   ]
  },
  {
   "cell_type": "code",
   "execution_count": 14,
   "metadata": {},
   "outputs": [
    {
     "data": {
      "text/plain": [
       "[1, 2, 3, 10]"
      ]
     },
     "execution_count": 14,
     "metadata": {},
     "output_type": "execute_result"
    }
   ],
   "source": [
    "l = [1, 2, 3]\n",
    "\n",
    "val = 10\n",
    "\n",
    "found = False\n",
    "idx = 0\n",
    "\n",
    "while idx < len(l):\n",
    "    if l[idx] == val:\n",
    "        found = True\n",
    "        break\n",
    "    idx += 1\n",
    "    \n",
    "if not found:\n",
    "    l.append(val)\n",
    "\n",
    "l"
   ]
  },
  {
   "cell_type": "markdown",
   "metadata": {},
   "source": [
    "- Instead of using the flag, we can use the `else` statement:"
   ]
  },
  {
   "cell_type": "code",
   "execution_count": 16,
   "metadata": {},
   "outputs": [
    {
     "data": {
      "text/plain": [
       "[1, 2, 3, 10]"
      ]
     },
     "execution_count": 16,
     "metadata": {},
     "output_type": "execute_result"
    }
   ],
   "source": [
    "l = [1, 2, 3]\n",
    "\n",
    "val = 10\n",
    "\n",
    "idx = 0\n",
    "\n",
    "while idx < len(l):\n",
    "    if l[idx] == val:\n",
    "        break\n",
    "    idx += 1\n",
    "else:\n",
    "    l.append(val) # This code only runds if the while loop completes without\n",
    "                  # finding the value \n",
    "l"
   ]
  }
 ],
 "metadata": {
  "kernelspec": {
   "display_name": "Python 3",
   "language": "python",
   "name": "python3"
  },
  "language_info": {
   "codemirror_mode": {
    "name": "ipython",
    "version": 3
   },
   "file_extension": ".py",
   "mimetype": "text/x-python",
   "name": "python",
   "nbconvert_exporter": "python",
   "pygments_lexer": "ipython3",
   "version": "3.6.8"
  }
 },
 "nbformat": 4,
 "nbformat_minor": 2
}
