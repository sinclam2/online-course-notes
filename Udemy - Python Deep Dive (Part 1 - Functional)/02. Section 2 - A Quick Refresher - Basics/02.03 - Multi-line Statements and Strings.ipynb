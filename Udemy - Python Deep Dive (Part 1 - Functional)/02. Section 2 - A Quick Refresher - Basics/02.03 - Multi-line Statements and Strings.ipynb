{
 "cells": [
  {
   "cell_type": "markdown",
   "metadata": {},
   "source": [
    "# What is a Python program?\n",
    "\n",
    "- Essentially, a text file containing lines of code\n",
    "    - The python compiler takes this text file, and converts it to logical lines of code\n",
    "        - The logical lines of code are then tokenized\n",
    "        \n",
    "- Each *physical* line of code ends with a **newline** character (\\n)\n",
    "    - Each *logical* line ends with a **NEWLINE** token"
   ]
  },
  {
   "cell_type": "markdown",
   "metadata": {},
   "source": [
    "# What's the difference between a physical newline and a logical newline?\n",
    "\n",
    "- Sometimes, physical newlines are ignored\n",
    "    - This can occur when multiple physical lines are combined into a single physical line\n",
    "        - We use multiple lines to make it easier for humans to read\n",
    "    \n",
    "### Example\n",
    "\n",
    "```python\n",
    "\n",
    "for x in my_list:\n",
    "    \n",
    "    print(x)\n",
    "    \n",
    "    x += 1\n",
    "    \n",
    "    print(x)\n",
    "```\n",
    "\n",
    "becomes...\n",
    "\n",
    "```python\n",
    "\n",
    "for x in my_list:    \n",
    "    print(x)    \n",
    "    x += 1\n",
    "    print(x)\n",
    "```\n",
    "\n",
    "- Both of these are terminated by a logical NEWLINE token"
   ]
  },
  {
   "cell_type": "markdown",
   "metadata": {},
   "source": [
    "- Conversion from physical code to logical code can either be **implicit** conversion or **explicit** conversion"
   ]
  },
  {
   "cell_type": "markdown",
   "metadata": {},
   "source": [
    "# What is implicit conversion?\n",
    "\n",
    "- This means that in certain cases, we can use as many lines as we want and the compiler will convert the code correctly\n",
    "    - This is true for:\n",
    "        - Lists\n",
    "        - Tuples\n",
    "        - Dictionaries\n",
    "        - Sets\n",
    "        - Function arguments and parameters\n",
    "        \n",
    "### Example (lists)\n",
    "\n",
    "- The following lists are the same\n",
    "\n",
    "*1.*\n",
    "\n",
    "```\n",
    "[1,2,3]\n",
    "```\n",
    "\n",
    "*2.*\n",
    "\n",
    "```\n",
    "[1,\n",
    "2,\n",
    "3]\n",
    "```\n",
    "*3.*\n",
    "\n",
    "```\n",
    "[1, #first item\n",
    "2, #second item\n",
    "3 #third item\n",
    "]\n",
    "```"
   ]
  },
  {
   "cell_type": "code",
   "execution_count": null,
   "metadata": {},
   "outputs": [],
   "source": []
  }
 ],
 "metadata": {
  "kernelspec": {
   "display_name": "Python 3",
   "language": "python",
   "name": "python3"
  },
  "language_info": {
   "codemirror_mode": {
    "name": "ipython",
    "version": 3
   },
   "file_extension": ".py",
   "mimetype": "text/x-python",
   "name": "python",
   "nbconvert_exporter": "python",
   "pygments_lexer": "ipython3",
   "version": "3.6.8"
  }
 },
 "nbformat": 4,
 "nbformat_minor": 2
}
