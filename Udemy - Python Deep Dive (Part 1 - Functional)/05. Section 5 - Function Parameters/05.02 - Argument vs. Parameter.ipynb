{
 "cells": [
  {
   "cell_type": "markdown",
   "metadata": {},
   "source": [
    "# What's the difference between a *parameter* and an *argument*?"
   ]
  },
  {
   "cell_type": "markdown",
   "metadata": {},
   "source": [
    "- Let's consider the following function:\n",
    "\n",
    "```python\n",
    "def my_func(a, b):\n",
    "    # Do something\n",
    "```\n",
    "\n",
    "- Here, `a` and `b` are variables, but only inside the function\n",
    "    - i.e. if we try to call `a` or `b` in code outside the function, it will return an error\n",
    "- **`a` and `b` are called the function *parameters***"
   ]
  },
  {
   "cell_type": "markdown",
   "metadata": {},
   "source": [
    "- Now, let's say we call the function:\n",
    "\n",
    "```python\n",
    "x = 10\n",
    "y = 20\n",
    "\n",
    "my_func(x,y)\n",
    "```\n",
    "\n",
    "- `x` and `y` are variables that we've defined outside the scope of the function, and we feed them into `my_func`\n",
    "- **`x` and `y` are called the *arguments***"
   ]
  },
  {
   "cell_type": "markdown",
   "metadata": {},
   "source": [
    "**Summary**\n",
    "\n",
    "- The function takes the memory address of the *arguments*, and defines the *parameters* to point to that address"
   ]
  },
  {
   "cell_type": "markdown",
   "metadata": {},
   "source": [
    "- **Note**: it doesn't really matter if we use these terms interchangeably"
   ]
  }
 ],
 "metadata": {
  "kernelspec": {
   "display_name": "Python 3",
   "language": "python",
   "name": "python3"
  },
  "language_info": {
   "codemirror_mode": {
    "name": "ipython",
    "version": 3
   },
   "file_extension": ".py",
   "mimetype": "text/x-python",
   "name": "python",
   "nbconvert_exporter": "python",
   "pygments_lexer": "ipython3",
   "version": "3.6.8"
  }
 },
 "nbformat": 4,
 "nbformat_minor": 2
}
