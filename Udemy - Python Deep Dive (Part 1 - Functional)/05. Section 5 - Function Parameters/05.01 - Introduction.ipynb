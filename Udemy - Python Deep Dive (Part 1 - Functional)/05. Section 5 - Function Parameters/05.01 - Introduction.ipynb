{
 "cells": [
  {
   "cell_type": "markdown",
   "metadata": {},
   "source": [
    "# Questions we'll answer in this section:\n",
    "\n",
    "1. What's the difference between function *arguments* and *parameters*?\n",
    "2. What's the difference betwee *positional* and *keyword-only* arguments?\n",
    "3. How can we define *optional* arguments using *default values*?\n",
    "    - What are some of the pitfalls of using *default values* with mutable types?\n",
    "4. How are iterables *unpacked* in function arguments?\n",
    "5. What is *extended unpacking*?\n",
    "6. How can we define function to have a *variable number* of arguments?"
   ]
  }
 ],
 "metadata": {
  "kernelspec": {
   "display_name": "Python 3",
   "language": "python",
   "name": "python3"
  },
  "language_info": {
   "codemirror_mode": {
    "name": "ipython",
    "version": 3
   },
   "file_extension": ".py",
   "mimetype": "text/x-python",
   "name": "python",
   "nbconvert_exporter": "python",
   "pygments_lexer": "ipython3",
   "version": "3.6.8"
  }
 },
 "nbformat": 4,
 "nbformat_minor": 2
}
