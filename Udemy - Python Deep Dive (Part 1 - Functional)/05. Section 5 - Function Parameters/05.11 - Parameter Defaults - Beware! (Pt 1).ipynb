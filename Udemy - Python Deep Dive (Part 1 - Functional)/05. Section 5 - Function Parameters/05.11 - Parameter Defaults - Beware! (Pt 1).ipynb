{
 "cells": [
  {
   "cell_type": "markdown",
   "metadata": {},
   "source": [
    "# What happens at run time when a module is loaded?\n",
    "\n",
    "- All the code inside the module is executed right away\n",
    "    - *What does this mean?*\n",
    "    \n",
    "E.g. 1\n",
    "\n",
    "```python\n",
    "a = 10\n",
    "```\n",
    "\n",
    "- When this runs, the `int` object 10 is created, and the variable `a` is mapped to its address"
   ]
  },
  {
   "cell_type": "markdown",
   "metadata": {},
   "source": [
    "E.g. 2\n",
    "\n",
    "```python\n",
    "def func(a):\n",
    "    print(a)\n",
    "```\n",
    "\n",
    "- When this runs, a `function` object is created and `func` is mapped to its address\n",
    "    - **Note**: this isn't running the function- it's simply defining it"
   ]
  },
  {
   "cell_type": "markdown",
   "metadata": {},
   "source": [
    "E.g. 3\n",
    "\n",
    "```python\n",
    "def func(a=10):\n",
    "    print(a)\n",
    "```\n",
    "\n",
    "- Here:\n",
    "    1. a `function` object is created and `func` is mapped to its address\n",
    "    2. an `int` object 10 is created and `a` is defined to point to it (as the default value)"
   ]
  },
  {
   "cell_type": "markdown",
   "metadata": {},
   "source": [
    "- Now, if we run:\n",
    "\n",
    "```python\n",
    "func()\n",
    "```\n",
    "\n",
    "- The value of `a` **is not re-evaluated**\n",
    "    - This was done when the function what defined"
   ]
  },
  {
   "cell_type": "markdown",
   "metadata": {},
   "source": [
    "# Who cares about all this?\n",
    "\n",
    "- Let's say we want to create a function that creates a log entry\n",
    "    - The log entry requires a timestamp\n",
    "        - If no timestamp is defined, the function uses the current timestamp"
   ]
  },
  {
   "cell_type": "markdown",
   "metadata": {},
   "source": [
    "- *How could we create this function?*"
   ]
  },
  {
   "cell_type": "code",
   "execution_count": 1,
   "metadata": {},
   "outputs": [],
   "source": [
    "from datetime import datetime"
   ]
  },
  {
   "cell_type": "code",
   "execution_count": 2,
   "metadata": {},
   "outputs": [],
   "source": [
    "def log(log_message, *, dt=datetime.utcnow()):\n",
    "    print(f'{dt}: {log_message}')"
   ]
  },
  {
   "cell_type": "markdown",
   "metadata": {},
   "source": [
    "- Since the default value for `dt` is calculated when the function is defined (**and not when the function is called**), it won't be refreshed if we don't specify a time\n",
    "    - We can prove it"
   ]
  },
  {
   "cell_type": "code",
   "execution_count": 4,
   "metadata": {},
   "outputs": [
    {
     "name": "stdout",
     "output_type": "stream",
     "text": [
      "2020-09-15 15:09:45.642913: Message 0\n",
      "2020-09-15 15:14:46.180692: Tieout 0\n",
      "\n",
      "2020-09-15 15:09:45.642913: Message 1\n",
      "2020-09-15 15:14:46.180692: Tieout 1\n",
      "\n",
      "2020-09-15 15:09:45.642913: Message 2\n",
      "2020-09-15 15:14:46.180692: Tieout 2\n",
      "\n",
      "2020-09-15 15:09:45.642913: Message 3\n",
      "2020-09-15 15:14:46.181653: Tieout 3\n",
      "\n",
      "2020-09-15 15:09:45.642913: Message 4\n",
      "2020-09-15 15:14:46.181653: Tieout 4\n",
      "\n",
      "2020-09-15 15:09:45.642913: Message 5\n",
      "2020-09-15 15:14:46.181653: Tieout 5\n",
      "\n",
      "2020-09-15 15:09:45.642913: Message 6\n",
      "2020-09-15 15:14:46.181653: Tieout 6\n",
      "\n",
      "2020-09-15 15:09:45.642913: Message 7\n",
      "2020-09-15 15:14:46.181653: Tieout 7\n",
      "\n",
      "2020-09-15 15:09:45.642913: Message 8\n",
      "2020-09-15 15:14:46.181653: Tieout 8\n",
      "\n",
      "2020-09-15 15:09:45.642913: Message 9\n",
      "2020-09-15 15:14:46.181653: Tieout 9\n",
      "\n"
     ]
    }
   ],
   "source": [
    "for i in range(10):\n",
    "    current_time = datetime.utcnow()\n",
    "    log(f'Message {i}')\n",
    "    print(f'{current_time}: Tieout {i}\\n')"
   ]
  },
  {
   "cell_type": "markdown",
   "metadata": {},
   "source": [
    "- As we can see, the log timestamp is the same each time and disagrees with the `current_time` value"
   ]
  },
  {
   "cell_type": "markdown",
   "metadata": {},
   "source": [
    "- *How could we fix this?*"
   ]
  },
  {
   "cell_type": "code",
   "execution_count": 5,
   "metadata": {},
   "outputs": [],
   "source": [
    "def log(log_message, *, dt=None):\n",
    "    dt = dt or datetime.utcnow()\n",
    "    print(f'{dt}: {log_message}')"
   ]
  },
  {
   "cell_type": "markdown",
   "metadata": {},
   "source": [
    "- Let's test it again"
   ]
  },
  {
   "cell_type": "code",
   "execution_count": 6,
   "metadata": {},
   "outputs": [
    {
     "name": "stdout",
     "output_type": "stream",
     "text": [
      "2020-09-15 15:18:20.920692: Message 0\n",
      "2020-09-15 15:18:20.920692: Tieout 0\n",
      "\n",
      "2020-09-15 15:18:20.920692: Message 1\n",
      "2020-09-15 15:18:20.920692: Tieout 1\n",
      "\n",
      "2020-09-15 15:18:20.920692: Message 2\n",
      "2020-09-15 15:18:20.920692: Tieout 2\n",
      "\n",
      "2020-09-15 15:18:20.921692: Message 3\n",
      "2020-09-15 15:18:20.921692: Tieout 3\n",
      "\n",
      "2020-09-15 15:18:20.921692: Message 4\n",
      "2020-09-15 15:18:20.921692: Tieout 4\n",
      "\n",
      "2020-09-15 15:18:20.921692: Message 5\n",
      "2020-09-15 15:18:20.921692: Tieout 5\n",
      "\n",
      "2020-09-15 15:18:20.921692: Message 6\n",
      "2020-09-15 15:18:20.921692: Tieout 6\n",
      "\n",
      "2020-09-15 15:18:20.921692: Message 7\n",
      "2020-09-15 15:18:20.921692: Tieout 7\n",
      "\n",
      "2020-09-15 15:18:20.922694: Message 8\n",
      "2020-09-15 15:18:20.922694: Tieout 8\n",
      "\n",
      "2020-09-15 15:18:20.922694: Message 9\n",
      "2020-09-15 15:18:20.922694: Tieout 9\n",
      "\n"
     ]
    }
   ],
   "source": [
    "for i in range(10):\n",
    "    current_time = datetime.utcnow()\n",
    "    log(f'Message {i}')\n",
    "    print(f'{current_time}: Tieout {i}\\n')"
   ]
  },
  {
   "cell_type": "markdown",
   "metadata": {},
   "source": [
    "- As we can see, we get the desired output this time"
   ]
  },
  {
   "cell_type": "markdown",
   "metadata": {},
   "source": [
    "### General Warning\n",
    "\n",
    "- Be careful using a **mutable** object (or a **callable**) for a default value\n",
    "    - E.g. lists, function_call, etc.\n",
    "        - **i.e. if the default value is supposed to change over time, use the `None` strategy**"
   ]
  },
  {
   "cell_type": "markdown",
   "metadata": {},
   "source": [
    "E.g."
   ]
  },
  {
   "cell_type": "code",
   "execution_count": 7,
   "metadata": {},
   "outputs": [],
   "source": [
    "list_default = [1, 2, 3]"
   ]
  },
  {
   "cell_type": "code",
   "execution_count": 8,
   "metadata": {},
   "outputs": [],
   "source": [
    "def func(a=list_default):\n",
    "    print(a)"
   ]
  },
  {
   "cell_type": "code",
   "execution_count": 9,
   "metadata": {},
   "outputs": [
    {
     "name": "stdout",
     "output_type": "stream",
     "text": [
      "[1, 2, 3]\n"
     ]
    }
   ],
   "source": [
    "func()"
   ]
  },
  {
   "cell_type": "code",
   "execution_count": 10,
   "metadata": {},
   "outputs": [],
   "source": [
    "list_default.append(4)"
   ]
  },
  {
   "cell_type": "code",
   "execution_count": 12,
   "metadata": {},
   "outputs": [
    {
     "name": "stdout",
     "output_type": "stream",
     "text": [
      "[1, 2, 3, 4]\n"
     ]
    }
   ],
   "source": [
    "func()"
   ]
  },
  {
   "cell_type": "markdown",
   "metadata": {},
   "source": [
    "- In this scenario, **we have the opposite problem**\n",
    "    - Since lists are mutable, when we appended 4 to `list_default`, it updated the object at the address defined as the default value for `a`\n",
    "        - Therefore, when we reran the function, the default value was updated\n",
    "            - **This would be a problem if we wanted `a` to stay the same as `[1,2,3]`**"
   ]
  },
  {
   "cell_type": "markdown",
   "metadata": {},
   "source": [
    "- *How could we avoid this issue?*\n",
    "    1. Hard-code the list as the default value\n",
    "    2. Use an immutable object (e.g. a tuple)"
   ]
  },
  {
   "cell_type": "code",
   "execution_count": 13,
   "metadata": {},
   "outputs": [],
   "source": [
    "tuple_default = (1, 2, 3)"
   ]
  },
  {
   "cell_type": "code",
   "execution_count": 14,
   "metadata": {},
   "outputs": [],
   "source": [
    "def func(a=tuple_default):\n",
    "    print(a)"
   ]
  },
  {
   "cell_type": "code",
   "execution_count": 15,
   "metadata": {},
   "outputs": [
    {
     "name": "stdout",
     "output_type": "stream",
     "text": [
      "(1, 2, 3)\n"
     ]
    }
   ],
   "source": [
    "func()"
   ]
  },
  {
   "cell_type": "code",
   "execution_count": 19,
   "metadata": {},
   "outputs": [],
   "source": [
    "tuple_default += (4,)"
   ]
  },
  {
   "cell_type": "code",
   "execution_count": 20,
   "metadata": {},
   "outputs": [
    {
     "name": "stdout",
     "output_type": "stream",
     "text": [
      "(1, 2, 3)\n"
     ]
    }
   ],
   "source": [
    "func()"
   ]
  },
  {
   "cell_type": "markdown",
   "metadata": {},
   "source": [
    "- As we can see, the memory address of `tuple_default` was changed\n",
    "    - After the update, it points to a new address containing `(1,2,3,4)`"
   ]
  }
 ],
 "metadata": {
  "kernelspec": {
   "display_name": "Python 3",
   "language": "python",
   "name": "python3"
  },
  "language_info": {
   "codemirror_mode": {
    "name": "ipython",
    "version": 3
   },
   "file_extension": ".py",
   "mimetype": "text/x-python",
   "name": "python",
   "nbconvert_exporter": "python",
   "pygments_lexer": "ipython3",
   "version": "3.7.7"
  }
 },
 "nbformat": 4,
 "nbformat_minor": 4
}
