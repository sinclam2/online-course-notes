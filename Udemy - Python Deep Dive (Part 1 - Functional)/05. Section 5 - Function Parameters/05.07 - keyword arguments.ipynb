{
 "cells": [
  {
   "cell_type": "markdown",
   "metadata": {},
   "source": [
    "# How can we use keyword arguments in a function?\n",
    "\n",
    "- Consider the following function\n",
    "\n",
    "```python\n",
    "def func(a, b, c):\n",
    "    # Do something\n",
    "```\n",
    "\n",
    "- If we want to call this function, we can use:\n",
    "\n",
    "```python\n",
    "func(1, 2, 3)\n",
    "```\n",
    "\n",
    "- If we specify the names of the arguments as we feed them into the function, we don't need to preserve the positions:\n",
    "\n",
    "```python\n",
    "func(b=1, c=3, b=2)\n",
    "```"
   ]
  },
  {
   "cell_type": "markdown",
   "metadata": {},
   "source": [
    "- Sometimes, we want to make a keyword arguent **mandatory**\n",
    "    - To do this, we **create parameters after the positional parameters have been exhausted**"
   ]
  },
  {
   "cell_type": "markdown",
   "metadata": {},
   "source": [
    "```python\n",
    "def func(a, b, *args, d):\n",
    "    # Do something\n",
    "```\n",
    "\n",
    "- Then, we can call it by:\n",
    "\n",
    "```python\n",
    "func(1, 2, 3, d=100)\n",
    "```\n",
    "\n",
    "- **Recall**: if we tried to call it by `func(1, 2, 3, 100)`, it wouldn't work\n",
    "    - See previous lecture"
   ]
  },
  {
   "cell_type": "markdown",
   "metadata": {},
   "source": [
    "- Similarly, the **following will fail**:\n",
    "\n",
    "```python\n",
    "func(1, 2)\n",
    "```\n",
    "\n",
    "- This is because our function **expects the mandatory keyword argument**"
   ]
  },
  {
   "cell_type": "markdown",
   "metadata": {},
   "source": [
    "- We can even define a function to require **only** the mandatory argument:\n",
    "\n",
    "```python\n",
    "def func(*args, d):\n",
    "    # Do something\n",
    "```\n",
    "\n",
    "- Now, we have:\n",
    "\n",
    "```python\n",
    "func(d=1) == func(args=(), d=1)\n",
    "func(2, d=1) == func(args=(2), d=1)\n",
    "func(2, 3, d=1) == func(args=(2, 3), d=1)\n",
    "```"
   ]
  },
  {
   "cell_type": "markdown",
   "metadata": {},
   "source": [
    "# What if we want to specify no positional arguments at all?\n",
    "\n",
    "- We can define the function as:\n",
    "\n",
    "```python\n",
    "def func(*, d):\n",
    "    # Do something\n",
    "```\n",
    "\n",
    "- Here, the `*` indicates the \"end\" of positional arguments\n",
    "\n",
    "- *Why would we even want this?*\n",
    "    - Because we want our function to only take in **explicitly defined values for `d`**"
   ]
  },
  {
   "cell_type": "markdown",
   "metadata": {},
   "source": [
    "# Comparing `*args` and `*` as function arguments"
   ]
  },
  {
   "cell_type": "code",
   "execution_count": 2,
   "metadata": {},
   "outputs": [],
   "source": [
    "def func_args(a, b=1, *args, d, e=True):\n",
    "    print(f'a={a}, b={b}, args={args}, d={d}, e={e}')"
   ]
  },
  {
   "cell_type": "code",
   "execution_count": 14,
   "metadata": {},
   "outputs": [],
   "source": [
    "def func_star(a, b=1, *, d, e=True):\n",
    "    print(f'a={a}, b={b}, d={d}, e={e}')"
   ]
  },
  {
   "cell_type": "markdown",
   "metadata": {},
   "source": [
    "- In both functions:\n",
    "    - `a` is a **mandatory positional** argument\n",
    "        - Mandatory because we didn't specify a default value\n",
    "        - Positional because it comes before `*args` or `*`\n",
    "    - `b` is an **optional positional** argument\n",
    "        - Optional because we specified the default value of 1\n",
    "        - Positional because it comes before `*args` or `*`\n",
    "    - `d` is a **mandatory keyword** argument\n",
    "        - Mandatory because it's after `*args` or `*` without a default value\n",
    "        - Keyword because if we try to specify it positionally (i.e. without specifying `d=...`), we'll get an error\n",
    "    - `e` is a **optional keyword** argument\n",
    "        - Optional because it has a default value\n",
    "        - Keyword because if we try to specify it positionally (i.e. without specifying `d=...`), we'll get an error\n",
    "- For `func_args`, `*args*` optionally takes in any additional positional arguments\n",
    "    - Optional since `args` will be an empty tuple if we don't specify any\n",
    "    - Positional since `args` takes in however many we specify (i.e. no keywords defined)\n",
    "- For `func_star`, the `*` argument forbids additional arguments\n",
    "    - After which, all arguments must be keyword arguments\n"
   ]
  },
  {
   "cell_type": "markdown",
   "metadata": {},
   "source": [
    "**Example 1**"
   ]
  },
  {
   "cell_type": "code",
   "execution_count": 7,
   "metadata": {},
   "outputs": [
    {
     "ename": "TypeError",
     "evalue": "func_args() missing 1 required keyword-only argument: 'd'",
     "output_type": "error",
     "traceback": [
      "\u001b[1;31m---------------------------------------------------------------------------\u001b[0m",
      "\u001b[1;31mTypeError\u001b[0m                                 Traceback (most recent call last)",
      "\u001b[1;32m<ipython-input-7-4a35db999ca4>\u001b[0m in \u001b[0;36m<module>\u001b[1;34m\u001b[0m\n\u001b[1;32m----> 1\u001b[1;33m \u001b[0mfunc_args\u001b[0m\u001b[1;33m(\u001b[0m\u001b[1;36m1\u001b[0m\u001b[1;33m,\u001b[0m \u001b[1;36m2\u001b[0m\u001b[1;33m,\u001b[0m \u001b[1;36m3\u001b[0m\u001b[1;33m,\u001b[0m \u001b[1;36m4\u001b[0m\u001b[1;33m)\u001b[0m\u001b[1;33m\u001b[0m\u001b[1;33m\u001b[0m\u001b[0m\n\u001b[0m",
      "\u001b[1;31mTypeError\u001b[0m: func_args() missing 1 required keyword-only argument: 'd'"
     ]
    }
   ],
   "source": [
    "func_args(1, 2, 3, 4)"
   ]
  },
  {
   "cell_type": "code",
   "execution_count": 8,
   "metadata": {},
   "outputs": [
    {
     "ename": "TypeError",
     "evalue": "func_star() takes from 1 to 2 positional arguments but 4 were given",
     "output_type": "error",
     "traceback": [
      "\u001b[1;31m---------------------------------------------------------------------------\u001b[0m",
      "\u001b[1;31mTypeError\u001b[0m                                 Traceback (most recent call last)",
      "\u001b[1;32m<ipython-input-8-b9c0befceed4>\u001b[0m in \u001b[0;36m<module>\u001b[1;34m\u001b[0m\n\u001b[1;32m----> 1\u001b[1;33m \u001b[0mfunc_star\u001b[0m\u001b[1;33m(\u001b[0m\u001b[1;36m1\u001b[0m\u001b[1;33m,\u001b[0m \u001b[1;36m2\u001b[0m\u001b[1;33m,\u001b[0m \u001b[1;36m3\u001b[0m\u001b[1;33m,\u001b[0m \u001b[1;36m4\u001b[0m\u001b[1;33m)\u001b[0m\u001b[1;33m\u001b[0m\u001b[1;33m\u001b[0m\u001b[0m\n\u001b[0m",
      "\u001b[1;31mTypeError\u001b[0m: func_star() takes from 1 to 2 positional arguments but 4 were given"
     ]
    }
   ],
   "source": [
    "func_star(1, 2, 3, 4)"
   ]
  },
  {
   "cell_type": "markdown",
   "metadata": {},
   "source": [
    "- Both fail because we didn't specify `d`"
   ]
  },
  {
   "cell_type": "code",
   "execution_count": 11,
   "metadata": {},
   "outputs": [
    {
     "name": "stdout",
     "output_type": "stream",
     "text": [
      "a=1, b=2, args=(3,), d=4, e=True\n"
     ]
    }
   ],
   "source": [
    "func_args(1, 2, 3, d=4)"
   ]
  },
  {
   "cell_type": "code",
   "execution_count": 12,
   "metadata": {},
   "outputs": [
    {
     "ename": "TypeError",
     "evalue": "func_star() takes from 1 to 2 positional arguments but 3 positional arguments (and 1 keyword-only argument) were given",
     "output_type": "error",
     "traceback": [
      "\u001b[1;31m---------------------------------------------------------------------------\u001b[0m",
      "\u001b[1;31mTypeError\u001b[0m                                 Traceback (most recent call last)",
      "\u001b[1;32m<ipython-input-12-ac61025a1a0b>\u001b[0m in \u001b[0;36m<module>\u001b[1;34m\u001b[0m\n\u001b[1;32m----> 1\u001b[1;33m \u001b[0mfunc_star\u001b[0m\u001b[1;33m(\u001b[0m\u001b[1;36m1\u001b[0m\u001b[1;33m,\u001b[0m \u001b[1;36m2\u001b[0m\u001b[1;33m,\u001b[0m \u001b[1;36m3\u001b[0m\u001b[1;33m,\u001b[0m \u001b[0md\u001b[0m\u001b[1;33m=\u001b[0m\u001b[1;36m4\u001b[0m\u001b[1;33m)\u001b[0m\u001b[1;33m\u001b[0m\u001b[1;33m\u001b[0m\u001b[0m\n\u001b[0m",
      "\u001b[1;31mTypeError\u001b[0m: func_star() takes from 1 to 2 positional arguments but 3 positional arguments (and 1 keyword-only argument) were given"
     ]
    }
   ],
   "source": [
    "func_star(1, 2, 3, d=4)"
   ]
  },
  {
   "cell_type": "markdown",
   "metadata": {},
   "source": [
    "- `func_star` fails because we have 3 positional arguments\n",
    "    - The `*` requires that we only have 2"
   ]
  },
  {
   "cell_type": "code",
   "execution_count": 15,
   "metadata": {},
   "outputs": [
    {
     "name": "stdout",
     "output_type": "stream",
     "text": [
      "a=1, b=2, d=4, e=True\n"
     ]
    }
   ],
   "source": [
    "func_star(1, 2,d=4)"
   ]
  },
  {
   "cell_type": "markdown",
   "metadata": {},
   "source": [
    "**Example 2**"
   ]
  },
  {
   "cell_type": "code",
   "execution_count": 16,
   "metadata": {},
   "outputs": [
    {
     "ename": "TypeError",
     "evalue": "func_args() missing 1 required positional argument: 'a'",
     "output_type": "error",
     "traceback": [
      "\u001b[1;31m---------------------------------------------------------------------------\u001b[0m",
      "\u001b[1;31mTypeError\u001b[0m                                 Traceback (most recent call last)",
      "\u001b[1;32m<ipython-input-16-b82ddb6fff05>\u001b[0m in \u001b[0;36m<module>\u001b[1;34m\u001b[0m\n\u001b[1;32m----> 1\u001b[1;33m \u001b[0mfunc_args\u001b[0m\u001b[1;33m(\u001b[0m\u001b[0md\u001b[0m\u001b[1;33m=\u001b[0m\u001b[1;36m4\u001b[0m\u001b[1;33m)\u001b[0m\u001b[1;33m\u001b[0m\u001b[1;33m\u001b[0m\u001b[0m\n\u001b[0m",
      "\u001b[1;31mTypeError\u001b[0m: func_args() missing 1 required positional argument: 'a'"
     ]
    }
   ],
   "source": [
    "func_args(d=4)"
   ]
  },
  {
   "cell_type": "code",
   "execution_count": 17,
   "metadata": {},
   "outputs": [
    {
     "ename": "TypeError",
     "evalue": "func_star() missing 1 required positional argument: 'a'",
     "output_type": "error",
     "traceback": [
      "\u001b[1;31m---------------------------------------------------------------------------\u001b[0m",
      "\u001b[1;31mTypeError\u001b[0m                                 Traceback (most recent call last)",
      "\u001b[1;32m<ipython-input-17-20f74cb3d4bb>\u001b[0m in \u001b[0;36m<module>\u001b[1;34m\u001b[0m\n\u001b[1;32m----> 1\u001b[1;33m \u001b[0mfunc_star\u001b[0m\u001b[1;33m(\u001b[0m\u001b[0md\u001b[0m\u001b[1;33m=\u001b[0m\u001b[1;36m4\u001b[0m\u001b[1;33m)\u001b[0m\u001b[1;33m\u001b[0m\u001b[1;33m\u001b[0m\u001b[0m\n\u001b[0m",
      "\u001b[1;31mTypeError\u001b[0m: func_star() missing 1 required positional argument: 'a'"
     ]
    }
   ],
   "source": [
    "func_star(d=4)"
   ]
  },
  {
   "cell_type": "markdown",
   "metadata": {},
   "source": [
    "- Both fail because `a` and `b` are **mandatory**"
   ]
  },
  {
   "cell_type": "code",
   "execution_count": 18,
   "metadata": {},
   "outputs": [
    {
     "name": "stdout",
     "output_type": "stream",
     "text": [
      "a=0, b=0, args=(), d=4, e=True\n"
     ]
    }
   ],
   "source": [
    "func_args(0, 0, d=4)"
   ]
  },
  {
   "cell_type": "code",
   "execution_count": 19,
   "metadata": {},
   "outputs": [
    {
     "name": "stdout",
     "output_type": "stream",
     "text": [
      "a=0, b=0, d=4, e=True\n"
     ]
    }
   ],
   "source": [
    "func_star(0, 0, d=4)"
   ]
  }
 ],
 "metadata": {
  "kernelspec": {
   "display_name": "Python 3",
   "language": "python",
   "name": "python3"
  },
  "language_info": {
   "codemirror_mode": {
    "name": "ipython",
    "version": 3
   },
   "file_extension": ".py",
   "mimetype": "text/x-python",
   "name": "python",
   "nbconvert_exporter": "python",
   "pygments_lexer": "ipython3",
   "version": "3.6.8"
  }
 },
 "nbformat": 4,
 "nbformat_minor": 2
}
