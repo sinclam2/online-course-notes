{
 "cells": [
  {
   "cell_type": "markdown",
   "metadata": {},
   "source": [
    "# What is a *positional* argument?\n",
    "\n",
    "- When we're mapping arguments to parameters, the most common way to do it is by the **order in which they're passed**\n",
    "    - As an example, consider the following:\n",
    "    \n",
    "```python\n",
    "def my_func(a, b):\n",
    "    # Do something\n",
    "    \n",
    "my_func(10, 20)\n",
    "```\n",
    "\n",
    "- Here, since 10 comes first, our function points `a` to 10\n",
    "    - Similarly, `b` points to 20"
   ]
  },
  {
   "cell_type": "markdown",
   "metadata": {},
   "source": [
    "- If, instead, we ran the following:\n",
    "\n",
    "```python\n",
    "my_func(20, 10)\n",
    "```\n",
    "\n",
    "- Then `a` would point to 20 and `b` to 10"
   ]
  },
  {
   "cell_type": "markdown",
   "metadata": {},
   "source": [
    "# What are *default values*?\n",
    "\n",
    "- We can use default values to make one of the parameters **optional**\n",
    "    - Consider the following:\n",
    "    \n",
    "```python\n",
    "def my_func(a, b=100):\n",
    "    # Do something\n",
    "```\n",
    "\n",
    "- For this function, if we don't specify the argument for `b`, it'll automatically set `b` to point to 100\n",
    "    - If, however, we do feed in an argument to `b`, the function will behave as it does normally\n",
    "    \n",
    "- Therefore, we can call this function the usual way:\n",
    "\n",
    "```python\n",
    "my_func(10, 20)\n",
    "```\n",
    "\n",
    "- But since we have a default value for `b` in our function definition, we can also call the function by:\n",
    "\n",
    "```python\n",
    "my_func(10)\n",
    "```\n",
    "\n",
    "- And this is equivalent to calling it by `my_func(10, 100)`"
   ]
  },
  {
   "cell_type": "markdown",
   "metadata": {},
   "source": [
    "# What if we have multiple arguments, and we want to make *one* of them optional?\n",
    "\n",
    "- Let's say we have three arguments for a function, and we want to make one of them optional:\n",
    "\n",
    "```python\n",
    "def my_func(a, b=100, c):\n",
    "    # Do something\n",
    "```\n",
    "\n",
    "- Now, let's say we want to call the function where `a = 5` and `c = 25`, but we use the default value for `b`\n",
    "    - *How can we call this function?*\n",
    "    \n",
    "```python\n",
    "my_func(5, 25)\n",
    "```\n",
    "\n",
    "- *Does that work?*\n",
    "    - **Nope!**\n",
    "        - Turns out the function definition is faulty right away\n",
    "        \n",
    "### Rule\n",
    "\n",
    "**If a positional parameter is defined with a default value, then every additional positional parameter after it must also be given a default value**"
   ]
  },
  {
   "cell_type": "markdown",
   "metadata": {},
   "source": [
    "- *So how would we fix this function?*\n",
    "\n",
    "```python\n",
    "def my_func(a, b=5, c=10):\n",
    "    # Do something\n",
    "```\n",
    "\n",
    "- Now, the following are equivalent:\n",
    "\n",
    "```python\n",
    "my_func(1) == my_func(1, 5, 10)\n",
    "my_func(1, 2) == my_func(1, 2, 10)\n",
    "my_func(1, 2, 3) == my_func(1, 2, 3)\n",
    "```"
   ]
  },
  {
   "cell_type": "markdown",
   "metadata": {},
   "source": [
    "# What are *keyword* arguments?"
   ]
  },
  {
   "cell_type": "markdown",
   "metadata": {},
   "source": [
    "- Recall that we initially wanted `a = 5` and `c = 25`, and we use the default value for `b`\n",
    "    - *How can we do this?*\n",
    "        - **We need to use keyword arguments**\n",
    "        \n",
    "```python\n",
    "my_func(5, c=25)\n",
    "```\n",
    "\n",
    "- Now, Python knows which parameter we're talking about"
   ]
  },
  {
   "cell_type": "markdown",
   "metadata": {},
   "source": [
    "- We can specify the positional arguments by using the parameter name\n",
    "    - Even if the parameters don't have default values\n",
    "        - Consider the following function:\n",
    "        \n",
    "```python\n",
    "def my_func(a, b, c):\n",
    "    # Do something\n",
    "```\n",
    "\n",
    "- If we run `my_func(1, 2, 3)`, then `a` points to 1, `b` to 2, and `c` to 3\n",
    "    - However, we could also call it as:\n",
    "    \n",
    "```python\n",
    "my_func(c=3, a=1, b=2)\n",
    "```"
   ]
  },
  {
   "cell_type": "markdown",
   "metadata": {},
   "source": [
    "- **Note**: if we specify a named argument, we must do the same for all arguments thereafter (except for default arguments)\n",
    "    - For example, the following code would not work:\n",
    "    \n",
    "```python\n",
    "my_func(c=3, 1, 2)\n",
    "```"
   ]
  }
 ],
 "metadata": {
  "kernelspec": {
   "display_name": "Python 3",
   "language": "python",
   "name": "python3"
  },
  "language_info": {
   "codemirror_mode": {
    "name": "ipython",
    "version": 3
   },
   "file_extension": ".py",
   "mimetype": "text/x-python",
   "name": "python",
   "nbconvert_exporter": "python",
   "pygments_lexer": "ipython3",
   "version": "3.6.8"
  }
 },
 "nbformat": 4,
 "nbformat_minor": 2
}
