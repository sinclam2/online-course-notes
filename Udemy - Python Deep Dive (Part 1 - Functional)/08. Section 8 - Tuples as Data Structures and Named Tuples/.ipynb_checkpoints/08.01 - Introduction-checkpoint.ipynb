{
 "cells": [
  {
   "cell_type": "markdown",
   "metadata": {},
   "source": [
    "# So, what are tuples?\n",
    "\n",
    "- Essentially, read-only lists\n",
    "    - Read-only since they're immutable\n",
    "    - **But that's not all!**"
   ]
  },
  {
   "cell_type": "markdown",
   "metadata": {},
   "source": [
    "- They're kinda more like strings\n",
    "    - They're sequences\n",
    "    - Ordering is essential (e.g. 'mike' is not the same as 'emik')\n",
    "        - However, for lists, we can re-order the elements and they're essentially the same\n",
    "- We should think of tuples as **data records where the position (i.e. index) has meaning**"
   ]
  }
 ],
 "metadata": {
  "kernelspec": {
   "display_name": "Python 3",
   "language": "python",
   "name": "python3"
  },
  "language_info": {
   "codemirror_mode": {
    "name": "ipython",
    "version": 3
   },
   "file_extension": ".py",
   "mimetype": "text/x-python",
   "name": "python",
   "nbconvert_exporter": "python",
   "pygments_lexer": "ipython3",
   "version": "3.7.7"
  }
 },
 "nbformat": 4,
 "nbformat_minor": 4
}
