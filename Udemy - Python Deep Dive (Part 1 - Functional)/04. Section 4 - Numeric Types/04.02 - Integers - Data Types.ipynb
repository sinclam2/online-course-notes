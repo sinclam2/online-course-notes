{
 "cells": [
  {
   "cell_type": "markdown",
   "metadata": {},
   "source": [
    "# How big can a Python `int` be?\n",
    "\n",
    "- Integers are store as base 2 i.e. binary\n",
    "\n",
    "- *How does binary work?*\n",
    "    - Let's look at the number 17 as an example:\n",
    "    \n",
    "$$\n",
    "17 = 16 + 0 + 0 + 0 = 1 \\cdot 2^{4} + 0 \\cdot 2^{3} + 0 \\cdot 2^{2} + 0 \\cdot 2^{1} + 1 \\cdot 2^{0}\n",
    "$$\n",
    "\n",
    "$$\n",
    "\\implies 17_{\\text{base }2} = 1 0 0 0 1\n",
    "$$\n",
    "\n",
    "- To store 17, we used 5 bits i.e. 5 slots\n",
    "    - *So what is the largest non-negative integer we can store with 8 bits?*\n",
    "    \n",
    "$$\n",
    "1\\cdot2^{7}+1\\cdot2^{6}+1\\cdot2^{5}+1\\cdot2^{4}+1\\cdot2^{3}+1\\cdot2^{2}+1\\cdot2^{1}+1\\cdot2^{0} = 255 = 2^{8} - 1\n",
    "$$"
   ]
  },
  {
   "cell_type": "markdown",
   "metadata": {},
   "source": [
    "- *What's the largest negative number we can store with 8 bits?*\n",
    "    - The answer isn't just -255\n",
    "        - *Why?*\n",
    "            - Because we need to use one of the bits to store the negative flag\n",
    "                - This means we only have 7 bits we can work with\n",
    "                    - $2^{7} - 1 = 127$\n",
    "- Therefore (if we care about negatives), **using 8 bits, we can represent the integers $[-127,127]$**\n",
    "    - Because we don't need any slot to represent the 0 (since it's all empty), the true range is $[-128,127] = [-2^{7},2^{7}-1]$"
   ]
  },
  {
   "cell_type": "markdown",
   "metadata": {},
   "source": [
    "- *What if we want to use 16 bits?*\n",
    "\n",
    "$$\n",
    "2^{16-1} = 2^{15} = 32,768\n",
    "$$\n",
    "\n",
    "$$\n",
    "16 \\text{ bits}\\implies \\text{Range: }[-32768,...,32767]\n",
    "$$"
   ]
  },
  {
   "cell_type": "markdown",
   "metadata": {},
   "source": [
    "**In conclusion, how big a number can be depends on the number of bits available**"
   ]
  },
  {
   "cell_type": "markdown",
   "metadata": {},
   "source": [
    "- Some languages let you define how many bytes you want to use to store the integers\n",
    "    - In Java, the types are:\n",
    "        1. `byte` $\\rightarrow$ \"signed\" (i.e. neg/pos) 8-bit numbers\n",
    "            - $[-128,127]$\n",
    "        2. `short` $\\rightarrow$ 16-bits\n",
    "            - $[-32768 , ... , 32767]$\n",
    "        3. `int` $\\rightarrow$ 32-bits\n",
    "            - $[-2^{31} , ... , 2^{31}-1]$\n",
    "        4. `long` $\\rightarrow$ 64-bits\n",
    "            - $[-2^{63} , ... , 2^{63}-1]$"
   ]
  },
  {
   "cell_type": "markdown",
   "metadata": {},
   "source": [
    "- In Pyhon, the `int` object automatically increases the number of bits as needed\n",
    "    - Under the hood\n",
    "    - Only limited by the amount of memory available\n",
    "        - Operations get slower and slower as numbers get bigger"
   ]
  },
  {
   "cell_type": "markdown",
   "metadata": {},
   "source": [
    "____\n",
    "\n",
    "# Examples"
   ]
  },
  {
   "cell_type": "code",
   "execution_count": 2,
   "metadata": {},
   "outputs": [
    {
     "name": "stdout",
     "output_type": "stream",
     "text": [
      "<class 'int'>\n"
     ]
    }
   ],
   "source": [
    "print(type(100))"
   ]
  },
  {
   "cell_type": "code",
   "execution_count": 3,
   "metadata": {},
   "outputs": [],
   "source": [
    "import sys"
   ]
  },
  {
   "cell_type": "code",
   "execution_count": 4,
   "metadata": {},
   "outputs": [
    {
     "data": {
      "text/plain": [
       "24"
      ]
     },
     "execution_count": 4,
     "metadata": {},
     "output_type": "execute_result"
    }
   ],
   "source": [
    "sys.getsizeof(0)"
   ]
  },
  {
   "cell_type": "markdown",
   "metadata": {},
   "source": [
    "- As we can see, it takes 24 bytes to store a zero\n",
    "    - Since, as we saw, zero takes no bits to store, this is the **theoretical minimum size of an integer**"
   ]
  },
  {
   "cell_type": "code",
   "execution_count": 5,
   "metadata": {},
   "outputs": [
    {
     "data": {
      "text/plain": [
       "28"
      ]
     },
     "execution_count": 5,
     "metadata": {},
     "output_type": "execute_result"
    }
   ],
   "source": [
    "sys.getsizeof(1)"
   ]
  },
  {
   "cell_type": "markdown",
   "metadata": {},
   "source": [
    "- To store the next smallest integer we can think of, it takes 28 bits to store the integer 1"
   ]
  },
  {
   "cell_type": "code",
   "execution_count": 6,
   "metadata": {},
   "outputs": [
    {
     "data": {
      "text/plain": [
       "160"
      ]
     },
     "execution_count": 6,
     "metadata": {},
     "output_type": "execute_result"
    }
   ],
   "source": [
    "sys.getsizeof(2**1000)"
   ]
  },
  {
   "cell_type": "markdown",
   "metadata": {},
   "source": [
    "- Let's see how it takes longer to do calculations with bigger integers"
   ]
  },
  {
   "cell_type": "code",
   "execution_count": 7,
   "metadata": {},
   "outputs": [],
   "source": [
    "def calc(a):\n",
    "    for i in range(10000000):\n",
    "        a * 2"
   ]
  },
  {
   "cell_type": "code",
   "execution_count": 9,
   "metadata": {},
   "outputs": [],
   "source": [
    "import time"
   ]
  },
  {
   "cell_type": "code",
   "execution_count": 14,
   "metadata": {},
   "outputs": [
    {
     "name": "stdout",
     "output_type": "stream",
     "text": [
      "10 \n",
      "\n",
      " 0.34634780000000376 \n",
      "\n",
      "\n",
      "\n",
      "1267650600228229401496703205376 \n",
      "\n",
      " 0.6186688000000018 \n",
      "\n",
      "\n",
      "\n",
      "10715086071862673209484250490600018105614048117055336074437503883703510511249361224931983788156958581275946729175531468251871452856923140435984577574698574803934567774824230985421074605062371141877954182153046474983581941267398767559165543946077062914571196477686542167660429831652624386837205668069376 \n",
      "\n",
      " 1.0119299999999996 \n",
      "\n",
      "\n",
      "\n"
     ]
    }
   ],
   "source": [
    "for i in [10, 2**100, 2**1000]:\n",
    "    start = time.perf_counter()\n",
    "    calc(i)\n",
    "    end = time.perf_counter()\n",
    "    print(i, 2*'\\n',end - start, '\\n'*3)"
   ]
  },
  {
   "cell_type": "markdown",
   "metadata": {},
   "source": [
    "- As we can see, the calculation slows down"
   ]
  }
 ],
 "metadata": {
  "kernelspec": {
   "display_name": "Python 3",
   "language": "python",
   "name": "python3"
  },
  "language_info": {
   "codemirror_mode": {
    "name": "ipython",
    "version": 3
   },
   "file_extension": ".py",
   "mimetype": "text/x-python",
   "name": "python",
   "nbconvert_exporter": "python",
   "pygments_lexer": "ipython3",
   "version": "3.6.8"
  }
 },
 "nbformat": 4,
 "nbformat_minor": 2
}
