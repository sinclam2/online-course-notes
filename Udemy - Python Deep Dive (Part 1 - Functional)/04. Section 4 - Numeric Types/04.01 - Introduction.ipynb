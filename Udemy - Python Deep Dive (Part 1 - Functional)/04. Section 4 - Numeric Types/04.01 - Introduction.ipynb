{
 "cells": [
  {
   "cell_type": "markdown",
   "metadata": {},
   "source": [
    "# What are the main number types in Python?\n",
    "\n",
    "1. Integers\n",
    "    - $\\{...,-2,-1,0,1,2,...\\}$\n",
    "    - `int`\n",
    "2. Rational Numbers\n",
    "    - $\\{\\frac{p}{q}|p,q\\in \\mathbb{Z}, q \\neq 0\\}$\n",
    "    - i.e. fractions of integers\n",
    "    - `fraction.Fraction`\n",
    "3. Real numbers\n",
    "    - Out usual floats\n",
    "    - `float`\n",
    "        - Or `decimal.Decimal` if we want to be more precise\n",
    "4. Complex numbers\n",
    "    - $\\{a + bi | a,b \\in \\mathbb{R}\\}$\n",
    "    - `complex`"
   ]
  },
  {
   "cell_type": "markdown",
   "metadata": {},
   "source": [
    "# What about boolean values?\n",
    "\n",
    "- Also considered a numeric type\n",
    "    - 0 (false) or 1 (true)\n",
    "    - `bool`"
   ]
  }
 ],
 "metadata": {
  "kernelspec": {
   "display_name": "Python 3",
   "language": "python",
   "name": "python3"
  },
  "language_info": {
   "codemirror_mode": {
    "name": "ipython",
    "version": 3
   },
   "file_extension": ".py",
   "mimetype": "text/x-python",
   "name": "python",
   "nbconvert_exporter": "python",
   "pygments_lexer": "ipython3",
   "version": "3.6.8"
  }
 },
 "nbformat": 4,
 "nbformat_minor": 2
}
