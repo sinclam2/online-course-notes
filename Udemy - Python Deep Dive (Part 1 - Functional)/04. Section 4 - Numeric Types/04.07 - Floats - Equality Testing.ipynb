{
 "cells": [
  {
   "cell_type": "markdown",
   "metadata": {},
   "source": [
    "# Since some floats are approximations (not exact), how does equality testing work?"
   ]
  },
  {
   "cell_type": "markdown",
   "metadata": {},
   "source": [
    "**Recall**: 0.3 base-2 cannot be exactly represented in Python (or any language that uses binary)"
   ]
  },
  {
   "cell_type": "code",
   "execution_count": 1,
   "metadata": {},
   "outputs": [
    {
     "data": {
      "text/plain": [
       "False"
      ]
     },
     "execution_count": 1,
     "metadata": {},
     "output_type": "execute_result"
    }
   ],
   "source": [
    "x = 0.1 * 3\n",
    "y = 0.3\n",
    "x == y"
   ]
  },
  {
   "cell_type": "markdown",
   "metadata": {},
   "source": [
    "- Python thinks `x` and `y` are not equal (when they should be)"
   ]
  },
  {
   "cell_type": "markdown",
   "metadata": {},
   "source": [
    "*Can't we just round this to fix it?*"
   ]
  },
  {
   "cell_type": "code",
   "execution_count": 2,
   "metadata": {},
   "outputs": [
    {
     "data": {
      "text/plain": [
       "True"
      ]
     },
     "execution_count": 2,
     "metadata": {},
     "output_type": "execute_result"
    }
   ],
   "source": [
    "x = round(0.1 * 3, 1)\n",
    "y = round(0.3, 1)\n",
    "x == y"
   ]
  },
  {
   "cell_type": "markdown",
   "metadata": {},
   "source": [
    "- This works, but **is not a proper solution**"
   ]
  },
  {
   "cell_type": "markdown",
   "metadata": {},
   "source": [
    "# What's a better solution?\n",
    "\n",
    "- We can define some $\\epsilon$ where if the two numbers are within $\\pm \\epsilon$ of eachother, **that's close enough**\n",
    "\n",
    "- We could define a function for this"
   ]
  },
  {
   "cell_type": "code",
   "execution_count": 3,
   "metadata": {},
   "outputs": [],
   "source": [
    "def is_equal(x, y, epsilon):\n",
    "    diff = x - y\n",
    "    abs_diff = abs(diff)\n",
    "    return abs_diff < epsilon"
   ]
  },
  {
   "cell_type": "markdown",
   "metadata": {},
   "source": [
    "- Instead of epsilon, we could define a pct value\n",
    "    - If the values are between that pct of each other, **that's close enough**"
   ]
  },
  {
   "cell_type": "markdown",
   "metadata": {},
   "source": [
    "- **But none of these solutions is perfect on its own**\n",
    "    - We can combine the two, and that should be sufficient for most cases"
   ]
  },
  {
   "cell_type": "markdown",
   "metadata": {},
   "source": [
    "# Is there a built-in function for this?\n",
    "\n",
    "- Yes!"
   ]
  },
  {
   "cell_type": "code",
   "execution_count": 5,
   "metadata": {},
   "outputs": [],
   "source": [
    "from math import isclose"
   ]
  },
  {
   "cell_type": "code",
   "execution_count": 6,
   "metadata": {},
   "outputs": [
    {
     "data": {
      "text/plain": [
       "True"
      ]
     },
     "execution_count": 6,
     "metadata": {},
     "output_type": "execute_result"
    }
   ],
   "source": [
    "x = 0.1 * 3\n",
    "y = 0.3\n",
    "isclose(x,y)"
   ]
  },
  {
   "cell_type": "markdown",
   "metadata": {},
   "source": [
    "- **Note 1**: we can set custom relative tolerance and absolute tolerance values if we like\n",
    "    - When we don't specify the absolute tolerance, it defaults to **zero**\n",
    "        - This means that if we want to compare numbers close to zero, we need to manually set some non-zero absolute tolerance\n",
    "- **Note 2**: `numpy` also has an `isclose` function"
   ]
  }
 ],
 "metadata": {
  "kernelspec": {
   "display_name": "Python 3",
   "language": "python",
   "name": "python3"
  },
  "language_info": {
   "codemirror_mode": {
    "name": "ipython",
    "version": 3
   },
   "file_extension": ".py",
   "mimetype": "text/x-python",
   "name": "python",
   "nbconvert_exporter": "python",
   "pygments_lexer": "ipython3",
   "version": "3.6.8"
  }
 },
 "nbformat": 4,
 "nbformat_minor": 2
}
