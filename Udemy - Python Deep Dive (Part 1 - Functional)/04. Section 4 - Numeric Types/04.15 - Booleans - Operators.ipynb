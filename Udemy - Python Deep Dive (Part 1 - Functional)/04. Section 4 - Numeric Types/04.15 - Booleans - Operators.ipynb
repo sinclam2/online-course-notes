{
 "cells": [
  {
   "cell_type": "markdown",
   "metadata": {},
   "source": [
    "# How does short-circuiting work for `or` and `and`?\n",
    "\n",
    "- Let's consider the following line:\n",
    "\n",
    "```python\n",
    "X or Y\n",
    "```\n",
    "\n",
    "- The way this is evaluated in Python, if `X` is truthy, it will return `X`\n",
    "    - Otherwise, **it evaluates `Y` and returns it**\n",
    "        - As we can see, `Y` isn't evaluated unnecessarily (i.e. short-circuiting)"
   ]
  },
  {
   "cell_type": "markdown",
   "metadata": {},
   "source": [
    "- Similarly for `and`, if `X` is false, we do't bother evaluating `Y`"
   ]
  },
  {
   "cell_type": "markdown",
   "metadata": {},
   "source": [
    "- Therefore, we can think of these as:\n",
    "\n",
    "```python\n",
    "def evaluate_or(X, Y):\n",
    "    if X:\n",
    "        return X\n",
    "    else:\n",
    "        return Y\n",
    "```\n",
    "\n",
    "```python\n",
    "def evaluate_and(X, Y):\n",
    "    if not X:\n",
    "        return X\n",
    "    else:\n",
    "        return Y\n",
    "```"
   ]
  },
  {
   "cell_type": "markdown",
   "metadata": {},
   "source": [
    "# What consequences do these definitions have?\n",
    "\n",
    "## 1. `or`\n",
    "\n",
    "- Let's fire through some quick examples with actual code:"
   ]
  },
  {
   "cell_type": "code",
   "execution_count": 10,
   "metadata": {},
   "outputs": [
    {
     "data": {
      "text/plain": [
       "'N/A'"
      ]
     },
     "execution_count": 10,
     "metadata": {},
     "output_type": "execute_result"
    }
   ],
   "source": [
    "X = None\n",
    "Y = 'N/A'\n",
    "X or Y"
   ]
  },
  {
   "cell_type": "markdown",
   "metadata": {},
   "source": [
    "- *Why did we get `'N/A'`?*\n",
    "    - We know that `X` will evaluate to `False` (since it's null), and our function `evaluate_or` above will therefore return `Y` i.e. `'N/A'`"
   ]
  },
  {
   "cell_type": "code",
   "execution_count": 11,
   "metadata": {},
   "outputs": [
    {
     "data": {
      "text/plain": [
       "'N/A'"
      ]
     },
     "execution_count": 11,
     "metadata": {},
     "output_type": "execute_result"
    }
   ],
   "source": [
    "'' or 'N/A'"
   ]
  },
  {
   "cell_type": "markdown",
   "metadata": {},
   "source": [
    "- Similar to the previous example, `''` evaluates to `False`, so we get `'N/A'`"
   ]
  },
  {
   "cell_type": "code",
   "execution_count": 12,
   "metadata": {},
   "outputs": [
    {
     "data": {
      "text/plain": [
       "'hello'"
      ]
     },
     "execution_count": 12,
     "metadata": {},
     "output_type": "execute_result"
    }
   ],
   "source": [
    "'hello' or 'N/A'"
   ]
  },
  {
   "cell_type": "markdown",
   "metadata": {},
   "source": [
    "- This time, we don't get `'N/A'`\n",
    "    - *Why?*\n",
    "        - `'hello'` is non-null, therefore it evaluates to `True`\n",
    "            - By our function `evaluate_or`, we get back `X` i.e. `'hello'`"
   ]
  },
  {
   "cell_type": "markdown",
   "metadata": {},
   "source": [
    "### Example 1 - setting up default values\n",
    "\n",
    "- Let's say we want our variable `a` to be defined as follows:\n",
    "    - If `s` is a string, let `a = s`\n",
    "    - If `s` is null, we want `a = 'N/A'`\n",
    "        - i.e. instead of being a null value, we want it to be the string `'N/A'`\n",
    "        \n",
    "- Then, we could write:\n",
    "\n",
    "```python\n",
    "if s:\n",
    "    a = s\n",
    "else:\n",
    "    a = 'N/A\n",
    "```\n",
    "\n",
    "- This will work, but we can further simplify it"
   ]
  },
  {
   "cell_type": "markdown",
   "metadata": {},
   "source": [
    "- *What does the following line evaluate to?*\n",
    "\n",
    "```python\n",
    "a = s or 'N/A'\n",
    "```\n",
    "\n",
    "- For clarity, this could also be written as:\n",
    "\n",
    "```python\n",
    "a = (s or 'N/A')\n",
    "```\n",
    "\n",
    "- If `s` is null, it will be evaluated to be *falsy*\n",
    "    - Therefore, `(s or 'N/A')` will return `'N/A'`\n",
    "- Otherwise, `s` will be evaluated to be *truthy*\n",
    "    - Therefore, `(s or 'N/A')` will return `s`\n",
    "- **So, we can replace our original code with the update above**"
   ]
  },
  {
   "cell_type": "markdown",
   "metadata": {},
   "source": [
    "### Example 2 - setting up default values (part 2)\n",
    "\n",
    "- Let's say we have the same situation as the example above, except we have mutiple string values:\n",
    "\n",
    "```python\n",
    "a = s1 or s2 or s3 or 'N/A'\n",
    "```\n",
    "\n",
    "- **Recall**: Python will evaluate this expression left-to-right\n",
    "    - Therefore, the first *truthy* value will be returned"
   ]
  },
  {
   "cell_type": "markdown",
   "metadata": {},
   "source": [
    "### Example 3 - getting rid of 0s\n",
    "\n",
    "- Let's say we don't want our variable to be equal to 0\n",
    "    - We can fix this using the following code:\n",
    "    \n",
    "```python\n",
    "a = a or 1\n",
    "```\n",
    "\n",
    "- Since 0 is *falsy*, if `a` is equal to zero, the expression `a or 1` will evaluate to 1\n",
    "    - Therefore, `a` will be reset to 1"
   ]
  },
  {
   "cell_type": "markdown",
   "metadata": {},
   "source": [
    "## 2. `and`\n",
    "\n",
    "- Let's look at a quick example of actual code:"
   ]
  },
  {
   "cell_type": "code",
   "execution_count": 16,
   "metadata": {},
   "outputs": [
    {
     "data": {
      "text/plain": [
       "2.0"
      ]
     },
     "execution_count": 16,
     "metadata": {},
     "output_type": "execute_result"
    }
   ],
   "source": [
    "X = 10\n",
    "Y = 20 / X\n",
    "X and Y"
   ]
  },
  {
   "cell_type": "markdown",
   "metadata": {},
   "source": [
    "- *Why did we get 2?*\n",
    "    - Because `X` evaluates to `True`, and by our function `evaluate_and`, this means it returns `Y`"
   ]
  },
  {
   "cell_type": "code",
   "execution_count": 17,
   "metadata": {},
   "outputs": [
    {
     "data": {
      "text/plain": [
       "0"
      ]
     },
     "execution_count": 17,
     "metadata": {},
     "output_type": "execute_result"
    }
   ],
   "source": [
    "X = 0\n",
    "X and 20 / X"
   ]
  },
  {
   "cell_type": "markdown",
   "metadata": {},
   "source": [
    "- As we can see, `X` evaluates to `False`, and therefore is returned\n",
    "    - *Why didn't we get the `ZeroDivisionError`?*\n",
    "        - Because of short-circuit evaluation, `20 / X` didn't even run"
   ]
  },
  {
   "cell_type": "markdown",
   "metadata": {},
   "source": [
    "### Example 1 - computing an average\n",
    "\n",
    "- We want `avg` to be calculated as `sum / n`\n",
    "    - *How can we write this code such that when `n=0`, we don't get an error?*\n",
    "        - We can use the following:\n",
    "        \n",
    "```python\n",
    "avg = n and sum / n\n",
    "```\n",
    "\n",
    "- Therefore, if `n` is zero, it will be *falsy*, and therefore `avg` will be set to zero   "
   ]
  },
  {
   "cell_type": "markdown",
   "metadata": {},
   "source": [
    "### Example 2 - first character of string\n",
    "\n",
    "- Let's say we want to return the first letter of a string, except when the string is null\n",
    "    - In that case, we want to return `None` i.e. also a null string\n",
    "        - We can use the following code:\n",
    "        \n",
    "```python\n",
    "first_character = s and s[0]\n",
    "```"
   ]
  },
  {
   "cell_type": "markdown",
   "metadata": {},
   "source": [
    "# What about the `not` operator?\n",
    "\n",
    "- Unlike the examples above, **the `not` operator always returns a Boolean object**"
   ]
  },
  {
   "cell_type": "code",
   "execution_count": 19,
   "metadata": {},
   "outputs": [
    {
     "data": {
      "text/plain": [
       "(True, False)"
      ]
     },
     "execution_count": 19,
     "metadata": {},
     "output_type": "execute_result"
    }
   ],
   "source": [
    "not([]), not([1])"
   ]
  }
 ],
 "metadata": {
  "kernelspec": {
   "display_name": "Python 3",
   "language": "python",
   "name": "python3"
  },
  "language_info": {
   "codemirror_mode": {
    "name": "ipython",
    "version": 3
   },
   "file_extension": ".py",
   "mimetype": "text/x-python",
   "name": "python",
   "nbconvert_exporter": "python",
   "pygments_lexer": "ipython3",
   "version": "3.6.8"
  }
 },
 "nbformat": 4,
 "nbformat_minor": 2
}
