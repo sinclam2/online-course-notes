{
 "cells": [
  {
   "cell_type": "markdown",
   "metadata": {},
   "source": [
    "# How are the artimetic operators different for `Decimals` vs. `float`, `int`, etc.?"
   ]
  },
  {
   "cell_type": "markdown",
   "metadata": {},
   "source": [
    "- For integers, the `//` operator performs **floor** division\n",
    "    - `a // b = floor(a / b)`\n",
    "- For Decimals, however, it performs **truncated** division\n",
    "    - `a // b = trunc(a / b)`"
   ]
  },
  {
   "cell_type": "markdown",
   "metadata": {},
   "source": [
    "- *Who cares?!*\n",
    "    - For positive numbers, it makes no difference\n",
    "        - **For negarive numbers, it makes a big difference!**"
   ]
  },
  {
   "cell_type": "code",
   "execution_count": 1,
   "metadata": {},
   "outputs": [],
   "source": [
    "from decimal import Decimal"
   ]
  },
  {
   "cell_type": "code",
   "execution_count": 2,
   "metadata": {},
   "outputs": [
    {
     "data": {
      "text/plain": [
       "Decimal('3')"
      ]
     },
     "execution_count": 2,
     "metadata": {},
     "output_type": "execute_result"
    }
   ],
   "source": [
    "Decimal(10) // Decimal(3)"
   ]
  },
  {
   "cell_type": "markdown",
   "metadata": {},
   "source": [
    "- This is as expected\n",
    "    - For integers: `10 // 3 = floor(3.33333) = 3`"
   ]
  },
  {
   "cell_type": "code",
   "execution_count": 3,
   "metadata": {},
   "outputs": [
    {
     "data": {
      "text/plain": [
       "Decimal('-3')"
      ]
     },
     "execution_count": 3,
     "metadata": {},
     "output_type": "execute_result"
    }
   ],
   "source": [
    "Decimal(-10) // Decimal(3)"
   ]
  },
  {
   "cell_type": "markdown",
   "metadata": {},
   "source": [
    "- This isn't as expected\n",
    "    - For integers: `-10 // 3 = floor(-3.33333) = -4`"
   ]
  },
  {
   "cell_type": "markdown",
   "metadata": {},
   "source": [
    "# For mathematical operations not included in the `Decimal` class, can we use the `math` module?\n",
    "\n",
    "- Yes!\n",
    "    - **Caveat**: the `Decimal` is converted to a `float` before the operation is performed\n",
    "        - **Therefore, we lose the precision**\n",
    "            - And that's the reason we used the `Decimal` class in the first place"
   ]
  },
  {
   "cell_type": "markdown",
   "metadata": {},
   "source": [
    "**Example**"
   ]
  },
  {
   "cell_type": "code",
   "execution_count": 6,
   "metadata": {},
   "outputs": [],
   "source": [
    "import decimal\n",
    "import math"
   ]
  },
  {
   "cell_type": "code",
   "execution_count": 5,
   "metadata": {},
   "outputs": [],
   "source": [
    "decimal.getcontext().prec = 28\n",
    "x = 0.01\n",
    "x_dec = Decimal('0.01')"
   ]
  },
  {
   "cell_type": "code",
   "execution_count": 8,
   "metadata": {},
   "outputs": [
    {
     "data": {
      "text/plain": [
       "('0.10000000000000000555', '0.10000000000000000000', '0.10000000000000000555')"
      ]
     },
     "execution_count": 8,
     "metadata": {},
     "output_type": "execute_result"
    }
   ],
   "source": [
    "root = math.sqrt(x)\n",
    "root_dec = x_dec.sqrt()\n",
    "root_mixed = math.sqrt(x_dec)\n",
    "format(root, '1.20f'), format(root_dec, '1.20f'), format(root_mixed, '1.20f')"
   ]
  },
  {
   "cell_type": "markdown",
   "metadata": {},
   "source": [
    "- As we can see, the first and third root calculations aren't precise"
   ]
  },
  {
   "cell_type": "markdown",
   "metadata": {},
   "source": [
    "- In conclusion, **we should always try to use the built-in `Decimal` functions**"
   ]
  }
 ],
 "metadata": {
  "kernelspec": {
   "display_name": "Python 3",
   "language": "python",
   "name": "python3"
  },
  "language_info": {
   "codemirror_mode": {
    "name": "ipython",
    "version": 3
   },
   "file_extension": ".py",
   "mimetype": "text/x-python",
   "name": "python",
   "nbconvert_exporter": "python",
   "pygments_lexer": "ipython3",
   "version": "3.6.8"
  }
 },
 "nbformat": 4,
 "nbformat_minor": 2
}
