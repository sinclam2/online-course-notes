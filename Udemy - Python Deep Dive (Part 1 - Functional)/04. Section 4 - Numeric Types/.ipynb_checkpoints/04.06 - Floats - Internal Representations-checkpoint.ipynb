{
 "cells": [
  {
   "cell_type": "markdown",
   "metadata": {},
   "source": [
    "# What are floats?\n",
    "\n",
    "- The `float` class is how **real numbers** are represented in Python\n",
    "- Floats use a *fixed* number of bytes\n",
    "    - **Recall**: as integers got bigger, they were able to take on more memory\n",
    "        - E.g. if we used 8 bits, we could represent integers from -127 to 127\n",
    "    - **This is not true for floats**\n",
    "        - All floats take up the same amount of space\n",
    "    - Typically, floats use 64 bits (8 bytes)\n",
    "        - One bit is used to represent the sign\n",
    "            - 1 -> negative number, 0 -> positive number\n",
    "        - Another 11 bits is used to represent the exponent (base 10)\n",
    "            - E.g. `1.5E-5` $= 1.5x10^{-5}$\n",
    "            - 11 bits implies the range of possible values for the exponent is $[-1022,1023]$\n",
    "        - The remaining bits are used to store the digits of the float"
   ]
  },
  {
   "cell_type": "markdown",
   "metadata": {},
   "source": [
    "# So how can we represent numbers in base 10?\n",
    "\n",
    "- If the think of a real number, we can split it into two parts:\n",
    "    1. The base-10 integer\n",
    "    2. The fraction (i.e. the decimals)\n",
    "    \n",
    "**Example**\n",
    "\n",
    "$$\n",
    "1.75 \\rightarrow \\frac{1}{1} +\\frac{7}{10}+\\frac{5}{100} \\rightarrow 1x10^{0} + 7x10^{-1} + 5x10^{-2}\n",
    "$$\n",
    "\n",
    "- This number has 3 significant digits\n",
    "\n",
    "**Generalized form**\n",
    "\n",
    "$$\n",
    "d = (-1)^{sign}\\sum_{i=-m}^{n}d_{i}10^{i}\n",
    "$$"
   ]
  },
  {
   "cell_type": "markdown",
   "metadata": {},
   "source": [
    "- *But what about irrational numbers? Or rational but infinitely recurring numbers (e.g. 1/3 = 0.333....)?*\n",
    "    - We know we'd need an infinite series to represent the number\n",
    "        - This means the computer would need an infinite number of digits"
   ]
  },
  {
   "cell_type": "markdown",
   "metadata": {},
   "source": [
    "# What if we use binary instead?\n",
    "\n",
    "**Example**\n",
    "\n",
    "- We start with the number 0.11 in base-2\n",
    "\n",
    "$$\n",
    "(0.11)_{2} = \\left (\\frac{1}{2} + \\frac{1}{4} \\right )_{10} = (0.5 + 0.25)_{10} = (0.75)_{10}\n",
    "$$\n",
    "\n",
    "- So 0.11 in base-2 is eqivalent to 0.75 in base-10\n",
    "\n",
    "**Generalized form**\n",
    "\n",
    "$$\n",
    "d = (-1)^{sign}\\sum_{i=-m}^{n}d_{i}2^{i}\n",
    "$$"
   ]
  },
  {
   "cell_type": "markdown",
   "metadata": {},
   "source": [
    "- *But won't we have the same problem with irrational numbers and infinitely repeating digits?*\n",
    "    - Not quite\n",
    "        - Instead, we have a different but similar problem\n",
    "        \n",
    "**Example**\n",
    "\n",
    "- If we tried to convert $0.1 = \\frac{1}{10}$ from base-10 to base-2, we'd get:\n",
    "\n",
    "$$\n",
    "(0.1)_{10} = (0.0001100110011...)_{2}\n",
    "$$\n",
    "\n",
    "- Where the 0011 repeats infinitely"
   ]
  },
  {
   "cell_type": "markdown",
   "metadata": {},
   "source": [
    "# But numbers are stored in binary in Python. Does that mean that there are real numbers that don't have a finite representation in Python?\n",
    "\n",
    "- Yes\n",
    "    - Their representation will approximately be the same, but not exactly\n",
    "- This is true for any language"
   ]
  },
  {
   "cell_type": "markdown",
   "metadata": {},
   "source": [
    "____\n",
    "\n",
    "# Examples\n"
   ]
  },
  {
   "cell_type": "code",
   "execution_count": 1,
   "metadata": {},
   "outputs": [
    {
     "name": "stdout",
     "output_type": "stream",
     "text": [
      "0.1\n"
     ]
    }
   ],
   "source": [
    "print(0.1)"
   ]
  },
  {
   "cell_type": "markdown",
   "metadata": {},
   "source": [
    "- This looks fine!\n",
    "    - But we know that this number cannot be exactly represented in Python\n",
    "        - We can demonstrate this by showing additional digits"
   ]
  },
  {
   "cell_type": "code",
   "execution_count": 2,
   "metadata": {
    "scrolled": true
   },
   "outputs": [
    {
     "data": {
      "text/plain": [
       "'0.100000000000000'"
      ]
     },
     "execution_count": 2,
     "metadata": {},
     "output_type": "execute_result"
    }
   ],
   "source": [
    "format(0.1, '.15f')"
   ]
  },
  {
   "cell_type": "markdown",
   "metadata": {},
   "source": [
    "- Even with 15 digits, it looks fine"
   ]
  },
  {
   "cell_type": "code",
   "execution_count": 3,
   "metadata": {},
   "outputs": [
    {
     "data": {
      "text/plain": [
       "'0.1000000000000000055511151'"
      ]
     },
     "execution_count": 3,
     "metadata": {},
     "output_type": "execute_result"
    }
   ],
   "source": [
    "format(0.1, '.25f')"
   ]
  },
  {
   "cell_type": "markdown",
   "metadata": {},
   "source": [
    "- There we go\n",
    "    - We can see it's slightly off"
   ]
  },
  {
   "cell_type": "markdown",
   "metadata": {},
   "source": [
    "- Let's try a number that we know for sure that we have an exact representation"
   ]
  },
  {
   "cell_type": "code",
   "execution_count": 4,
   "metadata": {},
   "outputs": [
    {
     "data": {
      "text/plain": [
       "0.125"
      ]
     },
     "execution_count": 4,
     "metadata": {},
     "output_type": "execute_result"
    }
   ],
   "source": [
    "1/8"
   ]
  },
  {
   "cell_type": "code",
   "execution_count": 5,
   "metadata": {},
   "outputs": [
    {
     "data": {
      "text/plain": [
       "'0.1250000000000000000000000'"
      ]
     },
     "execution_count": 5,
     "metadata": {},
     "output_type": "execute_result"
    }
   ],
   "source": [
    "format(0.125, '.25f')"
   ]
  },
  {
   "cell_type": "markdown",
   "metadata": {},
   "source": [
    "- Even at 25 digits, it's still correct"
   ]
  },
  {
   "cell_type": "markdown",
   "metadata": {},
   "source": [
    "**Why should we even worry about the precision?**\n",
    "- We can run into issues of equality\n",
    "    - Example:"
   ]
  },
  {
   "cell_type": "code",
   "execution_count": 6,
   "metadata": {},
   "outputs": [
    {
     "data": {
      "text/plain": [
       "False"
      ]
     },
     "execution_count": 6,
     "metadata": {},
     "output_type": "execute_result"
    }
   ],
   "source": [
    "a = 0.1 + 0.1 + 0.1\n",
    "b = 0.3\n",
    "a == b"
   ]
  },
  {
   "cell_type": "markdown",
   "metadata": {},
   "source": [
    "- See, this should have been true!"
   ]
  }
 ],
 "metadata": {
  "kernelspec": {
   "display_name": "Python 3",
   "language": "python",
   "name": "python3"
  },
  "language_info": {
   "codemirror_mode": {
    "name": "ipython",
    "version": 3
   },
   "file_extension": ".py",
   "mimetype": "text/x-python",
   "name": "python",
   "nbconvert_exporter": "python",
   "pygments_lexer": "ipython3",
   "version": "3.6.8"
  }
 },
 "nbformat": 4,
 "nbformat_minor": 2
}
