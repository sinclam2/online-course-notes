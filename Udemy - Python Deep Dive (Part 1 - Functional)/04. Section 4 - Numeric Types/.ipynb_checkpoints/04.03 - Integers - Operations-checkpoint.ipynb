{
 "cells": [
  {
   "cell_type": "markdown",
   "metadata": {},
   "source": [
    "# What operations are supported by integers?\n",
    "\n",
    "- All the usual ones:\n",
    "    1. Addition \n",
    "        - `+`\n",
    "    2. Subtraction\n",
    "        - `-`\n",
    "    3. Multiplication\n",
    "        - `*`\n",
    "    4. Division\n",
    "        - `/`\n",
    "    5. Exponents\n",
    "        - `**`\n",
    "        \n",
    "- *But what is the resulting type of each operation?*\n",
    "    1. `int + int = int`\n",
    "    2. `int - int = int`\n",
    "    3. `int * int = int`\n",
    "    4. `int ** int = int`\n",
    "    5. `int / int = float`\n",
    "        - Even if we're doing `10 / 2 = 5.0`"
   ]
  },
  {
   "cell_type": "markdown",
   "metadata": {},
   "source": [
    "- We have two additional operators we can use:\n",
    "    1. Floor Division (aka Integer Division aka div)\n",
    "        - `10 // 3 = 3`\n",
    "            - Truncates the decimals (for positive numbers)\n",
    "    2. Modulo Operator (aka mod)\n",
    "        - `10 % 3 = 1`\n",
    "            - Returns the remainder"
   ]
  },
  {
   "cell_type": "markdown",
   "metadata": {},
   "source": [
    "- We note that for any number:\n",
    "\n",
    "```python\n",
    "n / d = (n // d) + (n % d) / d\n",
    "```"
   ]
  },
  {
   "cell_type": "markdown",
   "metadata": {},
   "source": [
    "- **Note**: we have to be careful with negative numbers\n",
    "    - `-9.5 // 1 = -10` (not -9)"
   ]
  },
  {
   "cell_type": "markdown",
   "metadata": {},
   "source": [
    "____\n",
    "\n",
    "# Examples"
   ]
  },
  {
   "cell_type": "code",
   "execution_count": 1,
   "metadata": {},
   "outputs": [
    {
     "data": {
      "text/plain": [
       "(int, int, int, int, float)"
      ]
     },
     "execution_count": 1,
     "metadata": {},
     "output_type": "execute_result"
    }
   ],
   "source": [
    "type(1+1),type(1-1),type(1*1),type(1**1),type(1/1)"
   ]
  },
  {
   "cell_type": "code",
   "execution_count": 2,
   "metadata": {},
   "outputs": [],
   "source": [
    "import math"
   ]
  },
  {
   "cell_type": "code",
   "execution_count": 3,
   "metadata": {},
   "outputs": [
    {
     "data": {
      "text/plain": [
       "(3, -4)"
      ]
     },
     "execution_count": 3,
     "metadata": {},
     "output_type": "execute_result"
    }
   ],
   "source": [
    "math.floor(3.15),math.floor(-3.15)"
   ]
  },
  {
   "cell_type": "markdown",
   "metadata": {},
   "source": [
    "- **Note**: because of precision limits for `float` numbers, the `floor` operator doesn't always work as expected"
   ]
  },
  {
   "cell_type": "code",
   "execution_count": 4,
   "metadata": {},
   "outputs": [
    {
     "data": {
      "text/plain": [
       "-3"
      ]
     },
     "execution_count": 4,
     "metadata": {},
     "output_type": "execute_result"
    }
   ],
   "source": [
    "math.floor(-3.0000000000000001)"
   ]
  },
  {
   "cell_type": "markdown",
   "metadata": {},
   "source": [
    "- Should be -4"
   ]
  }
 ],
 "metadata": {
  "kernelspec": {
   "display_name": "Python 3",
   "language": "python",
   "name": "python3"
  },
  "language_info": {
   "codemirror_mode": {
    "name": "ipython",
    "version": 3
   },
   "file_extension": ".py",
   "mimetype": "text/x-python",
   "name": "python",
   "nbconvert_exporter": "python",
   "pygments_lexer": "ipython3",
   "version": "3.6.8"
  }
 },
 "nbformat": 4,
 "nbformat_minor": 2
}
