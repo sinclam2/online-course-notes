{
 "cells": [
  {
   "cell_type": "markdown",
   "metadata": {},
   "source": [
    "# What are comparison operators?\n",
    "\n",
    "- Take two operands\n",
    "    - E.g. `a > b`\n",
    "- Evaluate to a `bool` value\n",
    "\n",
    "## Types of comparison operators\n",
    "\n",
    "1. Identity Operations: `is`, `is not`\n",
    "    - Compares memory addresses\n",
    "2. Value Comparisons: `==`, `!=`\n",
    "    - Compares values of variables\n",
    "        - **Note**: the two data types of the variables must be compatible\n",
    "            - E.g. you can't compare `'a'!=1` i.e. a string to a number\n",
    "3. Ordering Comparisons: `<`, `<=`, `>`, `>=`\n",
    "    - **Note**: these comparisons don't work for all data types\n",
    "4. Membership Operations: `in`, `not in`\n",
    "    - Used for iterable types (e.g. sets, lists, etc.)\n",
    "    \n",
    "    \n",
    "- For now, **we'll focus on numeric types**"
   ]
  },
  {
   "cell_type": "markdown",
   "metadata": {},
   "source": [
    "# For numeric types, what do we have to watch out for?\n",
    "\n",
    "- Value comparisons will always work for any numeric type\n",
    "    - However, we have to be careful with floats (since they're not exact)\n",
    "    \n",
    "**Example**"
   ]
  },
  {
   "cell_type": "code",
   "execution_count": 1,
   "metadata": {},
   "outputs": [],
   "source": [
    "from decimal import Decimal"
   ]
  },
  {
   "cell_type": "code",
   "execution_count": 3,
   "metadata": {},
   "outputs": [
    {
     "data": {
      "text/plain": [
       "False"
      ]
     },
     "execution_count": 3,
     "metadata": {},
     "output_type": "execute_result"
    }
   ],
   "source": [
    "0.1 == Decimal('0.1')"
   ]
  },
  {
   "cell_type": "markdown",
   "metadata": {},
   "source": [
    "# What are chained comparisons?\n",
    "\n",
    "- We can combine comparisons into a single line\n",
    "\n",
    "**Example**\n",
    "\n",
    "```python\n",
    "a == b == c\n",
    "```\n",
    "\n",
    "- This chained comparison is equivalent to:\n",
    "\n",
    "```python\n",
    "a == b and b == c\n",
    "```"
   ]
  }
 ],
 "metadata": {
  "kernelspec": {
   "display_name": "Python 3",
   "language": "python",
   "name": "python3"
  },
  "language_info": {
   "codemirror_mode": {
    "name": "ipython",
    "version": 3
   },
   "file_extension": ".py",
   "mimetype": "text/x-python",
   "name": "python",
   "nbconvert_exporter": "python",
   "pygments_lexer": "ipython3",
   "version": "3.6.8"
  }
 },
 "nbformat": 4,
 "nbformat_minor": 2
}
