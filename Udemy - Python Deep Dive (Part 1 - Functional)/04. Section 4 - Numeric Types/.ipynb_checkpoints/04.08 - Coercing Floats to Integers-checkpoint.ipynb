{
 "cells": [
  {
   "cell_type": "markdown",
   "metadata": {},
   "source": [
    "# What are we trying to do?\n",
    "\n",
    "- We want to take a float, and convert it to an \"appropriate\" integer\n",
    "    - Since this means we're forced to take off all digits after the zero, **it's inevitable that there will be *data loss***"
   ]
  },
  {
   "cell_type": "markdown",
   "metadata": {},
   "source": [
    "- We can define how we want the data loss to occur\n",
    "    - E.g. what do we want 10.4 mapped to? 10? 11?"
   ]
  },
  {
   "cell_type": "markdown",
   "metadata": {},
   "source": [
    "# What are the different mappings we can use?\n",
    "\n",
    "1. Truncation\n",
    "2. Floor\n",
    "3. Ceiling\n",
    "4. Rounding\n",
    "\n",
    "\n",
    "- **Note**: data loss occurs under all these mappings"
   ]
  },
  {
   "cell_type": "markdown",
   "metadata": {},
   "source": [
    "# 1. Truncation\n",
    "\n",
    "- This simply chops off everything after the decimal place\n",
    "\n",
    "**Examples**\n",
    "\n",
    "$$\n",
    "10.4 \\rightarrow 10\n",
    "$$\n",
    "\n",
    "$$\n",
    "10.999999 \\rightarrow 10\n",
    "$$\n",
    "\n",
    "$$\n",
    "0.999999999 \\rightarrow 0\n",
    "$$\n",
    "\n",
    "\n",
    "\n",
    "\n",
    "- The `math` module provides the `trunc` function"
   ]
  },
  {
   "cell_type": "code",
   "execution_count": 1,
   "metadata": {},
   "outputs": [],
   "source": [
    "import math"
   ]
  },
  {
   "cell_type": "code",
   "execution_count": 3,
   "metadata": {},
   "outputs": [
    {
     "data": {
      "text/plain": [
       "(10, 10, 0)"
      ]
     },
     "execution_count": 3,
     "metadata": {},
     "output_type": "execute_result"
    }
   ],
   "source": [
    "math.trunc(10.4), math.trunc(10.99999999), math.trunc(0.999999999999)"
   ]
  },
  {
   "cell_type": "markdown",
   "metadata": {},
   "source": [
    "- **Note**: the `int` constructor in python accepts a float, and it **truncates it to cast it to an integer**"
   ]
  },
  {
   "cell_type": "code",
   "execution_count": 4,
   "metadata": {},
   "outputs": [
    {
     "data": {
      "text/plain": [
       "(10, 10, 0)"
      ]
     },
     "execution_count": 4,
     "metadata": {},
     "output_type": "execute_result"
    }
   ],
   "source": [
    "int(10.4), int(10.99999999), int(0.999999999999)"
   ]
  },
  {
   "cell_type": "markdown",
   "metadata": {},
   "source": [
    "- As we can see, both functions returned the same results"
   ]
  },
  {
   "cell_type": "markdown",
   "metadata": {},
   "source": [
    "# 2. Floor\n",
    "\n",
    "- The **floor** of a number is the largest integer *less* than (or equal to) the number\n",
    "\n",
    "$$\n",
    "\\text{floor}(x) = \\max \\{i \\in \\mathbb{Z} | i \\leq x  \\}\n",
    "$$\n",
    "\n",
    "**Examples**\n",
    "\n",
    "$$\n",
    "10.4 \\rightarrow 10\n",
    "$$\n",
    "\n",
    "$$\n",
    "10.999999 \\rightarrow 10\n",
    "$$\n",
    "\n",
    "$$\n",
    "0.999999999 \\rightarrow 0\n",
    "$$\n",
    "\n",
    "- So far, it looks like this is the same as `trunc`\n",
    "    - To show that they're not the same, let's try a **negative** number\n",
    "    \n",
    "$$\n",
    "-0.999999999 \\rightarrow -1\n",
    "$$\n",
    "\n",
    "- For $-0.999999999$, the greatest integer that is less than it is $-1$, not $0$\n",
    "    - This is because $-0.999999999 < 0$"
   ]
  },
  {
   "cell_type": "markdown",
   "metadata": {},
   "source": [
    "- So, as we've seen, **for positive floats, `trunc` and `floor` are equivalent**"
   ]
  },
  {
   "cell_type": "markdown",
   "metadata": {},
   "source": [
    "```python\n",
    "a // b = floor(a / b)\n",
    "```\n",
    "\n",
    "- The `floor` function is also provided by the `math` module"
   ]
  },
  {
   "cell_type": "code",
   "execution_count": 8,
   "metadata": {},
   "outputs": [
    {
     "data": {
      "text/plain": [
       "(10, 10, 0, -1)"
      ]
     },
     "execution_count": 8,
     "metadata": {},
     "output_type": "execute_result"
    }
   ],
   "source": [
    "math.floor(10.4), math.floor(10.99999999), math.floor(0.999999999999), math.floor(-0.999999999999)"
   ]
  },
  {
   "cell_type": "markdown",
   "metadata": {},
   "source": [
    "# 3. Ceiling\n",
    "\n",
    "- The **ceiling** is essentially the opposite of the floor\n",
    "\n",
    "$$\n",
    "\\text{ceil}(x) = \\min \\{i \\in \\mathbb{Z} | i \\geq x  \\}\n",
    "$$\n"
   ]
  },
  {
   "cell_type": "markdown",
   "metadata": {},
   "source": [
    "**Examples**\n",
    "\n",
    "$$\n",
    "10.4 \\rightarrow 11\n",
    "$$\n",
    "\n",
    "$$\n",
    "10.999999 \\rightarrow 11\n",
    "$$\n",
    "\n",
    "$$\n",
    "0.999999999 \\rightarrow 1\n",
    "$$\n",
    "    \n",
    "$$\n",
    "-0.999999999 \\rightarrow 0\n",
    "$$"
   ]
  },
  {
   "cell_type": "code",
   "execution_count": 9,
   "metadata": {},
   "outputs": [
    {
     "data": {
      "text/plain": [
       "(11, 11, 1, 0)"
      ]
     },
     "execution_count": 9,
     "metadata": {},
     "output_type": "execute_result"
    }
   ],
   "source": [
    "math.ceil(10.4), math.ceil(10.99999999), math.ceil(0.999999999999), math.ceil(-0.999999999999)"
   ]
  },
  {
   "cell_type": "markdown",
   "metadata": {},
   "source": [
    "# 4. Rounding\n",
    "\n",
    "- Python has the `round` function built-in\n",
    "    - Don't even need to import it from `math`\n",
    "    \n",
    "```python\n",
    "round(x, n=0)\n",
    "```\n",
    "\n",
    "- Here, we can see that the default `n` value is zero\n",
    "    - This defines the number of decimal places we want to round-to\n",
    "        - **Note**: we can also set the `n` to be **negative** which means that we can round $100,123 \\rightarrow 100,000$ if we wanted to round to the nearest thousand (and therefore set `n=-3`\n",
    "        \n",
    "- If we want to coerce a `float` to an `int`, we can set `n=0`"
   ]
  },
  {
   "cell_type": "markdown",
   "metadata": {},
   "source": [
    "- **Note**: `round(x)` will return an `int`, but `round(x, 1)` will return a `float`\n",
    "    - If we use `round(x, 0)`, this will return a `float`"
   ]
  },
  {
   "cell_type": "code",
   "execution_count": 10,
   "metadata": {},
   "outputs": [
    {
     "data": {
      "text/plain": [
       "(1, 1.0, int, float)"
      ]
     },
     "execution_count": 10,
     "metadata": {},
     "output_type": "execute_result"
    }
   ],
   "source": [
    "round(1.1), round(1.1, 0), type(round(1.1)), type(round(1.1, 0))"
   ]
  },
  {
   "cell_type": "markdown",
   "metadata": {},
   "source": [
    "- **Note**: for ties (i.e. rounding 1.5 to the closest integer), we usually round up (or away from the zero on the number line)\n",
    "    - Python uses **Banker's Rounding**\n",
    "        - *for ties, rounds to the **even** number*"
   ]
  },
  {
   "cell_type": "code",
   "execution_count": 13,
   "metadata": {},
   "outputs": [
    {
     "data": {
      "text/plain": [
       "1.2"
      ]
     },
     "execution_count": 13,
     "metadata": {},
     "output_type": "execute_result"
    }
   ],
   "source": [
    "round(1.25, 1)"
   ]
  },
  {
   "cell_type": "markdown",
   "metadata": {},
   "source": [
    "- Normally, we'd round this to 1.3\n",
    "    - However, 1.2 has an **even** final digit while 1.3 has an odd\n",
    "        - Therefore, it's rounded to 1.2"
   ]
  },
  {
   "cell_type": "markdown",
   "metadata": {},
   "source": [
    "- This is true for whatever `n` we choose"
   ]
  },
  {
   "cell_type": "code",
   "execution_count": 14,
   "metadata": {},
   "outputs": [
    {
     "data": {
      "text/plain": [
       "(20, 20)"
      ]
     },
     "execution_count": 14,
     "metadata": {},
     "output_type": "execute_result"
    }
   ],
   "source": [
    "round(15, -1), round(25, -1)"
   ]
  },
  {
   "cell_type": "markdown",
   "metadata": {},
   "source": [
    "- Normally, these would be rounded to 20 and 30\n",
    "    - However, the 2 is the even digit, so that's what we round to"
   ]
  },
  {
   "cell_type": "markdown",
   "metadata": {},
   "source": [
    "# Why does Python use Banker's Rounding instead of the normal method?\n",
    "\n",
    "- Not biased away from zero\n",
    "    - The odds and evens are uniformly distributed\n",
    "    \n",
    "- Otherwise, every time a bank would have a tie, it would be rounding up\n",
    "\n",
    "**Example**\n",
    "\n",
    "- We take the average of these numbers:\n",
    "\n",
    "$$\n",
    "0.5, 1.5, 2.5 \\rightarrow \\text{avg} = \\frac{4.5}{3} = 1.5\n",
    "$$\n",
    "\n",
    "- This time, we'll round them the normal way first, then take the average\n",
    "\n",
    "$$\n",
    "0.5, 1.5, 2.5 \\rightarrow 1, 2, 3 \\rightarrow \\text{avg} = \\frac{6}{3} = 2\n",
    "$$\n",
    "\n",
    "- Finally, we'll do the same, except with Banker's Rounding\n",
    "\n",
    "$$\n",
    "0.5, 1.5, 2.5 \\rightarrow 0, 2, 2 \\rightarrow \\text{avg} = \\frac{4}{3} = 1.\\bar{3}\n",
    "$$"
   ]
  },
  {
   "cell_type": "markdown",
   "metadata": {},
   "source": [
    "- As we can see, the Banker's rounded number is closer"
   ]
  }
 ],
 "metadata": {
  "kernelspec": {
   "display_name": "Python 3",
   "language": "python",
   "name": "python3"
  },
  "language_info": {
   "codemirror_mode": {
    "name": "ipython",
    "version": 3
   },
   "file_extension": ".py",
   "mimetype": "text/x-python",
   "name": "python",
   "nbconvert_exporter": "python",
   "pygments_lexer": "ipython3",
   "version": "3.6.8"
  }
 },
 "nbformat": 4,
 "nbformat_minor": 2
}
