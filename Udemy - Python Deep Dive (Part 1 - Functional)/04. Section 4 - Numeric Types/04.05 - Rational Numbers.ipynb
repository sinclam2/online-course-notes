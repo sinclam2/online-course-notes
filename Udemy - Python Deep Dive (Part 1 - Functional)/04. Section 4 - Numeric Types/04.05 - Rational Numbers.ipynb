{
 "cells": [
  {
   "cell_type": "markdown",
   "metadata": {},
   "source": [
    "# What is a rational number?\n",
    "\n",
    "- If $r$ is rational, then there are integers $a$ and $b$ such that $r=\\frac{a}{b}$\n",
    "    - E.g. 0.5, 0.333333..., 10"
   ]
  },
  {
   "cell_type": "markdown",
   "metadata": {},
   "source": [
    "____\n",
    "\n",
    "# How can we represent rational numbers in python?\n",
    "\n",
    "- We'll use the `Fraction` class from the `fractions` module"
   ]
  },
  {
   "cell_type": "code",
   "execution_count": 1,
   "metadata": {},
   "outputs": [],
   "source": [
    "from fractions import Fraction"
   ]
  },
  {
   "cell_type": "code",
   "execution_count": 3,
   "metadata": {},
   "outputs": [
    {
     "data": {
      "text/plain": [
       "(Fraction(3, 4), Fraction(22, 7), Fraction(3, 5))"
      ]
     },
     "execution_count": 3,
     "metadata": {},
     "output_type": "execute_result"
    }
   ],
   "source": [
    "x = Fraction(3,4)\n",
    "y = Fraction(22,7)\n",
    "z = Fraction(6, 10)\n",
    "x, y, z"
   ]
  },
  {
   "cell_type": "markdown",
   "metadata": {},
   "source": [
    "- As we can see, `z` was automatically reduced to simplest form"
   ]
  },
  {
   "cell_type": "code",
   "execution_count": 4,
   "metadata": {},
   "outputs": [
    {
     "data": {
      "text/plain": [
       "Fraction(-1, 4)"
      ]
     },
     "execution_count": 4,
     "metadata": {},
     "output_type": "execute_result"
    }
   ],
   "source": [
    "a = Fraction(1, -4)\n",
    "a"
   ]
  },
  {
   "cell_type": "markdown",
   "metadata": {},
   "source": [
    "- As a convention, the negative sign goes with the numerator"
   ]
  },
  {
   "cell_type": "markdown",
   "metadata": {},
   "source": [
    "_____\n",
    "\n",
    "# What is the constructor for `Fraction`?\n",
    "\n",
    "```python\n",
    "Fraction(numerator=0, denominator=1)\n",
    "```"
   ]
  },
  {
   "cell_type": "markdown",
   "metadata": {},
   "source": [
    "- The numerator defaults to zero, and the denominator defaults to 1\n",
    "    - Therefore, the default `Fraction` is $\\frac{0}{1} = 0$"
   ]
  },
  {
   "cell_type": "code",
   "execution_count": 5,
   "metadata": {},
   "outputs": [
    {
     "data": {
      "text/plain": [
       "Fraction(0, 1)"
      ]
     },
     "execution_count": 5,
     "metadata": {},
     "output_type": "execute_result"
    }
   ],
   "source": [
    "Fraction()"
   ]
  },
  {
   "cell_type": "markdown",
   "metadata": {},
   "source": [
    "- We can also create a `Fraction` object by passing in:\n",
    "    1. Another `Fraction`\n",
    "    2. A `float`\n",
    "    3. A `Decimal`\n",
    "    4. A `str`"
   ]
  },
  {
   "cell_type": "code",
   "execution_count": 11,
   "metadata": {},
   "outputs": [
    {
     "data": {
      "text/plain": [
       "(Fraction(1, 2), Fraction(1, 2), Fraction(1, 8), Fraction(10, 1))"
      ]
     },
     "execution_count": 11,
     "metadata": {},
     "output_type": "execute_result"
    }
   ],
   "source": [
    "a = Fraction(1, 2)\n",
    "b = Fraction(a)\n",
    "c = Fraction(0.125)\n",
    "d = Fraction(\"10\")\n",
    "a, b, c, d"
   ]
  },
  {
   "cell_type": "markdown",
   "metadata": {},
   "source": [
    "- As we can see, `c` was automatically converted to a fraction from a decimal float"
   ]
  },
  {
   "cell_type": "code",
   "execution_count": 12,
   "metadata": {},
   "outputs": [
    {
     "data": {
      "text/plain": [
       "Fraction(1, 2)"
      ]
     },
     "execution_count": 12,
     "metadata": {},
     "output_type": "execute_result"
    }
   ],
   "source": [
    "Fraction('111/222')"
   ]
  },
  {
   "cell_type": "markdown",
   "metadata": {},
   "source": [
    "- We can also use a slash"
   ]
  },
  {
   "cell_type": "markdown",
   "metadata": {},
   "source": [
    "___\n",
    "\n",
    "# Can we use the standard operators with `Fraction` objects?\n",
    "\n",
    "- Yes!"
   ]
  },
  {
   "cell_type": "code",
   "execution_count": 13,
   "metadata": {},
   "outputs": [
    {
     "data": {
      "text/plain": [
       "Fraction(5, 4)"
      ]
     },
     "execution_count": 13,
     "metadata": {},
     "output_type": "execute_result"
    }
   ],
   "source": [
    "c = Fraction(0.125)\n",
    "d = Fraction(\"10\")\n",
    "c * d"
   ]
  },
  {
   "cell_type": "markdown",
   "metadata": {},
   "source": [
    "- As we can see, the resulting object is also a `Fraction`"
   ]
  },
  {
   "cell_type": "markdown",
   "metadata": {},
   "source": [
    "____\n",
    "\n",
    "# How can we access the numerator and denominator values?"
   ]
  },
  {
   "cell_type": "code",
   "execution_count": 14,
   "metadata": {},
   "outputs": [
    {
     "data": {
      "text/plain": [
       "(Fraction(1, 8), 1, 8)"
      ]
     },
     "execution_count": 14,
     "metadata": {},
     "output_type": "execute_result"
    }
   ],
   "source": [
    "c = Fraction(0.125)\n",
    "num = c.numerator\n",
    "dem = c.denominator\n",
    "c, num, dem"
   ]
  },
  {
   "cell_type": "markdown",
   "metadata": {},
   "source": [
    "_____\n",
    "\n",
    "# How does the precision of `Fraction` objects compare to `float` objects?\n",
    "\n",
    "- `float` objects have **finite** precision\n",
    "    - You can only use so many digits to represent it\n",
    "        - No computer has infinite memory\n",
    "- Therefore, **any `float` can be represented as a `Fraction`!**\n",
    "    - *What about for really big floats? E.g. $\\pi$*\n",
    "        - Well, since it has to have a finite number of decimals, we can count them\n",
    "            - Let's say there are $N$ digits of $\\pi$ after the zero\n",
    "                - Then we can represent it as `Fraction(pi*10**N, 10**N)`"
   ]
  },
  {
   "cell_type": "code",
   "execution_count": 15,
   "metadata": {},
   "outputs": [
    {
     "data": {
      "text/plain": [
       "(Fraction(884279719003555, 281474976710656),\n",
       " Fraction(6369051672525773, 4503599627370496))"
      ]
     },
     "execution_count": 15,
     "metadata": {},
     "output_type": "execute_result"
    }
   ],
   "source": [
    "import math\n",
    "x = Fraction(math.pi)\n",
    "y = Fraction(math.sqrt(2))\n",
    "x, y"
   ]
  },
  {
   "cell_type": "markdown",
   "metadata": {},
   "source": [
    "- Keep in mind that the same way `math.pi` is an approximation of $\\pi$, `x` is a precise representation of `math.pi` i.e. also an approximation"
   ]
  },
  {
   "cell_type": "markdown",
   "metadata": {},
   "source": [
    "____\n",
    "\n",
    "# What caveats are there for converting from `float` to `Fraction`\n",
    "\n",
    "- Consider the fraction $\\frac{1}{8}$\n",
    "    - This can be represented as a float no problem: `float(0.125) = Fraction(1,8)`"
   ]
  },
  {
   "cell_type": "markdown",
   "metadata": {},
   "source": [
    "- However, now consider $\\frac{3}{10}$\n",
    "    - This doesn't have an exact float representation (we'll get into this later)"
   ]
  },
  {
   "cell_type": "code",
   "execution_count": 16,
   "metadata": {},
   "outputs": [
    {
     "data": {
      "text/plain": [
       "Fraction(5404319552844595, 18014398509481984)"
      ]
     },
     "execution_count": 16,
     "metadata": {},
     "output_type": "execute_result"
    }
   ],
   "source": [
    "Fraction(0.3)"
   ]
  },
  {
   "cell_type": "markdown",
   "metadata": {},
   "source": [
    "- Isn't simply `Fraction(3,10)`\n",
    "    - Let's look at the digits"
   ]
  },
  {
   "cell_type": "code",
   "execution_count": 17,
   "metadata": {},
   "outputs": [
    {
     "data": {
      "text/plain": [
       "('0.30000', '0.2999999999999999888977698')"
      ]
     },
     "execution_count": 17,
     "metadata": {},
     "output_type": "execute_result"
    }
   ],
   "source": [
    "format(0.3, '.5f'), format(0.3, '.25f')"
   ]
  },
  {
   "cell_type": "markdown",
   "metadata": {},
   "source": [
    "- The first one looks fine, but the second shows what is truly stored"
   ]
  },
  {
   "cell_type": "markdown",
   "metadata": {},
   "source": [
    "_____\n",
    "\n",
    "# Instead of getting these `Fraction` objects with massive denominators, can we get a simpler (although less accurate) representation?\n",
    "\n",
    "- Yes!\n",
    "    - By **constraining the denominator**\n",
    "        - This finds the closest rational number with a denominator less than our specified value"
   ]
  },
  {
   "cell_type": "code",
   "execution_count": 19,
   "metadata": {},
   "outputs": [
    {
     "data": {
      "text/plain": [
       "(Fraction(884279719003555, 281474976710656),\n",
       " Fraction(22, 7),\n",
       " Fraction(311, 99))"
      ]
     },
     "execution_count": 19,
     "metadata": {},
     "output_type": "execute_result"
    }
   ],
   "source": [
    "Fraction(math.pi), x.limit_denominator(10), x.limit_denominator(100)"
   ]
  },
  {
   "cell_type": "code",
   "execution_count": 21,
   "metadata": {},
   "outputs": [
    {
     "data": {
      "text/plain": [
       "(3.141592653589793, 3.141592653589793, 3.142857142857143, 3.1414141414141414)"
      ]
     },
     "execution_count": 21,
     "metadata": {},
     "output_type": "execute_result"
    }
   ],
   "source": [
    "math.pi, 884279719003555 / 281474976710656, 22 / 7, 311 / 99"
   ]
  }
 ],
 "metadata": {
  "kernelspec": {
   "display_name": "Python 3",
   "language": "python",
   "name": "python3"
  },
  "language_info": {
   "codemirror_mode": {
    "name": "ipython",
    "version": 3
   },
   "file_extension": ".py",
   "mimetype": "text/x-python",
   "name": "python",
   "nbconvert_exporter": "python",
   "pygments_lexer": "ipython3",
   "version": "3.6.8"
  }
 },
 "nbformat": 4,
 "nbformat_minor": 2
}
