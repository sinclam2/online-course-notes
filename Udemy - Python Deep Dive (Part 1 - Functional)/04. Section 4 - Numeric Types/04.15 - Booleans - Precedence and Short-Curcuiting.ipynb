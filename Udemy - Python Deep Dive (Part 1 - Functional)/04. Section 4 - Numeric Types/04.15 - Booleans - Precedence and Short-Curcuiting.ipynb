{
 "cells": [
  {
   "cell_type": "markdown",
   "metadata": {},
   "source": [
    "# What are the Boolean operators?\n",
    "\n",
    "1. not\n",
    "2. and\n",
    "3. or\n",
    "\n",
    "![](images/boolean_operators.PNG)"
   ]
  },
  {
   "cell_type": "markdown",
   "metadata": {},
   "source": [
    "# What are the properties of the Boolean operators?\n",
    "\n",
    "### 1. Commutativity\n",
    "\n",
    "```python\n",
    "(A or B) == (B or A);   (A and B) == (B and A)\n",
    "```"
   ]
  },
  {
   "cell_type": "markdown",
   "metadata": {},
   "source": [
    "### 2. Distributivity\n",
    "\n",
    "```python\n",
    "A and (B or C) == (A and B) or (A and C)\n",
    "```"
   ]
  },
  {
   "cell_type": "markdown",
   "metadata": {},
   "source": [
    "### 3. Associativity\n",
    "\n",
    "```python\n",
    "A or (B or C) == (A or B) or C == A or B or C\n",
    "```"
   ]
  },
  {
   "cell_type": "markdown",
   "metadata": {},
   "source": [
    "### 4. De Morgan's Theorem\n",
    "\n",
    "```python\n",
    "not (A or B) == (not A) and (not B)\n",
    "```\n",
    "\n",
    "```python\n",
    "not (A and B) == (not A) or (not B)\n",
    "```"
   ]
  },
  {
   "cell_type": "markdown",
   "metadata": {},
   "source": [
    "# What is operator precedence for Booleans?\n",
    "\n",
    "- In other words, what's the *BEDMAS* of Booleans?\n",
    "\n",
    "\n",
    "1. `()` [i.e. brackets]\n",
    "2. `<, >, <=, >=, ==, !=, in, is`\n",
    "3. `not`\n",
    "4. `and`\n",
    "5. `or`"
   ]
  },
  {
   "cell_type": "markdown",
   "metadata": {},
   "source": [
    "## Examples\n",
    "\n",
    "### 1.  `True or True and False `\n",
    "\n",
    "- Where do we start?\n",
    "    - Well, according to the list above, we evaluate the `and` before the `or`\n",
    "        - Therefore, we simplify this to:\n",
    "        \n",
    "```python\n",
    "True or (True and False) == True or (False)\n",
    "```\n",
    "\n",
    "- Finally, we can finish up to simplify this as:\n",
    "\n",
    "```python\n",
    "True or (False) == True\n",
    "```"
   ]
  },
  {
   "cell_type": "markdown",
   "metadata": {},
   "source": [
    "### 2.  `(True or True) and False `\n",
    "\n",
    "- This time, we have brackets\n",
    "    - So, this comes first\n",
    "        \n",
    "```python\n",
    "(True or True) and False == (True) and False\n",
    "```\n",
    "\n",
    "- Then, we solve the remainder:\n",
    "\n",
    "```python\n",
    "(True) and False == False\n",
    "```"
   ]
  },
  {
   "cell_type": "markdown",
   "metadata": {},
   "source": [
    "- **Note**: to be safe, it's good practice to use parentheses\n",
    "    - Makes the code more readable\n"
   ]
  },
  {
   "cell_type": "markdown",
   "metadata": {},
   "source": [
    "# What is short-circuit evaluation?"
   ]
  },
  {
   "cell_type": "markdown",
   "metadata": {},
   "source": [
    "- If we're evaluating `X or Y`, if `X == True`, then it doesn't matter what `Y` is\n",
    "    - Therefore, if we know ahead of time that `X` is true, we wouldn't even need to evaluate `Y`\n",
    "        - This is called **short-circuiting** the calculation of `Y`\n",
    "\n",
    "- **The same is true for `and`, except it requires that `X == False`**"
   ]
  },
  {
   "cell_type": "markdown",
   "metadata": {},
   "source": [
    "### Why is this helpful?\n",
    "\n",
    "**Example - feed of stock symbols**\n",
    "\n",
    "- Suppose we have a feed of stock symbols\n",
    "    - We need to monitor the feed and look for specific stocks\n",
    "        - When the price of a certain stock is above a certain threshold, we want to take some trading action\n",
    "        \n",
    "- Each time we request the price of a specific stock, there is some cost associated\n",
    "    - If Boolean expressions didn't implement short-circuiting, we'd write:\n",
    "    \n",
    "```python\n",
    "if symbol in watch_list:\n",
    "    # Getting price\n",
    "    if price(symbol) > threshold:\n",
    "        # Taking trading action\n",
    "```\n",
    "\n",
    "- As we can see, `price(symbol)` is inside the if statement\n",
    "    - This is because we don't want to call the function if we don't need to (because of the associated cost)\n",
    "    \n",
    "- *How can we update this code to use Boolean short-circuit evaluation?*\n",
    "\n",
    "```python\n",
    "if symbol in watch_list and price(symbol) > threshold:\n",
    "    # Taking trading action\n",
    "```\n",
    "\n",
    "- The `in` operator will be evaluated first\n",
    "    - If it returns a `False` value, the total `if` statement will return `False` regardless of the value of `price(symbol) > threshold` \n",
    "        - **This is exactly the situation described above**\n",
    "            - The second part of the `and` statement will never even be evaluated"
   ]
  },
  {
   "cell_type": "markdown",
   "metadata": {},
   "source": [
    "**Example - reading values from database**\n",
    "\n",
    "- Suppose we're querying a database\n",
    "    - For each name returned from a text field in a database, we want to check if the first character is a digit\n",
    "        - Let's say we tried running the following code:\n",
    "        \n",
    "```python\n",
    "if name[0] in '123456789':\n",
    "    # Perform task\n",
    "```\n",
    "\n",
    "- Seems sufficient\n",
    "    - **Problem**: what if `name == None` or `name == ''`?\n",
    "        - Then, `name[0]` will **return an error**\n",
    "            - We can fix this using a short-circuit:\n",
    "            \n",
    "```python\n",
    "if name and name[0] in '123456789':\n",
    "    # Perform task\n",
    "```\n",
    "\n",
    "- *Why is this different?*\n",
    "    - **Recall**: in a previous video, we learned about *truthiness* (i.e. how different data types are mapped to Booleans)\n",
    "        - We saw that for strings, everything maps to `True` **except for null values**\n",
    "            - Therefore, the expression `if name` will be mapped to `False`\n",
    "\n",
    "- So, if `name` is a null string, the expression becomes:\n",
    "\n",
    "```python\n",
    "if False and name[0] in '123456789':\n",
    "    # Perform task\n",
    "```\n",
    "\n",
    "- And we saw above that the second chunk of code after the `and` will never even be evaluated"
   ]
  }
 ],
 "metadata": {
  "kernelspec": {
   "display_name": "Python 3",
   "language": "python",
   "name": "python3"
  },
  "language_info": {
   "codemirror_mode": {
    "name": "ipython",
    "version": 3
   },
   "file_extension": ".py",
   "mimetype": "text/x-python",
   "name": "python",
   "nbconvert_exporter": "python",
   "pygments_lexer": "ipython3",
   "version": "3.6.8"
  }
 },
 "nbformat": 4,
 "nbformat_minor": 2
}
